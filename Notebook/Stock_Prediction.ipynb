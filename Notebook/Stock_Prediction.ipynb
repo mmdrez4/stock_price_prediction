{
  "cells": [
    {
      "cell_type": "markdown",
      "metadata": {
        "id": "mtUL94Nrxx8_"
      },
      "source": [
        "## Requirements"
      ]
    },
    {
      "cell_type": "code",
      "execution_count": 2,
      "metadata": {
        "colab": {
          "base_uri": "https://localhost:8080/"
        },
        "id": "BsnU9myJ3hsb",
        "outputId": "4ff1baf4-0397-4203-8111-886c327706f5"
      },
      "outputs": [
        {
          "name": "stdout",
          "output_type": "stream",
          "text": [
            "Requirement already satisfied: yfinance in /usr/local/lib/python3.10/dist-packages (0.2.28)\n",
            "Requirement already satisfied: pandas>=1.3.0 in /usr/local/lib/python3.10/dist-packages (from yfinance) (1.5.3)\n",
            "Requirement already satisfied: numpy>=1.16.5 in /usr/local/lib/python3.10/dist-packages (from yfinance) (1.23.5)\n",
            "Requirement already satisfied: requests>=2.31 in /usr/local/lib/python3.10/dist-packages (from yfinance) (2.31.0)\n",
            "Requirement already satisfied: multitasking>=0.0.7 in /usr/local/lib/python3.10/dist-packages (from yfinance) (0.0.11)\n",
            "Requirement already satisfied: lxml>=4.9.1 in /usr/local/lib/python3.10/dist-packages (from yfinance) (4.9.3)\n",
            "Requirement already satisfied: appdirs>=1.4.4 in /usr/local/lib/python3.10/dist-packages (from yfinance) (1.4.4)\n",
            "Requirement already satisfied: pytz>=2022.5 in /usr/local/lib/python3.10/dist-packages (from yfinance) (2023.3)\n",
            "Requirement already satisfied: frozendict>=2.3.4 in /usr/local/lib/python3.10/dist-packages (from yfinance) (2.3.8)\n",
            "Requirement already satisfied: beautifulsoup4>=4.11.1 in /usr/local/lib/python3.10/dist-packages (from yfinance) (4.11.2)\n",
            "Requirement already satisfied: html5lib>=1.1 in /usr/local/lib/python3.10/dist-packages (from yfinance) (1.1)\n",
            "Requirement already satisfied: soupsieve>1.2 in /usr/local/lib/python3.10/dist-packages (from beautifulsoup4>=4.11.1->yfinance) (2.4.1)\n",
            "Requirement already satisfied: six>=1.9 in /usr/local/lib/python3.10/dist-packages (from html5lib>=1.1->yfinance) (1.16.0)\n",
            "Requirement already satisfied: webencodings in /usr/local/lib/python3.10/dist-packages (from html5lib>=1.1->yfinance) (0.5.1)\n",
            "Requirement already satisfied: python-dateutil>=2.8.1 in /usr/local/lib/python3.10/dist-packages (from pandas>=1.3.0->yfinance) (2.8.2)\n",
            "Requirement already satisfied: charset-normalizer<4,>=2 in /usr/local/lib/python3.10/dist-packages (from requests>=2.31->yfinance) (3.2.0)\n",
            "Requirement already satisfied: idna<4,>=2.5 in /usr/local/lib/python3.10/dist-packages (from requests>=2.31->yfinance) (3.4)\n",
            "Requirement already satisfied: urllib3<3,>=1.21.1 in /usr/local/lib/python3.10/dist-packages (from requests>=2.31->yfinance) (2.0.4)\n",
            "Requirement already satisfied: certifi>=2017.4.17 in /usr/local/lib/python3.10/dist-packages (from requests>=2.31->yfinance) (2023.7.22)\n",
            "Requirement already satisfied: tensorflow in /usr/local/lib/python3.10/dist-packages (2.12.0)\n",
            "Requirement already satisfied: absl-py>=1.0.0 in /usr/local/lib/python3.10/dist-packages (from tensorflow) (1.4.0)\n",
            "Requirement already satisfied: astunparse>=1.6.0 in /usr/local/lib/python3.10/dist-packages (from tensorflow) (1.6.3)\n",
            "Requirement already satisfied: flatbuffers>=2.0 in /usr/local/lib/python3.10/dist-packages (from tensorflow) (23.5.26)\n",
            "Requirement already satisfied: gast<=0.4.0,>=0.2.1 in /usr/local/lib/python3.10/dist-packages (from tensorflow) (0.4.0)\n",
            "Requirement already satisfied: google-pasta>=0.1.1 in /usr/local/lib/python3.10/dist-packages (from tensorflow) (0.2.0)\n",
            "Requirement already satisfied: grpcio<2.0,>=1.24.3 in /usr/local/lib/python3.10/dist-packages (from tensorflow) (1.57.0)\n",
            "Requirement already satisfied: h5py>=2.9.0 in /usr/local/lib/python3.10/dist-packages (from tensorflow) (3.9.0)\n",
            "Requirement already satisfied: jax>=0.3.15 in /usr/local/lib/python3.10/dist-packages (from tensorflow) (0.4.14)\n",
            "Requirement already satisfied: keras<2.13,>=2.12.0 in /usr/local/lib/python3.10/dist-packages (from tensorflow) (2.12.0)\n",
            "Requirement already satisfied: libclang>=13.0.0 in /usr/local/lib/python3.10/dist-packages (from tensorflow) (16.0.6)\n",
            "Requirement already satisfied: numpy<1.24,>=1.22 in /usr/local/lib/python3.10/dist-packages (from tensorflow) (1.23.5)\n",
            "Requirement already satisfied: opt-einsum>=2.3.2 in /usr/local/lib/python3.10/dist-packages (from tensorflow) (3.3.0)\n",
            "Requirement already satisfied: packaging in /usr/local/lib/python3.10/dist-packages (from tensorflow) (23.1)\n",
            "Requirement already satisfied: protobuf!=4.21.0,!=4.21.1,!=4.21.2,!=4.21.3,!=4.21.4,!=4.21.5,<5.0.0dev,>=3.20.3 in /usr/local/lib/python3.10/dist-packages (from tensorflow) (3.20.3)\n",
            "Requirement already satisfied: setuptools in /usr/local/lib/python3.10/dist-packages (from tensorflow) (67.7.2)\n",
            "Requirement already satisfied: six>=1.12.0 in /usr/local/lib/python3.10/dist-packages (from tensorflow) (1.16.0)\n",
            "Requirement already satisfied: tensorboard<2.13,>=2.12 in /usr/local/lib/python3.10/dist-packages (from tensorflow) (2.12.3)\n",
            "Requirement already satisfied: tensorflow-estimator<2.13,>=2.12.0 in /usr/local/lib/python3.10/dist-packages (from tensorflow) (2.12.0)\n",
            "Requirement already satisfied: termcolor>=1.1.0 in /usr/local/lib/python3.10/dist-packages (from tensorflow) (2.3.0)\n",
            "Requirement already satisfied: typing-extensions>=3.6.6 in /usr/local/lib/python3.10/dist-packages (from tensorflow) (4.7.1)\n",
            "Requirement already satisfied: wrapt<1.15,>=1.11.0 in /usr/local/lib/python3.10/dist-packages (from tensorflow) (1.14.1)\n",
            "Requirement already satisfied: tensorflow-io-gcs-filesystem>=0.23.1 in /usr/local/lib/python3.10/dist-packages (from tensorflow) (0.33.0)\n",
            "Requirement already satisfied: wheel<1.0,>=0.23.0 in /usr/local/lib/python3.10/dist-packages (from astunparse>=1.6.0->tensorflow) (0.41.2)\n",
            "Requirement already satisfied: ml-dtypes>=0.2.0 in /usr/local/lib/python3.10/dist-packages (from jax>=0.3.15->tensorflow) (0.2.0)\n",
            "Requirement already satisfied: scipy>=1.7 in /usr/local/lib/python3.10/dist-packages (from jax>=0.3.15->tensorflow) (1.10.1)\n",
            "Requirement already satisfied: google-auth<3,>=1.6.3 in /usr/local/lib/python3.10/dist-packages (from tensorboard<2.13,>=2.12->tensorflow) (2.17.3)\n",
            "Requirement already satisfied: google-auth-oauthlib<1.1,>=0.5 in /usr/local/lib/python3.10/dist-packages (from tensorboard<2.13,>=2.12->tensorflow) (1.0.0)\n",
            "Requirement already satisfied: markdown>=2.6.8 in /usr/local/lib/python3.10/dist-packages (from tensorboard<2.13,>=2.12->tensorflow) (3.4.4)\n",
            "Requirement already satisfied: requests<3,>=2.21.0 in /usr/local/lib/python3.10/dist-packages (from tensorboard<2.13,>=2.12->tensorflow) (2.31.0)\n",
            "Requirement already satisfied: tensorboard-data-server<0.8.0,>=0.7.0 in /usr/local/lib/python3.10/dist-packages (from tensorboard<2.13,>=2.12->tensorflow) (0.7.1)\n",
            "Requirement already satisfied: werkzeug>=1.0.1 in /usr/local/lib/python3.10/dist-packages (from tensorboard<2.13,>=2.12->tensorflow) (2.3.7)\n",
            "Requirement already satisfied: cachetools<6.0,>=2.0.0 in /usr/local/lib/python3.10/dist-packages (from google-auth<3,>=1.6.3->tensorboard<2.13,>=2.12->tensorflow) (5.3.1)\n",
            "Requirement already satisfied: pyasn1-modules>=0.2.1 in /usr/local/lib/python3.10/dist-packages (from google-auth<3,>=1.6.3->tensorboard<2.13,>=2.12->tensorflow) (0.3.0)\n",
            "Requirement already satisfied: rsa<5,>=3.1.4 in /usr/local/lib/python3.10/dist-packages (from google-auth<3,>=1.6.3->tensorboard<2.13,>=2.12->tensorflow) (4.9)\n",
            "Requirement already satisfied: requests-oauthlib>=0.7.0 in /usr/local/lib/python3.10/dist-packages (from google-auth-oauthlib<1.1,>=0.5->tensorboard<2.13,>=2.12->tensorflow) (1.3.1)\n",
            "Requirement already satisfied: charset-normalizer<4,>=2 in /usr/local/lib/python3.10/dist-packages (from requests<3,>=2.21.0->tensorboard<2.13,>=2.12->tensorflow) (3.2.0)\n",
            "Requirement already satisfied: idna<4,>=2.5 in /usr/local/lib/python3.10/dist-packages (from requests<3,>=2.21.0->tensorboard<2.13,>=2.12->tensorflow) (3.4)\n",
            "Requirement already satisfied: urllib3<3,>=1.21.1 in /usr/local/lib/python3.10/dist-packages (from requests<3,>=2.21.0->tensorboard<2.13,>=2.12->tensorflow) (2.0.4)\n",
            "Requirement already satisfied: certifi>=2017.4.17 in /usr/local/lib/python3.10/dist-packages (from requests<3,>=2.21.0->tensorboard<2.13,>=2.12->tensorflow) (2023.7.22)\n",
            "Requirement already satisfied: MarkupSafe>=2.1.1 in /usr/local/lib/python3.10/dist-packages (from werkzeug>=1.0.1->tensorboard<2.13,>=2.12->tensorflow) (2.1.3)\n",
            "Requirement already satisfied: pyasn1<0.6.0,>=0.4.6 in /usr/local/lib/python3.10/dist-packages (from pyasn1-modules>=0.2.1->google-auth<3,>=1.6.3->tensorboard<2.13,>=2.12->tensorflow) (0.5.0)\n",
            "Requirement already satisfied: oauthlib>=3.0.0 in /usr/local/lib/python3.10/dist-packages (from requests-oauthlib>=0.7.0->google-auth-oauthlib<1.1,>=0.5->tensorboard<2.13,>=2.12->tensorflow) (3.2.2)\n"
          ]
        }
      ],
      "source": [
        "! pip install yfinance\n",
        "! pip install tensorflow"
      ]
    },
    {
      "cell_type": "code",
      "execution_count": 3,
      "metadata": {
        "id": "7flyymHxx3Jb"
      },
      "outputs": [],
      "source": [
        "import pandas as pd\n",
        "import yfinance as yf\n",
        "from sklearn.preprocessing import MinMaxScaler\n",
        "from tensorflow.keras.models import Sequential\n",
        "from tensorflow.keras.layers import LSTM, Dense\n",
        "from tensorflow.keras.callbacks import ModelCheckpoint\n",
        "from tensorflow.keras.callbacks import Callback\n",
        "import numpy as np\n",
        "import matplotlib.pyplot as plt\n",
        "from tensorflow.keras.optimizers import Adam"
      ]
    },
    {
      "cell_type": "markdown",
      "metadata": {
        "id": "pOpgiQm4CjBI"
      },
      "source": [
        "## Metrics"
      ]
    },
    {
      "cell_type": "markdown",
      "metadata": {
        "id": "FyFxQSm7DKnd"
      },
      "source": [
        "SMAPE"
      ]
    },
    {
      "cell_type": "code",
      "execution_count": 4,
      "metadata": {
        "id": "UvHwhyaBClAb"
      },
      "outputs": [],
      "source": [
        "import numpy as np\n",
        "\n",
        "def calculate_smape(actual, predicted):\n",
        "\n",
        "    numerator = np.abs(predicted - actual)\n",
        "    denominator = (np.abs(predicted) + np.abs(actual)) / 2\n",
        "\n",
        "    smape = np.mean(numerator / denominator) * 100\n",
        "\n",
        "    return smape"
      ]
    },
    {
      "cell_type": "markdown",
      "metadata": {
        "id": "x0KWRiH8DMIO"
      },
      "source": [
        "MAPE"
      ]
    },
    {
      "cell_type": "code",
      "execution_count": 5,
      "metadata": {
        "id": "3M52mJbzDMmb"
      },
      "outputs": [],
      "source": [
        "import numpy as np\n",
        "\n",
        "def calculate_mape(actual, predicted):\n",
        "\n",
        "    actual = np.array(actual)\n",
        "    predicted = np.array(predicted)\n",
        "\n",
        "    absolute_percentage_errors = np.abs((actual - predicted) / actual)\n",
        "    mape = np.mean(absolute_percentage_errors) * 100\n",
        "\n",
        "    return mape"
      ]
    },
    {
      "cell_type": "markdown",
      "metadata": {
        "id": "mw-YLG7bC9h9"
      },
      "source": [
        "RSME"
      ]
    },
    {
      "cell_type": "code",
      "execution_count": 6,
      "metadata": {
        "id": "O8th8H-dC8wT"
      },
      "outputs": [],
      "source": [
        "def calculate_rmse(actual, predicted):\n",
        "    actual = np.array(actual)\n",
        "    predicted = np.array(predicted)\n",
        "\n",
        "    squared_errors = (predicted - actual) ** 2\n",
        "    mean_squared_error = np.mean(squared_errors)\n",
        "    rmse = np.sqrt(mean_squared_error)\n",
        "\n",
        "    return rmse"
      ]
    },
    {
      "cell_type": "markdown",
      "metadata": {
        "id": "z1z3vGt3DvRq"
      },
      "source": [
        "## Implementation"
      ]
    },
    {
      "cell_type": "code",
      "execution_count": 7,
      "metadata": {
        "id": "XujEfwuMCSdt"
      },
      "outputs": [],
      "source": [
        "def download_stock_data(ticker, start_date, end_date, interval_time = '1h'):\n",
        "    return yf.download(ticker, start=start_date, end=end_date, interval=interval_time)\n",
        "\n",
        "def min_max_scaling(x):\n",
        "    return (x - x.min()) / (x.max() - x.min())"
      ]
    },
    {
      "cell_type": "markdown",
      "metadata": {
        "id": "oMscmCmlDeJI"
      },
      "source": [
        "### Data Preprocessing"
      ]
    },
    {
      "cell_type": "code",
      "execution_count": 8,
      "metadata": {
        "id": "IeXYypidCBQk"
      },
      "outputs": [],
      "source": [
        "def preprocess_data(data):\n",
        "    print(data['Close'].max(),data['High'].values[0])\n",
        "    data = data.apply(min_max_scaling)\n",
        "    print(data['Close'].max(),data['High'].values[0])\n",
        "\n",
        "    look_back = 60\n",
        "    X, y = [], []\n",
        "    for i in range(len(data) - look_back):\n",
        "        X.append(data[['Open', 'High', 'Low', 'Close', 'Volume']].values[i:i + look_back])\n",
        "        y.append(data['Close'].values[i + look_back])\n",
        "    X = np.array(X)\n",
        "    y = np.array(y)\n",
        "\n",
        "    return X, y"
      ]
    },
    {
      "cell_type": "code",
      "execution_count": 9,
      "metadata": {
        "colab": {
          "base_uri": "https://localhost:8080/"
        },
        "id": "wcwJ4YyP9Bwf",
        "outputId": "25bd8595-279e-4e8d-cb31-61f6e3cfae1d"
      },
      "outputs": [
        {
          "name": "stdout",
          "output_type": "stream",
          "text": [
            "\r[*********************100%%**********************]  1 of 1 completed\n",
            "175.6649932861328 169.8699951171875\n",
            "1.0 0.8773677049955038\n"
          ]
        }
      ],
      "source": [
        "apple_ticker = 'AAPL'\n",
        "bitcoin_ticker = \"BTC-USD\"\n",
        "msft_ticker = \"MSFT\"\n",
        "ticker = apple_ticker\n",
        "\n",
        "start_date = '2022-04-12'\n",
        "end_date = '2023-04-01'\n",
        "data = download_stock_data(ticker, start_date, end_date)\n",
        "X_train, y_train = preprocess_data(data)"
      ]
    },
    {
      "cell_type": "code",
      "execution_count": 10,
      "metadata": {
        "id": "eC1UbJkcCUeD"
      },
      "outputs": [],
      "source": [
        "## for Microsoft:\n",
        "# start_date = '2023-04-02'\n",
        "# end_date = '2023-06-02'\n",
        "# data = download_stock_data(msft_ticker, start_date, end_date)\n",
        "# x_min = data.min()\n",
        "# x_max = data.max()\n",
        "# X_val, y_val = preprocess_data(data)\n",
        "# print(X_val.shape)"
      ]
    },
    {
      "cell_type": "code",
      "execution_count": 11,
      "metadata": {
        "id": "KwuxnfOfC6po"
      },
      "outputs": [],
      "source": [
        "## for Bitcoin:\n",
        "# start_date = '2023-04-02'\n",
        "# end_date = '2023-06-02'\n",
        "# data = download_stock_data(bitcoin_ticker, start_date, end_date)\n",
        "# x_min = data.min()\n",
        "# x_max = data.max()\n",
        "# X_val, y_val = preprocess_data(data)\n",
        "# print(X_val.shape)"
      ]
    },
    {
      "cell_type": "code",
      "execution_count": 12,
      "metadata": {
        "colab": {
          "base_uri": "https://localhost:8080/"
        },
        "id": "uPIw4tf5Gpm-",
        "outputId": "ac1f898f-393d-44a9-e44c-9fc5c5666179"
      },
      "outputs": [
        {
          "name": "stdout",
          "output_type": "stream",
          "text": [
            "\r[*********************100%%**********************]  1 of 1 completed\n",
            "180.11000061035156 165.88999938964844\n",
            "1.0 0.2803684517971555\n",
            "(234, 60, 5)\n"
          ]
        }
      ],
      "source": [
        "start_date = '2023-04-02'\n",
        "end_date = '2023-06-02'\n",
        "data = download_stock_data(apple_ticker, start_date, end_date)\n",
        "x_min = data.min()\n",
        "x_max = data.max()\n",
        "X_val, y_val = preprocess_data(data)\n",
        "print(X_val.shape)"
      ]
    },
    {
      "cell_type": "code",
      "execution_count": 13,
      "metadata": {
        "id": "AaZxxamWCUPg"
      },
      "outputs": [],
      "source": [
        "def build_lstm_model(input_shape):\n",
        "    model = Sequential()\n",
        "    model.add(LSTM(units=60, return_sequences=True, input_shape=input_shape))\n",
        "    model.add(LSTM(units=50))\n",
        "    model.add(Dense(units=1))\n",
        "    learning_rate = 1e-5\n",
        "    optimizer = Adam(learning_rate=learning_rate)\n",
        "    model.compile(optimizer=optimizer , loss='mean_squared_error')\n",
        "    return model"
      ]
    },
    {
      "cell_type": "code",
      "execution_count": 14,
      "metadata": {
        "id": "IXFtsdmoQCem"
      },
      "outputs": [],
      "source": [
        "def inverse_min_max_scaling(x, min_val, max_val):\n",
        "  return x * (max_val - min_val) + min_val"
      ]
    },
    {
      "cell_type": "markdown",
      "metadata": {
        "id": "Hc94R7kA2x2J"
      },
      "source": [
        "### Model"
      ]
    },
    {
      "cell_type": "code",
      "execution_count": 15,
      "metadata": {
        "colab": {
          "base_uri": "https://localhost:8080/"
        },
        "id": "xlH03ifKCdYK",
        "outputId": "b8cef6c9-2e42-495f-edbb-14fe8e291d14"
      },
      "outputs": [
        {
          "name": "stdout",
          "output_type": "stream",
          "text": [
            "Epoch 1/4\n",
            "8/8 [==============================] - 3s 39ms/step\n",
            "Epoch 1/4 - MAPE: 6.16, SMAPE: 6.39, RMSE: 11.43\n",
            "52/52 [==============================] - 16s 214ms/step - loss: 0.2806\n",
            "Epoch 2/4\n",
            "8/8 [==============================] - 0s 40ms/step\n",
            "Epoch 2/4 - MAPE: 5.31, SMAPE: 5.49, RMSE: 10.11\n",
            "52/52 [==============================] - 10s 182ms/step - loss: 0.2106\n",
            "Epoch 3/4\n",
            "8/8 [==============================] - 0s 55ms/step\n",
            "Epoch 3/4 - MAPE: 4.48, SMAPE: 4.61, RMSE: 8.88\n",
            "52/52 [==============================] - 10s 200ms/step - loss: 0.1518\n",
            "Epoch 4/4\n",
            "8/8 [==============================] - 0s 46ms/step\n",
            "Epoch 4/4 - MAPE: 3.76, SMAPE: 3.86, RMSE: 7.73\n",
            "52/52 [==============================] - 9s 179ms/step - loss: 0.1028\n"
          ]
        }
      ],
      "source": [
        "class MetricsPlotCallback(Callback):\n",
        "    def __init__(self, epochs):\n",
        "        super(MetricsPlotCallback, self).__init__()\n",
        "        self.actual = inverse_min_max_scaling(y_val, x_min['Close'],x_max['Close'])\n",
        "        self.epochs = epochs\n",
        "        self.validation_data = X_val\n",
        "        self.mape_scores = []\n",
        "        self.smape_scores = []\n",
        "        self.rmse_scores = []\n",
        "        self.losses = []\n",
        "\n",
        "    def on_epoch_end(self, epoch, logs=None):\n",
        "        predicted_values = self.model.predict(self.validation_data)\n",
        "        predicted_values = inverse_min_max_scaling(predicted_values, x_min['Close'],x_max['Close'])\n",
        "        mape = calculate_mape(self.actual, predicted_values)\n",
        "        smape = calculate_smape(self.actual, predicted_values)\n",
        "        rmse = calculate_rmse(self.actual, predicted_values)\n",
        "\n",
        "        self.mape_scores.append(mape)\n",
        "        self.smape_scores.append(smape)\n",
        "        self.rmse_scores.append(rmse)\n",
        "        self.losses.append(logs['loss'])\n",
        "\n",
        "        print(f'Epoch {epoch+1}/{self.epochs} - MAPE: {mape:.2f}, SMAPE: {smape:.2f}, RMSE: {rmse:.2f}')\n",
        "\n",
        "\n",
        "def train_lstm_model(X_train, y_train, epochs=10, batch_size=32):\n",
        "    model = build_lstm_model((X_train.shape[1], X_train.shape[2]))\n",
        "    model.fit(X_train, y_train, epochs=epochs, batch_size=batch_size, callbacks=[metrics_callback])\n",
        "    return model\n",
        "\n",
        "epochs = 4\n",
        "metrics_callback = MetricsPlotCallback(epochs)\n",
        "model = train_lstm_model(X_train, y_train, epochs= epochs)"
      ]
    },
    {
      "cell_type": "code",
      "execution_count": null,
      "metadata": {
        "colab": {
          "base_uri": "https://localhost:8080/",
          "height": 564
        },
        "id": "qsw4zpm_NoZb",
        "outputId": "be736e7a-6731-48ad-e541-f6bff863f44f"
      },
      "outputs": [
        {
          "data": {
            "image/png": "[encoded data removed]",
            "text/plain": [
              "<Figure size 1000x600 with 1 Axes>"
            ]
          },
          "metadata": {},
          "output_type": "display_data"
        }
      ],
      "source": [
        "plt.figure(figsize=(10, 6))\n",
        "plt.plot(range(1, epochs + 1), metrics_callback.mape_scores, label='MAPE')\n",
        "plt.plot(range(1, epochs + 1), metrics_callback.smape_scores, label='SMAPE')\n",
        "plt.plot(range(1, epochs + 1), metrics_callback.rmse_scores, label='RMSE')\n",
        "plt.plot(range(1, epochs + 1), metrics_callback.losses, label='Loss')\n",
        "plt.xlabel('Epoch')\n",
        "plt.ylabel('Score')\n",
        "plt.title('Model Performance Metrics Over Epochs')\n",
        "plt.legend()\n",
        "plt.grid(True)\n",
        "plt.show()"
      ]
    },
    {
      "cell_type": "code",
      "execution_count": null,
      "metadata": {
        "id": "hp1OPCm7G6Sy"
      },
      "outputs": [],
      "source": [
        "def predict_stock_price(model, X_new):\n",
        "    X_new = X_new.reshape(1, X_new.shape[0], X_new.shape[1])\n",
        "    predicted_price = model.predict(X_new)\n",
        "    return predicted_price[0][0]"
      ]
    },
    {
      "cell_type": "code",
      "execution_count": null,
      "metadata": {
        "colab": {
          "base_uri": "https://localhost:8080/"
        },
        "id": "GSK4vNhRH-j9",
        "outputId": "4c41831c-91bf-41a0-b251-f275fe2282d6"
      },
      "outputs": [
        {
          "name": "stdout",
          "output_type": "stream",
          "text": [
            "\r[*********************100%%**********************]  1 of 1 completed\n"
          ]
        },
        {
          "data": {
            "text/plain": [
              "(444, 6)"
            ]
          },
          "execution_count": 29,
          "metadata": {},
          "output_type": "execute_result"
        }
      ],
      "source": [
        "ticker = 'AAPL'\n",
        "start_date = '2023-05-02'\n",
        "end_date = '2023-08-03'\n",
        "\n",
        "\n",
        "data = download_stock_data(ticker, start_date, end_date)\n",
        "x_min = data.min()\n",
        "x_max = data.max()\n",
        "data.shape"
      ]
    },
    {
      "cell_type": "code",
      "execution_count": null,
      "metadata": {
        "colab": {
          "base_uri": "https://localhost:8080/"
        },
        "id": "32G0yFZiICzp",
        "outputId": "391f3c76-6ff4-4144-8aef-210a9a5ade01"
      },
      "outputs": [
        {
          "name": "stdout",
          "output_type": "stream",
          "text": [
            "196.49000549316406 170.35000610351562\n",
            "1.0 0.14109682799494946\n"
          ]
        }
      ],
      "source": [
        "X_new, y_new = preprocess_data(data)"
      ]
    },
    {
      "cell_type": "code",
      "execution_count": null,
      "metadata": {
        "colab": {
          "base_uri": "https://localhost:8080/"
        },
        "id": "xSTh9gD0Iezc",
        "outputId": "08e090ba-e494-4e83-febe-f71b42fe5646"
      },
      "outputs": [
        {
          "name": "stdout",
          "output_type": "stream",
          "text": [
            "1/1 [==============================] - 0s 28ms/step\n",
            "1/1 [==============================] - 0s 27ms/step\n",
            "1/1 [==============================] - 0s 32ms/step\n",
            "1/1 [==============================] - 0s 28ms/step\n",
            "1/1 [==============================] - 0s 26ms/step\n",
            "1/1 [==============================] - 0s 28ms/step\n",
            "1/1 [==============================] - 0s 27ms/step\n",
            "1/1 [==============================] - 0s 29ms/step\n",
            "1/1 [==============================] - 0s 34ms/step\n",
            "1/1 [==============================] - 0s 29ms/step\n",
            "1/1 [==============================] - 0s 26ms/step\n",
            "1/1 [==============================] - 0s 37ms/step\n",
            "1/1 [==============================] - 0s 27ms/step\n",
            "1/1 [==============================] - 0s 27ms/step\n",
            "1/1 [==============================] - 0s 27ms/step\n",
            "1/1 [==============================] - 0s 31ms/step\n",
            "1/1 [==============================] - 0s 28ms/step\n",
            "1/1 [==============================] - 0s 35ms/step\n",
            "1/1 [==============================] - 0s 31ms/step\n",
            "1/1 [==============================] - 0s 29ms/step\n",
            "1/1 [==============================] - 0s 28ms/step\n",
            "1/1 [==============================] - 0s 30ms/step\n",
            "1/1 [==============================] - 0s 34ms/step\n",
            "1/1 [==============================] - 0s 30ms/step\n",
            "1/1 [==============================] - 0s 27ms/step\n",
            "1/1 [==============================] - 0s 32ms/step\n",
            "1/1 [==============================] - 0s 32ms/step\n",
            "1/1 [==============================] - 0s 27ms/step\n",
            "1/1 [==============================] - 0s 27ms/step\n",
            "1/1 [==============================] - 0s 27ms/step\n",
            "1/1 [==============================] - 0s 30ms/step\n",
            "1/1 [==============================] - 0s 28ms/step\n",
            "1/1 [==============================] - 0s 27ms/step\n",
            "1/1 [==============================] - 0s 30ms/step\n",
            "1/1 [==============================] - 0s 29ms/step\n",
            "1/1 [==============================] - 0s 26ms/step\n",
            "1/1 [==============================] - 0s 27ms/step\n",
            "1/1 [==============================] - 0s 28ms/step\n",
            "1/1 [==============================] - 0s 27ms/step\n",
            "1/1 [==============================] - 0s 27ms/step\n",
            "1/1 [==============================] - 0s 28ms/step\n",
            "1/1 [==============================] - 0s 29ms/step\n",
            "1/1 [==============================] - 0s 28ms/step\n",
            "1/1 [==============================] - 0s 28ms/step\n",
            "1/1 [==============================] - 0s 28ms/step\n",
            "1/1 [==============================] - 0s 27ms/step\n",
            "1/1 [==============================] - 0s 27ms/step\n",
            "1/1 [==============================] - 0s 28ms/step\n",
            "1/1 [==============================] - 0s 27ms/step\n",
            "1/1 [==============================] - 0s 28ms/step\n",
            "1/1 [==============================] - 0s 29ms/step\n",
            "1/1 [==============================] - 0s 27ms/step\n",
            "1/1 [==============================] - 0s 36ms/step\n",
            "1/1 [==============================] - 0s 47ms/step\n",
            "1/1 [==============================] - 0s 34ms/step\n",
            "1/1 [==============================] - 0s 28ms/step\n",
            "1/1 [==============================] - 0s 28ms/step\n",
            "1/1 [==============================] - 0s 32ms/step\n",
            "1/1 [==============================] - 0s 32ms/step\n",
            "1/1 [==============================] - 0s 41ms/step\n",
            "1/1 [==============================] - 0s 32ms/step\n",
            "1/1 [==============================] - 0s 34ms/step\n",
            "1/1 [==============================] - 0s 41ms/step\n",
            "1/1 [==============================] - 0s 36ms/step\n",
            "1/1 [==============================] - 0s 33ms/step\n",
            "1/1 [==============================] - 0s 33ms/step\n",
            "1/1 [==============================] - 0s 31ms/step\n",
            "1/1 [==============================] - 0s 28ms/step\n",
            "1/1 [==============================] - 0s 28ms/step\n",
            "1/1 [==============================] - 0s 28ms/step\n",
            "1/1 [==============================] - 0s 35ms/step\n",
            "1/1 [==============================] - 0s 28ms/step\n",
            "1/1 [==============================] - 0s 31ms/step\n",
            "1/1 [==============================] - 0s 32ms/step\n",
            "1/1 [==============================] - 0s 29ms/step\n",
            "1/1 [==============================] - 0s 29ms/step\n",
            "1/1 [==============================] - 0s 31ms/step\n",
            "1/1 [==============================] - 0s 35ms/step\n",
            "1/1 [==============================] - 0s 29ms/step\n",
            "1/1 [==============================] - 0s 31ms/step\n",
            "1/1 [==============================] - 0s 31ms/step\n",
            "1/1 [==============================] - 0s 37ms/step\n",
            "1/1 [==============================] - 0s 29ms/step\n",
            "1/1 [==============================] - 0s 30ms/step\n",
            "1/1 [==============================] - 0s 42ms/step\n",
            "1/1 [==============================] - 0s 30ms/step\n",
            "1/1 [==============================] - 0s 28ms/step\n",
            "1/1 [==============================] - 0s 31ms/step\n",
            "1/1 [==============================] - 0s 32ms/step\n",
            "1/1 [==============================] - 0s 32ms/step\n",
            "1/1 [==============================] - 0s 29ms/step\n",
            "1/1 [==============================] - 0s 34ms/step\n",
            "1/1 [==============================] - 0s 39ms/step\n",
            "1/1 [==============================] - 0s 38ms/step\n",
            "1/1 [==============================] - 0s 39ms/step\n",
            "1/1 [==============================] - 0s 38ms/step\n",
            "1/1 [==============================] - 0s 37ms/step\n",
            "1/1 [==============================] - 0s 36ms/step\n",
            "1/1 [==============================] - 0s 37ms/step\n",
            "1/1 [==============================] - 0s 54ms/step\n",
            "1/1 [==============================] - 0s 53ms/step\n",
            "1/1 [==============================] - 0s 63ms/step\n",
            "1/1 [==============================] - 0s 45ms/step\n",
            "1/1 [==============================] - 0s 53ms/step\n",
            "1/1 [==============================] - 0s 50ms/step\n",
            "1/1 [==============================] - 0s 48ms/step\n",
            "1/1 [==============================] - 0s 48ms/step\n",
            "1/1 [==============================] - 0s 45ms/step\n",
            "1/1 [==============================] - 0s 52ms/step\n",
            "1/1 [==============================] - 0s 64ms/step\n",
            "1/1 [==============================] - 0s 48ms/step\n",
            "1/1 [==============================] - 0s 53ms/step\n",
            "1/1 [==============================] - 0s 45ms/step\n",
            "1/1 [==============================] - 0s 48ms/step\n",
            "1/1 [==============================] - 0s 63ms/step\n",
            "1/1 [==============================] - 0s 54ms/step\n",
            "1/1 [==============================] - 0s 71ms/step\n",
            "1/1 [==============================] - 0s 66ms/step\n",
            "1/1 [==============================] - 0s 48ms/step\n",
            "1/1 [==============================] - 0s 64ms/step\n",
            "1/1 [==============================] - 0s 65ms/step\n",
            "1/1 [==============================] - 0s 46ms/step\n",
            "1/1 [==============================] - 0s 48ms/step\n",
            "1/1 [==============================] - 0s 48ms/step\n",
            "1/1 [==============================] - 0s 50ms/step\n",
            "1/1 [==============================] - 0s 55ms/step\n",
            "1/1 [==============================] - 0s 46ms/step\n",
            "1/1 [==============================] - 0s 64ms/step\n",
            "1/1 [==============================] - 0s 45ms/step\n",
            "1/1 [==============================] - 0s 51ms/step\n",
            "1/1 [==============================] - 0s 48ms/step\n",
            "1/1 [==============================] - 0s 49ms/step\n",
            "1/1 [==============================] - 0s 77ms/step\n",
            "1/1 [==============================] - 0s 53ms/step\n",
            "1/1 [==============================] - 0s 58ms/step\n",
            "1/1 [==============================] - 0s 43ms/step\n",
            "1/1 [==============================] - 0s 37ms/step\n",
            "1/1 [==============================] - 0s 31ms/step\n",
            "1/1 [==============================] - 0s 34ms/step\n",
            "1/1 [==============================] - 0s 31ms/step\n",
            "1/1 [==============================] - 0s 32ms/step\n",
            "1/1 [==============================] - 0s 32ms/step\n",
            "1/1 [==============================] - 0s 33ms/step\n",
            "1/1 [==============================] - 0s 41ms/step\n",
            "1/1 [==============================] - 0s 34ms/step\n",
            "1/1 [==============================] - 0s 31ms/step\n",
            "1/1 [==============================] - 0s 31ms/step\n",
            "1/1 [==============================] - 0s 31ms/step\n",
            "1/1 [==============================] - 0s 34ms/step\n",
            "1/1 [==============================] - 0s 35ms/step\n",
            "1/1 [==============================] - 0s 30ms/step\n",
            "1/1 [==============================] - 0s 31ms/step\n",
            "1/1 [==============================] - 0s 31ms/step\n",
            "1/1 [==============================] - 0s 38ms/step\n",
            "1/1 [==============================] - 0s 35ms/step\n",
            "1/1 [==============================] - 0s 31ms/step\n",
            "1/1 [==============================] - 0s 32ms/step\n",
            "1/1 [==============================] - 0s 32ms/step\n",
            "1/1 [==============================] - 0s 35ms/step\n",
            "1/1 [==============================] - 0s 36ms/step\n",
            "1/1 [==============================] - 0s 31ms/step\n",
            "1/1 [==============================] - 0s 33ms/step\n",
            "1/1 [==============================] - 0s 31ms/step\n",
            "1/1 [==============================] - 0s 34ms/step\n",
            "1/1 [==============================] - 0s 29ms/step\n",
            "1/1 [==============================] - 0s 34ms/step\n",
            "1/1 [==============================] - 0s 33ms/step\n",
            "1/1 [==============================] - 0s 32ms/step\n",
            "1/1 [==============================] - 0s 34ms/step\n",
            "1/1 [==============================] - 0s 35ms/step\n",
            "1/1 [==============================] - 0s 29ms/step\n",
            "1/1 [==============================] - 0s 33ms/step\n",
            "1/1 [==============================] - 0s 44ms/step\n",
            "1/1 [==============================] - 0s 37ms/step\n",
            "1/1 [==============================] - 0s 38ms/step\n",
            "1/1 [==============================] - 0s 40ms/step\n",
            "1/1 [==============================] - 0s 39ms/step\n",
            "1/1 [==============================] - 0s 39ms/step\n",
            "1/1 [==============================] - 0s 37ms/step\n",
            "1/1 [==============================] - 0s 47ms/step\n",
            "1/1 [==============================] - 0s 39ms/step\n",
            "1/1 [==============================] - 0s 33ms/step\n",
            "1/1 [==============================] - 0s 34ms/step\n",
            "1/1 [==============================] - 0s 32ms/step\n",
            "1/1 [==============================] - 0s 34ms/step\n",
            "1/1 [==============================] - 0s 34ms/step\n",
            "1/1 [==============================] - 0s 38ms/step\n",
            "1/1 [==============================] - 0s 34ms/step\n",
            "1/1 [==============================] - 0s 41ms/step\n",
            "1/1 [==============================] - 0s 31ms/step\n",
            "1/1 [==============================] - 0s 31ms/step\n",
            "1/1 [==============================] - 0s 34ms/step\n",
            "1/1 [==============================] - 0s 35ms/step\n",
            "1/1 [==============================] - 0s 34ms/step\n",
            "1/1 [==============================] - 0s 34ms/step\n",
            "1/1 [==============================] - 0s 39ms/step\n",
            "1/1 [==============================] - 0s 49ms/step\n",
            "1/1 [==============================] - 0s 39ms/step\n",
            "1/1 [==============================] - 0s 45ms/step\n",
            "1/1 [==============================] - 0s 33ms/step\n",
            "1/1 [==============================] - 0s 33ms/step\n",
            "1/1 [==============================] - 0s 33ms/step\n",
            "1/1 [==============================] - 0s 35ms/step\n",
            "1/1 [==============================] - 0s 54ms/step\n",
            "1/1 [==============================] - 0s 31ms/step\n",
            "1/1 [==============================] - 0s 32ms/step\n",
            "1/1 [==============================] - 0s 30ms/step\n",
            "1/1 [==============================] - 0s 33ms/step\n",
            "1/1 [==============================] - 0s 31ms/step\n",
            "1/1 [==============================] - 0s 35ms/step\n",
            "1/1 [==============================] - 0s 31ms/step\n",
            "1/1 [==============================] - 0s 31ms/step\n",
            "1/1 [==============================] - 0s 30ms/step\n",
            "1/1 [==============================] - 0s 34ms/step\n",
            "1/1 [==============================] - 0s 31ms/step\n",
            "1/1 [==============================] - 0s 36ms/step\n",
            "1/1 [==============================] - 0s 33ms/step\n",
            "1/1 [==============================] - 0s 43ms/step\n",
            "1/1 [==============================] - 0s 38ms/step\n",
            "1/1 [==============================] - 0s 30ms/step\n",
            "1/1 [==============================] - 0s 32ms/step\n",
            "1/1 [==============================] - 0s 52ms/step\n",
            "1/1 [==============================] - 0s 57ms/step\n",
            "1/1 [==============================] - 0s 51ms/step\n",
            "1/1 [==============================] - 0s 49ms/step\n",
            "1/1 [==============================] - 0s 45ms/step\n",
            "1/1 [==============================] - 0s 47ms/step\n",
            "1/1 [==============================] - 0s 48ms/step\n",
            "1/1 [==============================] - 0s 51ms/step\n",
            "1/1 [==============================] - 0s 46ms/step\n",
            "1/1 [==============================] - 0s 47ms/step\n",
            "1/1 [==============================] - 0s 54ms/step\n",
            "1/1 [==============================] - 0s 45ms/step\n",
            "1/1 [==============================] - 0s 53ms/step\n",
            "1/1 [==============================] - 0s 60ms/step\n",
            "1/1 [==============================] - 0s 49ms/step\n",
            "1/1 [==============================] - 0s 48ms/step\n",
            "1/1 [==============================] - 0s 48ms/step\n",
            "1/1 [==============================] - 0s 47ms/step\n",
            "1/1 [==============================] - 0s 39ms/step\n",
            "1/1 [==============================] - 0s 36ms/step\n",
            "1/1 [==============================] - 0s 31ms/step\n",
            "1/1 [==============================] - 0s 39ms/step\n",
            "1/1 [==============================] - 0s 33ms/step\n",
            "1/1 [==============================] - 0s 31ms/step\n",
            "1/1 [==============================] - 0s 34ms/step\n",
            "1/1 [==============================] - 0s 31ms/step\n",
            "1/1 [==============================] - 0s 27ms/step\n",
            "1/1 [==============================] - 0s 29ms/step\n",
            "1/1 [==============================] - 0s 37ms/step\n",
            "1/1 [==============================] - 0s 33ms/step\n",
            "1/1 [==============================] - 0s 36ms/step\n",
            "1/1 [==============================] - 0s 34ms/step\n",
            "1/1 [==============================] - 0s 36ms/step\n",
            "1/1 [==============================] - 0s 40ms/step\n",
            "1/1 [==============================] - 0s 38ms/step\n",
            "1/1 [==============================] - 0s 32ms/step\n",
            "1/1 [==============================] - 0s 33ms/step\n",
            "1/1 [==============================] - 0s 33ms/step\n",
            "1/1 [==============================] - 0s 33ms/step\n",
            "1/1 [==============================] - 0s 30ms/step\n",
            "1/1 [==============================] - 0s 26ms/step\n",
            "1/1 [==============================] - 0s 25ms/step\n",
            "1/1 [==============================] - 0s 26ms/step\n",
            "1/1 [==============================] - 0s 27ms/step\n",
            "1/1 [==============================] - 0s 26ms/step\n",
            "1/1 [==============================] - 0s 33ms/step\n",
            "1/1 [==============================] - 0s 28ms/step\n",
            "1/1 [==============================] - 0s 28ms/step\n",
            "1/1 [==============================] - 0s 27ms/step\n",
            "1/1 [==============================] - 0s 27ms/step\n",
            "1/1 [==============================] - 0s 26ms/step\n",
            "1/1 [==============================] - 0s 34ms/step\n",
            "1/1 [==============================] - 0s 28ms/step\n",
            "1/1 [==============================] - 0s 39ms/step\n",
            "1/1 [==============================] - 0s 33ms/step\n",
            "1/1 [==============================] - 0s 35ms/step\n",
            "1/1 [==============================] - 0s 31ms/step\n",
            "1/1 [==============================] - 0s 30ms/step\n",
            "1/1 [==============================] - 0s 32ms/step\n",
            "1/1 [==============================] - 0s 30ms/step\n",
            "1/1 [==============================] - 0s 34ms/step\n",
            "1/1 [==============================] - 0s 31ms/step\n",
            "1/1 [==============================] - 0s 30ms/step\n",
            "1/1 [==============================] - 0s 31ms/step\n",
            "1/1 [==============================] - 0s 32ms/step\n",
            "1/1 [==============================] - 0s 34ms/step\n",
            "1/1 [==============================] - 0s 38ms/step\n",
            "1/1 [==============================] - 0s 35ms/step\n",
            "1/1 [==============================] - 0s 32ms/step\n",
            "1/1 [==============================] - 0s 39ms/step\n",
            "1/1 [==============================] - 0s 38ms/step\n",
            "1/1 [==============================] - 0s 32ms/step\n",
            "1/1 [==============================] - 0s 33ms/step\n",
            "1/1 [==============================] - 0s 31ms/step\n",
            "1/1 [==============================] - 0s 30ms/step\n",
            "1/1 [==============================] - 0s 33ms/step\n",
            "1/1 [==============================] - 0s 29ms/step\n",
            "1/1 [==============================] - 0s 31ms/step\n",
            "1/1 [==============================] - 0s 35ms/step\n",
            "1/1 [==============================] - 0s 33ms/step\n",
            "1/1 [==============================] - 0s 33ms/step\n",
            "1/1 [==============================] - 0s 31ms/step\n",
            "1/1 [==============================] - 0s 31ms/step\n",
            "1/1 [==============================] - 0s 34ms/step\n",
            "1/1 [==============================] - 0s 32ms/step\n",
            "1/1 [==============================] - 0s 29ms/step\n",
            "1/1 [==============================] - 0s 28ms/step\n",
            "1/1 [==============================] - 0s 29ms/step\n",
            "1/1 [==============================] - 0s 29ms/step\n",
            "1/1 [==============================] - 0s 34ms/step\n",
            "1/1 [==============================] - 0s 35ms/step\n",
            "1/1 [==============================] - 0s 34ms/step\n",
            "1/1 [==============================] - 0s 30ms/step\n",
            "1/1 [==============================] - 0s 34ms/step\n",
            "1/1 [==============================] - 0s 30ms/step\n",
            "1/1 [==============================] - 0s 29ms/step\n",
            "1/1 [==============================] - 0s 30ms/step\n",
            "1/1 [==============================] - 0s 30ms/step\n",
            "1/1 [==============================] - 0s 29ms/step\n",
            "1/1 [==============================] - 0s 30ms/step\n",
            "1/1 [==============================] - 0s 40ms/step\n",
            "1/1 [==============================] - 0s 31ms/step\n",
            "1/1 [==============================] - 0s 28ms/step\n",
            "1/1 [==============================] - 0s 32ms/step\n",
            "1/1 [==============================] - 0s 27ms/step\n",
            "1/1 [==============================] - 0s 31ms/step\n",
            "1/1 [==============================] - 0s 28ms/step\n",
            "1/1 [==============================] - 0s 29ms/step\n",
            "1/1 [==============================] - 0s 27ms/step\n",
            "1/1 [==============================] - 0s 27ms/step\n",
            "1/1 [==============================] - 0s 30ms/step\n",
            "1/1 [==============================] - 0s 27ms/step\n",
            "1/1 [==============================] - 0s 30ms/step\n",
            "1/1 [==============================] - 0s 29ms/step\n",
            "1/1 [==============================] - 0s 34ms/step\n",
            "1/1 [==============================] - 0s 31ms/step\n",
            "1/1 [==============================] - 0s 30ms/step\n",
            "1/1 [==============================] - 0s 39ms/step\n",
            "1/1 [==============================] - 0s 30ms/step\n",
            "1/1 [==============================] - 0s 28ms/step\n",
            "1/1 [==============================] - 0s 32ms/step\n",
            "1/1 [==============================] - 0s 35ms/step\n",
            "1/1 [==============================] - 0s 28ms/step\n",
            "1/1 [==============================] - 0s 28ms/step\n",
            "1/1 [==============================] - 0s 38ms/step\n",
            "1/1 [==============================] - 0s 34ms/step\n",
            "1/1 [==============================] - 0s 33ms/step\n",
            "1/1 [==============================] - 0s 33ms/step\n",
            "1/1 [==============================] - 0s 29ms/step\n",
            "1/1 [==============================] - 0s 32ms/step\n",
            "1/1 [==============================] - 0s 30ms/step\n",
            "1/1 [==============================] - 0s 32ms/step\n",
            "1/1 [==============================] - 0s 29ms/step\n",
            "1/1 [==============================] - 0s 29ms/step\n",
            "1/1 [==============================] - 0s 65ms/step\n",
            "1/1 [==============================] - 0s 53ms/step\n",
            "1/1 [==============================] - 0s 68ms/step\n",
            "1/1 [==============================] - 0s 46ms/step\n",
            "1/1 [==============================] - 0s 55ms/step\n",
            "1/1 [==============================] - 0s 46ms/step\n",
            "1/1 [==============================] - 0s 43ms/step\n",
            "1/1 [==============================] - 0s 53ms/step\n",
            "1/1 [==============================] - 0s 53ms/step\n",
            "1/1 [==============================] - 0s 49ms/step\n",
            "1/1 [==============================] - 0s 49ms/step\n",
            "1/1 [==============================] - 0s 44ms/step\n",
            "1/1 [==============================] - 0s 73ms/step\n",
            "1/1 [==============================] - 0s 45ms/step\n",
            "1/1 [==============================] - 0s 47ms/step\n",
            "1/1 [==============================] - 0s 47ms/step\n",
            "1/1 [==============================] - 0s 41ms/step\n",
            "1/1 [==============================] - 0s 45ms/step\n",
            "1/1 [==============================] - 0s 45ms/step\n",
            "1/1 [==============================] - 0s 45ms/step\n",
            "1/1 [==============================] - 0s 33ms/step\n",
            "1/1 [==============================] - 0s 29ms/step\n",
            "1/1 [==============================] - 0s 27ms/step\n",
            "1/1 [==============================] - 0s 26ms/step\n",
            "1/1 [==============================] - 0s 31ms/step\n",
            "1/1 [==============================] - 0s 27ms/step\n",
            "1/1 [==============================] - 0s 28ms/step\n",
            "1/1 [==============================] - 0s 28ms/step\n",
            "1/1 [==============================] - 0s 37ms/step\n"
          ]
        }
      ],
      "source": [
        "predictions = []\n",
        "for i in range(len(X_new)):\n",
        "    prediction = predict_stock_price(model, X_new[i])\n",
        "    predictions.append(prediction)"
      ]
    },
    {
      "cell_type": "code",
      "execution_count": null,
      "metadata": {
        "id": "a74cVIj2awBy"
      },
      "outputs": [],
      "source": [
        "predictions = np.asarray(predictions)\n",
        "predictions_reversed = inverse_min_max_scaling(predictions, x_min['Close'],x_max['Close'])"
      ]
    },
    {
      "cell_type": "code",
      "execution_count": null,
      "metadata": {
        "id": "FbsfCBcnZMgl"
      },
      "outputs": [],
      "source": [
        "y_new = np.asarray(y_new)\n",
        "y_new_rev = inverse_min_max_scaling(y_new, x_min['Close'],x_max['Close'])"
      ]
    },
    {
      "cell_type": "code",
      "execution_count": null,
      "metadata": {
        "colab": {
          "base_uri": "https://localhost:8080/"
        },
        "id": "0fF3InV5JcEv",
        "outputId": "c9c1d591-c776-4d52-c538-b7239186ee79"
      },
      "outputs": [
        {
          "data": {
            "text/plain": [
              "168.47044"
            ]
          },
          "execution_count": 34,
          "metadata": {},
          "output_type": "execute_result"
        }
      ],
      "source": [
        "predictions_reversed[0]"
      ]
    },
    {
      "cell_type": "code",
      "execution_count": null,
      "metadata": {
        "colab": {
          "base_uri": "https://localhost:8080/"
        },
        "id": "FhMh69EdI8aC",
        "outputId": "eb81036d-6112-46ee-fbad-acb722bf5683"
      },
      "outputs": [
        {
          "name": "stdout",
          "output_type": "stream",
          "text": [
            "Date: 2023-05-02 09:30:00-04:00, Predicted Price: 168.47, Actual Price: 171.3300018310547\n",
            "Date: 2023-05-02 10:30:00-04:00, Predicted Price: 168.47, Actual Price: 171.9001007080078\n",
            "Date: 2023-05-02 11:30:00-04:00, Predicted Price: 168.46, Actual Price: 172.55999755859375\n",
            "Date: 2023-05-02 12:30:00-04:00, Predicted Price: 168.46, Actual Price: 171.8428955078125\n",
            "Date: 2023-05-02 13:30:00-04:00, Predicted Price: 168.46, Actual Price: 172.27000427246094\n",
            "Date: 2023-05-02 14:30:00-04:00, Predicted Price: 168.45, Actual Price: 172.17869567871094\n",
            "Date: 2023-05-02 15:30:00-04:00, Predicted Price: 168.43, Actual Price: 171.8470001220703\n",
            "Date: 2023-05-03 09:30:00-04:00, Predicted Price: 168.42, Actual Price: 171.81500244140625\n",
            "Date: 2023-05-03 10:30:00-04:00, Predicted Price: 168.41, Actual Price: 171.81219482421875\n",
            "Date: 2023-05-03 11:30:00-04:00, Predicted Price: 168.40, Actual Price: 172.1300048828125\n",
            "Date: 2023-05-03 12:30:00-04:00, Predicted Price: 168.40, Actual Price: 172.41000366210938\n",
            "Date: 2023-05-03 13:30:00-04:00, Predicted Price: 168.39, Actual Price: 172.30999755859375\n",
            "Date: 2023-05-03 14:30:00-04:00, Predicted Price: 168.38, Actual Price: 172.25\n",
            "Date: 2023-05-03 15:30:00-04:00, Predicted Price: 168.36, Actual Price: 172.16110229492188\n",
            "Date: 2023-05-04 09:30:00-04:00, Predicted Price: 168.35, Actual Price: 171.89999389648438\n",
            "Date: 2023-05-04 10:30:00-04:00, Predicted Price: 168.35, Actual Price: 172.6649932861328\n",
            "Date: 2023-05-04 11:30:00-04:00, Predicted Price: 168.35, Actual Price: 172.0800018310547\n",
            "Date: 2023-05-04 12:30:00-04:00, Predicted Price: 168.35, Actual Price: 171.02169799804688\n",
            "Date: 2023-05-04 13:30:00-04:00, Predicted Price: 168.35, Actual Price: 170.84669494628906\n",
            "Date: 2023-05-04 14:30:00-04:00, Predicted Price: 168.33, Actual Price: 171.13499450683594\n",
            "Date: 2023-05-04 15:30:00-04:00, Predicted Price: 168.29, Actual Price: 172.0399932861328\n",
            "Date: 2023-05-05 09:30:00-04:00, Predicted Price: 168.26, Actual Price: 172.4084930419922\n",
            "Date: 2023-05-05 10:30:00-04:00, Predicted Price: 168.24, Actual Price: 172.35000610351562\n",
            "Date: 2023-05-05 11:30:00-04:00, Predicted Price: 168.22, Actual Price: 172.64999389648438\n",
            "Date: 2023-05-05 12:30:00-04:00, Predicted Price: 168.20, Actual Price: 173.6699981689453\n",
            "Date: 2023-05-05 13:30:00-04:00, Predicted Price: 168.19, Actual Price: 174.66000366210938\n",
            "Date: 2023-05-05 14:30:00-04:00, Predicted Price: 168.18, Actual Price: 174.36000061035156\n",
            "Date: 2023-05-05 15:30:00-04:00, Predicted Price: 168.18, Actual Price: 174.27999877929688\n",
            "Date: 2023-05-08 09:30:00-04:00, Predicted Price: 168.18, Actual Price: 174.11000061035156\n",
            "Date: 2023-05-08 10:30:00-04:00, Predicted Price: 168.20, Actual Price: 174.5\n",
            "Date: 2023-05-08 11:30:00-04:00, Predicted Price: 168.22, Actual Price: 175.06619262695312\n",
            "Date: 2023-05-08 12:30:00-04:00, Predicted Price: 168.25, Actual Price: 175.8800048828125\n",
            "Date: 2023-05-08 13:30:00-04:00, Predicted Price: 168.29, Actual Price: 175.4759063720703\n",
            "Date: 2023-05-08 14:30:00-04:00, Predicted Price: 168.33, Actual Price: 175.44000244140625\n",
            "Date: 2023-05-08 15:30:00-04:00, Predicted Price: 168.36, Actual Price: 175.73500061035156\n",
            "Date: 2023-05-09 09:30:00-04:00, Predicted Price: 168.41, Actual Price: 175.23219299316406\n",
            "Date: 2023-05-09 10:30:00-04:00, Predicted Price: 168.46, Actual Price: 175.1300048828125\n",
            "Date: 2023-05-09 11:30:00-04:00, Predicted Price: 168.52, Actual Price: 175.19000244140625\n",
            "Date: 2023-05-09 12:30:00-04:00, Predicted Price: 168.58, Actual Price: 174.19200134277344\n",
            "Date: 2023-05-09 13:30:00-04:00, Predicted Price: 168.63, Actual Price: 174.48880004882812\n",
            "Date: 2023-05-09 14:30:00-04:00, Predicted Price: 168.67, Actual Price: 174.16000366210938\n",
            "Date: 2023-05-09 15:30:00-04:00, Predicted Price: 168.71, Actual Price: 174.22000122070312\n",
            "Date: 2023-05-10 09:30:00-04:00, Predicted Price: 168.74, Actual Price: 174.32000732421875\n",
            "Date: 2023-05-10 10:30:00-04:00, Predicted Price: 168.78, Actual Price: 174.22000122070312\n",
            "Date: 2023-05-10 11:30:00-04:00, Predicted Price: 168.81, Actual Price: 174.24000549316406\n",
            "Date: 2023-05-10 12:30:00-04:00, Predicted Price: 168.85, Actual Price: 172.85000610351562\n",
            "Date: 2023-05-10 13:30:00-04:00, Predicted Price: 168.88, Actual Price: 173.01499938964844\n",
            "Date: 2023-05-10 14:30:00-04:00, Predicted Price: 168.88, Actual Price: 172.60000610351562\n",
            "Date: 2023-05-10 15:30:00-04:00, Predicted Price: 168.88, Actual Price: 172.0749969482422\n",
            "Date: 2023-05-11 09:30:00-04:00, Predicted Price: 168.88, Actual Price: 171.65499877929688\n",
            "Date: 2023-05-11 10:30:00-04:00, Predicted Price: 168.87, Actual Price: 171.6195068359375\n",
            "Date: 2023-05-11 11:30:00-04:00, Predicted Price: 168.84, Actual Price: 171.5500030517578\n",
            "Date: 2023-05-11 12:30:00-04:00, Predicted Price: 168.81, Actual Price: 171.16000366210938\n",
            "Date: 2023-05-11 13:30:00-04:00, Predicted Price: 168.77, Actual Price: 171.3699951171875\n",
            "Date: 2023-05-11 14:30:00-04:00, Predicted Price: 168.71, Actual Price: 170.63499450683594\n",
            "Date: 2023-05-11 15:30:00-04:00, Predicted Price: 168.65, Actual Price: 171.1750030517578\n",
            "Date: 2023-05-12 09:30:00-04:00, Predicted Price: 168.59, Actual Price: 171.19000244140625\n",
            "Date: 2023-05-12 10:30:00-04:00, Predicted Price: 168.54, Actual Price: 172.10499572753906\n",
            "Date: 2023-05-12 11:30:00-04:00, Predicted Price: 168.49, Actual Price: 171.8300018310547\n",
            "Date: 2023-05-12 12:30:00-04:00, Predicted Price: 168.46, Actual Price: 171.92999267578125\n",
            "Date: 2023-05-12 13:30:00-04:00, Predicted Price: 168.43, Actual Price: 172.27000427246094\n",
            "Date: 2023-05-12 14:30:00-04:00, Predicted Price: 168.39, Actual Price: 173.60009765625\n",
            "Date: 2023-05-12 15:30:00-04:00, Predicted Price: 168.36, Actual Price: 173.1999969482422\n",
            "Date: 2023-05-15 09:30:00-04:00, Predicted Price: 168.34, Actual Price: 173.35000610351562\n",
            "Date: 2023-05-15 10:30:00-04:00, Predicted Price: 168.32, Actual Price: 173.63499450683594\n",
            "Date: 2023-05-15 11:30:00-04:00, Predicted Price: 168.32, Actual Price: 173.01499938964844\n",
            "Date: 2023-05-15 12:30:00-04:00, Predicted Price: 168.33, Actual Price: 175.34500122070312\n",
            "Date: 2023-05-15 13:30:00-04:00, Predicted Price: 168.35, Actual Price: 175.02999877929688\n",
            "Date: 2023-05-15 14:30:00-04:00, Predicted Price: 168.36, Actual Price: 175.30870056152344\n",
            "Date: 2023-05-15 15:30:00-04:00, Predicted Price: 168.38, Actual Price: 175.38499450683594\n",
            "Date: 2023-05-16 09:30:00-04:00, Predicted Price: 168.41, Actual Price: 175.01499938964844\n",
            "Date: 2023-05-16 10:30:00-04:00, Predicted Price: 168.45, Actual Price: 175.3800048828125\n",
            "Date: 2023-05-16 11:30:00-04:00, Predicted Price: 168.50, Actual Price: 175.3800048828125\n",
            "Date: 2023-05-16 12:30:00-04:00, Predicted Price: 168.55, Actual Price: 177.61109924316406\n",
            "Date: 2023-05-16 13:30:00-04:00, Predicted Price: 168.61, Actual Price: 177.24000549316406\n",
            "Date: 2023-05-16 14:30:00-04:00, Predicted Price: 168.66, Actual Price: 177.22219848632812\n",
            "Date: 2023-05-16 15:30:00-04:00, Predicted Price: 168.71, Actual Price: 177.14999389648438\n",
            "Date: 2023-05-17 09:30:00-04:00, Predicted Price: 168.78, Actual Price: 177.59010314941406\n",
            "Date: 2023-05-17 10:30:00-04:00, Predicted Price: 168.85, Actual Price: 177.52000427246094\n",
            "Date: 2023-05-17 11:30:00-04:00, Predicted Price: 168.93, Actual Price: 177.3300018310547\n",
            "Date: 2023-05-17 12:30:00-04:00, Predicted Price: 169.02, Actual Price: 177.89500427246094\n",
            "Date: 2023-05-17 13:30:00-04:00, Predicted Price: 169.11, Actual Price: 178.32000732421875\n",
            "Date: 2023-05-17 14:30:00-04:00, Predicted Price: 169.17, Actual Price: 178.74270629882812\n",
            "Date: 2023-05-17 15:30:00-04:00, Predicted Price: 169.23, Actual Price: 178.88999938964844\n",
            "Date: 2023-05-18 09:30:00-04:00, Predicted Price: 169.30, Actual Price: 179.16990661621094\n",
            "Date: 2023-05-18 10:30:00-04:00, Predicted Price: 169.38, Actual Price: 178.7178955078125\n",
            "Date: 2023-05-18 11:30:00-04:00, Predicted Price: 169.47, Actual Price: 177.4199981689453\n",
            "Date: 2023-05-18 12:30:00-04:00, Predicted Price: 169.55, Actual Price: 178.10000610351562\n",
            "Date: 2023-05-18 13:30:00-04:00, Predicted Price: 169.60, Actual Price: 179.47999572753906\n",
            "Date: 2023-05-18 14:30:00-04:00, Predicted Price: 169.64, Actual Price: 179.8000030517578\n",
            "Date: 2023-05-18 15:30:00-04:00, Predicted Price: 169.67, Actual Price: 179.61000061035156\n",
            "Date: 2023-05-19 09:30:00-04:00, Predicted Price: 169.72, Actual Price: 179.875\n",
            "Date: 2023-05-19 10:30:00-04:00, Predicted Price: 169.77, Actual Price: 179.77999877929688\n",
            "Date: 2023-05-19 11:30:00-04:00, Predicted Price: 169.83, Actual Price: 180.11000061035156\n",
            "Date: 2023-05-19 12:30:00-04:00, Predicted Price: 169.89, Actual Price: 179.72999572753906\n",
            "Date: 2023-05-19 13:30:00-04:00, Predicted Price: 169.96, Actual Price: 180.5\n",
            "Date: 2023-05-19 14:30:00-04:00, Predicted Price: 170.00, Actual Price: 180.6699981689453\n",
            "Date: 2023-05-19 15:30:00-04:00, Predicted Price: 170.04, Actual Price: 180.58999633789062\n",
            "Date: 2023-05-22 09:30:00-04:00, Predicted Price: 170.09, Actual Price: 180.45989990234375\n",
            "Date: 2023-05-22 10:30:00-04:00, Predicted Price: 170.15, Actual Price: 180.7550048828125\n",
            "Date: 2023-05-22 11:30:00-04:00, Predicted Price: 170.22, Actual Price: 180.9600067138672\n",
            "Date: 2023-05-22 12:30:00-04:00, Predicted Price: 170.29, Actual Price: 183.7100067138672\n",
            "Date: 2023-05-22 13:30:00-04:00, Predicted Price: 170.36, Actual Price: 184.22999572753906\n",
            "Date: 2023-05-22 14:30:00-04:00, Predicted Price: 170.42, Actual Price: 184.55039978027344\n",
            "Date: 2023-05-22 15:30:00-04:00, Predicted Price: 170.47, Actual Price: 184.11399841308594\n",
            "Date: 2023-05-23 09:30:00-04:00, Predicted Price: 170.53, Actual Price: 183.06829833984375\n",
            "Date: 2023-05-23 10:30:00-04:00, Predicted Price: 170.60, Actual Price: 179.52499389648438\n",
            "Date: 2023-05-23 11:30:00-04:00, Predicted Price: 170.62, Actual Price: 179.60000610351562\n",
            "Date: 2023-05-23 12:30:00-04:00, Predicted Price: 170.57, Actual Price: 178.94000244140625\n",
            "Date: 2023-05-23 13:30:00-04:00, Predicted Price: 170.50, Actual Price: 177.7899932861328\n",
            "Date: 2023-05-23 14:30:00-04:00, Predicted Price: 170.41, Actual Price: 178.69000244140625\n",
            "Date: 2023-05-23 15:30:00-04:00, Predicted Price: 170.32, Actual Price: 178.71499633789062\n",
            "Date: 2023-05-24 09:30:00-04:00, Predicted Price: 170.25, Actual Price: 179.32000732421875\n",
            "Date: 2023-05-24 10:30:00-04:00, Predicted Price: 170.20, Actual Price: 179.41000366210938\n",
            "Date: 2023-05-24 11:30:00-04:00, Predicted Price: 170.18, Actual Price: 179.16000366210938\n",
            "Date: 2023-05-24 12:30:00-04:00, Predicted Price: 170.19, Actual Price: 179.27999877929688\n",
            "Date: 2023-05-24 13:30:00-04:00, Predicted Price: 170.20, Actual Price: 178.97500610351562\n",
            "Date: 2023-05-24 14:30:00-04:00, Predicted Price: 170.21, Actual Price: 178.3699951171875\n",
            "Date: 2023-05-24 15:30:00-04:00, Predicted Price: 170.22, Actual Price: 177.69000244140625\n",
            "Date: 2023-05-25 09:30:00-04:00, Predicted Price: 170.23, Actual Price: 178.02999877929688\n",
            "Date: 2023-05-25 10:30:00-04:00, Predicted Price: 170.24, Actual Price: 178.06500244140625\n",
            "Date: 2023-05-25 11:30:00-04:00, Predicted Price: 170.25, Actual Price: 177.82000732421875\n",
            "Date: 2023-05-25 12:30:00-04:00, Predicted Price: 170.26, Actual Price: 178.47000122070312\n",
            "Date: 2023-05-25 13:30:00-04:00, Predicted Price: 170.26, Actual Price: 179.23910522460938\n",
            "Date: 2023-05-25 14:30:00-04:00, Predicted Price: 170.26, Actual Price: 179.9698944091797\n",
            "Date: 2023-05-25 15:30:00-04:00, Predicted Price: 170.26, Actual Price: 179.47000122070312\n",
            "Date: 2023-05-26 09:30:00-04:00, Predicted Price: 170.28, Actual Price: 179.94500732421875\n",
            "Date: 2023-05-26 10:30:00-04:00, Predicted Price: 170.31, Actual Price: 180.2550048828125\n",
            "Date: 2023-05-26 11:30:00-04:00, Predicted Price: 170.35, Actual Price: 180.5399932861328\n",
            "Date: 2023-05-26 12:30:00-04:00, Predicted Price: 170.40, Actual Price: 181.9199981689453\n",
            "Date: 2023-05-26 13:30:00-04:00, Predicted Price: 170.45, Actual Price: 181.22999572753906\n",
            "Date: 2023-05-26 14:30:00-04:00, Predicted Price: 170.49, Actual Price: 181.16000366210938\n",
            "Date: 2023-05-26 15:30:00-04:00, Predicted Price: 170.54, Actual Price: 181.66000366210938\n",
            "Date: 2023-05-30 09:30:00-04:00, Predicted Price: 170.60, Actual Price: 182.00990295410156\n",
            "Date: 2023-05-30 10:30:00-04:00, Predicted Price: 170.66, Actual Price: 181.49000549316406\n",
            "Date: 2023-05-30 11:30:00-04:00, Predicted Price: 170.73, Actual Price: 181.0399932861328\n",
            "Date: 2023-05-30 12:30:00-04:00, Predicted Price: 170.80, Actual Price: 181.60000610351562\n",
            "Date: 2023-05-30 13:30:00-04:00, Predicted Price: 170.87, Actual Price: 182.01499938964844\n",
            "Date: 2023-05-30 14:30:00-04:00, Predicted Price: 170.93, Actual Price: 182.27499389648438\n",
            "Date: 2023-05-30 15:30:00-04:00, Predicted Price: 170.98, Actual Price: 182.5399932861328\n",
            "Date: 2023-05-31 09:30:00-04:00, Predicted Price: 171.05, Actual Price: 182.7100067138672\n",
            "Date: 2023-05-31 10:30:00-04:00, Predicted Price: 171.12, Actual Price: 183.3090057373047\n",
            "Date: 2023-05-31 11:30:00-04:00, Predicted Price: 171.19, Actual Price: 183.83999633789062\n",
            "Date: 2023-05-31 12:30:00-04:00, Predicted Price: 171.27, Actual Price: 182.75999450683594\n",
            "Date: 2023-05-31 13:30:00-04:00, Predicted Price: 171.33, Actual Price: 183.39999389648438\n",
            "Date: 2023-05-31 14:30:00-04:00, Predicted Price: 171.36, Actual Price: 183.1699981689453\n",
            "Date: 2023-05-31 15:30:00-04:00, Predicted Price: 171.40, Actual Price: 183.0207977294922\n",
            "Date: 2023-06-01 09:30:00-04:00, Predicted Price: 171.43, Actual Price: 182.83999633789062\n",
            "Date: 2023-06-01 10:30:00-04:00, Predicted Price: 171.48, Actual Price: 182.97999572753906\n",
            "Date: 2023-06-01 11:30:00-04:00, Predicted Price: 171.52, Actual Price: 183.30999755859375\n",
            "Date: 2023-06-01 12:30:00-04:00, Predicted Price: 171.57, Actual Price: 184.22500610351562\n",
            "Date: 2023-06-01 13:30:00-04:00, Predicted Price: 171.62, Actual Price: 184.2100067138672\n",
            "Date: 2023-06-01 14:30:00-04:00, Predicted Price: 171.66, Actual Price: 184.11500549316406\n",
            "Date: 2023-06-01 15:30:00-04:00, Predicted Price: 171.71, Actual Price: 183.72999572753906\n",
            "Date: 2023-06-02 09:30:00-04:00, Predicted Price: 171.76, Actual Price: 182.64999389648438\n",
            "Date: 2023-06-02 10:30:00-04:00, Predicted Price: 171.82, Actual Price: 183.50999450683594\n",
            "Date: 2023-06-02 11:30:00-04:00, Predicted Price: 171.87, Actual Price: 183.9600067138672\n",
            "Date: 2023-06-02 12:30:00-04:00, Predicted Price: 171.90, Actual Price: 185.83999633789062\n",
            "Date: 2023-06-02 13:30:00-04:00, Predicted Price: 171.92, Actual Price: 185.83999633789062\n",
            "Date: 2023-06-02 14:30:00-04:00, Predicted Price: 171.94, Actual Price: 185.1999969482422\n",
            "Date: 2023-06-02 15:30:00-04:00, Predicted Price: 171.96, Actual Price: 185.08999633789062\n",
            "Date: 2023-06-05 09:30:00-04:00, Predicted Price: 171.99, Actual Price: 185.80499267578125\n",
            "Date: 2023-06-05 10:30:00-04:00, Predicted Price: 172.04, Actual Price: 186.17999267578125\n",
            "Date: 2023-06-05 11:30:00-04:00, Predicted Price: 172.09, Actual Price: 186.02000427246094\n",
            "Date: 2023-06-05 12:30:00-04:00, Predicted Price: 172.13, Actual Price: 185.908203125\n",
            "Date: 2023-06-05 13:30:00-04:00, Predicted Price: 172.16, Actual Price: 185.47999572753906\n",
            "Date: 2023-06-05 14:30:00-04:00, Predicted Price: 172.15, Actual Price: 185.7301025390625\n",
            "Date: 2023-06-05 15:30:00-04:00, Predicted Price: 172.14, Actual Price: 185.8000030517578\n",
            "Date: 2023-06-06 09:30:00-04:00, Predicted Price: 172.16, Actual Price: 185.30999755859375\n",
            "Date: 2023-06-06 10:30:00-04:00, Predicted Price: 172.19, Actual Price: 184.9149932861328\n",
            "Date: 2023-06-06 11:30:00-04:00, Predicted Price: 172.23, Actual Price: 185.02000427246094\n",
            "Date: 2023-06-06 12:30:00-04:00, Predicted Price: 172.27, Actual Price: 184.80999755859375\n",
            "Date: 2023-06-06 13:30:00-04:00, Predicted Price: 172.29, Actual Price: 185.0601043701172\n",
            "Date: 2023-06-06 14:30:00-04:00, Predicted Price: 172.31, Actual Price: 185.55499267578125\n",
            "Date: 2023-06-06 15:30:00-04:00, Predicted Price: 172.32, Actual Price: 185.92999267578125\n",
            "Date: 2023-06-07 09:30:00-04:00, Predicted Price: 172.35, Actual Price: 185.77000427246094\n",
            "Date: 2023-06-07 10:30:00-04:00, Predicted Price: 172.39, Actual Price: 185.33999633789062\n",
            "Date: 2023-06-07 11:30:00-04:00, Predicted Price: 172.45, Actual Price: 185.02000427246094\n",
            "Date: 2023-06-07 12:30:00-04:00, Predicted Price: 172.50, Actual Price: 184.1199951171875\n",
            "Date: 2023-06-07 13:30:00-04:00, Predicted Price: 172.55, Actual Price: 183.13999938964844\n",
            "Date: 2023-06-07 14:30:00-04:00, Predicted Price: 172.57, Actual Price: 184.06500244140625\n",
            "Date: 2023-06-07 15:30:00-04:00, Predicted Price: 172.57, Actual Price: 184.1300048828125\n",
            "Date: 2023-06-08 09:30:00-04:00, Predicted Price: 172.56, Actual Price: 185.10000610351562\n",
            "Date: 2023-06-08 10:30:00-04:00, Predicted Price: 172.57, Actual Price: 184.5050048828125\n",
            "Date: 2023-06-08 11:30:00-04:00, Predicted Price: 172.58, Actual Price: 183.9600067138672\n",
            "Date: 2023-06-08 12:30:00-04:00, Predicted Price: 172.60, Actual Price: 185.77000427246094\n",
            "Date: 2023-06-08 13:30:00-04:00, Predicted Price: 172.61, Actual Price: 186.25\n",
            "Date: 2023-06-08 14:30:00-04:00, Predicted Price: 172.61, Actual Price: 186.07000732421875\n",
            "Date: 2023-06-08 15:30:00-04:00, Predicted Price: 172.62, Actual Price: 185.75\n",
            "Date: 2023-06-09 09:30:00-04:00, Predicted Price: 172.63, Actual Price: 186.4250030517578\n",
            "Date: 2023-06-09 10:30:00-04:00, Predicted Price: 172.65, Actual Price: 186.4149932861328\n",
            "Date: 2023-06-09 11:30:00-04:00, Predicted Price: 172.69, Actual Price: 186.97000122070312\n",
            "Date: 2023-06-09 12:30:00-04:00, Predicted Price: 172.72, Actual Price: 185.8300018310547\n",
            "Date: 2023-06-09 13:30:00-04:00, Predicted Price: 172.75, Actual Price: 186.0800018310547\n",
            "Date: 2023-06-09 14:30:00-04:00, Predicted Price: 172.76, Actual Price: 186.94000244140625\n",
            "Date: 2023-06-09 15:30:00-04:00, Predicted Price: 172.78, Actual Price: 187.33700561523438\n",
            "Date: 2023-06-12 09:30:00-04:00, Predicted Price: 172.81, Actual Price: 187.24000549316406\n",
            "Date: 2023-06-12 10:30:00-04:00, Predicted Price: 172.85, Actual Price: 186.81500244140625\n",
            "Date: 2023-06-12 11:30:00-04:00, Predicted Price: 172.90, Actual Price: 186.69000244140625\n",
            "Date: 2023-06-12 12:30:00-04:00, Predicted Price: 172.94, Actual Price: 187.7498016357422\n",
            "Date: 2023-06-12 13:30:00-04:00, Predicted Price: 172.99, Actual Price: 186.52999877929688\n",
            "Date: 2023-06-12 14:30:00-04:00, Predicted Price: 173.02, Actual Price: 186.25\n",
            "Date: 2023-06-12 15:30:00-04:00, Predicted Price: 173.05, Actual Price: 185.98500061035156\n",
            "Date: 2023-06-13 09:30:00-04:00, Predicted Price: 173.07, Actual Price: 185.99000549316406\n",
            "Date: 2023-06-13 10:30:00-04:00, Predicted Price: 173.09, Actual Price: 186.0749969482422\n",
            "Date: 2023-06-13 11:30:00-04:00, Predicted Price: 173.11, Actual Price: 185.3000030517578\n",
            "Date: 2023-06-13 12:30:00-04:00, Predicted Price: 173.12, Actual Price: 186.85000610351562\n",
            "Date: 2023-06-13 13:30:00-04:00, Predicted Price: 173.13, Actual Price: 186.9499969482422\n",
            "Date: 2023-06-13 14:30:00-04:00, Predicted Price: 173.13, Actual Price: 187.47999572753906\n",
            "Date: 2023-06-13 15:30:00-04:00, Predicted Price: 173.13, Actual Price: 187.78500366210938\n",
            "Date: 2023-06-14 09:30:00-04:00, Predicted Price: 173.15, Actual Price: 188.19500732421875\n",
            "Date: 2023-06-14 10:30:00-04:00, Predicted Price: 173.17, Actual Price: 188.30499267578125\n",
            "Date: 2023-06-14 11:30:00-04:00, Predicted Price: 173.20, Actual Price: 188.0399932861328\n",
            "Date: 2023-06-14 12:30:00-04:00, Predicted Price: 173.24, Actual Price: 188.4199981689453\n",
            "Date: 2023-06-14 13:30:00-04:00, Predicted Price: 173.28, Actual Price: 189.01499938964844\n",
            "Date: 2023-06-14 14:30:00-04:00, Predicted Price: 173.30, Actual Price: 189.30499267578125\n",
            "Date: 2023-06-14 15:30:00-04:00, Predicted Price: 173.33, Actual Price: 189.07000732421875\n",
            "Date: 2023-06-15 09:30:00-04:00, Predicted Price: 173.38, Actual Price: 189.36500549316406\n",
            "Date: 2023-06-15 10:30:00-04:00, Predicted Price: 173.43, Actual Price: 189.02000427246094\n",
            "Date: 2023-06-15 11:30:00-04:00, Predicted Price: 173.49, Actual Price: 189.27999877929688\n",
            "Date: 2023-06-15 12:30:00-04:00, Predicted Price: 173.54, Actual Price: 189.47000122070312\n",
            "Date: 2023-06-15 13:30:00-04:00, Predicted Price: 173.58, Actual Price: 189.88999938964844\n",
            "Date: 2023-06-15 14:30:00-04:00, Predicted Price: 173.61, Actual Price: 189.6750030517578\n",
            "Date: 2023-06-15 15:30:00-04:00, Predicted Price: 173.64, Actual Price: 189.49000549316406\n",
            "Date: 2023-06-16 09:30:00-04:00, Predicted Price: 173.68, Actual Price: 189.65060424804688\n",
            "Date: 2023-06-16 10:30:00-04:00, Predicted Price: 173.73, Actual Price: 189.47760009765625\n",
            "Date: 2023-06-16 11:30:00-04:00, Predicted Price: 173.79, Actual Price: 189.58999633789062\n",
            "Date: 2023-06-16 12:30:00-04:00, Predicted Price: 173.85, Actual Price: 192.69000244140625\n",
            "Date: 2023-06-16 13:30:00-04:00, Predicted Price: 173.90, Actual Price: 192.38499450683594\n",
            "Date: 2023-06-16 14:30:00-04:00, Predicted Price: 173.94, Actual Price: 192.58999633789062\n",
            "Date: 2023-06-16 15:30:00-04:00, Predicted Price: 173.98, Actual Price: 192.9250030517578\n",
            "Date: 2023-06-20 09:30:00-04:00, Predicted Price: 174.03, Actual Price: 193.02499389648438\n",
            "Date: 2023-06-20 10:30:00-04:00, Predicted Price: 174.10, Actual Price: 193.49000549316406\n",
            "Date: 2023-06-20 11:30:00-04:00, Predicted Price: 174.17, Actual Price: 193.8000030517578\n",
            "Date: 2023-06-20 12:30:00-04:00, Predicted Price: 174.24, Actual Price: 192.9149932861328\n",
            "Date: 2023-06-20 13:30:00-04:00, Predicted Price: 174.29, Actual Price: 192.35499572753906\n",
            "Date: 2023-06-20 14:30:00-04:00, Predicted Price: 174.33, Actual Price: 192.11500549316406\n",
            "Date: 2023-06-20 15:30:00-04:00, Predicted Price: 174.37, Actual Price: 192.35000610351562\n",
            "Date: 2023-06-21 09:30:00-04:00, Predicted Price: 174.40, Actual Price: 191.43499755859375\n",
            "Date: 2023-06-21 10:30:00-04:00, Predicted Price: 174.43, Actual Price: 191.1416015625\n",
            "Date: 2023-06-21 11:30:00-04:00, Predicted Price: 174.46, Actual Price: 190.99000549316406\n",
            "Date: 2023-06-21 12:30:00-04:00, Predicted Price: 174.48, Actual Price: 190.9499969482422\n",
            "Date: 2023-06-21 13:30:00-04:00, Predicted Price: 174.51, Actual Price: 191.35499572753906\n",
            "Date: 2023-06-21 14:30:00-04:00, Predicted Price: 174.54, Actual Price: 191.32000732421875\n",
            "Date: 2023-06-21 15:30:00-04:00, Predicted Price: 174.58, Actual Price: 189.94000244140625\n",
            "Date: 2023-06-22 09:30:00-04:00, Predicted Price: 174.61, Actual Price: 190.1699981689453\n",
            "Date: 2023-06-22 10:30:00-04:00, Predicted Price: 174.61, Actual Price: 190.93499755859375\n",
            "Date: 2023-06-22 11:30:00-04:00, Predicted Price: 174.61, Actual Price: 191.11000061035156\n",
            "Date: 2023-06-22 12:30:00-04:00, Predicted Price: 174.61, Actual Price: 191.02999877929688\n",
            "Date: 2023-06-22 13:30:00-04:00, Predicted Price: 174.63, Actual Price: 191.63999938964844\n",
            "Date: 2023-06-22 14:30:00-04:00, Predicted Price: 174.65, Actual Price: 191.77999877929688\n",
            "Date: 2023-06-22 15:30:00-04:00, Predicted Price: 174.68, Actual Price: 190.6199951171875\n",
            "Date: 2023-06-23 09:30:00-04:00, Predicted Price: 174.70, Actual Price: 191.20950317382812\n",
            "Date: 2023-06-23 10:30:00-04:00, Predicted Price: 174.71, Actual Price: 192.12989807128906\n",
            "Date: 2023-06-23 11:30:00-04:00, Predicted Price: 174.71, Actual Price: 192.55999755859375\n",
            "Date: 2023-06-23 12:30:00-04:00, Predicted Price: 174.72, Actual Price: 192.39999389648438\n",
            "Date: 2023-06-23 13:30:00-04:00, Predicted Price: 174.75, Actual Price: 191.75\n",
            "Date: 2023-06-23 14:30:00-04:00, Predicted Price: 174.78, Actual Price: 190.7100067138672\n",
            "Date: 2023-06-23 15:30:00-04:00, Predicted Price: 174.81, Actual Price: 188.95989990234375\n",
            "Date: 2023-06-26 09:30:00-04:00, Predicted Price: 174.81, Actual Price: 187.86000061035156\n",
            "Date: 2023-06-26 10:30:00-04:00, Predicted Price: 174.76, Actual Price: 187.56199645996094\n",
            "Date: 2023-06-26 11:30:00-04:00, Predicted Price: 174.69, Actual Price: 188.08999633789062\n",
            "Date: 2023-06-26 12:30:00-04:00, Predicted Price: 174.60, Actual Price: 188.61500549316406\n",
            "Date: 2023-06-26 13:30:00-04:00, Predicted Price: 174.52, Actual Price: 188.3000030517578\n",
            "Date: 2023-06-26 14:30:00-04:00, Predicted Price: 174.46, Actual Price: 188.6300048828125\n",
            "Date: 2023-06-26 15:30:00-04:00, Predicted Price: 174.40, Actual Price: 188.11000061035156\n",
            "Date: 2023-06-27 09:30:00-04:00, Predicted Price: 174.35, Actual Price: 187.71499633789062\n",
            "Date: 2023-06-27 10:30:00-04:00, Predicted Price: 174.29, Actual Price: 187.61500549316406\n",
            "Date: 2023-06-27 11:30:00-04:00, Predicted Price: 174.24, Actual Price: 187.41000366210938\n",
            "Date: 2023-06-27 12:30:00-04:00, Predicted Price: 174.18, Actual Price: 186.88099670410156\n",
            "Date: 2023-06-27 13:30:00-04:00, Predicted Price: 174.13, Actual Price: 187.13720703125\n",
            "Date: 2023-06-27 14:30:00-04:00, Predicted Price: 174.08, Actual Price: 188.05050659179688\n",
            "Date: 2023-06-27 15:30:00-04:00, Predicted Price: 174.03, Actual Price: 190.35000610351562\n",
            "Date: 2023-06-28 09:30:00-04:00, Predicted Price: 173.99, Actual Price: 189.52999877929688\n",
            "Date: 2023-06-28 10:30:00-04:00, Predicted Price: 173.94, Actual Price: 189.15499877929688\n",
            "Date: 2023-06-28 11:30:00-04:00, Predicted Price: 173.90, Actual Price: 189.86000061035156\n",
            "Date: 2023-06-28 12:30:00-04:00, Predicted Price: 173.88, Actual Price: 190.33999633789062\n",
            "Date: 2023-06-28 13:30:00-04:00, Predicted Price: 173.87, Actual Price: 189.86000061035156\n",
            "Date: 2023-06-28 14:30:00-04:00, Predicted Price: 173.88, Actual Price: 189.80999755859375\n",
            "Date: 2023-06-28 15:30:00-04:00, Predicted Price: 173.90, Actual Price: 189.97999572753906\n",
            "Date: 2023-06-29 09:30:00-04:00, Predicted Price: 173.93, Actual Price: 190.1699981689453\n",
            "Date: 2023-06-29 10:30:00-04:00, Predicted Price: 173.95, Actual Price: 190.6750030517578\n",
            "Date: 2023-06-29 11:30:00-04:00, Predicted Price: 173.98, Actual Price: 190.6649932861328\n",
            "Date: 2023-06-29 12:30:00-04:00, Predicted Price: 174.02, Actual Price: 190.5800018310547\n",
            "Date: 2023-06-29 13:30:00-04:00, Predicted Price: 174.07, Actual Price: 190.89500427246094\n",
            "Date: 2023-06-29 14:30:00-04:00, Predicted Price: 174.13, Actual Price: 190.5399932861328\n",
            "Date: 2023-06-29 15:30:00-04:00, Predicted Price: 174.19, Actual Price: 190.85000610351562\n",
            "Date: 2023-06-30 09:30:00-04:00, Predicted Price: 174.24, Actual Price: 190.36000061035156\n",
            "Date: 2023-06-30 10:30:00-04:00, Predicted Price: 174.27, Actual Price: 189.9499969482422\n",
            "Date: 2023-06-30 11:30:00-04:00, Predicted Price: 174.30, Actual Price: 190.01499938964844\n",
            "Date: 2023-06-30 12:30:00-04:00, Predicted Price: 174.33, Actual Price: 190.19000244140625\n",
            "Date: 2023-06-30 13:30:00-04:00, Predicted Price: 174.36, Actual Price: 190.27499389648438\n",
            "Date: 2023-06-30 14:30:00-04:00, Predicted Price: 174.39, Actual Price: 190.72999572753906\n",
            "Date: 2023-06-30 15:30:00-04:00, Predicted Price: 174.42, Actual Price: 192.76499938964844\n",
            "Date: 2023-07-03 09:30:00-04:00, Predicted Price: 174.45, Actual Price: 193.0050048828125\n",
            "Date: 2023-07-03 10:30:00-04:00, Predicted Price: 174.48, Actual Price: 192.75\n",
            "Date: 2023-07-03 11:30:00-04:00, Predicted Price: 174.52, Actual Price: 193.0800018310547\n",
            "Date: 2023-07-05 09:30:00-04:00, Predicted Price: 174.57, Actual Price: 193.6649932861328\n",
            "Date: 2023-07-05 10:30:00-04:00, Predicted Price: 174.63, Actual Price: 194.14999389648438\n",
            "Date: 2023-07-05 11:30:00-04:00, Predicted Price: 174.70, Actual Price: 193.97999572753906\n",
            "Date: 2023-07-05 12:30:00-04:00, Predicted Price: 174.77, Actual Price: 192.98500061035156\n",
            "Date: 2023-07-05 13:30:00-04:00, Predicted Price: 174.82, Actual Price: 193.14500427246094\n",
            "Date: 2023-07-05 14:30:00-04:00, Predicted Price: 174.86, Actual Price: 192.7050018310547\n",
            "Date: 2023-07-05 15:30:00-04:00, Predicted Price: 174.90, Actual Price: 192.93499755859375\n",
            "Date: 2023-07-06 09:30:00-04:00, Predicted Price: 174.94, Actual Price: 193.75999450683594\n",
            "Date: 2023-07-06 10:30:00-04:00, Predicted Price: 174.98, Actual Price: 193.94000244140625\n",
            "Date: 2023-07-06 11:30:00-04:00, Predicted Price: 175.03, Actual Price: 193.72999572753906\n",
            "Date: 2023-07-06 12:30:00-04:00, Predicted Price: 175.08, Actual Price: 192.77999877929688\n",
            "Date: 2023-07-06 13:30:00-04:00, Predicted Price: 175.11, Actual Price: 193.13099670410156\n",
            "Date: 2023-07-06 14:30:00-04:00, Predicted Price: 175.13, Actual Price: 195.11000061035156\n",
            "Date: 2023-07-06 15:30:00-04:00, Predicted Price: 175.12, Actual Price: 194.33999633789062\n",
            "Date: 2023-07-07 09:30:00-04:00, Predicted Price: 175.08, Actual Price: 194.64500427246094\n",
            "Date: 2023-07-07 10:30:00-04:00, Predicted Price: 175.05, Actual Price: 195.3800048828125\n",
            "Date: 2023-07-07 11:30:00-04:00, Predicted Price: 175.04, Actual Price: 195.0850067138672\n",
            "Date: 2023-07-07 12:30:00-04:00, Predicted Price: 175.05, Actual Price: 194.9080047607422\n",
            "Date: 2023-07-07 13:30:00-04:00, Predicted Price: 175.07, Actual Price: 194.60000610351562\n",
            "Date: 2023-07-07 14:30:00-04:00, Predicted Price: 175.09, Actual Price: 194.6199951171875\n",
            "Date: 2023-07-07 15:30:00-04:00, Predicted Price: 175.11, Actual Price: 194.25999450683594\n",
            "Date: 2023-07-10 09:30:00-04:00, Predicted Price: 175.14, Actual Price: 193.19009399414062\n",
            "Date: 2023-07-10 10:30:00-04:00, Predicted Price: 175.17, Actual Price: 192.5449981689453\n",
            "Date: 2023-07-10 11:30:00-04:00, Predicted Price: 175.20, Actual Price: 193.13999938964844\n",
            "Date: 2023-07-10 12:30:00-04:00, Predicted Price: 175.23, Actual Price: 192.8699951171875\n",
            "Date: 2023-07-10 13:30:00-04:00, Predicted Price: 175.24, Actual Price: 193.59500122070312\n",
            "Date: 2023-07-10 14:30:00-04:00, Predicted Price: 175.24, Actual Price: 192.6082000732422\n",
            "Date: 2023-07-10 15:30:00-04:00, Predicted Price: 175.24, Actual Price: 192.6999969482422\n",
            "Date: 2023-07-11 09:30:00-04:00, Predicted Price: 175.24, Actual Price: 192.72500610351562\n",
            "Date: 2023-07-11 10:30:00-04:00, Predicted Price: 175.25, Actual Price: 192.39999389648438\n",
            "Date: 2023-07-11 11:30:00-04:00, Predicted Price: 175.26, Actual Price: 191.92999267578125\n",
            "Date: 2023-07-11 12:30:00-04:00, Predicted Price: 175.27, Actual Price: 193.72999572753906\n",
            "Date: 2023-07-11 13:30:00-04:00, Predicted Price: 175.27, Actual Price: 193.27000427246094\n",
            "Date: 2023-07-11 14:30:00-04:00, Predicted Price: 175.26, Actual Price: 193.1649932861328\n",
            "Date: 2023-07-11 15:30:00-04:00, Predicted Price: 175.25, Actual Price: 192.97999572753906\n",
            "Date: 2023-07-12 09:30:00-04:00, Predicted Price: 175.24, Actual Price: 193.2449951171875\n",
            "Date: 2023-07-12 10:30:00-04:00, Predicted Price: 175.24, Actual Price: 192.3699951171875\n",
            "Date: 2023-07-12 11:30:00-04:00, Predicted Price: 175.26, Actual Price: 192.73500061035156\n",
            "Date: 2023-07-12 12:30:00-04:00, Predicted Price: 175.27, Actual Price: 193.39500427246094\n",
            "Date: 2023-07-12 13:30:00-04:00, Predicted Price: 175.29, Actual Price: 193.82000732421875\n",
            "Date: 2023-07-12 14:30:00-04:00, Predicted Price: 175.31, Actual Price: 193.7646942138672\n",
            "Date: 2023-07-12 15:30:00-04:00, Predicted Price: 175.33, Actual Price: 194.1999969482422\n",
            "Date: 2023-07-13 09:30:00-04:00, Predicted Price: 175.36, Actual Price: 194.12120056152344\n",
            "Date: 2023-07-13 10:30:00-04:00, Predicted Price: 175.41, Actual Price: 194.27499389648438\n",
            "Date: 2023-07-13 11:30:00-04:00, Predicted Price: 175.45, Actual Price: 193.6300048828125\n",
            "Date: 2023-07-13 12:30:00-04:00, Predicted Price: 175.50, Actual Price: 193.97999572753906\n",
            "Date: 2023-07-13 13:30:00-04:00, Predicted Price: 175.53, Actual Price: 194.24000549316406\n",
            "Date: 2023-07-13 14:30:00-04:00, Predicted Price: 175.55, Actual Price: 194.50999450683594\n",
            "Date: 2023-07-13 15:30:00-04:00, Predicted Price: 175.57, Actual Price: 194.36000061035156\n",
            "Date: 2023-07-14 09:30:00-04:00, Predicted Price: 175.60, Actual Price: 194.27000427246094\n",
            "Date: 2023-07-14 10:30:00-04:00, Predicted Price: 175.64, Actual Price: 194.21499633789062\n",
            "Date: 2023-07-14 11:30:00-04:00, Predicted Price: 175.67, Actual Price: 194.52000427246094\n",
            "Date: 2023-07-14 12:30:00-04:00, Predicted Price: 175.69, Actual Price: 195.97000122070312\n",
            "Date: 2023-07-14 13:30:00-04:00, Predicted Price: 175.70, Actual Price: 196.13999938964844\n",
            "Date: 2023-07-14 14:30:00-04:00, Predicted Price: 175.72, Actual Price: 196.30499267578125\n",
            "Date: 2023-07-14 15:30:00-04:00, Predicted Price: 175.74, Actual Price: 195.00999450683594\n",
            "Date: 2023-07-17 09:30:00-04:00, Predicted Price: 175.78, Actual Price: 193.72999572753906\n",
            "Date: 2023-07-17 10:30:00-04:00, Predicted Price: 175.81, Actual Price: 193.00999450683594\n",
            "Date: 2023-07-17 11:30:00-04:00, Predicted Price: 175.83, Actual Price: 193.22999572753906\n",
            "Date: 2023-07-17 12:30:00-04:00, Predicted Price: 175.82, Actual Price: 195.6199951171875\n",
            "Date: 2023-07-17 13:30:00-04:00, Predicted Price: 175.81, Actual Price: 196.1999969482422\n",
            "Date: 2023-07-17 14:30:00-04:00, Predicted Price: 175.81, Actual Price: 196.4210968017578\n",
            "Date: 2023-07-17 15:30:00-04:00, Predicted Price: 175.81, Actual Price: 195.58999633789062\n",
            "Date: 2023-07-18 09:30:00-04:00, Predicted Price: 175.83, Actual Price: 196.09019470214844\n",
            "Date: 2023-07-18 10:30:00-04:00, Predicted Price: 175.86, Actual Price: 195.76499938964844\n",
            "Date: 2023-07-18 11:30:00-04:00, Predicted Price: 175.89, Actual Price: 195.83999633789062\n",
            "Date: 2023-07-18 12:30:00-04:00, Predicted Price: 175.93, Actual Price: 196.24000549316406\n",
            "Date: 2023-07-18 13:30:00-04:00, Predicted Price: 175.96, Actual Price: 196.1750030517578\n",
            "Date: 2023-07-18 14:30:00-04:00, Predicted Price: 175.98, Actual Price: 196.1544952392578\n",
            "Date: 2023-07-18 15:30:00-04:00, Predicted Price: 176.01, Actual Price: 196.12989807128906\n",
            "Date: 2023-07-19 09:30:00-04:00, Predicted Price: 176.04, Actual Price: 196.16000366210938\n",
            "Date: 2023-07-19 10:30:00-04:00, Predicted Price: 176.08, Actual Price: 196.0876007080078\n",
            "Date: 2023-07-19 11:30:00-04:00, Predicted Price: 176.12, Actual Price: 196.49000549316406\n",
            "Date: 2023-07-19 12:30:00-04:00, Predicted Price: 176.17, Actual Price: 195.47500610351562\n",
            "Date: 2023-07-19 13:30:00-04:00, Predicted Price: 176.20, Actual Price: 196.11500549316406\n",
            "Date: 2023-07-19 14:30:00-04:00, Predicted Price: 176.21, Actual Price: 195.49729919433594\n",
            "Date: 2023-07-19 15:30:00-04:00, Predicted Price: 176.23, Actual Price: 195.72950744628906\n",
            "Date: 2023-07-20 09:30:00-04:00, Predicted Price: 176.24, Actual Price: 196.0532989501953\n",
            "Date: 2023-07-20 10:30:00-04:00, Predicted Price: 176.26, Actual Price: 195.80999755859375\n",
            "Date: 2023-07-20 11:30:00-04:00, Predicted Price: 176.29, Actual Price: 195.60000610351562\n",
            "Date: 2023-07-20 12:30:00-04:00, Predicted Price: 176.31, Actual Price: 193.2781982421875\n",
            "Date: 2023-07-20 13:30:00-04:00, Predicted Price: 176.32, Actual Price: 193.00999450683594\n",
            "Date: 2023-07-20 14:30:00-04:00, Predicted Price: 176.29, Actual Price: 191.92999267578125\n",
            "Date: 2023-07-20 15:30:00-04:00, Predicted Price: 176.25, Actual Price: 192.99000549316406\n",
            "Date: 2023-07-21 09:30:00-04:00, Predicted Price: 176.19, Actual Price: 192.97000122070312\n",
            "Date: 2023-07-21 10:30:00-04:00, Predicted Price: 176.13, Actual Price: 192.3000030517578\n",
            "Date: 2023-07-21 11:30:00-04:00, Predicted Price: 176.07, Actual Price: 192.58999633789062\n",
            "MAPE: 6.84, SMAPE: 7.12, RMSE: 13.85\n"
          ]
        }
      ],
      "source": [
        "for i in range(len(predictions_reversed)):\n",
        "    date = data.index[i]\n",
        "    predicted_price = predictions_reversed[i]\n",
        "    print(f\"Date: {date}, Predicted Price: {predicted_price:.2f}, Actual Price: {y_new_rev[i]}\")\n",
        "\n",
        "mape = calculate_mape(y_new_rev, predictions_reversed)\n",
        "smape = calculate_smape(y_new_rev, predictions_reversed)\n",
        "rmse = calculate_rmse(y_new_rev, predictions_reversed)\n",
        "\n",
        "\n",
        "print(f'MAPE: {mape:.2f}, SMAPE: {smape:.2f}, RMSE: {rmse:.2f}')"
      ]
    },
    {
      "cell_type": "markdown",
      "metadata": {
        "id": "Tua7r-gXHZZ0"
      },
      "source": [
        "### save model"
      ]
    },
    {
      "cell_type": "code",
      "execution_count": null,
      "metadata": {
        "id": "gANnBzPyJI_m"
      },
      "outputs": [],
      "source": [
        "model.save('apple_model.h5')"
      ]
    },
    {
      "cell_type": "markdown",
      "metadata": {
        "id": "SIhXS9dneQJC"
      },
      "source": [
        "## Quantization"
      ]
    },
    {
      "cell_type": "code",
      "execution_count": null,
      "metadata": {
        "colab": {
          "base_uri": "https://localhost:8080/"
        },
        "id": "rDlVk58SLSHG",
        "outputId": "3ebebd37-2da7-49f4-b21e-1aabc1137345"
      },
      "outputs": [
        {
          "name": "stdout",
          "output_type": "stream",
          "text": [
            "Requirement already satisfied: tensorflow_model_optimization in /usr/local/lib/python3.10/dist-packages (0.7.5)\n",
            "Requirement already satisfied: absl-py~=1.2 in /usr/local/lib/python3.10/dist-packages (from tensorflow_model_optimization) (1.4.0)\n",
            "Requirement already satisfied: dm-tree~=0.1.1 in /usr/local/lib/python3.10/dist-packages (from tensorflow_model_optimization) (0.1.8)\n",
            "Requirement already satisfied: numpy~=1.23 in /usr/local/lib/python3.10/dist-packages (from tensorflow_model_optimization) (1.23.5)\n",
            "Requirement already satisfied: six~=1.14 in /usr/local/lib/python3.10/dist-packages (from tensorflow_model_optimization) (1.16.0)\n"
          ]
        }
      ],
      "source": [
        "! pip install tensorflow_model_optimization"
      ]
    },
    {
      "cell_type": "code",
      "execution_count": null,
      "metadata": {
        "id": "plMuj-2mYd0-"
      },
      "outputs": [],
      "source": [
        "import tensorflow as tf\n",
        "import tensorflow.lite as tflite\n",
        "import tensorflow_model_optimization as tfmot"
      ]
    },
    {
      "cell_type": "code",
      "execution_count": null,
      "metadata": {
        "colab": {
          "base_uri": "https://localhost:8080/"
        },
        "id": "BQ8OL5wsL1Np",
        "outputId": "49893bcc-a27b-4ba3-e5ec-aa060d3adf68"
      },
      "outputs": [
        {
          "data": {
            "text/plain": [
              "[<keras.layers.rnn.lstm.LSTM at 0x7ef17add9660>,\n",
              " <keras.layers.rnn.lstm.LSTM at 0x7ef17addbb20>]"
            ]
          },
          "execution_count": 39,
          "metadata": {},
          "output_type": "execute_result"
        }
      ],
      "source": [
        "model.layers[:2]"
      ]
    },
    {
      "cell_type": "code",
      "execution_count": null,
      "metadata": {
        "id": "-hcYmejUK64Z"
      },
      "outputs": [],
      "source": [
        "annotated_layers = [\n",
        "    tfmot.quantization.keras.quantize_annotate_layer(model.layers[0]),\n",
        "    tfmot.quantization.keras.quantize_annotate_layer(model.layers[1])\n",
        "]"
      ]
    },
    {
      "cell_type": "code",
      "execution_count": null,
      "metadata": {
        "id": "VS5ZYf0reXO9"
      },
      "outputs": [],
      "source": [
        "quantize_model = tf.keras.Sequential(annotated_layers + model.layers[2:])"
      ]
    },
    {
      "cell_type": "code",
      "execution_count": null,
      "metadata": {
        "id": "vp-5nz_ONGFU"
      },
      "outputs": [],
      "source": [
        "quantize_model.compile(optimizer='adam', loss='mean_squared_error')"
      ]
    },
    {
      "cell_type": "code",
      "execution_count": null,
      "metadata": {
        "id": "CefAdve-QhPN"
      },
      "outputs": [],
      "source": [
        "converter = tf.lite.TFLiteConverter.from_keras_model(quantize_model)"
      ]
    },
    {
      "cell_type": "code",
      "execution_count": null,
      "metadata": {
        "id": "vvYaBJRxQjl2"
      },
      "outputs": [],
      "source": [
        "converter.experimental_new_converter = True\n",
        "\n",
        "converter.target_spec.supported_ops = [tf.lite.OpsSet.TFLITE_BUILTINS, tf.lite.OpsSet.SELECT_TF_OPS]\n",
        "converter._experimental_lower_tensor_list_ops = False"
      ]
    },
    {
      "cell_type": "code",
      "execution_count": null,
      "metadata": {
        "colab": {
          "base_uri": "https://localhost:8080/"
        },
        "id": "n-n7LYyVQmsh",
        "outputId": "e55a40e3-c6f7-4674-d3bd-5c8b8e8229a4"
      },
      "outputs": [
        {
          "name": "stderr",
          "output_type": "stream",
          "text": [
            "WARNING:absl:Found untraced functions such as _update_step_xla, lstm_cell_layer_call_fn, lstm_cell_layer_call_and_return_conditional_losses, lstm_cell_1_layer_call_fn, lstm_cell_1_layer_call_and_return_conditional_losses while saving (showing 5 of 5). These functions will not be directly callable after loading.\n"
          ]
        }
      ],
      "source": [
        "tflite_model = converter.convert()"
      ]
    },
    {
      "cell_type": "markdown",
      "metadata": {
        "id": "MHrLM-eye0Kv"
      },
      "source": [
        "Save quantized model to a file"
      ]
    },
    {
      "cell_type": "code",
      "execution_count": null,
      "metadata": {
        "id": "b_tRjh7yeyq4"
      },
      "outputs": [],
      "source": [
        "with open('apple_quantized_model.tflite', 'wb') as f:\n",
        "    f.write(tflite_model)"
      ]
    },
    {
      "cell_type": "markdown",
      "metadata": {
        "id": "5VnoixVTe5qb"
      },
      "source": [
        "## Quantized model"
      ]
    },
    {
      "cell_type": "markdown",
      "metadata": {
        "id": "SsoncEZ6eHov"
      },
      "source": [
        "### Load the quantized model\n",
        "\n",
        "using TensorFlow Lite Interpreter"
      ]
    },
    {
      "cell_type": "code",
      "execution_count": null,
      "metadata": {
        "colab": {
          "base_uri": "https://localhost:8080/"
        },
        "id": "Q7rF1UBp8K3n",
        "outputId": "5fe0a316-8f55-4540-90b6-372269dee49e"
      },
      "outputs": [
        {
          "name": "stdout",
          "output_type": "stream",
          "text": [
            "Collecting tensorflow_model_optimization\n",
            "  Downloading tensorflow_model_optimization-0.7.5-py2.py3-none-any.whl (241 kB)\n",
            "\u001b[?25l     \u001b[90m━━━━━━━━━━━━━━━━━━━━━━━━━━━━━━━━━━━━━━━━\u001b[0m \u001b[32m0.0/241.2 kB\u001b[0m \u001b[31m?\u001b[0m eta \u001b[36m-:--:--\u001b[0m\r\u001b[2K     \u001b[91m━━━━━━━━━━━━━━━\u001b[0m\u001b[90m╺\u001b[0m\u001b[90m━━━━━━━━━━━━━━━━━━━━━━━━\u001b[0m \u001b[32m92.2/241.2 kB\u001b[0m \u001b[31m2.5 MB/s\u001b[0m eta \u001b[36m0:00:01\u001b[0m\r\u001b[2K     \u001b[90m━━━━━━━━━━━━━━━━━━━━━━━━━━━━━━━━━━━━━━━\u001b[0m \u001b[32m241.2/241.2 kB\u001b[0m \u001b[31m3.9 MB/s\u001b[0m eta \u001b[36m0:00:00\u001b[0m\n",
            "\u001b[?25hRequirement already satisfied: absl-py~=1.2 in /usr/local/lib/python3.10/dist-packages (from tensorflow_model_optimization) (1.4.0)\n",
            "Requirement already satisfied: dm-tree~=0.1.1 in /usr/local/lib/python3.10/dist-packages (from tensorflow_model_optimization) (0.1.8)\n",
            "Requirement already satisfied: numpy~=1.23 in /usr/local/lib/python3.10/dist-packages (from tensorflow_model_optimization) (1.23.5)\n",
            "Requirement already satisfied: six~=1.14 in /usr/local/lib/python3.10/dist-packages (from tensorflow_model_optimization) (1.16.0)\n",
            "Installing collected packages: tensorflow_model_optimization\n",
            "Successfully installed tensorflow_model_optimization-0.7.5\n"
          ]
        }
      ],
      "source": [
        "!pip install tensorflow_model_optimization"
      ]
    },
    {
      "cell_type": "code",
      "execution_count": null,
      "metadata": {
        "id": "-ycVM14PRru8"
      },
      "outputs": [],
      "source": [
        "import tensorflow as tf\n",
        "import tensorflow.lite as tflite\n",
        "import tensorflow_model_optimization as tfmot"
      ]
    },
    {
      "cell_type": "code",
      "execution_count": null,
      "metadata": {
        "colab": {
          "base_uri": "https://localhost:8080/"
        },
        "id": "m_Do_4ti114X",
        "outputId": "ee655e83-3e68-489c-ea2e-3d2b6c8115e0"
      },
      "outputs": [
        {
          "name": "stdout",
          "output_type": "stream",
          "text": [
            "Mounted at /content/drive\n"
          ]
        }
      ],
      "source": [
        "from google.colab import drive\n",
        "drive.mount('/content/drive')"
      ]
    },
    {
      "cell_type": "code",
      "execution_count": null,
      "metadata": {
        "colab": {
          "base_uri": "https://localhost:8080/"
        },
        "id": "SSVOrbs_Q0Di",
        "outputId": "2e1e2c1b-e730-4e86-8c6d-938777764fde"
      },
      "outputs": [
        {
          "name": "stdout",
          "output_type": "stream",
          "text": [
            "drive  sample_data\n"
          ]
        }
      ],
      "source": [
        "!ls"
      ]
    },
    {
      "cell_type": "code",
      "execution_count": null,
      "metadata": {
        "colab": {
          "base_uri": "https://localhost:8080/"
        },
        "id": "H9weB3Ac8Zo9",
        "outputId": "a5fa5773-2974-42c0-b4cb-361138ea56f2"
      },
      "outputs": [
        {
          "name": "stdout",
          "output_type": "stream",
          "text": [
            "/content/drive/MyDrive/stock prediction\n"
          ]
        }
      ],
      "source": [
        "%cd /content/drive/MyDrive/stock prediction"
      ]
    },
    {
      "cell_type": "code",
      "execution_count": null,
      "metadata": {
        "id": "GIhOI5dHe3zu"
      },
      "outputs": [],
      "source": [
        "model_path = 'apple_quantized_model.tflite'\n",
        "interpreter = tf.lite.Interpreter(model_path=model_path)\n",
        "interpreter.allocate_tensors()"
      ]
    },
    {
      "cell_type": "code",
      "execution_count": null,
      "metadata": {
        "id": "KwaMUqYISTtF"
      },
      "outputs": [],
      "source": [
        "input_details = interpreter.get_input_details()\n",
        "output_details = interpreter.get_output_details()"
      ]
    },
    {
      "cell_type": "markdown",
      "metadata": {
        "id": "uEc1gNUofC0J"
      },
      "source": [
        "### Run inference"
      ]
    },
    {
      "cell_type": "code",
      "execution_count": null,
      "metadata": {
        "id": "LRL7qlBGStbu"
      },
      "outputs": [],
      "source": [
        "def predict_stock_price_quantized(X_new):\n",
        "    X_new = X_new.reshape(1, X_new.shape[0], X_new.shape[1])\n",
        "    X_new = X_new.astype(np.float32)\n",
        "    interpreter.set_tensor(input_details[0]['index'], X_new)\n",
        "    interpreter.invoke()\n",
        "    output_data = interpreter.get_tensor(output_details[0]['index'])\n",
        "\n",
        "    return output_data[0][0]"
      ]
    },
    {
      "cell_type": "code",
      "execution_count": null,
      "metadata": {
        "colab": {
          "base_uri": "https://localhost:8080/"
        },
        "id": "nJpbLAHeSwbE",
        "outputId": "54af62aa-a4c9-489c-9742-45fd17697d94"
      },
      "outputs": [
        {
          "name": "stdout",
          "output_type": "stream",
          "text": [
            "\r[*********************100%%**********************]  1 of 1 completed\n"
          ]
        },
        {
          "data": {
            "text/plain": [
              "(444, 6)"
            ]
          },
          "execution_count": 23,
          "metadata": {},
          "output_type": "execute_result"
        }
      ],
      "source": [
        "ticker = 'AAPL'\n",
        "start_date = '2023-05-02'\n",
        "end_date = '2023-08-03'\n",
        "\n",
        "data = download_stock_data(ticker, start_date, end_date)\n",
        "x_min = data.min()\n",
        "x_max = data.max()\n",
        "data.shape"
      ]
    },
    {
      "cell_type": "code",
      "execution_count": null,
      "metadata": {
        "colab": {
          "base_uri": "https://localhost:8080/"
        },
        "id": "t4AM3g5VTMkn",
        "outputId": "d436426d-9bfa-4061-acac-bb5b43a0476c"
      },
      "outputs": [
        {
          "name": "stdout",
          "output_type": "stream",
          "text": [
            "196.49000549316406 170.35000610351562\n",
            "1.0 0.14109682799494946\n"
          ]
        }
      ],
      "source": [
        "X_new, y_new = preprocess_data(data)"
      ]
    },
    {
      "cell_type": "code",
      "execution_count": null,
      "metadata": {
        "id": "KZ9-QQWXTJ5m"
      },
      "outputs": [],
      "source": [
        "predictions = []\n",
        "for i in range(len(X_new)):\n",
        "    prediction = predict_stock_price_quantized(X_new[i])\n",
        "    predictions.append(prediction)"
      ]
    },
    {
      "cell_type": "code",
      "execution_count": null,
      "metadata": {
        "id": "XljLekuBS3uw"
      },
      "outputs": [],
      "source": [
        "predictions = np.asarray(predictions)\n",
        "predictions_reversed = inverse_min_max_scaling(predictions, x_min['Close'],x_max['Close'])"
      ]
    },
    {
      "cell_type": "code",
      "execution_count": null,
      "metadata": {
        "id": "6rkRd2suS6qd"
      },
      "outputs": [],
      "source": [
        "y_new = np.asarray(y_new)\n",
        "y_new_rev = inverse_min_max_scaling(y_new, x_min['Close'],x_max['Close'])"
      ]
    },
    {
      "cell_type": "code",
      "execution_count": null,
      "metadata": {
        "colab": {
          "base_uri": "https://localhost:8080/"
        },
        "id": "VSjac6WAS92R",
        "outputId": "85be49d8-b437-4a93-cdad-9a853ec7e52a"
      },
      "outputs": [
        {
          "name": "stdout",
          "output_type": "stream",
          "text": [
            "Date: 2023-05-02 09:30:00-04:00, Predicted Price: 174.18, Actual Price: 171.3300018310547\n",
            "Date: 2023-05-02 10:30:00-04:00, Predicted Price: 174.14, Actual Price: 171.9001007080078\n",
            "Date: 2023-05-02 11:30:00-04:00, Predicted Price: 174.09, Actual Price: 172.55999755859375\n",
            "Date: 2023-05-02 12:30:00-04:00, Predicted Price: 174.02, Actual Price: 171.8428955078125\n",
            "Date: 2023-05-02 13:30:00-04:00, Predicted Price: 173.97, Actual Price: 172.27000427246094\n",
            "Date: 2023-05-02 14:30:00-04:00, Predicted Price: 173.91, Actual Price: 172.17869567871094\n",
            "Date: 2023-05-02 15:30:00-04:00, Predicted Price: 173.85, Actual Price: 171.8470001220703\n",
            "Date: 2023-05-03 09:30:00-04:00, Predicted Price: 173.79, Actual Price: 171.81500244140625\n",
            "Date: 2023-05-03 10:30:00-04:00, Predicted Price: 173.72, Actual Price: 171.81219482421875\n",
            "Date: 2023-05-03 11:30:00-04:00, Predicted Price: 173.65, Actual Price: 172.1300048828125\n",
            "Date: 2023-05-03 12:30:00-04:00, Predicted Price: 173.58, Actual Price: 172.41000366210938\n",
            "Date: 2023-05-03 13:30:00-04:00, Predicted Price: 173.53, Actual Price: 172.30999755859375\n",
            "Date: 2023-05-03 14:30:00-04:00, Predicted Price: 173.49, Actual Price: 172.25\n",
            "Date: 2023-05-03 15:30:00-04:00, Predicted Price: 173.45, Actual Price: 172.16110229492188\n",
            "Date: 2023-05-04 09:30:00-04:00, Predicted Price: 173.41, Actual Price: 171.89999389648438\n",
            "Date: 2023-05-04 10:30:00-04:00, Predicted Price: 173.38, Actual Price: 172.6649932861328\n",
            "Date: 2023-05-04 11:30:00-04:00, Predicted Price: 173.34, Actual Price: 172.0800018310547\n",
            "Date: 2023-05-04 12:30:00-04:00, Predicted Price: 173.32, Actual Price: 171.02169799804688\n",
            "Date: 2023-05-04 13:30:00-04:00, Predicted Price: 173.30, Actual Price: 170.84669494628906\n",
            "Date: 2023-05-04 14:30:00-04:00, Predicted Price: 173.26, Actual Price: 171.13499450683594\n",
            "Date: 2023-05-04 15:30:00-04:00, Predicted Price: 173.21, Actual Price: 172.0399932861328\n",
            "Date: 2023-05-05 09:30:00-04:00, Predicted Price: 173.16, Actual Price: 172.4084930419922\n",
            "Date: 2023-05-05 10:30:00-04:00, Predicted Price: 173.13, Actual Price: 172.35000610351562\n",
            "Date: 2023-05-05 11:30:00-04:00, Predicted Price: 173.10, Actual Price: 172.64999389648438\n",
            "Date: 2023-05-05 12:30:00-04:00, Predicted Price: 173.09, Actual Price: 173.6699981689453\n",
            "Date: 2023-05-05 13:30:00-04:00, Predicted Price: 173.11, Actual Price: 174.66000366210938\n",
            "Date: 2023-05-05 14:30:00-04:00, Predicted Price: 173.17, Actual Price: 174.36000061035156\n",
            "Date: 2023-05-05 15:30:00-04:00, Predicted Price: 173.26, Actual Price: 174.27999877929688\n",
            "Date: 2023-05-08 09:30:00-04:00, Predicted Price: 173.37, Actual Price: 174.11000061035156\n",
            "Date: 2023-05-08 10:30:00-04:00, Predicted Price: 173.48, Actual Price: 174.5\n",
            "Date: 2023-05-08 11:30:00-04:00, Predicted Price: 173.61, Actual Price: 175.06619262695312\n",
            "Date: 2023-05-08 12:30:00-04:00, Predicted Price: 173.75, Actual Price: 175.8800048828125\n",
            "Date: 2023-05-08 13:30:00-04:00, Predicted Price: 173.93, Actual Price: 175.4759063720703\n",
            "Date: 2023-05-08 14:30:00-04:00, Predicted Price: 174.12, Actual Price: 175.44000244140625\n",
            "Date: 2023-05-08 15:30:00-04:00, Predicted Price: 174.32, Actual Price: 175.73500061035156\n",
            "Date: 2023-05-09 09:30:00-04:00, Predicted Price: 174.51, Actual Price: 175.23219299316406\n",
            "Date: 2023-05-09 10:30:00-04:00, Predicted Price: 174.69, Actual Price: 175.1300048828125\n",
            "Date: 2023-05-09 11:30:00-04:00, Predicted Price: 174.86, Actual Price: 175.19000244140625\n",
            "Date: 2023-05-09 12:30:00-04:00, Predicted Price: 175.02, Actual Price: 174.19200134277344\n",
            "Date: 2023-05-09 13:30:00-04:00, Predicted Price: 175.15, Actual Price: 174.48880004882812\n",
            "Date: 2023-05-09 14:30:00-04:00, Predicted Price: 175.25, Actual Price: 174.16000366210938\n",
            "Date: 2023-05-09 15:30:00-04:00, Predicted Price: 175.32, Actual Price: 174.22000122070312\n",
            "Date: 2023-05-10 09:30:00-04:00, Predicted Price: 175.38, Actual Price: 174.32000732421875\n",
            "Date: 2023-05-10 10:30:00-04:00, Predicted Price: 175.42, Actual Price: 174.22000122070312\n",
            "Date: 2023-05-10 11:30:00-04:00, Predicted Price: 175.44, Actual Price: 174.24000549316406\n",
            "Date: 2023-05-10 12:30:00-04:00, Predicted Price: 175.45, Actual Price: 172.85000610351562\n",
            "Date: 2023-05-10 13:30:00-04:00, Predicted Price: 175.44, Actual Price: 173.01499938964844\n",
            "Date: 2023-05-10 14:30:00-04:00, Predicted Price: 175.40, Actual Price: 172.60000610351562\n",
            "Date: 2023-05-10 15:30:00-04:00, Predicted Price: 175.35, Actual Price: 172.0749969482422\n",
            "Date: 2023-05-11 09:30:00-04:00, Predicted Price: 175.26, Actual Price: 171.65499877929688\n",
            "Date: 2023-05-11 10:30:00-04:00, Predicted Price: 175.15, Actual Price: 171.6195068359375\n",
            "Date: 2023-05-11 11:30:00-04:00, Predicted Price: 175.02, Actual Price: 171.5500030517578\n",
            "Date: 2023-05-11 12:30:00-04:00, Predicted Price: 174.89, Actual Price: 171.16000366210938\n",
            "Date: 2023-05-11 13:30:00-04:00, Predicted Price: 174.74, Actual Price: 171.3699951171875\n",
            "Date: 2023-05-11 14:30:00-04:00, Predicted Price: 174.58, Actual Price: 170.63499450683594\n",
            "Date: 2023-05-11 15:30:00-04:00, Predicted Price: 174.41, Actual Price: 171.1750030517578\n",
            "Date: 2023-05-12 09:30:00-04:00, Predicted Price: 174.23, Actual Price: 171.19000244140625\n",
            "Date: 2023-05-12 10:30:00-04:00, Predicted Price: 174.05, Actual Price: 172.10499572753906\n",
            "Date: 2023-05-12 11:30:00-04:00, Predicted Price: 173.88, Actual Price: 171.8300018310547\n",
            "Date: 2023-05-12 12:30:00-04:00, Predicted Price: 173.73, Actual Price: 171.92999267578125\n",
            "Date: 2023-05-12 13:30:00-04:00, Predicted Price: 173.62, Actual Price: 172.27000427246094\n",
            "Date: 2023-05-12 14:30:00-04:00, Predicted Price: 173.53, Actual Price: 173.60009765625\n",
            "Date: 2023-05-12 15:30:00-04:00, Predicted Price: 173.45, Actual Price: 173.1999969482422\n",
            "Date: 2023-05-15 09:30:00-04:00, Predicted Price: 173.41, Actual Price: 173.35000610351562\n",
            "Date: 2023-05-15 10:30:00-04:00, Predicted Price: 173.40, Actual Price: 173.63499450683594\n",
            "Date: 2023-05-15 11:30:00-04:00, Predicted Price: 173.41, Actual Price: 173.01499938964844\n",
            "Date: 2023-05-15 12:30:00-04:00, Predicted Price: 173.43, Actual Price: 175.34500122070312\n",
            "Date: 2023-05-15 13:30:00-04:00, Predicted Price: 173.48, Actual Price: 175.02999877929688\n",
            "Date: 2023-05-15 14:30:00-04:00, Predicted Price: 173.58, Actual Price: 175.30870056152344\n",
            "Date: 2023-05-15 15:30:00-04:00, Predicted Price: 173.71, Actual Price: 175.38499450683594\n",
            "Date: 2023-05-16 09:30:00-04:00, Predicted Price: 173.85, Actual Price: 175.01499938964844\n",
            "Date: 2023-05-16 10:30:00-04:00, Predicted Price: 174.01, Actual Price: 175.3800048828125\n",
            "Date: 2023-05-16 11:30:00-04:00, Predicted Price: 174.17, Actual Price: 175.3800048828125\n",
            "Date: 2023-05-16 12:30:00-04:00, Predicted Price: 174.34, Actual Price: 177.61109924316406\n",
            "Date: 2023-05-16 13:30:00-04:00, Predicted Price: 174.55, Actual Price: 177.24000549316406\n",
            "Date: 2023-05-16 14:30:00-04:00, Predicted Price: 174.79, Actual Price: 177.22219848632812\n",
            "Date: 2023-05-16 15:30:00-04:00, Predicted Price: 175.03, Actual Price: 177.14999389648438\n",
            "Date: 2023-05-17 09:30:00-04:00, Predicted Price: 175.28, Actual Price: 177.59010314941406\n",
            "Date: 2023-05-17 10:30:00-04:00, Predicted Price: 175.52, Actual Price: 177.52000427246094\n",
            "Date: 2023-05-17 11:30:00-04:00, Predicted Price: 175.76, Actual Price: 177.3300018310547\n",
            "Date: 2023-05-17 12:30:00-04:00, Predicted Price: 175.99, Actual Price: 177.89500427246094\n",
            "Date: 2023-05-17 13:30:00-04:00, Predicted Price: 176.23, Actual Price: 178.32000732421875\n",
            "Date: 2023-05-17 14:30:00-04:00, Predicted Price: 176.46, Actual Price: 178.74270629882812\n",
            "Date: 2023-05-17 15:30:00-04:00, Predicted Price: 176.70, Actual Price: 178.88999938964844\n",
            "Date: 2023-05-18 09:30:00-04:00, Predicted Price: 176.93, Actual Price: 179.16990661621094\n",
            "Date: 2023-05-18 10:30:00-04:00, Predicted Price: 177.16, Actual Price: 178.7178955078125\n",
            "Date: 2023-05-18 11:30:00-04:00, Predicted Price: 177.38, Actual Price: 177.4199981689453\n",
            "Date: 2023-05-18 12:30:00-04:00, Predicted Price: 177.58, Actual Price: 178.10000610351562\n",
            "Date: 2023-05-18 13:30:00-04:00, Predicted Price: 177.76, Actual Price: 179.47999572753906\n",
            "Date: 2023-05-18 14:30:00-04:00, Predicted Price: 177.94, Actual Price: 179.8000030517578\n",
            "Date: 2023-05-18 15:30:00-04:00, Predicted Price: 178.11, Actual Price: 179.61000061035156\n",
            "Date: 2023-05-19 09:30:00-04:00, Predicted Price: 178.30, Actual Price: 179.875\n",
            "Date: 2023-05-19 10:30:00-04:00, Predicted Price: 178.47, Actual Price: 179.77999877929688\n",
            "Date: 2023-05-19 11:30:00-04:00, Predicted Price: 178.65, Actual Price: 180.11000061035156\n",
            "Date: 2023-05-19 12:30:00-04:00, Predicted Price: 178.81, Actual Price: 179.72999572753906\n",
            "Date: 2023-05-19 13:30:00-04:00, Predicted Price: 178.99, Actual Price: 180.5\n",
            "Date: 2023-05-19 14:30:00-04:00, Predicted Price: 179.15, Actual Price: 180.6699981689453\n",
            "Date: 2023-05-19 15:30:00-04:00, Predicted Price: 179.32, Actual Price: 180.58999633789062\n",
            "Date: 2023-05-22 09:30:00-04:00, Predicted Price: 179.49, Actual Price: 180.45989990234375\n",
            "Date: 2023-05-22 10:30:00-04:00, Predicted Price: 179.65, Actual Price: 180.7550048828125\n",
            "Date: 2023-05-22 11:30:00-04:00, Predicted Price: 179.80, Actual Price: 180.9600067138672\n",
            "Date: 2023-05-22 12:30:00-04:00, Predicted Price: 179.94, Actual Price: 183.7100067138672\n",
            "Date: 2023-05-22 13:30:00-04:00, Predicted Price: 180.12, Actual Price: 184.22999572753906\n",
            "Date: 2023-05-22 14:30:00-04:00, Predicted Price: 180.33, Actual Price: 184.55039978027344\n",
            "Date: 2023-05-22 15:30:00-04:00, Predicted Price: 180.57, Actual Price: 184.11399841308594\n",
            "Date: 2023-05-23 09:30:00-04:00, Predicted Price: 180.82, Actual Price: 183.06829833984375\n",
            "Date: 2023-05-23 10:30:00-04:00, Predicted Price: 181.07, Actual Price: 179.52499389648438\n",
            "Date: 2023-05-23 11:30:00-04:00, Predicted Price: 181.27, Actual Price: 179.60000610351562\n",
            "Date: 2023-05-23 12:30:00-04:00, Predicted Price: 181.41, Actual Price: 178.94000244140625\n",
            "Date: 2023-05-23 13:30:00-04:00, Predicted Price: 181.51, Actual Price: 177.7899932861328\n",
            "Date: 2023-05-23 14:30:00-04:00, Predicted Price: 181.56, Actual Price: 178.69000244140625\n",
            "Date: 2023-05-23 15:30:00-04:00, Predicted Price: 181.56, Actual Price: 178.71499633789062\n",
            "Date: 2023-05-24 09:30:00-04:00, Predicted Price: 181.52, Actual Price: 179.32000732421875\n",
            "Date: 2023-05-24 10:30:00-04:00, Predicted Price: 181.45, Actual Price: 179.41000366210938\n",
            "Date: 2023-05-24 11:30:00-04:00, Predicted Price: 181.37, Actual Price: 179.16000366210938\n",
            "Date: 2023-05-24 12:30:00-04:00, Predicted Price: 181.28, Actual Price: 179.27999877929688\n",
            "Date: 2023-05-24 13:30:00-04:00, Predicted Price: 181.18, Actual Price: 178.97500610351562\n",
            "Date: 2023-05-24 14:30:00-04:00, Predicted Price: 181.08, Actual Price: 178.3699951171875\n",
            "Date: 2023-05-24 15:30:00-04:00, Predicted Price: 180.98, Actual Price: 177.69000244140625\n",
            "Date: 2023-05-25 09:30:00-04:00, Predicted Price: 180.86, Actual Price: 178.02999877929688\n",
            "Date: 2023-05-25 10:30:00-04:00, Predicted Price: 180.73, Actual Price: 178.06500244140625\n",
            "Date: 2023-05-25 11:30:00-04:00, Predicted Price: 180.59, Actual Price: 177.82000732421875\n",
            "Date: 2023-05-25 12:30:00-04:00, Predicted Price: 180.45, Actual Price: 178.47000122070312\n",
            "Date: 2023-05-25 13:30:00-04:00, Predicted Price: 180.32, Actual Price: 179.23910522460938\n",
            "Date: 2023-05-25 14:30:00-04:00, Predicted Price: 180.20, Actual Price: 179.9698944091797\n",
            "Date: 2023-05-25 15:30:00-04:00, Predicted Price: 180.11, Actual Price: 179.47000122070312\n",
            "Date: 2023-05-26 09:30:00-04:00, Predicted Price: 180.03, Actual Price: 179.94500732421875\n",
            "Date: 2023-05-26 10:30:00-04:00, Predicted Price: 179.97, Actual Price: 180.2550048828125\n",
            "Date: 2023-05-26 11:30:00-04:00, Predicted Price: 179.94, Actual Price: 180.5399932861328\n",
            "Date: 2023-05-26 12:30:00-04:00, Predicted Price: 179.94, Actual Price: 181.9199981689453\n",
            "Date: 2023-05-26 13:30:00-04:00, Predicted Price: 179.98, Actual Price: 181.22999572753906\n",
            "Date: 2023-05-26 14:30:00-04:00, Predicted Price: 180.05, Actual Price: 181.16000366210938\n",
            "Date: 2023-05-26 15:30:00-04:00, Predicted Price: 180.13, Actual Price: 181.66000366210938\n",
            "Date: 2023-05-30 09:30:00-04:00, Predicted Price: 180.22, Actual Price: 182.00990295410156\n",
            "Date: 2023-05-30 10:30:00-04:00, Predicted Price: 180.34, Actual Price: 181.49000549316406\n",
            "Date: 2023-05-30 11:30:00-04:00, Predicted Price: 180.45, Actual Price: 181.0399932861328\n",
            "Date: 2023-05-30 12:30:00-04:00, Predicted Price: 180.57, Actual Price: 181.60000610351562\n",
            "Date: 2023-05-30 13:30:00-04:00, Predicted Price: 180.69, Actual Price: 182.01499938964844\n",
            "Date: 2023-05-30 14:30:00-04:00, Predicted Price: 180.81, Actual Price: 182.27499389648438\n",
            "Date: 2023-05-30 15:30:00-04:00, Predicted Price: 180.94, Actual Price: 182.5399932861328\n",
            "Date: 2023-05-31 09:30:00-04:00, Predicted Price: 181.07, Actual Price: 182.7100067138672\n",
            "Date: 2023-05-31 10:30:00-04:00, Predicted Price: 181.21, Actual Price: 183.3090057373047\n",
            "Date: 2023-05-31 11:30:00-04:00, Predicted Price: 181.35, Actual Price: 183.83999633789062\n",
            "Date: 2023-05-31 12:30:00-04:00, Predicted Price: 181.50, Actual Price: 182.75999450683594\n",
            "Date: 2023-05-31 13:30:00-04:00, Predicted Price: 181.66, Actual Price: 183.39999389648438\n",
            "Date: 2023-05-31 14:30:00-04:00, Predicted Price: 181.81, Actual Price: 183.1699981689453\n",
            "Date: 2023-05-31 15:30:00-04:00, Predicted Price: 181.96, Actual Price: 183.0207977294922\n",
            "Date: 2023-06-01 09:30:00-04:00, Predicted Price: 182.10, Actual Price: 182.83999633789062\n",
            "Date: 2023-06-01 10:30:00-04:00, Predicted Price: 182.23, Actual Price: 182.97999572753906\n",
            "Date: 2023-06-01 11:30:00-04:00, Predicted Price: 182.35, Actual Price: 183.30999755859375\n",
            "Date: 2023-06-01 12:30:00-04:00, Predicted Price: 182.45, Actual Price: 184.22500610351562\n",
            "Date: 2023-06-01 13:30:00-04:00, Predicted Price: 182.56, Actual Price: 184.2100067138672\n",
            "Date: 2023-06-01 14:30:00-04:00, Predicted Price: 182.67, Actual Price: 184.11500549316406\n",
            "Date: 2023-06-01 15:30:00-04:00, Predicted Price: 182.78, Actual Price: 183.72999572753906\n",
            "Date: 2023-06-02 09:30:00-04:00, Predicted Price: 182.88, Actual Price: 182.64999389648438\n",
            "Date: 2023-06-02 10:30:00-04:00, Predicted Price: 182.97, Actual Price: 183.50999450683594\n",
            "Date: 2023-06-02 11:30:00-04:00, Predicted Price: 183.05, Actual Price: 183.9600067138672\n",
            "Date: 2023-06-02 12:30:00-04:00, Predicted Price: 183.12, Actual Price: 185.83999633789062\n",
            "Date: 2023-06-02 13:30:00-04:00, Predicted Price: 183.21, Actual Price: 185.83999633789062\n",
            "Date: 2023-06-02 14:30:00-04:00, Predicted Price: 183.31, Actual Price: 185.1999969482422\n",
            "Date: 2023-06-02 15:30:00-04:00, Predicted Price: 183.43, Actual Price: 185.08999633789062\n",
            "Date: 2023-06-05 09:30:00-04:00, Predicted Price: 183.54, Actual Price: 185.80499267578125\n",
            "Date: 2023-06-05 10:30:00-04:00, Predicted Price: 183.66, Actual Price: 186.17999267578125\n",
            "Date: 2023-06-05 11:30:00-04:00, Predicted Price: 183.80, Actual Price: 186.02000427246094\n",
            "Date: 2023-06-05 12:30:00-04:00, Predicted Price: 183.94, Actual Price: 185.908203125\n",
            "Date: 2023-06-05 13:30:00-04:00, Predicted Price: 184.09, Actual Price: 185.47999572753906\n",
            "Date: 2023-06-05 14:30:00-04:00, Predicted Price: 184.22, Actual Price: 185.7301025390625\n",
            "Date: 2023-06-05 15:30:00-04:00, Predicted Price: 184.35, Actual Price: 185.8000030517578\n",
            "Date: 2023-06-06 09:30:00-04:00, Predicted Price: 184.47, Actual Price: 185.30999755859375\n",
            "Date: 2023-06-06 10:30:00-04:00, Predicted Price: 184.58, Actual Price: 184.9149932861328\n",
            "Date: 2023-06-06 11:30:00-04:00, Predicted Price: 184.67, Actual Price: 185.02000427246094\n",
            "Date: 2023-06-06 12:30:00-04:00, Predicted Price: 184.75, Actual Price: 184.80999755859375\n",
            "Date: 2023-06-06 13:30:00-04:00, Predicted Price: 184.81, Actual Price: 185.0601043701172\n",
            "Date: 2023-06-06 14:30:00-04:00, Predicted Price: 184.86, Actual Price: 185.55499267578125\n",
            "Date: 2023-06-06 15:30:00-04:00, Predicted Price: 184.90, Actual Price: 185.92999267578125\n",
            "Date: 2023-06-07 09:30:00-04:00, Predicted Price: 184.94, Actual Price: 185.77000427246094\n",
            "Date: 2023-06-07 10:30:00-04:00, Predicted Price: 184.98, Actual Price: 185.33999633789062\n",
            "Date: 2023-06-07 11:30:00-04:00, Predicted Price: 185.01, Actual Price: 185.02000427246094\n",
            "Date: 2023-06-07 12:30:00-04:00, Predicted Price: 185.04, Actual Price: 184.1199951171875\n",
            "Date: 2023-06-07 13:30:00-04:00, Predicted Price: 185.06, Actual Price: 183.13999938964844\n",
            "Date: 2023-06-07 14:30:00-04:00, Predicted Price: 185.04, Actual Price: 184.06500244140625\n",
            "Date: 2023-06-07 15:30:00-04:00, Predicted Price: 185.01, Actual Price: 184.1300048828125\n",
            "Date: 2023-06-08 09:30:00-04:00, Predicted Price: 184.97, Actual Price: 185.10000610351562\n",
            "Date: 2023-06-08 10:30:00-04:00, Predicted Price: 184.93, Actual Price: 184.5050048828125\n",
            "Date: 2023-06-08 11:30:00-04:00, Predicted Price: 184.89, Actual Price: 183.9600067138672\n",
            "Date: 2023-06-08 12:30:00-04:00, Predicted Price: 184.85, Actual Price: 185.77000427246094\n",
            "Date: 2023-06-08 13:30:00-04:00, Predicted Price: 184.82, Actual Price: 186.25\n",
            "Date: 2023-06-08 14:30:00-04:00, Predicted Price: 184.80, Actual Price: 186.07000732421875\n",
            "Date: 2023-06-08 15:30:00-04:00, Predicted Price: 184.81, Actual Price: 185.75\n",
            "Date: 2023-06-09 09:30:00-04:00, Predicted Price: 184.83, Actual Price: 186.4250030517578\n",
            "Date: 2023-06-09 10:30:00-04:00, Predicted Price: 184.86, Actual Price: 186.4149932861328\n",
            "Date: 2023-06-09 11:30:00-04:00, Predicted Price: 184.90, Actual Price: 186.97000122070312\n",
            "Date: 2023-06-09 12:30:00-04:00, Predicted Price: 184.96, Actual Price: 185.8300018310547\n",
            "Date: 2023-06-09 13:30:00-04:00, Predicted Price: 185.02, Actual Price: 186.0800018310547\n",
            "Date: 2023-06-09 14:30:00-04:00, Predicted Price: 185.07, Actual Price: 186.94000244140625\n",
            "Date: 2023-06-09 15:30:00-04:00, Predicted Price: 185.13, Actual Price: 187.33700561523438\n",
            "Date: 2023-06-12 09:30:00-04:00, Predicted Price: 185.21, Actual Price: 187.24000549316406\n",
            "Date: 2023-06-12 10:30:00-04:00, Predicted Price: 185.29, Actual Price: 186.81500244140625\n",
            "Date: 2023-06-12 11:30:00-04:00, Predicted Price: 185.37, Actual Price: 186.69000244140625\n",
            "Date: 2023-06-12 12:30:00-04:00, Predicted Price: 185.46, Actual Price: 187.7498016357422\n",
            "Date: 2023-06-12 13:30:00-04:00, Predicted Price: 185.55, Actual Price: 186.52999877929688\n",
            "Date: 2023-06-12 14:30:00-04:00, Predicted Price: 185.63, Actual Price: 186.25\n",
            "Date: 2023-06-12 15:30:00-04:00, Predicted Price: 185.70, Actual Price: 185.98500061035156\n",
            "Date: 2023-06-13 09:30:00-04:00, Predicted Price: 185.76, Actual Price: 185.99000549316406\n",
            "Date: 2023-06-13 10:30:00-04:00, Predicted Price: 185.81, Actual Price: 186.0749969482422\n",
            "Date: 2023-06-13 11:30:00-04:00, Predicted Price: 185.85, Actual Price: 185.3000030517578\n",
            "Date: 2023-06-13 12:30:00-04:00, Predicted Price: 185.87, Actual Price: 186.85000610351562\n",
            "Date: 2023-06-13 13:30:00-04:00, Predicted Price: 185.90, Actual Price: 186.9499969482422\n",
            "Date: 2023-06-13 14:30:00-04:00, Predicted Price: 185.91, Actual Price: 187.47999572753906\n",
            "Date: 2023-06-13 15:30:00-04:00, Predicted Price: 185.94, Actual Price: 187.78500366210938\n",
            "Date: 2023-06-14 09:30:00-04:00, Predicted Price: 185.97, Actual Price: 188.19500732421875\n",
            "Date: 2023-06-14 10:30:00-04:00, Predicted Price: 186.02, Actual Price: 188.30499267578125\n",
            "Date: 2023-06-14 11:30:00-04:00, Predicted Price: 186.09, Actual Price: 188.0399932861328\n",
            "Date: 2023-06-14 12:30:00-04:00, Predicted Price: 186.16, Actual Price: 188.4199981689453\n",
            "Date: 2023-06-14 13:30:00-04:00, Predicted Price: 186.24, Actual Price: 189.01499938964844\n",
            "Date: 2023-06-14 14:30:00-04:00, Predicted Price: 186.32, Actual Price: 189.30499267578125\n",
            "Date: 2023-06-14 15:30:00-04:00, Predicted Price: 186.42, Actual Price: 189.07000732421875\n",
            "Date: 2023-06-15 09:30:00-04:00, Predicted Price: 186.51, Actual Price: 189.36500549316406\n",
            "Date: 2023-06-15 10:30:00-04:00, Predicted Price: 186.62, Actual Price: 189.02000427246094\n",
            "Date: 2023-06-15 11:30:00-04:00, Predicted Price: 186.72, Actual Price: 189.27999877929688\n",
            "Date: 2023-06-15 12:30:00-04:00, Predicted Price: 186.82, Actual Price: 189.47000122070312\n",
            "Date: 2023-06-15 13:30:00-04:00, Predicted Price: 186.94, Actual Price: 189.88999938964844\n",
            "Date: 2023-06-15 14:30:00-04:00, Predicted Price: 187.04, Actual Price: 189.6750030517578\n",
            "Date: 2023-06-15 15:30:00-04:00, Predicted Price: 187.15, Actual Price: 189.49000549316406\n",
            "Date: 2023-06-16 09:30:00-04:00, Predicted Price: 187.25, Actual Price: 189.65060424804688\n",
            "Date: 2023-06-16 10:30:00-04:00, Predicted Price: 187.34, Actual Price: 189.47760009765625\n",
            "Date: 2023-06-16 11:30:00-04:00, Predicted Price: 187.44, Actual Price: 189.58999633789062\n",
            "Date: 2023-06-16 12:30:00-04:00, Predicted Price: 187.53, Actual Price: 192.69000244140625\n",
            "Date: 2023-06-16 13:30:00-04:00, Predicted Price: 187.66, Actual Price: 192.38499450683594\n",
            "Date: 2023-06-16 14:30:00-04:00, Predicted Price: 187.79, Actual Price: 192.58999633789062\n",
            "Date: 2023-06-16 15:30:00-04:00, Predicted Price: 187.93, Actual Price: 192.9250030517578\n",
            "Date: 2023-06-20 09:30:00-04:00, Predicted Price: 188.09, Actual Price: 193.02499389648438\n",
            "Date: 2023-06-20 10:30:00-04:00, Predicted Price: 188.25, Actual Price: 193.49000549316406\n",
            "Date: 2023-06-20 11:30:00-04:00, Predicted Price: 188.42, Actual Price: 193.8000030517578\n",
            "Date: 2023-06-20 12:30:00-04:00, Predicted Price: 188.61, Actual Price: 192.9149932861328\n",
            "Date: 2023-06-20 13:30:00-04:00, Predicted Price: 188.78, Actual Price: 192.35499572753906\n",
            "Date: 2023-06-20 14:30:00-04:00, Predicted Price: 188.93, Actual Price: 192.11500549316406\n",
            "Date: 2023-06-20 15:30:00-04:00, Predicted Price: 189.07, Actual Price: 192.35000610351562\n",
            "Date: 2023-06-21 09:30:00-04:00, Predicted Price: 189.20, Actual Price: 191.43499755859375\n",
            "Date: 2023-06-21 10:30:00-04:00, Predicted Price: 189.31, Actual Price: 191.1416015625\n",
            "Date: 2023-06-21 11:30:00-04:00, Predicted Price: 189.39, Actual Price: 190.99000549316406\n",
            "Date: 2023-06-21 12:30:00-04:00, Predicted Price: 189.46, Actual Price: 190.9499969482422\n",
            "Date: 2023-06-21 13:30:00-04:00, Predicted Price: 189.51, Actual Price: 191.35499572753906\n",
            "Date: 2023-06-21 14:30:00-04:00, Predicted Price: 189.55, Actual Price: 191.32000732421875\n",
            "Date: 2023-06-21 15:30:00-04:00, Predicted Price: 189.58, Actual Price: 189.94000244140625\n",
            "Date: 2023-06-22 09:30:00-04:00, Predicted Price: 189.59, Actual Price: 190.1699981689453\n",
            "Date: 2023-06-22 10:30:00-04:00, Predicted Price: 189.56, Actual Price: 190.93499755859375\n",
            "Date: 2023-06-22 11:30:00-04:00, Predicted Price: 189.54, Actual Price: 191.11000061035156\n",
            "Date: 2023-06-22 12:30:00-04:00, Predicted Price: 189.52, Actual Price: 191.02999877929688\n",
            "Date: 2023-06-22 13:30:00-04:00, Predicted Price: 189.49, Actual Price: 191.63999938964844\n",
            "Date: 2023-06-22 14:30:00-04:00, Predicted Price: 189.47, Actual Price: 191.77999877929688\n",
            "Date: 2023-06-22 15:30:00-04:00, Predicted Price: 189.47, Actual Price: 190.6199951171875\n",
            "Date: 2023-06-23 09:30:00-04:00, Predicted Price: 189.46, Actual Price: 191.20950317382812\n",
            "Date: 2023-06-23 10:30:00-04:00, Predicted Price: 189.44, Actual Price: 192.12989807128906\n",
            "Date: 2023-06-23 11:30:00-04:00, Predicted Price: 189.43, Actual Price: 192.55999755859375\n",
            "Date: 2023-06-23 12:30:00-04:00, Predicted Price: 189.44, Actual Price: 192.39999389648438\n",
            "Date: 2023-06-23 13:30:00-04:00, Predicted Price: 189.45, Actual Price: 191.75\n",
            "Date: 2023-06-23 14:30:00-04:00, Predicted Price: 189.48, Actual Price: 190.7100067138672\n",
            "Date: 2023-06-23 15:30:00-04:00, Predicted Price: 189.49, Actual Price: 188.95989990234375\n",
            "Date: 2023-06-26 09:30:00-04:00, Predicted Price: 189.48, Actual Price: 187.86000061035156\n",
            "Date: 2023-06-26 10:30:00-04:00, Predicted Price: 189.42, Actual Price: 187.56199645996094\n",
            "Date: 2023-06-26 11:30:00-04:00, Predicted Price: 189.34, Actual Price: 188.08999633789062\n",
            "Date: 2023-06-26 12:30:00-04:00, Predicted Price: 189.24, Actual Price: 188.61500549316406\n",
            "Date: 2023-06-26 13:30:00-04:00, Predicted Price: 189.14, Actual Price: 188.3000030517578\n",
            "Date: 2023-06-26 14:30:00-04:00, Predicted Price: 189.03, Actual Price: 188.6300048828125\n",
            "Date: 2023-06-26 15:30:00-04:00, Predicted Price: 188.92, Actual Price: 188.11000061035156\n",
            "Date: 2023-06-27 09:30:00-04:00, Predicted Price: 188.81, Actual Price: 187.71499633789062\n",
            "Date: 2023-06-27 10:30:00-04:00, Predicted Price: 188.69, Actual Price: 187.61500549316406\n",
            "Date: 2023-06-27 11:30:00-04:00, Predicted Price: 188.57, Actual Price: 187.41000366210938\n",
            "Date: 2023-06-27 12:30:00-04:00, Predicted Price: 188.44, Actual Price: 186.88099670410156\n",
            "Date: 2023-06-27 13:30:00-04:00, Predicted Price: 188.31, Actual Price: 187.13720703125\n",
            "Date: 2023-06-27 14:30:00-04:00, Predicted Price: 188.18, Actual Price: 188.05050659179688\n",
            "Date: 2023-06-27 15:30:00-04:00, Predicted Price: 188.05, Actual Price: 190.35000610351562\n",
            "Date: 2023-06-28 09:30:00-04:00, Predicted Price: 187.99, Actual Price: 189.52999877929688\n",
            "Date: 2023-06-28 10:30:00-04:00, Predicted Price: 187.93, Actual Price: 189.15499877929688\n",
            "Date: 2023-06-28 11:30:00-04:00, Predicted Price: 187.87, Actual Price: 189.86000061035156\n",
            "Date: 2023-06-28 12:30:00-04:00, Predicted Price: 187.84, Actual Price: 190.33999633789062\n",
            "Date: 2023-06-28 13:30:00-04:00, Predicted Price: 187.83, Actual Price: 189.86000061035156\n",
            "Date: 2023-06-28 14:30:00-04:00, Predicted Price: 187.84, Actual Price: 189.80999755859375\n",
            "Date: 2023-06-28 15:30:00-04:00, Predicted Price: 187.86, Actual Price: 189.97999572753906\n",
            "Date: 2023-06-29 09:30:00-04:00, Predicted Price: 187.91, Actual Price: 190.1699981689453\n",
            "Date: 2023-06-29 10:30:00-04:00, Predicted Price: 187.95, Actual Price: 190.6750030517578\n",
            "Date: 2023-06-29 11:30:00-04:00, Predicted Price: 188.00, Actual Price: 190.6649932861328\n",
            "Date: 2023-06-29 12:30:00-04:00, Predicted Price: 188.06, Actual Price: 190.5800018310547\n",
            "Date: 2023-06-29 13:30:00-04:00, Predicted Price: 188.13, Actual Price: 190.89500427246094\n",
            "Date: 2023-06-29 14:30:00-04:00, Predicted Price: 188.20, Actual Price: 190.5399932861328\n",
            "Date: 2023-06-29 15:30:00-04:00, Predicted Price: 188.28, Actual Price: 190.85000610351562\n",
            "Date: 2023-06-30 09:30:00-04:00, Predicted Price: 188.36, Actual Price: 190.36000061035156\n",
            "Date: 2023-06-30 10:30:00-04:00, Predicted Price: 188.43, Actual Price: 189.9499969482422\n",
            "Date: 2023-06-30 11:30:00-04:00, Predicted Price: 188.48, Actual Price: 190.01499938964844\n",
            "Date: 2023-06-30 12:30:00-04:00, Predicted Price: 188.53, Actual Price: 190.19000244140625\n",
            "Date: 2023-06-30 13:30:00-04:00, Predicted Price: 188.57, Actual Price: 190.27499389648438\n",
            "Date: 2023-06-30 14:30:00-04:00, Predicted Price: 188.61, Actual Price: 190.72999572753906\n",
            "Date: 2023-06-30 15:30:00-04:00, Predicted Price: 188.64, Actual Price: 192.76499938964844\n",
            "Date: 2023-07-03 09:30:00-04:00, Predicted Price: 188.72, Actual Price: 193.0050048828125\n",
            "Date: 2023-07-03 10:30:00-04:00, Predicted Price: 188.79, Actual Price: 192.75\n",
            "Date: 2023-07-03 11:30:00-04:00, Predicted Price: 188.87, Actual Price: 193.0800018310547\n",
            "Date: 2023-07-05 09:30:00-04:00, Predicted Price: 188.96, Actual Price: 193.6649932861328\n",
            "Date: 2023-07-05 10:30:00-04:00, Predicted Price: 189.06, Actual Price: 194.14999389648438\n",
            "Date: 2023-07-05 11:30:00-04:00, Predicted Price: 189.18, Actual Price: 193.97999572753906\n",
            "Date: 2023-07-05 12:30:00-04:00, Predicted Price: 189.31, Actual Price: 192.98500061035156\n",
            "Date: 2023-07-05 13:30:00-04:00, Predicted Price: 189.43, Actual Price: 193.14500427246094\n",
            "Date: 2023-07-05 14:30:00-04:00, Predicted Price: 189.55, Actual Price: 192.7050018310547\n",
            "Date: 2023-07-05 15:30:00-04:00, Predicted Price: 189.66, Actual Price: 192.93499755859375\n",
            "Date: 2023-07-06 09:30:00-04:00, Predicted Price: 189.75, Actual Price: 193.75999450683594\n",
            "Date: 2023-07-06 10:30:00-04:00, Predicted Price: 189.84, Actual Price: 193.94000244140625\n",
            "Date: 2023-07-06 11:30:00-04:00, Predicted Price: 189.94, Actual Price: 193.72999572753906\n",
            "Date: 2023-07-06 12:30:00-04:00, Predicted Price: 190.04, Actual Price: 192.77999877929688\n",
            "Date: 2023-07-06 13:30:00-04:00, Predicted Price: 190.12, Actual Price: 193.13099670410156\n",
            "Date: 2023-07-06 14:30:00-04:00, Predicted Price: 190.19, Actual Price: 195.11000061035156\n",
            "Date: 2023-07-06 15:30:00-04:00, Predicted Price: 190.29, Actual Price: 194.33999633789062\n",
            "Date: 2023-07-07 09:30:00-04:00, Predicted Price: 190.36, Actual Price: 194.64500427246094\n",
            "Date: 2023-07-07 10:30:00-04:00, Predicted Price: 190.42, Actual Price: 195.3800048828125\n",
            "Date: 2023-07-07 11:30:00-04:00, Predicted Price: 190.49, Actual Price: 195.0850067138672\n",
            "Date: 2023-07-07 12:30:00-04:00, Predicted Price: 190.57, Actual Price: 194.9080047607422\n",
            "Date: 2023-07-07 13:30:00-04:00, Predicted Price: 190.67, Actual Price: 194.60000610351562\n",
            "Date: 2023-07-07 14:30:00-04:00, Predicted Price: 190.73, Actual Price: 194.6199951171875\n",
            "Date: 2023-07-07 15:30:00-04:00, Predicted Price: 190.81, Actual Price: 194.25999450683594\n",
            "Date: 2023-07-10 09:30:00-04:00, Predicted Price: 190.87, Actual Price: 193.19009399414062\n",
            "Date: 2023-07-10 10:30:00-04:00, Predicted Price: 190.91, Actual Price: 192.5449981689453\n",
            "Date: 2023-07-10 11:30:00-04:00, Predicted Price: 190.95, Actual Price: 193.13999938964844\n",
            "Date: 2023-07-10 12:30:00-04:00, Predicted Price: 190.98, Actual Price: 192.8699951171875\n",
            "Date: 2023-07-10 13:30:00-04:00, Predicted Price: 191.01, Actual Price: 193.59500122070312\n",
            "Date: 2023-07-10 14:30:00-04:00, Predicted Price: 191.01, Actual Price: 192.6082000732422\n",
            "Date: 2023-07-10 15:30:00-04:00, Predicted Price: 191.01, Actual Price: 192.6999969482422\n",
            "Date: 2023-07-11 09:30:00-04:00, Predicted Price: 190.98, Actual Price: 192.72500610351562\n",
            "Date: 2023-07-11 10:30:00-04:00, Predicted Price: 190.96, Actual Price: 192.39999389648438\n",
            "Date: 2023-07-11 11:30:00-04:00, Predicted Price: 190.93, Actual Price: 191.92999267578125\n",
            "Date: 2023-07-11 12:30:00-04:00, Predicted Price: 190.89, Actual Price: 193.72999572753906\n",
            "Date: 2023-07-11 13:30:00-04:00, Predicted Price: 190.88, Actual Price: 193.27000427246094\n",
            "Date: 2023-07-11 14:30:00-04:00, Predicted Price: 190.84, Actual Price: 193.1649932861328\n",
            "Date: 2023-07-11 15:30:00-04:00, Predicted Price: 190.82, Actual Price: 192.97999572753906\n",
            "Date: 2023-07-12 09:30:00-04:00, Predicted Price: 190.79, Actual Price: 193.2449951171875\n",
            "Date: 2023-07-12 10:30:00-04:00, Predicted Price: 190.77, Actual Price: 192.3699951171875\n",
            "Date: 2023-07-12 11:30:00-04:00, Predicted Price: 190.74, Actual Price: 192.73500061035156\n",
            "Date: 2023-07-12 12:30:00-04:00, Predicted Price: 190.72, Actual Price: 193.39500427246094\n",
            "Date: 2023-07-12 13:30:00-04:00, Predicted Price: 190.71, Actual Price: 193.82000732421875\n",
            "Date: 2023-07-12 14:30:00-04:00, Predicted Price: 190.70, Actual Price: 193.7646942138672\n",
            "Date: 2023-07-12 15:30:00-04:00, Predicted Price: 190.70, Actual Price: 194.1999969482422\n",
            "Date: 2023-07-13 09:30:00-04:00, Predicted Price: 190.70, Actual Price: 194.12120056152344\n",
            "Date: 2023-07-13 10:30:00-04:00, Predicted Price: 190.72, Actual Price: 194.27499389648438\n",
            "Date: 2023-07-13 11:30:00-04:00, Predicted Price: 190.74, Actual Price: 193.6300048828125\n",
            "Date: 2023-07-13 12:30:00-04:00, Predicted Price: 190.77, Actual Price: 193.97999572753906\n",
            "Date: 2023-07-13 13:30:00-04:00, Predicted Price: 190.80, Actual Price: 194.24000549316406\n",
            "Date: 2023-07-13 14:30:00-04:00, Predicted Price: 190.83, Actual Price: 194.50999450683594\n",
            "Date: 2023-07-13 15:30:00-04:00, Predicted Price: 190.86, Actual Price: 194.36000061035156\n",
            "Date: 2023-07-14 09:30:00-04:00, Predicted Price: 190.90, Actual Price: 194.27000427246094\n",
            "Date: 2023-07-14 10:30:00-04:00, Predicted Price: 190.93, Actual Price: 194.21499633789062\n",
            "Date: 2023-07-14 11:30:00-04:00, Predicted Price: 190.98, Actual Price: 194.52000427246094\n",
            "Date: 2023-07-14 12:30:00-04:00, Predicted Price: 191.01, Actual Price: 195.97000122070312\n",
            "Date: 2023-07-14 13:30:00-04:00, Predicted Price: 191.07, Actual Price: 196.13999938964844\n",
            "Date: 2023-07-14 14:30:00-04:00, Predicted Price: 191.13, Actual Price: 196.30499267578125\n",
            "Date: 2023-07-14 15:30:00-04:00, Predicted Price: 191.19, Actual Price: 195.00999450683594\n",
            "Date: 2023-07-17 09:30:00-04:00, Predicted Price: 191.26, Actual Price: 193.72999572753906\n",
            "Date: 2023-07-17 10:30:00-04:00, Predicted Price: 191.30, Actual Price: 193.00999450683594\n",
            "Date: 2023-07-17 11:30:00-04:00, Predicted Price: 191.34, Actual Price: 193.22999572753906\n",
            "Date: 2023-07-17 12:30:00-04:00, Predicted Price: 191.35, Actual Price: 195.6199951171875\n",
            "Date: 2023-07-17 13:30:00-04:00, Predicted Price: 191.38, Actual Price: 196.1999969482422\n",
            "Date: 2023-07-17 14:30:00-04:00, Predicted Price: 191.41, Actual Price: 196.4210968017578\n",
            "Date: 2023-07-17 15:30:00-04:00, Predicted Price: 191.45, Actual Price: 195.58999633789062\n",
            "Date: 2023-07-18 09:30:00-04:00, Predicted Price: 191.49, Actual Price: 196.09019470214844\n",
            "Date: 2023-07-18 10:30:00-04:00, Predicted Price: 191.53, Actual Price: 195.76499938964844\n",
            "Date: 2023-07-18 11:30:00-04:00, Predicted Price: 191.57, Actual Price: 195.83999633789062\n",
            "Date: 2023-07-18 12:30:00-04:00, Predicted Price: 191.62, Actual Price: 196.24000549316406\n",
            "Date: 2023-07-18 13:30:00-04:00, Predicted Price: 191.67, Actual Price: 196.1750030517578\n",
            "Date: 2023-07-18 14:30:00-04:00, Predicted Price: 191.71, Actual Price: 196.1544952392578\n",
            "Date: 2023-07-18 15:30:00-04:00, Predicted Price: 191.76, Actual Price: 196.12989807128906\n",
            "Date: 2023-07-19 09:30:00-04:00, Predicted Price: 191.81, Actual Price: 196.16000366210938\n",
            "Date: 2023-07-19 10:30:00-04:00, Predicted Price: 191.86, Actual Price: 196.0876007080078\n",
            "Date: 2023-07-19 11:30:00-04:00, Predicted Price: 191.91, Actual Price: 196.49000549316406\n",
            "Date: 2023-07-19 12:30:00-04:00, Predicted Price: 191.96, Actual Price: 195.47500610351562\n",
            "Date: 2023-07-19 13:30:00-04:00, Predicted Price: 192.00, Actual Price: 196.11500549316406\n",
            "Date: 2023-07-19 14:30:00-04:00, Predicted Price: 192.03, Actual Price: 195.49729919433594\n",
            "Date: 2023-07-19 15:30:00-04:00, Predicted Price: 192.06, Actual Price: 195.72950744628906\n",
            "Date: 2023-07-20 09:30:00-04:00, Predicted Price: 192.08, Actual Price: 196.0532989501953\n",
            "Date: 2023-07-20 10:30:00-04:00, Predicted Price: 192.10, Actual Price: 195.80999755859375\n",
            "Date: 2023-07-20 11:30:00-04:00, Predicted Price: 192.12, Actual Price: 195.60000610351562\n",
            "Date: 2023-07-20 12:30:00-04:00, Predicted Price: 192.14, Actual Price: 193.2781982421875\n",
            "Date: 2023-07-20 13:30:00-04:00, Predicted Price: 192.13, Actual Price: 193.00999450683594\n",
            "Date: 2023-07-20 14:30:00-04:00, Predicted Price: 192.09, Actual Price: 191.92999267578125\n",
            "Date: 2023-07-20 15:30:00-04:00, Predicted Price: 192.03, Actual Price: 192.99000549316406\n",
            "Date: 2023-07-21 09:30:00-04:00, Predicted Price: 191.95, Actual Price: 192.97000122070312\n",
            "Date: 2023-07-21 10:30:00-04:00, Predicted Price: 191.87, Actual Price: 192.3000030517578\n",
            "Date: 2023-07-21 11:30:00-04:00, Predicted Price: 191.78, Actual Price: 192.58999633789062\n",
            "MAPE: 1.14, SMAPE: 1.14, RMSE: 2.47\n"
          ]
        }
      ],
      "source": [
        "for i in range(len(predictions_reversed)):\n",
        "    date = data.index[i]\n",
        "    predicted_price = predictions_reversed[i]\n",
        "    print(f\"Date: {date}, Predicted Price: {predicted_price:.2f}, Actual Price: {y_new_rev[i]}\")\n",
        "\n",
        "mape = calculate_mape(y_new_rev, predictions_reversed)\n",
        "smape = calculate_smape(y_new_rev, predictions_reversed)\n",
        "rmse = calculate_rmse(y_new_rev, predictions_reversed)\n",
        "\n",
        "\n",
        "print(f'MAPE: {mape:.2f}, SMAPE: {smape:.2f}, RMSE: {rmse:.2f}')"
      ]
    },
    {
      "cell_type": "markdown",
      "metadata": {
        "id": "ZThFOUuwdGpX"
      },
      "source": [
        "## Comparison between Models"
      ]
    },
    {
      "cell_type": "markdown",
      "metadata": {
        "id": "yItRds2Vw0zQ"
      },
      "source": [
        "### Requirements"
      ]
    },
    {
      "cell_type": "code",
      "execution_count": null,
      "metadata": {
        "colab": {
          "base_uri": "https://localhost:8080/"
        },
        "id": "fl6nYUwpsaaw",
        "outputId": "4ac9e4ab-0939-43e1-8fc5-045f0879716c"
      },
      "outputs": [
        {
          "name": "stdout",
          "output_type": "stream",
          "text": [
            "/content/drive/MyDrive/stock prediction\n"
          ]
        }
      ],
      "source": [
        "%cd /content/drive/MyDrive/stock prediction"
      ]
    },
    {
      "cell_type": "code",
      "execution_count": null,
      "metadata": {
        "id": "nXqrxCJ8nqcf"
      },
      "outputs": [],
      "source": [
        "import tensorflow as tf\n",
        "import tensorflow.lite as tflite\n",
        "import tensorflow_model_optimization as tfmot\n",
        "import os\n",
        "import psutil\n",
        "import time"
      ]
    },
    {
      "cell_type": "markdown",
      "metadata": {
        "id": "1Iy_UFCEnQXH"
      },
      "source": [
        "### load plain model"
      ]
    },
    {
      "cell_type": "code",
      "execution_count": null,
      "metadata": {
        "id": "lgR9vTthxZVh"
      },
      "outputs": [],
      "source": [
        "def predict_stock_price(X_new):\n",
        "    X_new = X_new.reshape(1, X_new.shape[0], X_new.shape[1])\n",
        "    predicted_price = plain_model.predict(X_new)\n",
        "    return predicted_price[0][0]"
      ]
    },
    {
      "cell_type": "code",
      "execution_count": null,
      "metadata": {
        "colab": {
          "base_uri": "https://localhost:8080/"
        },
        "id": "sxuCqgiAdNtO",
        "outputId": "35f98e50-4b22-45af-da77-15fea1128d7e"
      },
      "outputs": [
        {
          "name": "stdout",
          "output_type": "stream",
          "text": [
            "Model: \"sequential\"\n",
            "_________________________________________________________________\n",
            " Layer (type)                Output Shape              Param #   \n",
            "=================================================================\n",
            " lstm (LSTM)                 (None, 60, 60)            15840     \n",
            "                                                                 \n",
            " lstm_1 (LSTM)               (None, 50)                22200     \n",
            "                                                                 \n",
            " dense (Dense)               (None, 1)                 51        \n",
            "                                                                 \n",
            "=================================================================\n",
            "Total params: 38,091\n",
            "Trainable params: 38,091\n",
            "Non-trainable params: 0\n",
            "_________________________________________________________________\n"
          ]
        }
      ],
      "source": [
        "model_path = 'apple_model.h5'\n",
        "plain_model = tf.keras.models.load_model(model_path)\n",
        "plain_model.summary()"
      ]
    },
    {
      "cell_type": "markdown",
      "metadata": {
        "id": "D5ItuDsTnc81"
      },
      "source": [
        "### load Lite model model"
      ]
    },
    {
      "cell_type": "code",
      "execution_count": null,
      "metadata": {
        "id": "71hPB1gmxbHp"
      },
      "outputs": [],
      "source": [
        "def predict_stock_price_quantized(X_new):\n",
        "    X_new = X_new.reshape(1, X_new.shape[0], X_new.shape[1])\n",
        "    X_new = X_new.astype(np.float32)\n",
        "    interpreter.set_tensor(input_details[0]['index'], X_new)\n",
        "    interpreter.invoke()\n",
        "    output_data = interpreter.get_tensor(output_details[0]['index'])\n",
        "\n",
        "    return output_data[0][0]"
      ]
    },
    {
      "cell_type": "code",
      "execution_count": null,
      "metadata": {
        "id": "wH1FegGznJXx"
      },
      "outputs": [],
      "source": [
        "model_path = 'apple_quantized_model.tflite'\n",
        "interpreter = tf.lite.Interpreter(model_path=model_path)\n",
        "interpreter.allocate_tensors()"
      ]
    },
    {
      "cell_type": "code",
      "execution_count": null,
      "metadata": {
        "id": "3k8tO1LVnhQF"
      },
      "outputs": [],
      "source": [
        "input_details = interpreter.get_input_details()\n",
        "output_details = interpreter.get_output_details()"
      ]
    },
    {
      "cell_type": "code",
      "execution_count": null,
      "metadata": {
        "colab": {
          "base_uri": "https://localhost:8080/"
        },
        "id": "IOaIxgCOntAl",
        "outputId": "ca5c4b6c-89a4-478d-b147-c9414bf649bc"
      },
      "outputs": [
        {
          "data": {
            "text/plain": [
              "[{'name': 'serving_default_quantize_annotate_2_input:0',\n",
              "  'index': 0,\n",
              "  'shape': array([ 1, 60,  5], dtype=int32),\n",
              "  'shape_signature': array([-1, 60,  5], dtype=int32),\n",
              "  'dtype': numpy.float32,\n",
              "  'quantization': (0.0, 0),\n",
              "  'quantization_parameters': {'scales': array([], dtype=float32),\n",
              "   'zero_points': array([], dtype=int32),\n",
              "   'quantized_dimension': 0},\n",
              "  'sparsity_parameters': {}}]"
            ]
          },
          "execution_count": 35,
          "metadata": {},
          "output_type": "execute_result"
        }
      ],
      "source": [
        "input_details"
      ]
    },
    {
      "cell_type": "code",
      "execution_count": null,
      "metadata": {
        "colab": {
          "base_uri": "https://localhost:8080/"
        },
        "id": "Y4A3mPRdny51",
        "outputId": "7ffbe716-17ca-4495-b13e-877e4cfc785e"
      },
      "outputs": [
        {
          "data": {
            "text/plain": [
              "[{'name': 'StatefulPartitionedCall:0',\n",
              "  'index': 48,\n",
              "  'shape': array([1, 1], dtype=int32),\n",
              "  'shape_signature': array([-1,  1], dtype=int32),\n",
              "  'dtype': numpy.float32,\n",
              "  'quantization': (0.0, 0),\n",
              "  'quantization_parameters': {'scales': array([], dtype=float32),\n",
              "   'zero_points': array([], dtype=int32),\n",
              "   'quantized_dimension': 0},\n",
              "  'sparsity_parameters': {}}]"
            ]
          },
          "execution_count": 36,
          "metadata": {},
          "output_type": "execute_result"
        }
      ],
      "source": [
        "output_details"
      ]
    },
    {
      "cell_type": "markdown",
      "metadata": {
        "id": "1WmqQ-_tnX4T"
      },
      "source": [
        "### Number of Trainable Parameters"
      ]
    },
    {
      "cell_type": "code",
      "execution_count": null,
      "metadata": {
        "colab": {
          "base_uri": "https://localhost:8080/"
        },
        "id": "gH-1QdVPpIv6",
        "outputId": "6f9d3a83-15c6-4647-cd80-7810db5eb25d"
      },
      "outputs": [
        {
          "data": {
            "text/plain": [
              "[{'name': 'serving_default_quantize_annotate_2_input:0',\n",
              "  'index': 0,\n",
              "  'shape': array([ 1, 60,  5], dtype=int32),\n",
              "  'shape_signature': array([-1, 60,  5], dtype=int32),\n",
              "  'dtype': numpy.float32,\n",
              "  'quantization': (0.0, 0),\n",
              "  'quantization_parameters': {'scales': array([], dtype=float32),\n",
              "   'zero_points': array([], dtype=int32),\n",
              "   'quantized_dimension': 0},\n",
              "  'sparsity_parameters': {}},\n",
              " {'name': 'strided_slice_2',\n",
              "  'index': 1,\n",
              "  'shape': array([3], dtype=int32),\n",
              "  'shape_signature': array([3], dtype=int32),\n",
              "  'dtype': numpy.int32,\n",
              "  'quantization': (0.0, 0),\n",
              "  'quantization_parameters': {'scales': array([], dtype=float32),\n",
              "   'zero_points': array([], dtype=int32),\n",
              "   'quantized_dimension': 0},\n",
              "  'sparsity_parameters': {}},\n",
              " {'name': 'strided_slice_21',\n",
              "  'index': 2,\n",
              "  'shape': array([3], dtype=int32),\n",
              "  'shape_signature': array([3], dtype=int32),\n",
              "  'dtype': numpy.int32,\n",
              "  'quantization': (0.0, 0),\n",
              "  'quantization_parameters': {'scales': array([], dtype=float32),\n",
              "   'zero_points': array([], dtype=int32),\n",
              "   'quantized_dimension': 0},\n",
              "  'sparsity_parameters': {}},\n",
              " {'name': 'strided_slice_22',\n",
              "  'index': 3,\n",
              "  'shape': array([3], dtype=int32),\n",
              "  'shape_signature': array([3], dtype=int32),\n",
              "  'dtype': numpy.int32,\n",
              "  'quantization': (0.0, 0),\n",
              "  'quantization_parameters': {'scales': array([], dtype=float32),\n",
              "   'zero_points': array([], dtype=int32),\n",
              "   'quantized_dimension': 0},\n",
              "  'sparsity_parameters': {}},\n",
              " {'name': 'TensorArrayV2_1/num_elements',\n",
              "  'index': 4,\n",
              "  'shape': array([], dtype=int32),\n",
              "  'shape_signature': array([], dtype=int32),\n",
              "  'dtype': numpy.int32,\n",
              "  'quantization': (0.0, 0),\n",
              "  'quantization_parameters': {'scales': array([], dtype=float32),\n",
              "   'zero_points': array([], dtype=int32),\n",
              "   'quantized_dimension': 0},\n",
              "  'sparsity_parameters': {}},\n",
              " {'name': 'TensorArrayV2Stack/TensorListStack/element_shape',\n",
              "  'index': 5,\n",
              "  'shape': array([2], dtype=int32),\n",
              "  'shape_signature': array([2], dtype=int32),\n",
              "  'dtype': numpy.int32,\n",
              "  'quantization': (0.0, 0),\n",
              "  'quantization_parameters': {'scales': array([], dtype=float32),\n",
              "   'zero_points': array([], dtype=int32),\n",
              "   'quantized_dimension': 0},\n",
              "  'sparsity_parameters': {}},\n",
              " {'name': 'TensorArrayV2Stack/TensorListStack/element_shape1',\n",
              "  'index': 6,\n",
              "  'shape': array([2], dtype=int32),\n",
              "  'shape_signature': array([2], dtype=int32),\n",
              "  'dtype': numpy.int32,\n",
              "  'quantization': (0.0, 0),\n",
              "  'quantization_parameters': {'scales': array([], dtype=float32),\n",
              "   'zero_points': array([], dtype=int32),\n",
              "   'quantized_dimension': 0},\n",
              "  'sparsity_parameters': {}},\n",
              " {'name': 'time',\n",
              "  'index': 7,\n",
              "  'shape': array([], dtype=int32),\n",
              "  'shape_signature': array([], dtype=int32),\n",
              "  'dtype': numpy.int32,\n",
              "  'quantization': (0.0, 0),\n",
              "  'quantization_parameters': {'scales': array([], dtype=float32),\n",
              "   'zero_points': array([], dtype=int32),\n",
              "   'quantized_dimension': 0},\n",
              "  'sparsity_parameters': {}},\n",
              " {'name': 'transpose/perm',\n",
              "  'index': 8,\n",
              "  'shape': array([3], dtype=int32),\n",
              "  'shape_signature': array([3], dtype=int32),\n",
              "  'dtype': numpy.int32,\n",
              "  'quantization': (0.0, 0),\n",
              "  'quantization_parameters': {'scales': array([], dtype=float32),\n",
              "   'zero_points': array([], dtype=int32),\n",
              "   'quantized_dimension': 0},\n",
              "  'sparsity_parameters': {}},\n",
              " {'name': 'sequential_1/quantize_annotate_3/Read_2/ReadVariableOp',\n",
              "  'index': 9,\n",
              "  'shape': array([200], dtype=int32),\n",
              "  'shape_signature': array([200], dtype=int32),\n",
              "  'dtype': numpy.float32,\n",
              "  'quantization': (0.0, 0),\n",
              "  'quantization_parameters': {'scales': array([], dtype=float32),\n",
              "   'zero_points': array([], dtype=int32),\n",
              "   'quantized_dimension': 0},\n",
              "  'sparsity_parameters': {}},\n",
              " {'name': 'sequential_1/quantize_annotate_2/Read_2/ReadVariableOp',\n",
              "  'index': 10,\n",
              "  'shape': array([240], dtype=int32),\n",
              "  'shape_signature': array([240], dtype=int32),\n",
              "  'dtype': numpy.float32,\n",
              "  'quantization': (0.0, 0),\n",
              "  'quantization_parameters': {'scales': array([], dtype=float32),\n",
              "   'zero_points': array([], dtype=int32),\n",
              "   'quantized_dimension': 0},\n",
              "  'sparsity_parameters': {}},\n",
              " {'name': 'sequential_1/dense/BiasAdd/ReadVariableOp',\n",
              "  'index': 11,\n",
              "  'shape': array([1], dtype=int32),\n",
              "  'shape_signature': array([1], dtype=int32),\n",
              "  'dtype': numpy.float32,\n",
              "  'quantization': (0.0, 0),\n",
              "  'quantization_parameters': {'scales': array([], dtype=float32),\n",
              "   'zero_points': array([], dtype=int32),\n",
              "   'quantized_dimension': 0},\n",
              "  'sparsity_parameters': {}},\n",
              " {'name': 'sequential_1/quantize_annotate_3/zeros/packed/1',\n",
              "  'index': 12,\n",
              "  'shape': array([], dtype=int32),\n",
              "  'shape_signature': array([], dtype=int32),\n",
              "  'dtype': numpy.int32,\n",
              "  'quantization': (0.0, 0),\n",
              "  'quantization_parameters': {'scales': array([], dtype=float32),\n",
              "   'zero_points': array([], dtype=int32),\n",
              "   'quantized_dimension': 0},\n",
              "  'sparsity_parameters': {}},\n",
              " {'name': 'sequential_1/quantize_annotate_2/zeros/packed/1',\n",
              "  'index': 13,\n",
              "  'shape': array([], dtype=int32),\n",
              "  'shape_signature': array([], dtype=int32),\n",
              "  'dtype': numpy.int32,\n",
              "  'quantization': (0.0, 0),\n",
              "  'quantization_parameters': {'scales': array([], dtype=float32),\n",
              "   'zero_points': array([], dtype=int32),\n",
              "   'quantized_dimension': 0},\n",
              "  'sparsity_parameters': {}},\n",
              " {'name': 'sequential_1/quantize_annotate_2/zeros/Const',\n",
              "  'index': 14,\n",
              "  'shape': array([], dtype=int32),\n",
              "  'shape_signature': array([], dtype=int32),\n",
              "  'dtype': numpy.float32,\n",
              "  'quantization': (0.0, 0),\n",
              "  'quantization_parameters': {'scales': array([], dtype=float32),\n",
              "   'zero_points': array([], dtype=int32),\n",
              "   'quantized_dimension': 0},\n",
              "  'sparsity_parameters': {}},\n",
              " {'name': 'sequential_1/quantize_annotate_2/strided_slice/stack_1',\n",
              "  'index': 15,\n",
              "  'shape': array([1], dtype=int32),\n",
              "  'shape_signature': array([1], dtype=int32),\n",
              "  'dtype': numpy.int32,\n",
              "  'quantization': (0.0, 0),\n",
              "  'quantization_parameters': {'scales': array([], dtype=float32),\n",
              "   'zero_points': array([], dtype=int32),\n",
              "   'quantized_dimension': 0},\n",
              "  'sparsity_parameters': {}},\n",
              " {'name': 'sequential_1/quantize_annotate_2/strided_slice/stack',\n",
              "  'index': 16,\n",
              "  'shape': array([1], dtype=int32),\n",
              "  'shape_signature': array([1], dtype=int32),\n",
              "  'dtype': numpy.int32,\n",
              "  'quantization': (0.0, 0),\n",
              "  'quantization_parameters': {'scales': array([], dtype=float32),\n",
              "   'zero_points': array([], dtype=int32),\n",
              "   'quantized_dimension': 0},\n",
              "  'sparsity_parameters': {}},\n",
              " {'name': 'sequential_1/dense/MatMul',\n",
              "  'index': 17,\n",
              "  'shape': array([ 1, 50], dtype=int32),\n",
              "  'shape_signature': array([ 1, 50], dtype=int32),\n",
              "  'dtype': numpy.float32,\n",
              "  'quantization': (0.0, 0),\n",
              "  'quantization_parameters': {'scales': array([], dtype=float32),\n",
              "   'zero_points': array([], dtype=int32),\n",
              "   'quantized_dimension': 0},\n",
              "  'sparsity_parameters': {}},\n",
              " {'name': 'sequential_1/quantize_annotate_2/Shape',\n",
              "  'index': 18,\n",
              "  'shape': array([3], dtype=int32),\n",
              "  'shape_signature': array([3], dtype=int32),\n",
              "  'dtype': numpy.int32,\n",
              "  'quantization': (0.0, 0),\n",
              "  'quantization_parameters': {'scales': array([], dtype=float32),\n",
              "   'zero_points': array([], dtype=int32),\n",
              "   'quantized_dimension': 0},\n",
              "  'sparsity_parameters': {}},\n",
              " {'name': 'sequential_1/quantize_annotate_2/strided_slice',\n",
              "  'index': 19,\n",
              "  'shape': array([], dtype=int32),\n",
              "  'shape_signature': array([], dtype=int32),\n",
              "  'dtype': numpy.int32,\n",
              "  'quantization': (0.0, 0),\n",
              "  'quantization_parameters': {'scales': array([], dtype=float32),\n",
              "   'zero_points': array([], dtype=int32),\n",
              "   'quantized_dimension': 0},\n",
              "  'sparsity_parameters': {}},\n",
              " {'name': 'sequential_1/quantize_annotate_2/zeros/packed',\n",
              "  'index': 20,\n",
              "  'shape': array([2], dtype=int32),\n",
              "  'shape_signature': array([2], dtype=int32),\n",
              "  'dtype': numpy.int32,\n",
              "  'quantization': (0.0, 0),\n",
              "  'quantization_parameters': {'scales': array([], dtype=float32),\n",
              "   'zero_points': array([], dtype=int32),\n",
              "   'quantized_dimension': 0},\n",
              "  'sparsity_parameters': {}},\n",
              " {'name': 'sequential_1/quantize_annotate_2/zeros',\n",
              "  'index': 21,\n",
              "  'shape': array([ 1, 60], dtype=int32),\n",
              "  'shape_signature': array([-1, 60], dtype=int32),\n",
              "  'dtype': numpy.float32,\n",
              "  'quantization': (0.0, 0),\n",
              "  'quantization_parameters': {'scales': array([], dtype=float32),\n",
              "   'zero_points': array([], dtype=int32),\n",
              "   'quantized_dimension': 0},\n",
              "  'sparsity_parameters': {}},\n",
              " {'name': 'transpose',\n",
              "  'index': 22,\n",
              "  'shape': array([60,  1,  5], dtype=int32),\n",
              "  'shape_signature': array([60, -1,  5], dtype=int32),\n",
              "  'dtype': numpy.float32,\n",
              "  'quantization': (0.0, 0),\n",
              "  'quantization_parameters': {'scales': array([], dtype=float32),\n",
              "   'zero_points': array([], dtype=int32),\n",
              "   'quantized_dimension': 0},\n",
              "  'sparsity_parameters': {}},\n",
              " {'name': 'TensorArrayV2_1',\n",
              "  'index': 23,\n",
              "  'shape': array([], dtype=int32),\n",
              "  'shape_signature': array([], dtype=int32),\n",
              "  'dtype': numpy.object_,\n",
              "  'quantization': (0.0, 0),\n",
              "  'quantization_parameters': {'scales': array([], dtype=float32),\n",
              "   'zero_points': array([], dtype=int32),\n",
              "   'quantized_dimension': 0},\n",
              "  'sparsity_parameters': {}},\n",
              " {'name': 'while',\n",
              "  'index': 24,\n",
              "  'shape': array([], dtype=int32),\n",
              "  'shape_signature': array([], dtype=int32),\n",
              "  'dtype': numpy.int32,\n",
              "  'quantization': (0.0, 0),\n",
              "  'quantization_parameters': {'scales': array([], dtype=float32),\n",
              "   'zero_points': array([], dtype=int32),\n",
              "   'quantized_dimension': 0},\n",
              "  'sparsity_parameters': {}},\n",
              " {'name': 'while1',\n",
              "  'index': 25,\n",
              "  'shape': array([], dtype=int32),\n",
              "  'shape_signature': array([], dtype=int32),\n",
              "  'dtype': numpy.int32,\n",
              "  'quantization': (0.0, 0),\n",
              "  'quantization_parameters': {'scales': array([], dtype=float32),\n",
              "   'zero_points': array([], dtype=int32),\n",
              "   'quantized_dimension': 0},\n",
              "  'sparsity_parameters': {}},\n",
              " {'name': 'while2',\n",
              "  'index': 26,\n",
              "  'shape': array([], dtype=int32),\n",
              "  'shape_signature': array([], dtype=int32),\n",
              "  'dtype': numpy.object_,\n",
              "  'quantization': (0.0, 0),\n",
              "  'quantization_parameters': {'scales': array([], dtype=float32),\n",
              "   'zero_points': array([], dtype=int32),\n",
              "   'quantized_dimension': 0},\n",
              "  'sparsity_parameters': {}},\n",
              " {'name': 'while3',\n",
              "  'index': 27,\n",
              "  'shape': array([ 1, 60], dtype=int32),\n",
              "  'shape_signature': array([-1, 60], dtype=int32),\n",
              "  'dtype': numpy.float32,\n",
              "  'quantization': (0.0, 0),\n",
              "  'quantization_parameters': {'scales': array([], dtype=float32),\n",
              "   'zero_points': array([], dtype=int32),\n",
              "   'quantized_dimension': 0},\n",
              "  'sparsity_parameters': {}},\n",
              " {'name': 'while4',\n",
              "  'index': 28,\n",
              "  'shape': array([ 1, 60], dtype=int32),\n",
              "  'shape_signature': array([-1, 60], dtype=int32),\n",
              "  'dtype': numpy.float32,\n",
              "  'quantization': (0.0, 0),\n",
              "  'quantization_parameters': {'scales': array([], dtype=float32),\n",
              "   'zero_points': array([], dtype=int32),\n",
              "   'quantized_dimension': 0},\n",
              "  'sparsity_parameters': {}},\n",
              " {'name': 'while5',\n",
              "  'index': 29,\n",
              "  'shape': array([60,  1,  5], dtype=int32),\n",
              "  'shape_signature': array([60, -1,  5], dtype=int32),\n",
              "  'dtype': numpy.float32,\n",
              "  'quantization': (0.0, 0),\n",
              "  'quantization_parameters': {'scales': array([], dtype=float32),\n",
              "   'zero_points': array([], dtype=int32),\n",
              "   'quantized_dimension': 0},\n",
              "  'sparsity_parameters': {}},\n",
              " {'name': 'TensorArrayV2Stack/TensorListStack',\n",
              "  'index': 30,\n",
              "  'shape': array([ 1,  1, 60], dtype=int32),\n",
              "  'shape_signature': array([-1, -1, 60], dtype=int32),\n",
              "  'dtype': numpy.float32,\n",
              "  'quantization': (0.0, 0),\n",
              "  'quantization_parameters': {'scales': array([], dtype=float32),\n",
              "   'zero_points': array([], dtype=int32),\n",
              "   'quantized_dimension': 0},\n",
              "  'sparsity_parameters': {}},\n",
              " {'name': 'transpose_1',\n",
              "  'index': 31,\n",
              "  'shape': array([ 1,  1, 60], dtype=int32),\n",
              "  'shape_signature': array([-1, -1, 60], dtype=int32),\n",
              "  'dtype': numpy.float32,\n",
              "  'quantization': (0.0, 0),\n",
              "  'quantization_parameters': {'scales': array([], dtype=float32),\n",
              "   'zero_points': array([], dtype=int32),\n",
              "   'quantized_dimension': 0},\n",
              "  'sparsity_parameters': {}},\n",
              " {'name': 'sequential_1/quantize_annotate_3/Shape',\n",
              "  'index': 32,\n",
              "  'shape': array([3], dtype=int32),\n",
              "  'shape_signature': array([3], dtype=int32),\n",
              "  'dtype': numpy.int32,\n",
              "  'quantization': (0.0, 0),\n",
              "  'quantization_parameters': {'scales': array([], dtype=float32),\n",
              "   'zero_points': array([], dtype=int32),\n",
              "   'quantized_dimension': 0},\n",
              "  'sparsity_parameters': {}},\n",
              " {'name': 'sequential_1/quantize_annotate_3/strided_slice',\n",
              "  'index': 33,\n",
              "  'shape': array([], dtype=int32),\n",
              "  'shape_signature': array([], dtype=int32),\n",
              "  'dtype': numpy.int32,\n",
              "  'quantization': (0.0, 0),\n",
              "  'quantization_parameters': {'scales': array([], dtype=float32),\n",
              "   'zero_points': array([], dtype=int32),\n",
              "   'quantized_dimension': 0},\n",
              "  'sparsity_parameters': {}},\n",
              " {'name': 'sequential_1/quantize_annotate_3/zeros/packed',\n",
              "  'index': 34,\n",
              "  'shape': array([2], dtype=int32),\n",
              "  'shape_signature': array([2], dtype=int32),\n",
              "  'dtype': numpy.int32,\n",
              "  'quantization': (0.0, 0),\n",
              "  'quantization_parameters': {'scales': array([], dtype=float32),\n",
              "   'zero_points': array([], dtype=int32),\n",
              "   'quantized_dimension': 0},\n",
              "  'sparsity_parameters': {}},\n",
              " {'name': 'sequential_1/quantize_annotate_3/zeros',\n",
              "  'index': 35,\n",
              "  'shape': array([ 1, 50], dtype=int32),\n",
              "  'shape_signature': array([-1, 50], dtype=int32),\n",
              "  'dtype': numpy.float32,\n",
              "  'quantization': (0.0, 0),\n",
              "  'quantization_parameters': {'scales': array([], dtype=float32),\n",
              "   'zero_points': array([], dtype=int32),\n",
              "   'quantized_dimension': 0},\n",
              "  'sparsity_parameters': {}},\n",
              " {'name': 'TensorArrayV2_11',\n",
              "  'index': 36,\n",
              "  'shape': array([], dtype=int32),\n",
              "  'shape_signature': array([], dtype=int32),\n",
              "  'dtype': numpy.object_,\n",
              "  'quantization': (0.0, 0),\n",
              "  'quantization_parameters': {'scales': array([], dtype=float32),\n",
              "   'zero_points': array([], dtype=int32),\n",
              "   'quantized_dimension': 0},\n",
              "  'sparsity_parameters': {}},\n",
              " {'name': 'Shape',\n",
              "  'index': 37,\n",
              "  'shape': array([3], dtype=int32),\n",
              "  'shape_signature': array([3], dtype=int32),\n",
              "  'dtype': numpy.int32,\n",
              "  'quantization': (0.0, 0),\n",
              "  'quantization_parameters': {'scales': array([], dtype=float32),\n",
              "   'zero_points': array([], dtype=int32),\n",
              "   'quantized_dimension': 0},\n",
              "  'sparsity_parameters': {}},\n",
              " {'name': 'strided_slice',\n",
              "  'index': 38,\n",
              "  'shape': array([], dtype=int32),\n",
              "  'shape_signature': array([], dtype=int32),\n",
              "  'dtype': numpy.int32,\n",
              "  'quantization': (0.0, 0),\n",
              "  'quantization_parameters': {'scales': array([], dtype=float32),\n",
              "   'zero_points': array([], dtype=int32),\n",
              "   'quantized_dimension': 0},\n",
              "  'sparsity_parameters': {}},\n",
              " {'name': 'while6',\n",
              "  'index': 39,\n",
              "  'shape': array([], dtype=int32),\n",
              "  'shape_signature': array([], dtype=int32),\n",
              "  'dtype': numpy.int32,\n",
              "  'quantization': (0.0, 0),\n",
              "  'quantization_parameters': {'scales': array([], dtype=float32),\n",
              "   'zero_points': array([], dtype=int32),\n",
              "   'quantized_dimension': 0},\n",
              "  'sparsity_parameters': {}},\n",
              " {'name': 'while7',\n",
              "  'index': 40,\n",
              "  'shape': array([], dtype=int32),\n",
              "  'shape_signature': array([], dtype=int32),\n",
              "  'dtype': numpy.int32,\n",
              "  'quantization': (0.0, 0),\n",
              "  'quantization_parameters': {'scales': array([], dtype=float32),\n",
              "   'zero_points': array([], dtype=int32),\n",
              "   'quantized_dimension': 0},\n",
              "  'sparsity_parameters': {}},\n",
              " {'name': 'while8',\n",
              "  'index': 41,\n",
              "  'shape': array([], dtype=int32),\n",
              "  'shape_signature': array([], dtype=int32),\n",
              "  'dtype': numpy.object_,\n",
              "  'quantization': (0.0, 0),\n",
              "  'quantization_parameters': {'scales': array([], dtype=float32),\n",
              "   'zero_points': array([], dtype=int32),\n",
              "   'quantized_dimension': 0},\n",
              "  'sparsity_parameters': {}},\n",
              " {'name': 'while9',\n",
              "  'index': 42,\n",
              "  'shape': array([ 1, 50], dtype=int32),\n",
              "  'shape_signature': array([-1, 50], dtype=int32),\n",
              "  'dtype': numpy.float32,\n",
              "  'quantization': (0.0, 0),\n",
              "  'quantization_parameters': {'scales': array([], dtype=float32),\n",
              "   'zero_points': array([], dtype=int32),\n",
              "   'quantized_dimension': 0},\n",
              "  'sparsity_parameters': {}},\n",
              " {'name': 'while10',\n",
              "  'index': 43,\n",
              "  'shape': array([ 1, 50], dtype=int32),\n",
              "  'shape_signature': array([-1, 50], dtype=int32),\n",
              "  'dtype': numpy.float32,\n",
              "  'quantization': (0.0, 0),\n",
              "  'quantization_parameters': {'scales': array([], dtype=float32),\n",
              "   'zero_points': array([], dtype=int32),\n",
              "   'quantized_dimension': 0},\n",
              "  'sparsity_parameters': {}},\n",
              " {'name': 'while11',\n",
              "  'index': 44,\n",
              "  'shape': array([], dtype=int32),\n",
              "  'shape_signature': array([], dtype=int32),\n",
              "  'dtype': numpy.int32,\n",
              "  'quantization': (0.0, 0),\n",
              "  'quantization_parameters': {'scales': array([], dtype=float32),\n",
              "   'zero_points': array([], dtype=int32),\n",
              "   'quantized_dimension': 0},\n",
              "  'sparsity_parameters': {}},\n",
              " {'name': 'while12',\n",
              "  'index': 45,\n",
              "  'shape': array([ 1,  1, 60], dtype=int32),\n",
              "  'shape_signature': array([-1, -1, 60], dtype=int32),\n",
              "  'dtype': numpy.float32,\n",
              "  'quantization': (0.0, 0),\n",
              "  'quantization_parameters': {'scales': array([], dtype=float32),\n",
              "   'zero_points': array([], dtype=int32),\n",
              "   'quantized_dimension': 0},\n",
              "  'sparsity_parameters': {}},\n",
              " {'name': 'TensorArrayV2Stack/TensorListStack1',\n",
              "  'index': 46,\n",
              "  'shape': array([ 1,  1, 50], dtype=int32),\n",
              "  'shape_signature': array([ 1, -1, 50], dtype=int32),\n",
              "  'dtype': numpy.float32,\n",
              "  'quantization': (0.0, 0),\n",
              "  'quantization_parameters': {'scales': array([], dtype=float32),\n",
              "   'zero_points': array([], dtype=int32),\n",
              "   'quantized_dimension': 0},\n",
              "  'sparsity_parameters': {}},\n",
              " {'name': 'strided_slice_23',\n",
              "  'index': 47,\n",
              "  'shape': array([ 1, 50], dtype=int32),\n",
              "  'shape_signature': array([-1, 50], dtype=int32),\n",
              "  'dtype': numpy.float32,\n",
              "  'quantization': (0.0, 0),\n",
              "  'quantization_parameters': {'scales': array([], dtype=float32),\n",
              "   'zero_points': array([], dtype=int32),\n",
              "   'quantized_dimension': 0},\n",
              "  'sparsity_parameters': {}},\n",
              " {'name': 'StatefulPartitionedCall:0',\n",
              "  'index': 48,\n",
              "  'shape': array([1, 1], dtype=int32),\n",
              "  'shape_signature': array([-1,  1], dtype=int32),\n",
              "  'dtype': numpy.float32,\n",
              "  'quantization': (0.0, 0),\n",
              "  'quantization_parameters': {'scales': array([], dtype=float32),\n",
              "   'zero_points': array([], dtype=int32),\n",
              "   'quantized_dimension': 0},\n",
              "  'sparsity_parameters': {}}]"
            ]
          },
          "execution_count": 38,
          "metadata": {},
          "output_type": "execute_result"
        }
      ],
      "source": [
        "interpreter.get_tensor_details()"
      ]
    },
    {
      "cell_type": "code",
      "execution_count": null,
      "metadata": {
        "id": "oYAodfMQolUz"
      },
      "outputs": [],
      "source": [
        "full_model_trainable_params = plain_model.count_params()\n",
        "tflite_model_trainable_params = 0\n",
        "for tensor in interpreter.get_tensor_details():\n",
        "    shape = tensor['shape']\n",
        "    if len(shape) > 0:\n",
        "        tflite_model_trainable_params += shape[-1]"
      ]
    },
    {
      "cell_type": "code",
      "execution_count": null,
      "metadata": {
        "colab": {
          "base_uri": "https://localhost:8080/"
        },
        "id": "2vo_qDPMqgI7",
        "outputId": "d58b3cde-d10a-41f5-cd5e-1f7d836c4157"
      },
      "outputs": [
        {
          "name": "stdout",
          "output_type": "stream",
          "text": [
            "[ 1 60  5]\n",
            "[3]\n",
            "[3]\n",
            "[3]\n",
            "[]\n",
            "[2]\n",
            "[2]\n",
            "[]\n",
            "[3]\n",
            "[200]\n",
            "[240]\n",
            "[1]\n",
            "[]\n",
            "[]\n",
            "[]\n",
            "[1]\n",
            "[1]\n",
            "[ 1 50]\n",
            "[3]\n",
            "[]\n",
            "[2]\n",
            "[ 1 60]\n",
            "[60  1  5]\n",
            "[]\n",
            "[]\n",
            "[]\n",
            "[]\n",
            "[ 1 60]\n",
            "[ 1 60]\n",
            "[60  1  5]\n",
            "[ 1  1 60]\n",
            "[ 1  1 60]\n",
            "[3]\n",
            "[]\n",
            "[2]\n",
            "[ 1 50]\n",
            "[]\n",
            "[3]\n",
            "[]\n",
            "[]\n",
            "[]\n",
            "[]\n",
            "[ 1 50]\n",
            "[ 1 50]\n",
            "[]\n",
            "[ 1  1 60]\n",
            "[ 1  1 50]\n",
            "[ 1 50]\n",
            "[1 1]\n"
          ]
        }
      ],
      "source": [
        "for tensor in interpreter.get_tensor_details():\n",
        "    print(tensor['shape'])"
      ]
    },
    {
      "cell_type": "code",
      "execution_count": null,
      "metadata": {
        "colab": {
          "base_uri": "https://localhost:8080/"
        },
        "id": "QwK3Dbc0owvE",
        "outputId": "be705992-2585-46dd-9e8e-3c628f47b03d"
      },
      "outputs": [
        {
          "name": "stdout",
          "output_type": "stream",
          "text": [
            "Full Model Trainable Parameters: 38091\n",
            "TFLite Model Trainable Parameters: 1148\n"
          ]
        }
      ],
      "source": [
        "print(\"Full Model Trainable Parameters:\", full_model_trainable_params)\n",
        "print(\"TFLite Model Trainable Parameters:\", tflite_model_trainable_params)"
      ]
    },
    {
      "cell_type": "markdown",
      "metadata": {
        "id": "S7GJ02LurKPF"
      },
      "source": [
        "### Number of Layers"
      ]
    },
    {
      "cell_type": "code",
      "execution_count": null,
      "metadata": {
        "id": "-pPHKpXLrMUQ"
      },
      "outputs": [],
      "source": [
        "full_model_num_layers = len(plain_model.layers)\n",
        "\n",
        "tflite_model_num_layers = len(interpreter.get_tensor_details())"
      ]
    },
    {
      "cell_type": "code",
      "execution_count": null,
      "metadata": {
        "colab": {
          "base_uri": "https://localhost:8080/"
        },
        "id": "5BUSwD_WrN6U",
        "outputId": "3cd9c389-d4c2-4b4c-f47a-ab45284aa0f5"
      },
      "outputs": [
        {
          "name": "stdout",
          "output_type": "stream",
          "text": [
            "Full Model Number of Layers: 3\n",
            "TFLite Model Number of Layers: 49\n"
          ]
        }
      ],
      "source": [
        "print(\"Full Model Number of Layers:\", full_model_num_layers)\n",
        "print(\"TFLite Model Number of Layers:\", tflite_model_num_layers)"
      ]
    },
    {
      "cell_type": "markdown",
      "metadata": {
        "id": "dvg5eVw9o4Vs"
      },
      "source": [
        "### Size"
      ]
    },
    {
      "cell_type": "code",
      "execution_count": null,
      "metadata": {
        "id": "xC3Banoeo7tn"
      },
      "outputs": [],
      "source": [
        "full_model_size = os.path.getsize('apple_model.h5')\n",
        "tflite_model_size = os.path.getsize('apple_quantized_model.tflite')"
      ]
    },
    {
      "cell_type": "code",
      "execution_count": null,
      "metadata": {
        "colab": {
          "base_uri": "https://localhost:8080/"
        },
        "id": "dPjCm3w_o9td",
        "outputId": "89c23ac1-2a41-4075-ef04-d2bd9c01fb20"
      },
      "outputs": [
        {
          "name": "stdout",
          "output_type": "stream",
          "text": [
            "Full Model Size (bytes): 499784\n",
            "TFLite Model Size (bytes): 170536\n"
          ]
        }
      ],
      "source": [
        "print(\"Full Model Size (bytes):\", full_model_size)\n",
        "print(\"TFLite Model Size (bytes):\", tflite_model_size)"
      ]
    },
    {
      "cell_type": "markdown",
      "metadata": {
        "id": "xK8Y_L1su-eN"
      },
      "source": [
        "### Memory Footprint"
      ]
    },
    {
      "cell_type": "code",
      "execution_count": null,
      "metadata": {
        "colab": {
          "base_uri": "https://localhost:8080/"
        },
        "id": "jCE6aW_QvFqu",
        "outputId": "01ca83ae-9c84-4ea6-9f0c-500e7a299313"
      },
      "outputs": [
        {
          "name": "stdout",
          "output_type": "stream",
          "text": [
            "1/1 [==============================] - 3s 3s/step\n",
            "Memory used by Full Model: 80056320 bytes\n"
          ]
        }
      ],
      "source": [
        "model_path = 'apple_model.h5'\n",
        "plain_model = tf.keras.models.load_model(model_path)\n",
        "\n",
        "input_shape = plain_model.input_shape[1:]\n",
        "sample_input = tf.random.uniform((1, *input_shape))\n",
        "\n",
        "memory_before = psutil.virtual_memory().used\n",
        "\n",
        "_ = plain_model.predict(sample_input)\n",
        "\n",
        "memory_after = psutil.virtual_memory().used\n",
        "\n",
        "memory_used_full_model = memory_after - memory_before\n",
        "print(\"Memory used by Full Model:\", memory_used_full_model, \"bytes\")"
      ]
    },
    {
      "cell_type": "code",
      "execution_count": null,
      "metadata": {
        "colab": {
          "base_uri": "https://localhost:8080/"
        },
        "id": "Sn3ddTa8vGJs",
        "outputId": "661137e5-e759-4fd8-abf2-b827e81b2b0d"
      },
      "outputs": [
        {
          "name": "stdout",
          "output_type": "stream",
          "text": [
            "Memory used by TFLite Model: 0 bytes\n"
          ]
        }
      ],
      "source": [
        "import tensorflow as tf\n",
        "import psutil\n",
        "\n",
        "model_path = 'apple_quantized_model.tflite'\n",
        "tflite_interpreter = tf.lite.Interpreter(model_path=model_path)\n",
        "tflite_interpreter.allocate_tensors()\n",
        "\n",
        "input_details = tflite_interpreter.get_input_details()\n",
        "input_shape = input_details[0]['shape'][1:]  # Exclude batch dimension\n",
        "sample_input = tf.random.uniform((1, *input_shape), dtype=input_details[0]['dtype'])\n",
        "\n",
        "memory_before = psutil.virtual_memory().used\n",
        "\n",
        "tflite_interpreter.set_tensor(input_details[0]['index'], sample_input)\n",
        "tflite_interpreter.invoke()\n",
        "\n",
        "memory_after = psutil.virtual_memory().used\n",
        "\n",
        "memory_used_tflite_model = memory_after - memory_before\n",
        "print(\"Memory used by TFLite Model:\", memory_used_tflite_model, \"bytes\")"
      ]
    },
    {
      "cell_type": "markdown",
      "metadata": {
        "id": "82D_5ldrpeoi"
      },
      "source": [
        "### Inference Speed"
      ]
    },
    {
      "cell_type": "markdown",
      "metadata": {
        "id": "YW9poKVe2xPP"
      },
      "source": [
        "#### Inference time on random data"
      ]
    },
    {
      "cell_type": "code",
      "execution_count": null,
      "metadata": {
        "colab": {
          "base_uri": "https://localhost:8080/"
        },
        "id": "2cvyiJmE2CAs",
        "outputId": "ea7c8fdf-d662-49ff-ff35-40b1ff213e73"
      },
      "outputs": [
        {
          "name": "stdout",
          "output_type": "stream",
          "text": [
            "1/1 [==============================] - 0s 135ms/step\n",
            "Full Model Inference Time: 0.2532010078430176\n",
            "TFLite Model Inference Time: 0.010959625244140625\n"
          ]
        }
      ],
      "source": [
        "input_shape = plain_model.input_shape[1:]\n",
        "sample_input = tf.random.uniform((1, *input_shape))\n",
        "\n",
        "start_time = time.time()\n",
        "_ = plain_model.predict(sample_input)\n",
        "full_model_inference_time = time.time() - start_time\n",
        "\n",
        "tflite_input_index = interpreter.get_input_details()[0]['index']\n",
        "tflite_output_index = interpreter.get_output_details()[0]['index']\n",
        "\n",
        "start_time = time.time()\n",
        "interpreter.set_tensor(tflite_input_index, sample_input)\n",
        "interpreter.invoke()\n",
        "tflite_model_inference_time = time.time() - start_time\n",
        "\n",
        "print(\"Full Model Inference Time:\", full_model_inference_time)\n",
        "print(\"TFLite Model Inference Time:\", tflite_model_inference_time)"
      ]
    },
    {
      "cell_type": "markdown",
      "metadata": {
        "id": "VxtiUsqD24Ss"
      },
      "source": [
        "#### Inference time on test data"
      ]
    },
    {
      "cell_type": "code",
      "execution_count": null,
      "metadata": {
        "colab": {
          "base_uri": "https://localhost:8080/"
        },
        "id": "RRENYHXixjQj",
        "outputId": "708ffa1a-1111-4da2-f7e9-bc98133dcc62"
      },
      "outputs": [
        {
          "name": "stdout",
          "output_type": "stream",
          "text": [
            "\r[*********************100%%**********************]  1 of 1 completed\n"
          ]
        },
        {
          "data": {
            "text/plain": [
              "(444, 6)"
            ]
          },
          "execution_count": 49,
          "metadata": {},
          "output_type": "execute_result"
        }
      ],
      "source": [
        "ticker = 'AAPL'\n",
        "start_date = '2023-05-02'\n",
        "end_date = '2023-08-03'\n",
        "\n",
        "data = download_stock_data(ticker, start_date, end_date)\n",
        "x_min = data.min()\n",
        "x_max = data.max()\n",
        "data.shape"
      ]
    },
    {
      "cell_type": "code",
      "execution_count": null,
      "metadata": {
        "colab": {
          "base_uri": "https://localhost:8080/"
        },
        "id": "EeK2_UNlyJUq",
        "outputId": "bf10692b-0e2d-4b94-d5da-95b02c18ed17"
      },
      "outputs": [
        {
          "name": "stdout",
          "output_type": "stream",
          "text": [
            "196.49000549316406 170.35000610351562\n",
            "1.0 0.14109682799494946\n"
          ]
        }
      ],
      "source": [
        "X_new, y_new = preprocess_data(data)"
      ]
    },
    {
      "cell_type": "code",
      "execution_count": null,
      "metadata": {
        "id": "mV__kVczz4KM"
      },
      "outputs": [],
      "source": [
        "start_time = time.time()\n",
        "for i in range(len(X_new)):\n",
        "    _ = predict_stock_price_quantized(X_new[i])\n",
        "tflite_model_inference_time = time.time() - start_time"
      ]
    },
    {
      "cell_type": "code",
      "execution_count": null,
      "metadata": {
        "colab": {
          "base_uri": "https://localhost:8080/"
        },
        "id": "SJ_6eJ9Lz-LW",
        "outputId": "04f0cbf2-8e0a-4341-fc71-a8db9777c1f3"
      },
      "outputs": [
        {
          "name": "stdout",
          "output_type": "stream",
          "text": [
            "1/1 [==============================] - 0s 61ms/step\n",
            "1/1 [==============================] - 0s 55ms/step\n",
            "1/1 [==============================] - 0s 107ms/step\n",
            "1/1 [==============================] - 0s 96ms/step\n",
            "1/1 [==============================] - 0s 68ms/step\n",
            "1/1 [==============================] - 0s 44ms/step\n",
            "1/1 [==============================] - 0s 51ms/step\n",
            "1/1 [==============================] - 0s 59ms/step\n",
            "1/1 [==============================] - 0s 56ms/step\n",
            "1/1 [==============================] - 0s 47ms/step\n",
            "1/1 [==============================] - 0s 52ms/step\n",
            "1/1 [==============================] - 0s 104ms/step\n",
            "1/1 [==============================] - 0s 54ms/step\n",
            "1/1 [==============================] - 0s 56ms/step\n",
            "1/1 [==============================] - 0s 46ms/step\n",
            "1/1 [==============================] - 0s 64ms/step\n",
            "1/1 [==============================] - 0s 48ms/step\n",
            "1/1 [==============================] - 0s 59ms/step\n",
            "1/1 [==============================] - 0s 132ms/step\n",
            "1/1 [==============================] - 0s 46ms/step\n",
            "1/1 [==============================] - 0s 89ms/step\n",
            "1/1 [==============================] - 0s 52ms/step\n",
            "1/1 [==============================] - 0s 55ms/step\n",
            "1/1 [==============================] - 0s 70ms/step\n",
            "1/1 [==============================] - 0s 50ms/step\n",
            "1/1 [==============================] - 0s 67ms/step\n",
            "1/1 [==============================] - 0s 55ms/step\n",
            "1/1 [==============================] - 0s 56ms/step\n",
            "1/1 [==============================] - 0s 76ms/step\n",
            "1/1 [==============================] - 0s 159ms/step\n",
            "1/1 [==============================] - 0s 57ms/step\n",
            "1/1 [==============================] - 0s 86ms/step\n",
            "1/1 [==============================] - 0s 64ms/step\n",
            "1/1 [==============================] - 0s 101ms/step\n",
            "1/1 [==============================] - 0s 49ms/step\n",
            "1/1 [==============================] - 0s 95ms/step\n",
            "1/1 [==============================] - 0s 67ms/step\n",
            "1/1 [==============================] - 0s 51ms/step\n",
            "1/1 [==============================] - 0s 50ms/step\n",
            "1/1 [==============================] - 0s 43ms/step\n",
            "1/1 [==============================] - 0s 47ms/step\n",
            "1/1 [==============================] - 0s 75ms/step\n",
            "1/1 [==============================] - 0s 78ms/step\n",
            "1/1 [==============================] - 0s 142ms/step\n",
            "1/1 [==============================] - 0s 86ms/step\n",
            "1/1 [==============================] - 0s 105ms/step\n",
            "1/1 [==============================] - 0s 93ms/step\n",
            "1/1 [==============================] - 0s 108ms/step\n",
            "1/1 [==============================] - 0s 105ms/step\n",
            "1/1 [==============================] - 0s 124ms/step\n",
            "1/1 [==============================] - 0s 242ms/step\n",
            "1/1 [==============================] - 0s 202ms/step\n",
            "1/1 [==============================] - 0s 130ms/step\n",
            "1/1 [==============================] - 0s 129ms/step\n",
            "1/1 [==============================] - 0s 51ms/step\n",
            "1/1 [==============================] - 0s 46ms/step\n",
            "1/1 [==============================] - 0s 43ms/step\n",
            "1/1 [==============================] - 0s 45ms/step\n",
            "1/1 [==============================] - 0s 49ms/step\n",
            "1/1 [==============================] - 0s 33ms/step\n",
            "1/1 [==============================] - 0s 29ms/step\n",
            "1/1 [==============================] - 0s 29ms/step\n",
            "1/1 [==============================] - 0s 31ms/step\n",
            "1/1 [==============================] - 0s 39ms/step\n",
            "1/1 [==============================] - 0s 29ms/step\n",
            "1/1 [==============================] - 0s 31ms/step\n",
            "1/1 [==============================] - 0s 28ms/step\n",
            "1/1 [==============================] - 0s 29ms/step\n",
            "1/1 [==============================] - 0s 29ms/step\n",
            "1/1 [==============================] - 0s 31ms/step\n",
            "1/1 [==============================] - 0s 29ms/step\n",
            "1/1 [==============================] - 0s 29ms/step\n",
            "1/1 [==============================] - 0s 29ms/step\n",
            "1/1 [==============================] - 0s 30ms/step\n",
            "1/1 [==============================] - 0s 31ms/step\n",
            "1/1 [==============================] - 0s 30ms/step\n",
            "1/1 [==============================] - 0s 29ms/step\n",
            "1/1 [==============================] - 0s 30ms/step\n",
            "1/1 [==============================] - 0s 30ms/step\n",
            "1/1 [==============================] - 0s 35ms/step\n",
            "1/1 [==============================] - 0s 27ms/step\n",
            "1/1 [==============================] - 0s 28ms/step\n",
            "1/1 [==============================] - 0s 29ms/step\n",
            "1/1 [==============================] - 0s 33ms/step\n",
            "1/1 [==============================] - 0s 30ms/step\n",
            "1/1 [==============================] - 0s 30ms/step\n",
            "1/1 [==============================] - 0s 31ms/step\n",
            "1/1 [==============================] - 0s 29ms/step\n",
            "1/1 [==============================] - 0s 30ms/step\n",
            "1/1 [==============================] - 0s 39ms/step\n",
            "1/1 [==============================] - 0s 29ms/step\n",
            "1/1 [==============================] - 0s 30ms/step\n",
            "1/1 [==============================] - 0s 30ms/step\n",
            "1/1 [==============================] - 0s 36ms/step\n",
            "1/1 [==============================] - 0s 35ms/step\n",
            "1/1 [==============================] - 0s 34ms/step\n",
            "1/1 [==============================] - 0s 27ms/step\n",
            "1/1 [==============================] - 0s 29ms/step\n",
            "1/1 [==============================] - 0s 28ms/step\n",
            "1/1 [==============================] - 0s 37ms/step\n",
            "1/1 [==============================] - 0s 32ms/step\n",
            "1/1 [==============================] - 0s 29ms/step\n",
            "1/1 [==============================] - 0s 32ms/step\n",
            "1/1 [==============================] - 0s 27ms/step\n",
            "1/1 [==============================] - 0s 27ms/step\n",
            "1/1 [==============================] - 0s 29ms/step\n",
            "1/1 [==============================] - 0s 33ms/step\n",
            "1/1 [==============================] - 0s 32ms/step\n",
            "1/1 [==============================] - 0s 32ms/step\n",
            "1/1 [==============================] - 0s 36ms/step\n",
            "1/1 [==============================] - 0s 31ms/step\n",
            "1/1 [==============================] - 0s 29ms/step\n",
            "1/1 [==============================] - 0s 30ms/step\n",
            "1/1 [==============================] - 0s 28ms/step\n",
            "1/1 [==============================] - 0s 39ms/step\n",
            "1/1 [==============================] - 0s 29ms/step\n",
            "1/1 [==============================] - 0s 35ms/step\n",
            "1/1 [==============================] - 0s 34ms/step\n",
            "1/1 [==============================] - 0s 35ms/step\n",
            "1/1 [==============================] - 0s 39ms/step\n",
            "1/1 [==============================] - 0s 33ms/step\n",
            "1/1 [==============================] - 0s 31ms/step\n",
            "1/1 [==============================] - 0s 31ms/step\n",
            "1/1 [==============================] - 0s 33ms/step\n",
            "1/1 [==============================] - 0s 33ms/step\n",
            "1/1 [==============================] - 0s 42ms/step\n",
            "1/1 [==============================] - 0s 29ms/step\n",
            "1/1 [==============================] - 0s 39ms/step\n",
            "1/1 [==============================] - 0s 33ms/step\n",
            "1/1 [==============================] - 0s 40ms/step\n",
            "1/1 [==============================] - 0s 29ms/step\n",
            "1/1 [==============================] - 0s 33ms/step\n",
            "1/1 [==============================] - 0s 33ms/step\n",
            "1/1 [==============================] - 0s 27ms/step\n",
            "1/1 [==============================] - 0s 30ms/step\n",
            "1/1 [==============================] - 0s 31ms/step\n",
            "1/1 [==============================] - 0s 33ms/step\n",
            "1/1 [==============================] - 0s 29ms/step\n",
            "1/1 [==============================] - 0s 28ms/step\n",
            "1/1 [==============================] - 0s 28ms/step\n",
            "1/1 [==============================] - 0s 30ms/step\n",
            "1/1 [==============================] - 0s 33ms/step\n",
            "1/1 [==============================] - 0s 33ms/step\n",
            "1/1 [==============================] - 0s 31ms/step\n",
            "1/1 [==============================] - 0s 32ms/step\n",
            "1/1 [==============================] - 0s 32ms/step\n",
            "1/1 [==============================] - 0s 31ms/step\n",
            "1/1 [==============================] - 0s 28ms/step\n",
            "1/1 [==============================] - 0s 31ms/step\n",
            "1/1 [==============================] - 0s 31ms/step\n",
            "1/1 [==============================] - 0s 36ms/step\n",
            "1/1 [==============================] - 0s 30ms/step\n",
            "1/1 [==============================] - 0s 33ms/step\n",
            "1/1 [==============================] - 0s 30ms/step\n",
            "1/1 [==============================] - 0s 31ms/step\n",
            "1/1 [==============================] - 0s 32ms/step\n",
            "1/1 [==============================] - 0s 31ms/step\n",
            "1/1 [==============================] - 0s 29ms/step\n",
            "1/1 [==============================] - 0s 31ms/step\n",
            "1/1 [==============================] - 0s 30ms/step\n",
            "1/1 [==============================] - 0s 31ms/step\n",
            "1/1 [==============================] - 0s 30ms/step\n",
            "1/1 [==============================] - 0s 36ms/step\n",
            "1/1 [==============================] - 0s 32ms/step\n",
            "1/1 [==============================] - 0s 36ms/step\n",
            "1/1 [==============================] - 0s 31ms/step\n",
            "1/1 [==============================] - 0s 29ms/step\n",
            "1/1 [==============================] - 0s 29ms/step\n",
            "1/1 [==============================] - 0s 32ms/step\n",
            "1/1 [==============================] - 0s 33ms/step\n",
            "1/1 [==============================] - 0s 32ms/step\n",
            "1/1 [==============================] - 0s 29ms/step\n",
            "1/1 [==============================] - 0s 30ms/step\n",
            "1/1 [==============================] - 0s 30ms/step\n",
            "1/1 [==============================] - 0s 33ms/step\n",
            "1/1 [==============================] - 0s 31ms/step\n",
            "1/1 [==============================] - 0s 29ms/step\n",
            "1/1 [==============================] - 0s 45ms/step\n",
            "1/1 [==============================] - 0s 50ms/step\n",
            "1/1 [==============================] - 0s 48ms/step\n",
            "1/1 [==============================] - 0s 50ms/step\n",
            "1/1 [==============================] - 0s 47ms/step\n",
            "1/1 [==============================] - 0s 45ms/step\n",
            "1/1 [==============================] - 0s 50ms/step\n",
            "1/1 [==============================] - 0s 44ms/step\n",
            "1/1 [==============================] - 0s 46ms/step\n",
            "1/1 [==============================] - 0s 45ms/step\n",
            "1/1 [==============================] - 0s 46ms/step\n",
            "1/1 [==============================] - 0s 47ms/step\n",
            "1/1 [==============================] - 0s 52ms/step\n",
            "1/1 [==============================] - 0s 50ms/step\n",
            "1/1 [==============================] - 0s 45ms/step\n",
            "1/1 [==============================] - 0s 45ms/step\n",
            "1/1 [==============================] - 0s 46ms/step\n",
            "1/1 [==============================] - 0s 48ms/step\n",
            "1/1 [==============================] - 0s 49ms/step\n",
            "1/1 [==============================] - 0s 54ms/step\n",
            "1/1 [==============================] - 0s 45ms/step\n",
            "1/1 [==============================] - 0s 51ms/step\n",
            "1/1 [==============================] - 0s 44ms/step\n",
            "1/1 [==============================] - 0s 43ms/step\n",
            "1/1 [==============================] - 0s 61ms/step\n",
            "1/1 [==============================] - 0s 44ms/step\n",
            "1/1 [==============================] - 0s 49ms/step\n",
            "1/1 [==============================] - 0s 46ms/step\n",
            "1/1 [==============================] - 0s 44ms/step\n",
            "1/1 [==============================] - 0s 44ms/step\n",
            "1/1 [==============================] - 0s 51ms/step\n",
            "1/1 [==============================] - 0s 28ms/step\n",
            "1/1 [==============================] - 0s 30ms/step\n",
            "1/1 [==============================] - 0s 30ms/step\n",
            "1/1 [==============================] - 0s 31ms/step\n",
            "1/1 [==============================] - 0s 32ms/step\n",
            "1/1 [==============================] - 0s 33ms/step\n",
            "1/1 [==============================] - 0s 33ms/step\n",
            "1/1 [==============================] - 0s 29ms/step\n",
            "1/1 [==============================] - 0s 30ms/step\n",
            "1/1 [==============================] - 0s 32ms/step\n",
            "1/1 [==============================] - 0s 34ms/step\n",
            "1/1 [==============================] - 0s 33ms/step\n",
            "1/1 [==============================] - 0s 28ms/step\n",
            "1/1 [==============================] - 0s 34ms/step\n",
            "1/1 [==============================] - 0s 30ms/step\n",
            "1/1 [==============================] - 0s 36ms/step\n",
            "1/1 [==============================] - 0s 33ms/step\n",
            "1/1 [==============================] - 0s 32ms/step\n",
            "1/1 [==============================] - 0s 35ms/step\n",
            "1/1 [==============================] - 0s 28ms/step\n",
            "1/1 [==============================] - 0s 30ms/step\n",
            "1/1 [==============================] - 0s 34ms/step\n",
            "1/1 [==============================] - 0s 33ms/step\n",
            "1/1 [==============================] - 0s 30ms/step\n",
            "1/1 [==============================] - 0s 30ms/step\n",
            "1/1 [==============================] - 0s 31ms/step\n",
            "1/1 [==============================] - 0s 30ms/step\n",
            "1/1 [==============================] - 0s 37ms/step\n",
            "1/1 [==============================] - 0s 34ms/step\n",
            "1/1 [==============================] - 0s 35ms/step\n",
            "1/1 [==============================] - 0s 31ms/step\n",
            "1/1 [==============================] - 0s 28ms/step\n",
            "1/1 [==============================] - 0s 31ms/step\n",
            "1/1 [==============================] - 0s 29ms/step\n",
            "1/1 [==============================] - 0s 30ms/step\n",
            "1/1 [==============================] - 0s 32ms/step\n",
            "1/1 [==============================] - 0s 35ms/step\n",
            "1/1 [==============================] - 0s 32ms/step\n",
            "1/1 [==============================] - 0s 29ms/step\n",
            "1/1 [==============================] - 0s 37ms/step\n",
            "1/1 [==============================] - 0s 31ms/step\n",
            "1/1 [==============================] - 0s 31ms/step\n",
            "1/1 [==============================] - 0s 36ms/step\n",
            "1/1 [==============================] - 0s 31ms/step\n",
            "1/1 [==============================] - 0s 32ms/step\n",
            "1/1 [==============================] - 0s 30ms/step\n",
            "1/1 [==============================] - 0s 32ms/step\n",
            "1/1 [==============================] - 0s 33ms/step\n",
            "1/1 [==============================] - 0s 30ms/step\n",
            "1/1 [==============================] - 0s 30ms/step\n",
            "1/1 [==============================] - 0s 32ms/step\n",
            "1/1 [==============================] - 0s 31ms/step\n",
            "1/1 [==============================] - 0s 28ms/step\n",
            "1/1 [==============================] - 0s 30ms/step\n",
            "1/1 [==============================] - 0s 30ms/step\n",
            "1/1 [==============================] - 0s 32ms/step\n",
            "1/1 [==============================] - 0s 29ms/step\n",
            "1/1 [==============================] - 0s 29ms/step\n",
            "1/1 [==============================] - 0s 30ms/step\n",
            "1/1 [==============================] - 0s 29ms/step\n",
            "1/1 [==============================] - 0s 29ms/step\n",
            "1/1 [==============================] - 0s 29ms/step\n",
            "1/1 [==============================] - 0s 41ms/step\n",
            "1/1 [==============================] - 0s 38ms/step\n",
            "1/1 [==============================] - 0s 33ms/step\n",
            "1/1 [==============================] - 0s 30ms/step\n",
            "1/1 [==============================] - 0s 32ms/step\n",
            "1/1 [==============================] - 0s 29ms/step\n",
            "1/1 [==============================] - 0s 29ms/step\n",
            "1/1 [==============================] - 0s 29ms/step\n",
            "1/1 [==============================] - 0s 34ms/step\n",
            "1/1 [==============================] - 0s 32ms/step\n",
            "1/1 [==============================] - 0s 32ms/step\n",
            "1/1 [==============================] - 0s 37ms/step\n",
            "1/1 [==============================] - 0s 61ms/step\n",
            "1/1 [==============================] - 0s 44ms/step\n",
            "1/1 [==============================] - 0s 46ms/step\n",
            "1/1 [==============================] - 0s 42ms/step\n",
            "1/1 [==============================] - 0s 33ms/step\n",
            "1/1 [==============================] - 0s 31ms/step\n",
            "1/1 [==============================] - 0s 34ms/step\n",
            "1/1 [==============================] - 0s 32ms/step\n",
            "1/1 [==============================] - 0s 31ms/step\n",
            "1/1 [==============================] - 0s 32ms/step\n",
            "1/1 [==============================] - 0s 31ms/step\n",
            "1/1 [==============================] - 0s 29ms/step\n",
            "1/1 [==============================] - 0s 32ms/step\n",
            "1/1 [==============================] - 0s 32ms/step\n",
            "1/1 [==============================] - 0s 32ms/step\n",
            "1/1 [==============================] - 0s 34ms/step\n",
            "1/1 [==============================] - 0s 31ms/step\n",
            "1/1 [==============================] - 0s 33ms/step\n",
            "1/1 [==============================] - 0s 31ms/step\n",
            "1/1 [==============================] - 0s 29ms/step\n",
            "1/1 [==============================] - 0s 30ms/step\n",
            "1/1 [==============================] - 0s 29ms/step\n",
            "1/1 [==============================] - 0s 32ms/step\n",
            "1/1 [==============================] - 0s 35ms/step\n",
            "1/1 [==============================] - 0s 31ms/step\n",
            "1/1 [==============================] - 0s 31ms/step\n",
            "1/1 [==============================] - 0s 32ms/step\n",
            "1/1 [==============================] - 0s 41ms/step\n",
            "1/1 [==============================] - 0s 34ms/step\n",
            "1/1 [==============================] - 0s 29ms/step\n",
            "1/1 [==============================] - 0s 35ms/step\n",
            "1/1 [==============================] - 0s 29ms/step\n",
            "1/1 [==============================] - 0s 36ms/step\n",
            "1/1 [==============================] - 0s 33ms/step\n",
            "1/1 [==============================] - 0s 33ms/step\n",
            "1/1 [==============================] - 0s 30ms/step\n",
            "1/1 [==============================] - 0s 29ms/step\n",
            "1/1 [==============================] - 0s 28ms/step\n",
            "1/1 [==============================] - 0s 29ms/step\n",
            "1/1 [==============================] - 0s 41ms/step\n",
            "1/1 [==============================] - 0s 43ms/step\n",
            "1/1 [==============================] - 0s 49ms/step\n",
            "1/1 [==============================] - 0s 62ms/step\n",
            "1/1 [==============================] - 0s 55ms/step\n",
            "1/1 [==============================] - 0s 42ms/step\n",
            "1/1 [==============================] - 0s 41ms/step\n",
            "1/1 [==============================] - 0s 42ms/step\n",
            "1/1 [==============================] - 0s 42ms/step\n",
            "1/1 [==============================] - 0s 45ms/step\n",
            "1/1 [==============================] - 0s 42ms/step\n",
            "1/1 [==============================] - 0s 67ms/step\n",
            "1/1 [==============================] - 0s 50ms/step\n",
            "1/1 [==============================] - 0s 51ms/step\n",
            "1/1 [==============================] - 0s 46ms/step\n",
            "1/1 [==============================] - 0s 46ms/step\n",
            "1/1 [==============================] - 0s 44ms/step\n",
            "1/1 [==============================] - 0s 42ms/step\n",
            "1/1 [==============================] - 0s 47ms/step\n",
            "1/1 [==============================] - 0s 43ms/step\n",
            "1/1 [==============================] - 0s 46ms/step\n",
            "1/1 [==============================] - 0s 45ms/step\n",
            "1/1 [==============================] - 0s 44ms/step\n",
            "1/1 [==============================] - 0s 47ms/step\n",
            "1/1 [==============================] - 0s 42ms/step\n",
            "1/1 [==============================] - 0s 43ms/step\n",
            "1/1 [==============================] - 0s 45ms/step\n",
            "1/1 [==============================] - 0s 43ms/step\n",
            "1/1 [==============================] - 0s 42ms/step\n",
            "1/1 [==============================] - 0s 46ms/step\n",
            "1/1 [==============================] - 0s 43ms/step\n",
            "1/1 [==============================] - 0s 46ms/step\n",
            "1/1 [==============================] - 0s 58ms/step\n",
            "1/1 [==============================] - 0s 45ms/step\n",
            "1/1 [==============================] - 0s 44ms/step\n",
            "1/1 [==============================] - 0s 45ms/step\n",
            "1/1 [==============================] - 0s 31ms/step\n",
            "1/1 [==============================] - 0s 31ms/step\n",
            "1/1 [==============================] - 0s 29ms/step\n",
            "1/1 [==============================] - 0s 34ms/step\n",
            "1/1 [==============================] - 0s 32ms/step\n",
            "1/1 [==============================] - 0s 30ms/step\n",
            "1/1 [==============================] - 0s 37ms/step\n",
            "1/1 [==============================] - 0s 34ms/step\n",
            "1/1 [==============================] - 0s 29ms/step\n",
            "1/1 [==============================] - 0s 32ms/step\n",
            "1/1 [==============================] - 0s 32ms/step\n",
            "1/1 [==============================] - 0s 32ms/step\n",
            "1/1 [==============================] - 0s 33ms/step\n",
            "1/1 [==============================] - 0s 31ms/step\n",
            "1/1 [==============================] - 0s 32ms/step\n",
            "1/1 [==============================] - 0s 27ms/step\n",
            "1/1 [==============================] - 0s 28ms/step\n",
            "1/1 [==============================] - 0s 31ms/step\n",
            "1/1 [==============================] - 0s 36ms/step\n",
            "1/1 [==============================] - 0s 31ms/step\n",
            "1/1 [==============================] - 0s 29ms/step\n",
            "1/1 [==============================] - 0s 32ms/step\n",
            "1/1 [==============================] - 0s 29ms/step\n",
            "1/1 [==============================] - 0s 29ms/step\n",
            "1/1 [==============================] - 0s 29ms/step\n",
            "1/1 [==============================] - 0s 31ms/step\n",
            "1/1 [==============================] - 0s 29ms/step\n"
          ]
        }
      ],
      "source": [
        "start_time = time.time()\n",
        "for i in range(len(X_new)):\n",
        "    _ = predict_stock_price(X_new[i])\n",
        "full_model_inference_time = time.time() - start_time"
      ]
    },
    {
      "cell_type": "code",
      "execution_count": null,
      "metadata": {
        "colab": {
          "base_uri": "https://localhost:8080/"
        },
        "id": "q-E3xkEM1-8l",
        "outputId": "9bc83c90-9269-4efc-fa42-16d8faca3f25"
      },
      "outputs": [
        {
          "name": "stdout",
          "output_type": "stream",
          "text": [
            "Full Model Inference Time: 42.152159452438354\n",
            "TFLite Model Inference Time: 4.159500360488892\n"
          ]
        }
      ],
      "source": [
        "print(\"Full Model Inference Time:\", full_model_inference_time)\n",
        "print(\"TFLite Model Inference Time:\", tflite_model_inference_time)"
      ]
    },
    {
      "cell_type": "markdown",
      "metadata": {
        "id": "YJYGAMHspisu"
      },
      "source": [
        "### Metrics"
      ]
    },
    {
      "cell_type": "code",
      "execution_count": null,
      "metadata": {
        "colab": {
          "base_uri": "https://localhost:8080/"
        },
        "id": "tShR7BmK4iMC",
        "outputId": "7fd94d45-64de-4c97-a671-c32f521946ef"
      },
      "outputs": [
        {
          "name": "stdout",
          "output_type": "stream",
          "text": [
            "\r[*********************100%%**********************]  1 of 1 completed\n"
          ]
        },
        {
          "data": {
            "text/plain": [
              "(444, 6)"
            ]
          },
          "execution_count": 54,
          "metadata": {},
          "output_type": "execute_result"
        }
      ],
      "source": [
        "ticker = 'AAPL'\n",
        "start_date = '2023-05-02'\n",
        "end_date = '2023-08-03'\n",
        "\n",
        "data = download_stock_data(ticker, start_date, end_date)\n",
        "x_min = data.min()\n",
        "x_max = data.max()\n",
        "data.shape"
      ]
    },
    {
      "cell_type": "code",
      "execution_count": null,
      "metadata": {
        "colab": {
          "base_uri": "https://localhost:8080/"
        },
        "id": "MSrt_8tn4jjn",
        "outputId": "e70f0d17-86a5-4b3d-e2ca-a07fe9b27fd7"
      },
      "outputs": [
        {
          "name": "stdout",
          "output_type": "stream",
          "text": [
            "196.49000549316406 170.35000610351562\n",
            "1.0 0.14109682799494946\n"
          ]
        }
      ],
      "source": [
        "X_new, y_new = preprocess_data(data)"
      ]
    },
    {
      "cell_type": "code",
      "execution_count": null,
      "metadata": {
        "colab": {
          "base_uri": "https://localhost:8080/"
        },
        "id": "ExAyUw65va9i",
        "outputId": "e197e02e-47f0-4a59-8488-c65c880b9944"
      },
      "outputs": [
        {
          "name": "stdout",
          "output_type": "stream",
          "text": [
            "Date: 2023-05-02 09:30:00-04:00, Predicted Price: 174.18, Actual Price: 171.3300018310547\n",
            "Date: 2023-05-02 10:30:00-04:00, Predicted Price: 174.14, Actual Price: 171.9001007080078\n",
            "Date: 2023-05-02 11:30:00-04:00, Predicted Price: 174.09, Actual Price: 172.55999755859375\n",
            "Date: 2023-05-02 12:30:00-04:00, Predicted Price: 174.02, Actual Price: 171.8428955078125\n",
            "Date: 2023-05-02 13:30:00-04:00, Predicted Price: 173.97, Actual Price: 172.27000427246094\n",
            "Date: 2023-05-02 14:30:00-04:00, Predicted Price: 173.91, Actual Price: 172.17869567871094\n",
            "Date: 2023-05-02 15:30:00-04:00, Predicted Price: 173.85, Actual Price: 171.8470001220703\n",
            "Date: 2023-05-03 09:30:00-04:00, Predicted Price: 173.79, Actual Price: 171.81500244140625\n",
            "Date: 2023-05-03 10:30:00-04:00, Predicted Price: 173.72, Actual Price: 171.81219482421875\n",
            "Date: 2023-05-03 11:30:00-04:00, Predicted Price: 173.65, Actual Price: 172.1300048828125\n",
            "Date: 2023-05-03 12:30:00-04:00, Predicted Price: 173.58, Actual Price: 172.41000366210938\n",
            "Date: 2023-05-03 13:30:00-04:00, Predicted Price: 173.53, Actual Price: 172.30999755859375\n",
            "Date: 2023-05-03 14:30:00-04:00, Predicted Price: 173.49, Actual Price: 172.25\n",
            "Date: 2023-05-03 15:30:00-04:00, Predicted Price: 173.45, Actual Price: 172.16110229492188\n",
            "Date: 2023-05-04 09:30:00-04:00, Predicted Price: 173.41, Actual Price: 171.89999389648438\n",
            "Date: 2023-05-04 10:30:00-04:00, Predicted Price: 173.38, Actual Price: 172.6649932861328\n",
            "Date: 2023-05-04 11:30:00-04:00, Predicted Price: 173.34, Actual Price: 172.0800018310547\n",
            "Date: 2023-05-04 12:30:00-04:00, Predicted Price: 173.32, Actual Price: 171.02169799804688\n",
            "Date: 2023-05-04 13:30:00-04:00, Predicted Price: 173.30, Actual Price: 170.84669494628906\n",
            "Date: 2023-05-04 14:30:00-04:00, Predicted Price: 173.26, Actual Price: 171.13499450683594\n",
            "Date: 2023-05-04 15:30:00-04:00, Predicted Price: 173.21, Actual Price: 172.0399932861328\n",
            "Date: 2023-05-05 09:30:00-04:00, Predicted Price: 173.16, Actual Price: 172.4084930419922\n",
            "Date: 2023-05-05 10:30:00-04:00, Predicted Price: 173.13, Actual Price: 172.35000610351562\n",
            "Date: 2023-05-05 11:30:00-04:00, Predicted Price: 173.10, Actual Price: 172.64999389648438\n",
            "Date: 2023-05-05 12:30:00-04:00, Predicted Price: 173.09, Actual Price: 173.6699981689453\n",
            "Date: 2023-05-05 13:30:00-04:00, Predicted Price: 173.11, Actual Price: 174.66000366210938\n",
            "Date: 2023-05-05 14:30:00-04:00, Predicted Price: 173.17, Actual Price: 174.36000061035156\n",
            "Date: 2023-05-05 15:30:00-04:00, Predicted Price: 173.26, Actual Price: 174.27999877929688\n",
            "Date: 2023-05-08 09:30:00-04:00, Predicted Price: 173.37, Actual Price: 174.11000061035156\n",
            "Date: 2023-05-08 10:30:00-04:00, Predicted Price: 173.48, Actual Price: 174.5\n",
            "Date: 2023-05-08 11:30:00-04:00, Predicted Price: 173.61, Actual Price: 175.06619262695312\n",
            "Date: 2023-05-08 12:30:00-04:00, Predicted Price: 173.75, Actual Price: 175.8800048828125\n",
            "Date: 2023-05-08 13:30:00-04:00, Predicted Price: 173.93, Actual Price: 175.4759063720703\n",
            "Date: 2023-05-08 14:30:00-04:00, Predicted Price: 174.12, Actual Price: 175.44000244140625\n",
            "Date: 2023-05-08 15:30:00-04:00, Predicted Price: 174.32, Actual Price: 175.73500061035156\n",
            "Date: 2023-05-09 09:30:00-04:00, Predicted Price: 174.51, Actual Price: 175.23219299316406\n",
            "Date: 2023-05-09 10:30:00-04:00, Predicted Price: 174.69, Actual Price: 175.1300048828125\n",
            "Date: 2023-05-09 11:30:00-04:00, Predicted Price: 174.86, Actual Price: 175.19000244140625\n",
            "Date: 2023-05-09 12:30:00-04:00, Predicted Price: 175.02, Actual Price: 174.19200134277344\n",
            "Date: 2023-05-09 13:30:00-04:00, Predicted Price: 175.15, Actual Price: 174.48880004882812\n",
            "Date: 2023-05-09 14:30:00-04:00, Predicted Price: 175.25, Actual Price: 174.16000366210938\n",
            "Date: 2023-05-09 15:30:00-04:00, Predicted Price: 175.32, Actual Price: 174.22000122070312\n",
            "Date: 2023-05-10 09:30:00-04:00, Predicted Price: 175.38, Actual Price: 174.32000732421875\n",
            "Date: 2023-05-10 10:30:00-04:00, Predicted Price: 175.42, Actual Price: 174.22000122070312\n",
            "Date: 2023-05-10 11:30:00-04:00, Predicted Price: 175.44, Actual Price: 174.24000549316406\n",
            "Date: 2023-05-10 12:30:00-04:00, Predicted Price: 175.45, Actual Price: 172.85000610351562\n",
            "Date: 2023-05-10 13:30:00-04:00, Predicted Price: 175.44, Actual Price: 173.01499938964844\n",
            "Date: 2023-05-10 14:30:00-04:00, Predicted Price: 175.40, Actual Price: 172.60000610351562\n",
            "Date: 2023-05-10 15:30:00-04:00, Predicted Price: 175.35, Actual Price: 172.0749969482422\n",
            "Date: 2023-05-11 09:30:00-04:00, Predicted Price: 175.26, Actual Price: 171.65499877929688\n",
            "Date: 2023-05-11 10:30:00-04:00, Predicted Price: 175.15, Actual Price: 171.6195068359375\n",
            "Date: 2023-05-11 11:30:00-04:00, Predicted Price: 175.02, Actual Price: 171.5500030517578\n",
            "Date: 2023-05-11 12:30:00-04:00, Predicted Price: 174.89, Actual Price: 171.16000366210938\n",
            "Date: 2023-05-11 13:30:00-04:00, Predicted Price: 174.74, Actual Price: 171.3699951171875\n",
            "Date: 2023-05-11 14:30:00-04:00, Predicted Price: 174.58, Actual Price: 170.63499450683594\n",
            "Date: 2023-05-11 15:30:00-04:00, Predicted Price: 174.41, Actual Price: 171.1750030517578\n",
            "Date: 2023-05-12 09:30:00-04:00, Predicted Price: 174.23, Actual Price: 171.19000244140625\n",
            "Date: 2023-05-12 10:30:00-04:00, Predicted Price: 174.05, Actual Price: 172.10499572753906\n",
            "Date: 2023-05-12 11:30:00-04:00, Predicted Price: 173.88, Actual Price: 171.8300018310547\n",
            "Date: 2023-05-12 12:30:00-04:00, Predicted Price: 173.73, Actual Price: 171.92999267578125\n",
            "Date: 2023-05-12 13:30:00-04:00, Predicted Price: 173.62, Actual Price: 172.27000427246094\n",
            "Date: 2023-05-12 14:30:00-04:00, Predicted Price: 173.53, Actual Price: 173.60009765625\n",
            "Date: 2023-05-12 15:30:00-04:00, Predicted Price: 173.45, Actual Price: 173.1999969482422\n",
            "Date: 2023-05-15 09:30:00-04:00, Predicted Price: 173.41, Actual Price: 173.35000610351562\n",
            "Date: 2023-05-15 10:30:00-04:00, Predicted Price: 173.40, Actual Price: 173.63499450683594\n",
            "Date: 2023-05-15 11:30:00-04:00, Predicted Price: 173.41, Actual Price: 173.01499938964844\n",
            "Date: 2023-05-15 12:30:00-04:00, Predicted Price: 173.43, Actual Price: 175.34500122070312\n",
            "Date: 2023-05-15 13:30:00-04:00, Predicted Price: 173.48, Actual Price: 175.02999877929688\n",
            "Date: 2023-05-15 14:30:00-04:00, Predicted Price: 173.58, Actual Price: 175.30870056152344\n",
            "Date: 2023-05-15 15:30:00-04:00, Predicted Price: 173.71, Actual Price: 175.38499450683594\n",
            "Date: 2023-05-16 09:30:00-04:00, Predicted Price: 173.85, Actual Price: 175.01499938964844\n",
            "Date: 2023-05-16 10:30:00-04:00, Predicted Price: 174.01, Actual Price: 175.3800048828125\n",
            "Date: 2023-05-16 11:30:00-04:00, Predicted Price: 174.17, Actual Price: 175.3800048828125\n",
            "Date: 2023-05-16 12:30:00-04:00, Predicted Price: 174.34, Actual Price: 177.61109924316406\n",
            "Date: 2023-05-16 13:30:00-04:00, Predicted Price: 174.55, Actual Price: 177.24000549316406\n",
            "Date: 2023-05-16 14:30:00-04:00, Predicted Price: 174.79, Actual Price: 177.22219848632812\n",
            "Date: 2023-05-16 15:30:00-04:00, Predicted Price: 175.03, Actual Price: 177.14999389648438\n",
            "Date: 2023-05-17 09:30:00-04:00, Predicted Price: 175.28, Actual Price: 177.59010314941406\n",
            "Date: 2023-05-17 10:30:00-04:00, Predicted Price: 175.52, Actual Price: 177.52000427246094\n",
            "Date: 2023-05-17 11:30:00-04:00, Predicted Price: 175.76, Actual Price: 177.3300018310547\n",
            "Date: 2023-05-17 12:30:00-04:00, Predicted Price: 175.99, Actual Price: 177.89500427246094\n",
            "Date: 2023-05-17 13:30:00-04:00, Predicted Price: 176.23, Actual Price: 178.32000732421875\n",
            "Date: 2023-05-17 14:30:00-04:00, Predicted Price: 176.46, Actual Price: 178.74270629882812\n",
            "Date: 2023-05-17 15:30:00-04:00, Predicted Price: 176.70, Actual Price: 178.88999938964844\n",
            "Date: 2023-05-18 09:30:00-04:00, Predicted Price: 176.93, Actual Price: 179.16990661621094\n",
            "Date: 2023-05-18 10:30:00-04:00, Predicted Price: 177.16, Actual Price: 178.7178955078125\n",
            "Date: 2023-05-18 11:30:00-04:00, Predicted Price: 177.38, Actual Price: 177.4199981689453\n",
            "Date: 2023-05-18 12:30:00-04:00, Predicted Price: 177.58, Actual Price: 178.10000610351562\n",
            "Date: 2023-05-18 13:30:00-04:00, Predicted Price: 177.76, Actual Price: 179.47999572753906\n",
            "Date: 2023-05-18 14:30:00-04:00, Predicted Price: 177.94, Actual Price: 179.8000030517578\n",
            "Date: 2023-05-18 15:30:00-04:00, Predicted Price: 178.11, Actual Price: 179.61000061035156\n",
            "Date: 2023-05-19 09:30:00-04:00, Predicted Price: 178.30, Actual Price: 179.875\n",
            "Date: 2023-05-19 10:30:00-04:00, Predicted Price: 178.47, Actual Price: 179.77999877929688\n",
            "Date: 2023-05-19 11:30:00-04:00, Predicted Price: 178.65, Actual Price: 180.11000061035156\n",
            "Date: 2023-05-19 12:30:00-04:00, Predicted Price: 178.81, Actual Price: 179.72999572753906\n",
            "Date: 2023-05-19 13:30:00-04:00, Predicted Price: 178.99, Actual Price: 180.5\n",
            "Date: 2023-05-19 14:30:00-04:00, Predicted Price: 179.15, Actual Price: 180.6699981689453\n",
            "Date: 2023-05-19 15:30:00-04:00, Predicted Price: 179.32, Actual Price: 180.58999633789062\n",
            "Date: 2023-05-22 09:30:00-04:00, Predicted Price: 179.49, Actual Price: 180.45989990234375\n",
            "Date: 2023-05-22 10:30:00-04:00, Predicted Price: 179.65, Actual Price: 180.7550048828125\n",
            "Date: 2023-05-22 11:30:00-04:00, Predicted Price: 179.80, Actual Price: 180.9600067138672\n",
            "Date: 2023-05-22 12:30:00-04:00, Predicted Price: 179.94, Actual Price: 183.7100067138672\n",
            "Date: 2023-05-22 13:30:00-04:00, Predicted Price: 180.12, Actual Price: 184.22999572753906\n",
            "Date: 2023-05-22 14:30:00-04:00, Predicted Price: 180.33, Actual Price: 184.55039978027344\n",
            "Date: 2023-05-22 15:30:00-04:00, Predicted Price: 180.57, Actual Price: 184.11399841308594\n",
            "Date: 2023-05-23 09:30:00-04:00, Predicted Price: 180.82, Actual Price: 183.06829833984375\n",
            "Date: 2023-05-23 10:30:00-04:00, Predicted Price: 181.07, Actual Price: 179.52499389648438\n",
            "Date: 2023-05-23 11:30:00-04:00, Predicted Price: 181.27, Actual Price: 179.60000610351562\n",
            "Date: 2023-05-23 12:30:00-04:00, Predicted Price: 181.41, Actual Price: 178.94000244140625\n",
            "Date: 2023-05-23 13:30:00-04:00, Predicted Price: 181.51, Actual Price: 177.7899932861328\n",
            "Date: 2023-05-23 14:30:00-04:00, Predicted Price: 181.56, Actual Price: 178.69000244140625\n",
            "Date: 2023-05-23 15:30:00-04:00, Predicted Price: 181.56, Actual Price: 178.71499633789062\n",
            "Date: 2023-05-24 09:30:00-04:00, Predicted Price: 181.52, Actual Price: 179.32000732421875\n",
            "Date: 2023-05-24 10:30:00-04:00, Predicted Price: 181.45, Actual Price: 179.41000366210938\n",
            "Date: 2023-05-24 11:30:00-04:00, Predicted Price: 181.37, Actual Price: 179.16000366210938\n",
            "Date: 2023-05-24 12:30:00-04:00, Predicted Price: 181.28, Actual Price: 179.27999877929688\n",
            "Date: 2023-05-24 13:30:00-04:00, Predicted Price: 181.18, Actual Price: 178.97500610351562\n",
            "Date: 2023-05-24 14:30:00-04:00, Predicted Price: 181.08, Actual Price: 178.3699951171875\n",
            "Date: 2023-05-24 15:30:00-04:00, Predicted Price: 180.98, Actual Price: 177.69000244140625\n",
            "Date: 2023-05-25 09:30:00-04:00, Predicted Price: 180.86, Actual Price: 178.02999877929688\n",
            "Date: 2023-05-25 10:30:00-04:00, Predicted Price: 180.73, Actual Price: 178.06500244140625\n",
            "Date: 2023-05-25 11:30:00-04:00, Predicted Price: 180.59, Actual Price: 177.82000732421875\n",
            "Date: 2023-05-25 12:30:00-04:00, Predicted Price: 180.45, Actual Price: 178.47000122070312\n",
            "Date: 2023-05-25 13:30:00-04:00, Predicted Price: 180.32, Actual Price: 179.23910522460938\n",
            "Date: 2023-05-25 14:30:00-04:00, Predicted Price: 180.20, Actual Price: 179.9698944091797\n",
            "Date: 2023-05-25 15:30:00-04:00, Predicted Price: 180.11, Actual Price: 179.47000122070312\n",
            "Date: 2023-05-26 09:30:00-04:00, Predicted Price: 180.03, Actual Price: 179.94500732421875\n",
            "Date: 2023-05-26 10:30:00-04:00, Predicted Price: 179.97, Actual Price: 180.2550048828125\n",
            "Date: 2023-05-26 11:30:00-04:00, Predicted Price: 179.94, Actual Price: 180.5399932861328\n",
            "Date: 2023-05-26 12:30:00-04:00, Predicted Price: 179.94, Actual Price: 181.9199981689453\n",
            "Date: 2023-05-26 13:30:00-04:00, Predicted Price: 179.98, Actual Price: 181.22999572753906\n",
            "Date: 2023-05-26 14:30:00-04:00, Predicted Price: 180.05, Actual Price: 181.16000366210938\n",
            "Date: 2023-05-26 15:30:00-04:00, Predicted Price: 180.13, Actual Price: 181.66000366210938\n",
            "Date: 2023-05-30 09:30:00-04:00, Predicted Price: 180.22, Actual Price: 182.00990295410156\n",
            "Date: 2023-05-30 10:30:00-04:00, Predicted Price: 180.34, Actual Price: 181.49000549316406\n",
            "Date: 2023-05-30 11:30:00-04:00, Predicted Price: 180.45, Actual Price: 181.0399932861328\n",
            "Date: 2023-05-30 12:30:00-04:00, Predicted Price: 180.57, Actual Price: 181.60000610351562\n",
            "Date: 2023-05-30 13:30:00-04:00, Predicted Price: 180.69, Actual Price: 182.01499938964844\n",
            "Date: 2023-05-30 14:30:00-04:00, Predicted Price: 180.81, Actual Price: 182.27499389648438\n",
            "Date: 2023-05-30 15:30:00-04:00, Predicted Price: 180.94, Actual Price: 182.5399932861328\n",
            "Date: 2023-05-31 09:30:00-04:00, Predicted Price: 181.07, Actual Price: 182.7100067138672\n",
            "Date: 2023-05-31 10:30:00-04:00, Predicted Price: 181.21, Actual Price: 183.3090057373047\n",
            "Date: 2023-05-31 11:30:00-04:00, Predicted Price: 181.35, Actual Price: 183.83999633789062\n",
            "Date: 2023-05-31 12:30:00-04:00, Predicted Price: 181.50, Actual Price: 182.75999450683594\n",
            "Date: 2023-05-31 13:30:00-04:00, Predicted Price: 181.66, Actual Price: 183.39999389648438\n",
            "Date: 2023-05-31 14:30:00-04:00, Predicted Price: 181.81, Actual Price: 183.1699981689453\n",
            "Date: 2023-05-31 15:30:00-04:00, Predicted Price: 181.96, Actual Price: 183.0207977294922\n",
            "Date: 2023-06-01 09:30:00-04:00, Predicted Price: 182.10, Actual Price: 182.83999633789062\n",
            "Date: 2023-06-01 10:30:00-04:00, Predicted Price: 182.23, Actual Price: 182.97999572753906\n",
            "Date: 2023-06-01 11:30:00-04:00, Predicted Price: 182.35, Actual Price: 183.30999755859375\n",
            "Date: 2023-06-01 12:30:00-04:00, Predicted Price: 182.45, Actual Price: 184.22500610351562\n",
            "Date: 2023-06-01 13:30:00-04:00, Predicted Price: 182.56, Actual Price: 184.2100067138672\n",
            "Date: 2023-06-01 14:30:00-04:00, Predicted Price: 182.67, Actual Price: 184.11500549316406\n",
            "Date: 2023-06-01 15:30:00-04:00, Predicted Price: 182.78, Actual Price: 183.72999572753906\n",
            "Date: 2023-06-02 09:30:00-04:00, Predicted Price: 182.88, Actual Price: 182.64999389648438\n",
            "Date: 2023-06-02 10:30:00-04:00, Predicted Price: 182.97, Actual Price: 183.50999450683594\n",
            "Date: 2023-06-02 11:30:00-04:00, Predicted Price: 183.05, Actual Price: 183.9600067138672\n",
            "Date: 2023-06-02 12:30:00-04:00, Predicted Price: 183.12, Actual Price: 185.83999633789062\n",
            "Date: 2023-06-02 13:30:00-04:00, Predicted Price: 183.21, Actual Price: 185.83999633789062\n",
            "Date: 2023-06-02 14:30:00-04:00, Predicted Price: 183.31, Actual Price: 185.1999969482422\n",
            "Date: 2023-06-02 15:30:00-04:00, Predicted Price: 183.43, Actual Price: 185.08999633789062\n",
            "Date: 2023-06-05 09:30:00-04:00, Predicted Price: 183.54, Actual Price: 185.80499267578125\n",
            "Date: 2023-06-05 10:30:00-04:00, Predicted Price: 183.66, Actual Price: 186.17999267578125\n",
            "Date: 2023-06-05 11:30:00-04:00, Predicted Price: 183.80, Actual Price: 186.02000427246094\n",
            "Date: 2023-06-05 12:30:00-04:00, Predicted Price: 183.94, Actual Price: 185.908203125\n",
            "Date: 2023-06-05 13:30:00-04:00, Predicted Price: 184.09, Actual Price: 185.47999572753906\n",
            "Date: 2023-06-05 14:30:00-04:00, Predicted Price: 184.22, Actual Price: 185.7301025390625\n",
            "Date: 2023-06-05 15:30:00-04:00, Predicted Price: 184.35, Actual Price: 185.8000030517578\n",
            "Date: 2023-06-06 09:30:00-04:00, Predicted Price: 184.47, Actual Price: 185.30999755859375\n",
            "Date: 2023-06-06 10:30:00-04:00, Predicted Price: 184.58, Actual Price: 184.9149932861328\n",
            "Date: 2023-06-06 11:30:00-04:00, Predicted Price: 184.67, Actual Price: 185.02000427246094\n",
            "Date: 2023-06-06 12:30:00-04:00, Predicted Price: 184.75, Actual Price: 184.80999755859375\n",
            "Date: 2023-06-06 13:30:00-04:00, Predicted Price: 184.81, Actual Price: 185.0601043701172\n",
            "Date: 2023-06-06 14:30:00-04:00, Predicted Price: 184.86, Actual Price: 185.55499267578125\n",
            "Date: 2023-06-06 15:30:00-04:00, Predicted Price: 184.90, Actual Price: 185.92999267578125\n",
            "Date: 2023-06-07 09:30:00-04:00, Predicted Price: 184.94, Actual Price: 185.77000427246094\n",
            "Date: 2023-06-07 10:30:00-04:00, Predicted Price: 184.98, Actual Price: 185.33999633789062\n",
            "Date: 2023-06-07 11:30:00-04:00, Predicted Price: 185.01, Actual Price: 185.02000427246094\n",
            "Date: 2023-06-07 12:30:00-04:00, Predicted Price: 185.04, Actual Price: 184.1199951171875\n",
            "Date: 2023-06-07 13:30:00-04:00, Predicted Price: 185.06, Actual Price: 183.13999938964844\n",
            "Date: 2023-06-07 14:30:00-04:00, Predicted Price: 185.04, Actual Price: 184.06500244140625\n",
            "Date: 2023-06-07 15:30:00-04:00, Predicted Price: 185.01, Actual Price: 184.1300048828125\n",
            "Date: 2023-06-08 09:30:00-04:00, Predicted Price: 184.97, Actual Price: 185.10000610351562\n",
            "Date: 2023-06-08 10:30:00-04:00, Predicted Price: 184.93, Actual Price: 184.5050048828125\n",
            "Date: 2023-06-08 11:30:00-04:00, Predicted Price: 184.89, Actual Price: 183.9600067138672\n",
            "Date: 2023-06-08 12:30:00-04:00, Predicted Price: 184.85, Actual Price: 185.77000427246094\n",
            "Date: 2023-06-08 13:30:00-04:00, Predicted Price: 184.82, Actual Price: 186.25\n",
            "Date: 2023-06-08 14:30:00-04:00, Predicted Price: 184.80, Actual Price: 186.07000732421875\n",
            "Date: 2023-06-08 15:30:00-04:00, Predicted Price: 184.81, Actual Price: 185.75\n",
            "Date: 2023-06-09 09:30:00-04:00, Predicted Price: 184.83, Actual Price: 186.4250030517578\n",
            "Date: 2023-06-09 10:30:00-04:00, Predicted Price: 184.86, Actual Price: 186.4149932861328\n",
            "Date: 2023-06-09 11:30:00-04:00, Predicted Price: 184.90, Actual Price: 186.97000122070312\n",
            "Date: 2023-06-09 12:30:00-04:00, Predicted Price: 184.96, Actual Price: 185.8300018310547\n",
            "Date: 2023-06-09 13:30:00-04:00, Predicted Price: 185.02, Actual Price: 186.0800018310547\n",
            "Date: 2023-06-09 14:30:00-04:00, Predicted Price: 185.07, Actual Price: 186.94000244140625\n",
            "Date: 2023-06-09 15:30:00-04:00, Predicted Price: 185.13, Actual Price: 187.33700561523438\n",
            "Date: 2023-06-12 09:30:00-04:00, Predicted Price: 185.21, Actual Price: 187.24000549316406\n",
            "Date: 2023-06-12 10:30:00-04:00, Predicted Price: 185.29, Actual Price: 186.81500244140625\n",
            "Date: 2023-06-12 11:30:00-04:00, Predicted Price: 185.37, Actual Price: 186.69000244140625\n",
            "Date: 2023-06-12 12:30:00-04:00, Predicted Price: 185.46, Actual Price: 187.7498016357422\n",
            "Date: 2023-06-12 13:30:00-04:00, Predicted Price: 185.55, Actual Price: 186.52999877929688\n",
            "Date: 2023-06-12 14:30:00-04:00, Predicted Price: 185.63, Actual Price: 186.25\n",
            "Date: 2023-06-12 15:30:00-04:00, Predicted Price: 185.70, Actual Price: 185.98500061035156\n",
            "Date: 2023-06-13 09:30:00-04:00, Predicted Price: 185.76, Actual Price: 185.99000549316406\n",
            "Date: 2023-06-13 10:30:00-04:00, Predicted Price: 185.81, Actual Price: 186.0749969482422\n",
            "Date: 2023-06-13 11:30:00-04:00, Predicted Price: 185.85, Actual Price: 185.3000030517578\n",
            "Date: 2023-06-13 12:30:00-04:00, Predicted Price: 185.87, Actual Price: 186.85000610351562\n",
            "Date: 2023-06-13 13:30:00-04:00, Predicted Price: 185.90, Actual Price: 186.9499969482422\n",
            "Date: 2023-06-13 14:30:00-04:00, Predicted Price: 185.91, Actual Price: 187.47999572753906\n",
            "Date: 2023-06-13 15:30:00-04:00, Predicted Price: 185.94, Actual Price: 187.78500366210938\n",
            "Date: 2023-06-14 09:30:00-04:00, Predicted Price: 185.97, Actual Price: 188.19500732421875\n",
            "Date: 2023-06-14 10:30:00-04:00, Predicted Price: 186.02, Actual Price: 188.30499267578125\n",
            "Date: 2023-06-14 11:30:00-04:00, Predicted Price: 186.09, Actual Price: 188.0399932861328\n",
            "Date: 2023-06-14 12:30:00-04:00, Predicted Price: 186.16, Actual Price: 188.4199981689453\n",
            "Date: 2023-06-14 13:30:00-04:00, Predicted Price: 186.24, Actual Price: 189.01499938964844\n",
            "Date: 2023-06-14 14:30:00-04:00, Predicted Price: 186.32, Actual Price: 189.30499267578125\n",
            "Date: 2023-06-14 15:30:00-04:00, Predicted Price: 186.42, Actual Price: 189.07000732421875\n",
            "Date: 2023-06-15 09:30:00-04:00, Predicted Price: 186.51, Actual Price: 189.36500549316406\n",
            "Date: 2023-06-15 10:30:00-04:00, Predicted Price: 186.62, Actual Price: 189.02000427246094\n",
            "Date: 2023-06-15 11:30:00-04:00, Predicted Price: 186.72, Actual Price: 189.27999877929688\n",
            "Date: 2023-06-15 12:30:00-04:00, Predicted Price: 186.82, Actual Price: 189.47000122070312\n",
            "Date: 2023-06-15 13:30:00-04:00, Predicted Price: 186.94, Actual Price: 189.88999938964844\n",
            "Date: 2023-06-15 14:30:00-04:00, Predicted Price: 187.04, Actual Price: 189.6750030517578\n",
            "Date: 2023-06-15 15:30:00-04:00, Predicted Price: 187.15, Actual Price: 189.49000549316406\n",
            "Date: 2023-06-16 09:30:00-04:00, Predicted Price: 187.25, Actual Price: 189.65060424804688\n",
            "Date: 2023-06-16 10:30:00-04:00, Predicted Price: 187.34, Actual Price: 189.47760009765625\n",
            "Date: 2023-06-16 11:30:00-04:00, Predicted Price: 187.44, Actual Price: 189.58999633789062\n",
            "Date: 2023-06-16 12:30:00-04:00, Predicted Price: 187.53, Actual Price: 192.69000244140625\n",
            "Date: 2023-06-16 13:30:00-04:00, Predicted Price: 187.66, Actual Price: 192.38499450683594\n",
            "Date: 2023-06-16 14:30:00-04:00, Predicted Price: 187.79, Actual Price: 192.58999633789062\n",
            "Date: 2023-06-16 15:30:00-04:00, Predicted Price: 187.93, Actual Price: 192.9250030517578\n",
            "Date: 2023-06-20 09:30:00-04:00, Predicted Price: 188.09, Actual Price: 193.02499389648438\n",
            "Date: 2023-06-20 10:30:00-04:00, Predicted Price: 188.25, Actual Price: 193.49000549316406\n",
            "Date: 2023-06-20 11:30:00-04:00, Predicted Price: 188.42, Actual Price: 193.8000030517578\n",
            "Date: 2023-06-20 12:30:00-04:00, Predicted Price: 188.61, Actual Price: 192.9149932861328\n",
            "Date: 2023-06-20 13:30:00-04:00, Predicted Price: 188.78, Actual Price: 192.35499572753906\n",
            "Date: 2023-06-20 14:30:00-04:00, Predicted Price: 188.93, Actual Price: 192.11500549316406\n",
            "Date: 2023-06-20 15:30:00-04:00, Predicted Price: 189.07, Actual Price: 192.35000610351562\n",
            "Date: 2023-06-21 09:30:00-04:00, Predicted Price: 189.20, Actual Price: 191.43499755859375\n",
            "Date: 2023-06-21 10:30:00-04:00, Predicted Price: 189.31, Actual Price: 191.1416015625\n",
            "Date: 2023-06-21 11:30:00-04:00, Predicted Price: 189.39, Actual Price: 190.99000549316406\n",
            "Date: 2023-06-21 12:30:00-04:00, Predicted Price: 189.46, Actual Price: 190.9499969482422\n",
            "Date: 2023-06-21 13:30:00-04:00, Predicted Price: 189.51, Actual Price: 191.35499572753906\n",
            "Date: 2023-06-21 14:30:00-04:00, Predicted Price: 189.55, Actual Price: 191.32000732421875\n",
            "Date: 2023-06-21 15:30:00-04:00, Predicted Price: 189.58, Actual Price: 189.94000244140625\n",
            "Date: 2023-06-22 09:30:00-04:00, Predicted Price: 189.59, Actual Price: 190.1699981689453\n",
            "Date: 2023-06-22 10:30:00-04:00, Predicted Price: 189.56, Actual Price: 190.93499755859375\n",
            "Date: 2023-06-22 11:30:00-04:00, Predicted Price: 189.54, Actual Price: 191.11000061035156\n",
            "Date: 2023-06-22 12:30:00-04:00, Predicted Price: 189.52, Actual Price: 191.02999877929688\n",
            "Date: 2023-06-22 13:30:00-04:00, Predicted Price: 189.49, Actual Price: 191.63999938964844\n",
            "Date: 2023-06-22 14:30:00-04:00, Predicted Price: 189.47, Actual Price: 191.77999877929688\n",
            "Date: 2023-06-22 15:30:00-04:00, Predicted Price: 189.47, Actual Price: 190.6199951171875\n",
            "Date: 2023-06-23 09:30:00-04:00, Predicted Price: 189.46, Actual Price: 191.20950317382812\n",
            "Date: 2023-06-23 10:30:00-04:00, Predicted Price: 189.44, Actual Price: 192.12989807128906\n",
            "Date: 2023-06-23 11:30:00-04:00, Predicted Price: 189.43, Actual Price: 192.55999755859375\n",
            "Date: 2023-06-23 12:30:00-04:00, Predicted Price: 189.44, Actual Price: 192.39999389648438\n",
            "Date: 2023-06-23 13:30:00-04:00, Predicted Price: 189.45, Actual Price: 191.75\n",
            "Date: 2023-06-23 14:30:00-04:00, Predicted Price: 189.48, Actual Price: 190.7100067138672\n",
            "Date: 2023-06-23 15:30:00-04:00, Predicted Price: 189.49, Actual Price: 188.95989990234375\n",
            "Date: 2023-06-26 09:30:00-04:00, Predicted Price: 189.48, Actual Price: 187.86000061035156\n",
            "Date: 2023-06-26 10:30:00-04:00, Predicted Price: 189.42, Actual Price: 187.56199645996094\n",
            "Date: 2023-06-26 11:30:00-04:00, Predicted Price: 189.34, Actual Price: 188.08999633789062\n",
            "Date: 2023-06-26 12:30:00-04:00, Predicted Price: 189.24, Actual Price: 188.61500549316406\n",
            "Date: 2023-06-26 13:30:00-04:00, Predicted Price: 189.14, Actual Price: 188.3000030517578\n",
            "Date: 2023-06-26 14:30:00-04:00, Predicted Price: 189.03, Actual Price: 188.6300048828125\n",
            "Date: 2023-06-26 15:30:00-04:00, Predicted Price: 188.92, Actual Price: 188.11000061035156\n",
            "Date: 2023-06-27 09:30:00-04:00, Predicted Price: 188.81, Actual Price: 187.71499633789062\n",
            "Date: 2023-06-27 10:30:00-04:00, Predicted Price: 188.69, Actual Price: 187.61500549316406\n",
            "Date: 2023-06-27 11:30:00-04:00, Predicted Price: 188.57, Actual Price: 187.41000366210938\n",
            "Date: 2023-06-27 12:30:00-04:00, Predicted Price: 188.44, Actual Price: 186.88099670410156\n",
            "Date: 2023-06-27 13:30:00-04:00, Predicted Price: 188.31, Actual Price: 187.13720703125\n",
            "Date: 2023-06-27 14:30:00-04:00, Predicted Price: 188.18, Actual Price: 188.05050659179688\n",
            "Date: 2023-06-27 15:30:00-04:00, Predicted Price: 188.05, Actual Price: 190.35000610351562\n",
            "Date: 2023-06-28 09:30:00-04:00, Predicted Price: 187.99, Actual Price: 189.52999877929688\n",
            "Date: 2023-06-28 10:30:00-04:00, Predicted Price: 187.93, Actual Price: 189.15499877929688\n",
            "Date: 2023-06-28 11:30:00-04:00, Predicted Price: 187.87, Actual Price: 189.86000061035156\n",
            "Date: 2023-06-28 12:30:00-04:00, Predicted Price: 187.84, Actual Price: 190.33999633789062\n",
            "Date: 2023-06-28 13:30:00-04:00, Predicted Price: 187.83, Actual Price: 189.86000061035156\n",
            "Date: 2023-06-28 14:30:00-04:00, Predicted Price: 187.84, Actual Price: 189.80999755859375\n",
            "Date: 2023-06-28 15:30:00-04:00, Predicted Price: 187.86, Actual Price: 189.97999572753906\n",
            "Date: 2023-06-29 09:30:00-04:00, Predicted Price: 187.91, Actual Price: 190.1699981689453\n",
            "Date: 2023-06-29 10:30:00-04:00, Predicted Price: 187.95, Actual Price: 190.6750030517578\n",
            "Date: 2023-06-29 11:30:00-04:00, Predicted Price: 188.00, Actual Price: 190.6649932861328\n",
            "Date: 2023-06-29 12:30:00-04:00, Predicted Price: 188.06, Actual Price: 190.5800018310547\n",
            "Date: 2023-06-29 13:30:00-04:00, Predicted Price: 188.13, Actual Price: 190.89500427246094\n",
            "Date: 2023-06-29 14:30:00-04:00, Predicted Price: 188.20, Actual Price: 190.5399932861328\n",
            "Date: 2023-06-29 15:30:00-04:00, Predicted Price: 188.28, Actual Price: 190.85000610351562\n",
            "Date: 2023-06-30 09:30:00-04:00, Predicted Price: 188.36, Actual Price: 190.36000061035156\n",
            "Date: 2023-06-30 10:30:00-04:00, Predicted Price: 188.43, Actual Price: 189.9499969482422\n",
            "Date: 2023-06-30 11:30:00-04:00, Predicted Price: 188.48, Actual Price: 190.01499938964844\n",
            "Date: 2023-06-30 12:30:00-04:00, Predicted Price: 188.53, Actual Price: 190.19000244140625\n",
            "Date: 2023-06-30 13:30:00-04:00, Predicted Price: 188.57, Actual Price: 190.27499389648438\n",
            "Date: 2023-06-30 14:30:00-04:00, Predicted Price: 188.61, Actual Price: 190.72999572753906\n",
            "Date: 2023-06-30 15:30:00-04:00, Predicted Price: 188.64, Actual Price: 192.76499938964844\n",
            "Date: 2023-07-03 09:30:00-04:00, Predicted Price: 188.72, Actual Price: 193.0050048828125\n",
            "Date: 2023-07-03 10:30:00-04:00, Predicted Price: 188.79, Actual Price: 192.75\n",
            "Date: 2023-07-03 11:30:00-04:00, Predicted Price: 188.87, Actual Price: 193.0800018310547\n",
            "Date: 2023-07-05 09:30:00-04:00, Predicted Price: 188.96, Actual Price: 193.6649932861328\n",
            "Date: 2023-07-05 10:30:00-04:00, Predicted Price: 189.06, Actual Price: 194.14999389648438\n",
            "Date: 2023-07-05 11:30:00-04:00, Predicted Price: 189.18, Actual Price: 193.97999572753906\n",
            "Date: 2023-07-05 12:30:00-04:00, Predicted Price: 189.31, Actual Price: 192.98500061035156\n",
            "Date: 2023-07-05 13:30:00-04:00, Predicted Price: 189.43, Actual Price: 193.14500427246094\n",
            "Date: 2023-07-05 14:30:00-04:00, Predicted Price: 189.55, Actual Price: 192.7050018310547\n",
            "Date: 2023-07-05 15:30:00-04:00, Predicted Price: 189.66, Actual Price: 192.93499755859375\n",
            "Date: 2023-07-06 09:30:00-04:00, Predicted Price: 189.75, Actual Price: 193.75999450683594\n",
            "Date: 2023-07-06 10:30:00-04:00, Predicted Price: 189.84, Actual Price: 193.94000244140625\n",
            "Date: 2023-07-06 11:30:00-04:00, Predicted Price: 189.94, Actual Price: 193.72999572753906\n",
            "Date: 2023-07-06 12:30:00-04:00, Predicted Price: 190.04, Actual Price: 192.77999877929688\n",
            "Date: 2023-07-06 13:30:00-04:00, Predicted Price: 190.12, Actual Price: 193.13099670410156\n",
            "Date: 2023-07-06 14:30:00-04:00, Predicted Price: 190.19, Actual Price: 195.11000061035156\n",
            "Date: 2023-07-06 15:30:00-04:00, Predicted Price: 190.29, Actual Price: 194.33999633789062\n",
            "Date: 2023-07-07 09:30:00-04:00, Predicted Price: 190.36, Actual Price: 194.64500427246094\n",
            "Date: 2023-07-07 10:30:00-04:00, Predicted Price: 190.42, Actual Price: 195.3800048828125\n",
            "Date: 2023-07-07 11:30:00-04:00, Predicted Price: 190.49, Actual Price: 195.0850067138672\n",
            "Date: 2023-07-07 12:30:00-04:00, Predicted Price: 190.57, Actual Price: 194.9080047607422\n",
            "Date: 2023-07-07 13:30:00-04:00, Predicted Price: 190.67, Actual Price: 194.60000610351562\n",
            "Date: 2023-07-07 14:30:00-04:00, Predicted Price: 190.73, Actual Price: 194.6199951171875\n",
            "Date: 2023-07-07 15:30:00-04:00, Predicted Price: 190.81, Actual Price: 194.25999450683594\n",
            "Date: 2023-07-10 09:30:00-04:00, Predicted Price: 190.87, Actual Price: 193.19009399414062\n",
            "Date: 2023-07-10 10:30:00-04:00, Predicted Price: 190.91, Actual Price: 192.5449981689453\n",
            "Date: 2023-07-10 11:30:00-04:00, Predicted Price: 190.95, Actual Price: 193.13999938964844\n",
            "Date: 2023-07-10 12:30:00-04:00, Predicted Price: 190.98, Actual Price: 192.8699951171875\n",
            "Date: 2023-07-10 13:30:00-04:00, Predicted Price: 191.01, Actual Price: 193.59500122070312\n",
            "Date: 2023-07-10 14:30:00-04:00, Predicted Price: 191.01, Actual Price: 192.6082000732422\n",
            "Date: 2023-07-10 15:30:00-04:00, Predicted Price: 191.01, Actual Price: 192.6999969482422\n",
            "Date: 2023-07-11 09:30:00-04:00, Predicted Price: 190.98, Actual Price: 192.72500610351562\n",
            "Date: 2023-07-11 10:30:00-04:00, Predicted Price: 190.96, Actual Price: 192.39999389648438\n",
            "Date: 2023-07-11 11:30:00-04:00, Predicted Price: 190.93, Actual Price: 191.92999267578125\n",
            "Date: 2023-07-11 12:30:00-04:00, Predicted Price: 190.89, Actual Price: 193.72999572753906\n",
            "Date: 2023-07-11 13:30:00-04:00, Predicted Price: 190.88, Actual Price: 193.27000427246094\n",
            "Date: 2023-07-11 14:30:00-04:00, Predicted Price: 190.84, Actual Price: 193.1649932861328\n",
            "Date: 2023-07-11 15:30:00-04:00, Predicted Price: 190.82, Actual Price: 192.97999572753906\n",
            "Date: 2023-07-12 09:30:00-04:00, Predicted Price: 190.79, Actual Price: 193.2449951171875\n",
            "Date: 2023-07-12 10:30:00-04:00, Predicted Price: 190.77, Actual Price: 192.3699951171875\n",
            "Date: 2023-07-12 11:30:00-04:00, Predicted Price: 190.74, Actual Price: 192.73500061035156\n",
            "Date: 2023-07-12 12:30:00-04:00, Predicted Price: 190.72, Actual Price: 193.39500427246094\n",
            "Date: 2023-07-12 13:30:00-04:00, Predicted Price: 190.71, Actual Price: 193.82000732421875\n",
            "Date: 2023-07-12 14:30:00-04:00, Predicted Price: 190.70, Actual Price: 193.7646942138672\n",
            "Date: 2023-07-12 15:30:00-04:00, Predicted Price: 190.70, Actual Price: 194.1999969482422\n",
            "Date: 2023-07-13 09:30:00-04:00, Predicted Price: 190.70, Actual Price: 194.12120056152344\n",
            "Date: 2023-07-13 10:30:00-04:00, Predicted Price: 190.72, Actual Price: 194.27499389648438\n",
            "Date: 2023-07-13 11:30:00-04:00, Predicted Price: 190.74, Actual Price: 193.6300048828125\n",
            "Date: 2023-07-13 12:30:00-04:00, Predicted Price: 190.77, Actual Price: 193.97999572753906\n",
            "Date: 2023-07-13 13:30:00-04:00, Predicted Price: 190.80, Actual Price: 194.24000549316406\n",
            "Date: 2023-07-13 14:30:00-04:00, Predicted Price: 190.83, Actual Price: 194.50999450683594\n",
            "Date: 2023-07-13 15:30:00-04:00, Predicted Price: 190.86, Actual Price: 194.36000061035156\n",
            "Date: 2023-07-14 09:30:00-04:00, Predicted Price: 190.90, Actual Price: 194.27000427246094\n",
            "Date: 2023-07-14 10:30:00-04:00, Predicted Price: 190.93, Actual Price: 194.21499633789062\n",
            "Date: 2023-07-14 11:30:00-04:00, Predicted Price: 190.98, Actual Price: 194.52000427246094\n",
            "Date: 2023-07-14 12:30:00-04:00, Predicted Price: 191.01, Actual Price: 195.97000122070312\n",
            "Date: 2023-07-14 13:30:00-04:00, Predicted Price: 191.07, Actual Price: 196.13999938964844\n",
            "Date: 2023-07-14 14:30:00-04:00, Predicted Price: 191.13, Actual Price: 196.30499267578125\n",
            "Date: 2023-07-14 15:30:00-04:00, Predicted Price: 191.19, Actual Price: 195.00999450683594\n",
            "Date: 2023-07-17 09:30:00-04:00, Predicted Price: 191.26, Actual Price: 193.72999572753906\n",
            "Date: 2023-07-17 10:30:00-04:00, Predicted Price: 191.30, Actual Price: 193.00999450683594\n",
            "Date: 2023-07-17 11:30:00-04:00, Predicted Price: 191.34, Actual Price: 193.22999572753906\n",
            "Date: 2023-07-17 12:30:00-04:00, Predicted Price: 191.35, Actual Price: 195.6199951171875\n",
            "Date: 2023-07-17 13:30:00-04:00, Predicted Price: 191.38, Actual Price: 196.1999969482422\n",
            "Date: 2023-07-17 14:30:00-04:00, Predicted Price: 191.41, Actual Price: 196.4210968017578\n",
            "Date: 2023-07-17 15:30:00-04:00, Predicted Price: 191.45, Actual Price: 195.58999633789062\n",
            "Date: 2023-07-18 09:30:00-04:00, Predicted Price: 191.49, Actual Price: 196.09019470214844\n",
            "Date: 2023-07-18 10:30:00-04:00, Predicted Price: 191.53, Actual Price: 195.76499938964844\n",
            "Date: 2023-07-18 11:30:00-04:00, Predicted Price: 191.57, Actual Price: 195.83999633789062\n",
            "Date: 2023-07-18 12:30:00-04:00, Predicted Price: 191.62, Actual Price: 196.24000549316406\n",
            "Date: 2023-07-18 13:30:00-04:00, Predicted Price: 191.67, Actual Price: 196.1750030517578\n",
            "Date: 2023-07-18 14:30:00-04:00, Predicted Price: 191.71, Actual Price: 196.1544952392578\n",
            "Date: 2023-07-18 15:30:00-04:00, Predicted Price: 191.76, Actual Price: 196.12989807128906\n",
            "Date: 2023-07-19 09:30:00-04:00, Predicted Price: 191.81, Actual Price: 196.16000366210938\n",
            "Date: 2023-07-19 10:30:00-04:00, Predicted Price: 191.86, Actual Price: 196.0876007080078\n",
            "Date: 2023-07-19 11:30:00-04:00, Predicted Price: 191.91, Actual Price: 196.49000549316406\n",
            "Date: 2023-07-19 12:30:00-04:00, Predicted Price: 191.96, Actual Price: 195.47500610351562\n",
            "Date: 2023-07-19 13:30:00-04:00, Predicted Price: 192.00, Actual Price: 196.11500549316406\n",
            "Date: 2023-07-19 14:30:00-04:00, Predicted Price: 192.03, Actual Price: 195.49729919433594\n",
            "Date: 2023-07-19 15:30:00-04:00, Predicted Price: 192.06, Actual Price: 195.72950744628906\n",
            "Date: 2023-07-20 09:30:00-04:00, Predicted Price: 192.08, Actual Price: 196.0532989501953\n",
            "Date: 2023-07-20 10:30:00-04:00, Predicted Price: 192.10, Actual Price: 195.80999755859375\n",
            "Date: 2023-07-20 11:30:00-04:00, Predicted Price: 192.12, Actual Price: 195.60000610351562\n",
            "Date: 2023-07-20 12:30:00-04:00, Predicted Price: 192.14, Actual Price: 193.2781982421875\n",
            "Date: 2023-07-20 13:30:00-04:00, Predicted Price: 192.13, Actual Price: 193.00999450683594\n",
            "Date: 2023-07-20 14:30:00-04:00, Predicted Price: 192.09, Actual Price: 191.92999267578125\n",
            "Date: 2023-07-20 15:30:00-04:00, Predicted Price: 192.03, Actual Price: 192.99000549316406\n",
            "Date: 2023-07-21 09:30:00-04:00, Predicted Price: 191.95, Actual Price: 192.97000122070312\n",
            "Date: 2023-07-21 10:30:00-04:00, Predicted Price: 191.87, Actual Price: 192.3000030517578\n",
            "Date: 2023-07-21 11:30:00-04:00, Predicted Price: 191.78, Actual Price: 192.58999633789062\n"
          ]
        }
      ],
      "source": [
        "lite_predictions = []\n",
        "for i in range(len(X_new)):\n",
        "    prediction = predict_stock_price_quantized(X_new[i])\n",
        "    lite_predictions.append(prediction)\n",
        "\n",
        "predictions = np.asarray(lite_predictions)\n",
        "predictions_reversed = inverse_min_max_scaling(predictions, x_min['Close'],x_max['Close'])\n",
        "\n",
        "y_new = np.asarray(y_new)\n",
        "y_new_rev = inverse_min_max_scaling(y_new, x_min['Close'],x_max['Close'])\n",
        "\n",
        "for i in range(len(predictions_reversed)):\n",
        "    date = data.index[i]\n",
        "    predicted_price = predictions_reversed[i]\n",
        "    print(f\"Date: {date}, Predicted Price: {predicted_price:.2f}, Actual Price: {y_new_rev[i]}\")\n",
        "\n",
        "lite_mape = calculate_mape(y_new_rev, predictions_reversed)\n",
        "lite_smape = calculate_smape(y_new_rev, predictions_reversed)\n",
        "lite_rmse = calculate_rmse(y_new_rev, predictions_reversed)"
      ]
    },
    {
      "cell_type": "code",
      "execution_count": null,
      "metadata": {
        "colab": {
          "base_uri": "https://localhost:8080/"
        },
        "id": "xqtVvB-Q3pnI",
        "outputId": "e11d6eef-bcdc-49f5-a869-038a74181f7d"
      },
      "outputs": [
        {
          "name": "stdout",
          "output_type": "stream",
          "text": [
            "1/1 [==============================] - 0s 42ms/step\n",
            "1/1 [==============================] - 0s 30ms/step\n",
            "1/1 [==============================] - 0s 29ms/step\n",
            "1/1 [==============================] - 0s 30ms/step\n",
            "1/1 [==============================] - 0s 29ms/step\n",
            "1/1 [==============================] - 0s 32ms/step\n",
            "1/1 [==============================] - 0s 29ms/step\n",
            "1/1 [==============================] - 0s 29ms/step\n",
            "1/1 [==============================] - 0s 29ms/step\n",
            "1/1 [==============================] - 0s 30ms/step\n",
            "1/1 [==============================] - 0s 29ms/step\n",
            "1/1 [==============================] - 0s 29ms/step\n",
            "1/1 [==============================] - 0s 38ms/step\n",
            "1/1 [==============================] - 0s 32ms/step\n",
            "1/1 [==============================] - 0s 28ms/step\n",
            "1/1 [==============================] - 0s 29ms/step\n",
            "1/1 [==============================] - 0s 29ms/step\n",
            "1/1 [==============================] - 0s 44ms/step\n",
            "1/1 [==============================] - 0s 32ms/step\n",
            "1/1 [==============================] - 0s 32ms/step\n",
            "1/1 [==============================] - 0s 31ms/step\n",
            "1/1 [==============================] - 0s 32ms/step\n",
            "1/1 [==============================] - 0s 29ms/step\n",
            "1/1 [==============================] - 0s 31ms/step\n",
            "1/1 [==============================] - 0s 28ms/step\n",
            "1/1 [==============================] - 0s 28ms/step\n",
            "1/1 [==============================] - 0s 31ms/step\n",
            "1/1 [==============================] - 0s 31ms/step\n",
            "1/1 [==============================] - 0s 28ms/step\n",
            "1/1 [==============================] - 0s 29ms/step\n",
            "1/1 [==============================] - 0s 28ms/step\n",
            "1/1 [==============================] - 0s 30ms/step\n",
            "1/1 [==============================] - 0s 33ms/step\n",
            "1/1 [==============================] - 0s 29ms/step\n",
            "1/1 [==============================] - 0s 32ms/step\n",
            "1/1 [==============================] - 0s 34ms/step\n",
            "1/1 [==============================] - 0s 35ms/step\n",
            "1/1 [==============================] - 0s 36ms/step\n",
            "1/1 [==============================] - 0s 30ms/step\n",
            "1/1 [==============================] - 0s 30ms/step\n",
            "1/1 [==============================] - 0s 30ms/step\n",
            "1/1 [==============================] - 0s 29ms/step\n",
            "1/1 [==============================] - 0s 31ms/step\n",
            "1/1 [==============================] - 0s 34ms/step\n",
            "1/1 [==============================] - 0s 36ms/step\n",
            "1/1 [==============================] - 0s 29ms/step\n",
            "1/1 [==============================] - 0s 34ms/step\n",
            "1/1 [==============================] - 0s 29ms/step\n",
            "1/1 [==============================] - 0s 28ms/step\n",
            "1/1 [==============================] - 0s 31ms/step\n",
            "1/1 [==============================] - 0s 36ms/step\n",
            "1/1 [==============================] - 0s 29ms/step\n",
            "1/1 [==============================] - 0s 30ms/step\n",
            "1/1 [==============================] - 0s 31ms/step\n",
            "1/1 [==============================] - 0s 31ms/step\n",
            "1/1 [==============================] - 0s 32ms/step\n",
            "1/1 [==============================] - 0s 32ms/step\n",
            "1/1 [==============================] - 0s 34ms/step\n",
            "1/1 [==============================] - 0s 30ms/step\n",
            "1/1 [==============================] - 0s 29ms/step\n",
            "1/1 [==============================] - 0s 34ms/step\n",
            "1/1 [==============================] - 0s 33ms/step\n",
            "1/1 [==============================] - 0s 35ms/step\n",
            "1/1 [==============================] - 0s 30ms/step\n",
            "1/1 [==============================] - 0s 52ms/step\n",
            "1/1 [==============================] - 0s 53ms/step\n",
            "1/1 [==============================] - 0s 45ms/step\n",
            "1/1 [==============================] - 0s 46ms/step\n",
            "1/1 [==============================] - 0s 47ms/step\n",
            "1/1 [==============================] - 0s 54ms/step\n",
            "1/1 [==============================] - 0s 50ms/step\n",
            "1/1 [==============================] - 0s 57ms/step\n",
            "1/1 [==============================] - 0s 47ms/step\n",
            "1/1 [==============================] - 0s 57ms/step\n",
            "1/1 [==============================] - 0s 46ms/step\n",
            "1/1 [==============================] - 0s 44ms/step\n",
            "1/1 [==============================] - 0s 42ms/step\n",
            "1/1 [==============================] - 0s 45ms/step\n",
            "1/1 [==============================] - 0s 48ms/step\n",
            "1/1 [==============================] - 0s 46ms/step\n",
            "1/1 [==============================] - 0s 57ms/step\n",
            "1/1 [==============================] - 0s 50ms/step\n",
            "1/1 [==============================] - 0s 45ms/step\n",
            "1/1 [==============================] - 0s 47ms/step\n",
            "1/1 [==============================] - 0s 48ms/step\n",
            "1/1 [==============================] - 0s 46ms/step\n",
            "1/1 [==============================] - 0s 49ms/step\n",
            "1/1 [==============================] - 0s 67ms/step\n",
            "1/1 [==============================] - 0s 46ms/step\n",
            "1/1 [==============================] - 0s 44ms/step\n",
            "1/1 [==============================] - 0s 49ms/step\n",
            "1/1 [==============================] - 0s 46ms/step\n",
            "1/1 [==============================] - 0s 43ms/step\n",
            "1/1 [==============================] - 0s 45ms/step\n",
            "1/1 [==============================] - 0s 46ms/step\n",
            "1/1 [==============================] - 0s 53ms/step\n",
            "1/1 [==============================] - 0s 51ms/step\n",
            "1/1 [==============================] - 0s 31ms/step\n",
            "1/1 [==============================] - 0s 37ms/step\n",
            "1/1 [==============================] - 0s 31ms/step\n",
            "1/1 [==============================] - 0s 32ms/step\n",
            "1/1 [==============================] - 0s 28ms/step\n",
            "1/1 [==============================] - 0s 30ms/step\n",
            "1/1 [==============================] - 0s 29ms/step\n",
            "1/1 [==============================] - 0s 33ms/step\n",
            "1/1 [==============================] - 0s 29ms/step\n",
            "1/1 [==============================] - 0s 31ms/step\n",
            "1/1 [==============================] - 0s 30ms/step\n",
            "1/1 [==============================] - 0s 31ms/step\n",
            "1/1 [==============================] - 0s 30ms/step\n",
            "1/1 [==============================] - 0s 30ms/step\n",
            "1/1 [==============================] - 0s 32ms/step\n",
            "1/1 [==============================] - 0s 29ms/step\n",
            "1/1 [==============================] - 0s 30ms/step\n",
            "1/1 [==============================] - 0s 31ms/step\n",
            "1/1 [==============================] - 0s 32ms/step\n",
            "1/1 [==============================] - 0s 34ms/step\n",
            "1/1 [==============================] - 0s 28ms/step\n",
            "1/1 [==============================] - 0s 31ms/step\n",
            "1/1 [==============================] - 0s 29ms/step\n",
            "1/1 [==============================] - 0s 36ms/step\n",
            "1/1 [==============================] - 0s 31ms/step\n",
            "1/1 [==============================] - 0s 32ms/step\n",
            "1/1 [==============================] - 0s 32ms/step\n",
            "1/1 [==============================] - 0s 33ms/step\n",
            "1/1 [==============================] - 0s 30ms/step\n",
            "1/1 [==============================] - 0s 31ms/step\n",
            "1/1 [==============================] - 0s 29ms/step\n",
            "1/1 [==============================] - 0s 30ms/step\n",
            "1/1 [==============================] - 0s 29ms/step\n",
            "1/1 [==============================] - 0s 31ms/step\n",
            "1/1 [==============================] - 0s 30ms/step\n",
            "1/1 [==============================] - 0s 35ms/step\n",
            "1/1 [==============================] - 0s 30ms/step\n",
            "1/1 [==============================] - 0s 36ms/step\n",
            "1/1 [==============================] - 0s 32ms/step\n",
            "1/1 [==============================] - 0s 31ms/step\n",
            "1/1 [==============================] - 0s 31ms/step\n",
            "1/1 [==============================] - 0s 30ms/step\n",
            "1/1 [==============================] - 0s 29ms/step\n",
            "1/1 [==============================] - 0s 30ms/step\n",
            "1/1 [==============================] - 0s 31ms/step\n",
            "1/1 [==============================] - 0s 33ms/step\n",
            "1/1 [==============================] - 0s 35ms/step\n",
            "1/1 [==============================] - 0s 28ms/step\n",
            "1/1 [==============================] - 0s 32ms/step\n",
            "1/1 [==============================] - 0s 31ms/step\n",
            "1/1 [==============================] - 0s 29ms/step\n",
            "1/1 [==============================] - 0s 31ms/step\n",
            "1/1 [==============================] - 0s 42ms/step\n",
            "1/1 [==============================] - 0s 30ms/step\n",
            "1/1 [==============================] - 0s 31ms/step\n",
            "1/1 [==============================] - 0s 31ms/step\n",
            "1/1 [==============================] - 0s 31ms/step\n",
            "1/1 [==============================] - 0s 30ms/step\n",
            "1/1 [==============================] - 0s 36ms/step\n",
            "1/1 [==============================] - 0s 40ms/step\n",
            "1/1 [==============================] - 0s 30ms/step\n",
            "1/1 [==============================] - 0s 38ms/step\n",
            "1/1 [==============================] - 0s 34ms/step\n",
            "1/1 [==============================] - 0s 30ms/step\n",
            "1/1 [==============================] - 0s 32ms/step\n",
            "1/1 [==============================] - 0s 34ms/step\n",
            "1/1 [==============================] - 0s 28ms/step\n",
            "1/1 [==============================] - 0s 30ms/step\n",
            "1/1 [==============================] - 0s 30ms/step\n",
            "1/1 [==============================] - 0s 29ms/step\n",
            "1/1 [==============================] - 0s 31ms/step\n",
            "1/1 [==============================] - 0s 37ms/step\n",
            "1/1 [==============================] - 0s 29ms/step\n",
            "1/1 [==============================] - 0s 33ms/step\n",
            "1/1 [==============================] - 0s 32ms/step\n",
            "1/1 [==============================] - 0s 31ms/step\n",
            "1/1 [==============================] - 0s 30ms/step\n",
            "1/1 [==============================] - 0s 33ms/step\n",
            "1/1 [==============================] - 0s 30ms/step\n",
            "1/1 [==============================] - 0s 34ms/step\n",
            "1/1 [==============================] - 0s 32ms/step\n",
            "1/1 [==============================] - 0s 29ms/step\n",
            "1/1 [==============================] - 0s 30ms/step\n",
            "1/1 [==============================] - 0s 41ms/step\n",
            "1/1 [==============================] - 0s 29ms/step\n",
            "1/1 [==============================] - 0s 29ms/step\n",
            "1/1 [==============================] - 0s 31ms/step\n",
            "1/1 [==============================] - 0s 33ms/step\n",
            "1/1 [==============================] - 0s 29ms/step\n",
            "1/1 [==============================] - 0s 30ms/step\n",
            "1/1 [==============================] - 0s 33ms/step\n",
            "1/1 [==============================] - 0s 36ms/step\n",
            "1/1 [==============================] - 0s 36ms/step\n",
            "1/1 [==============================] - 0s 30ms/step\n",
            "1/1 [==============================] - 0s 31ms/step\n",
            "1/1 [==============================] - 0s 36ms/step\n",
            "1/1 [==============================] - 0s 34ms/step\n",
            "1/1 [==============================] - 0s 35ms/step\n",
            "1/1 [==============================] - 0s 43ms/step\n",
            "1/1 [==============================] - 0s 38ms/step\n",
            "1/1 [==============================] - 0s 33ms/step\n",
            "1/1 [==============================] - 0s 51ms/step\n",
            "1/1 [==============================] - 0s 52ms/step\n",
            "1/1 [==============================] - 0s 51ms/step\n",
            "1/1 [==============================] - 0s 81ms/step\n",
            "1/1 [==============================] - 0s 51ms/step\n",
            "1/1 [==============================] - 0s 49ms/step\n",
            "1/1 [==============================] - 0s 46ms/step\n",
            "1/1 [==============================] - 0s 54ms/step\n",
            "1/1 [==============================] - 0s 44ms/step\n",
            "1/1 [==============================] - 0s 45ms/step\n",
            "1/1 [==============================] - 0s 63ms/step\n",
            "1/1 [==============================] - 0s 78ms/step\n",
            "1/1 [==============================] - 0s 103ms/step\n",
            "1/1 [==============================] - 0s 105ms/step\n",
            "1/1 [==============================] - 0s 101ms/step\n",
            "1/1 [==============================] - 0s 106ms/step\n",
            "1/1 [==============================] - 0s 75ms/step\n",
            "1/1 [==============================] - 0s 74ms/step\n",
            "1/1 [==============================] - 0s 85ms/step\n",
            "1/1 [==============================] - 0s 60ms/step\n",
            "1/1 [==============================] - 0s 96ms/step\n",
            "1/1 [==============================] - 0s 61ms/step\n",
            "1/1 [==============================] - 0s 66ms/step\n",
            "1/1 [==============================] - 0s 60ms/step\n",
            "1/1 [==============================] - 0s 56ms/step\n",
            "1/1 [==============================] - 0s 64ms/step\n",
            "1/1 [==============================] - 0s 69ms/step\n",
            "1/1 [==============================] - 0s 92ms/step\n",
            "1/1 [==============================] - 0s 84ms/step\n",
            "1/1 [==============================] - 0s 86ms/step\n",
            "1/1 [==============================] - 0s 72ms/step\n",
            "1/1 [==============================] - 0s 110ms/step\n",
            "1/1 [==============================] - 0s 102ms/step\n",
            "1/1 [==============================] - 0s 52ms/step\n",
            "1/1 [==============================] - 0s 47ms/step\n",
            "1/1 [==============================] - 0s 46ms/step\n",
            "1/1 [==============================] - 0s 43ms/step\n",
            "1/1 [==============================] - 0s 48ms/step\n",
            "1/1 [==============================] - 0s 43ms/step\n",
            "1/1 [==============================] - 0s 47ms/step\n",
            "1/1 [==============================] - 0s 50ms/step\n",
            "1/1 [==============================] - 0s 47ms/step\n",
            "1/1 [==============================] - 0s 50ms/step\n",
            "1/1 [==============================] - 0s 45ms/step\n",
            "1/1 [==============================] - 0s 48ms/step\n",
            "1/1 [==============================] - 0s 52ms/step\n",
            "1/1 [==============================] - 0s 45ms/step\n",
            "1/1 [==============================] - 0s 33ms/step\n",
            "1/1 [==============================] - 0s 29ms/step\n",
            "1/1 [==============================] - 0s 32ms/step\n",
            "1/1 [==============================] - 0s 30ms/step\n",
            "1/1 [==============================] - 0s 44ms/step\n",
            "1/1 [==============================] - 0s 32ms/step\n",
            "1/1 [==============================] - 0s 34ms/step\n",
            "1/1 [==============================] - 0s 37ms/step\n",
            "1/1 [==============================] - 0s 31ms/step\n",
            "1/1 [==============================] - 0s 35ms/step\n",
            "1/1 [==============================] - 0s 33ms/step\n",
            "1/1 [==============================] - 0s 34ms/step\n",
            "1/1 [==============================] - 0s 28ms/step\n",
            "1/1 [==============================] - 0s 32ms/step\n",
            "1/1 [==============================] - 0s 35ms/step\n",
            "1/1 [==============================] - 0s 28ms/step\n",
            "1/1 [==============================] - 0s 30ms/step\n",
            "1/1 [==============================] - 0s 32ms/step\n",
            "1/1 [==============================] - 0s 34ms/step\n",
            "1/1 [==============================] - 0s 30ms/step\n",
            "1/1 [==============================] - 0s 36ms/step\n",
            "1/1 [==============================] - 0s 32ms/step\n",
            "1/1 [==============================] - 0s 32ms/step\n",
            "1/1 [==============================] - 0s 30ms/step\n",
            "1/1 [==============================] - 0s 29ms/step\n",
            "1/1 [==============================] - 0s 32ms/step\n",
            "1/1 [==============================] - 0s 32ms/step\n",
            "1/1 [==============================] - 0s 30ms/step\n",
            "1/1 [==============================] - 0s 29ms/step\n",
            "1/1 [==============================] - 0s 37ms/step\n",
            "1/1 [==============================] - 0s 29ms/step\n",
            "1/1 [==============================] - 0s 33ms/step\n",
            "1/1 [==============================] - 0s 36ms/step\n",
            "1/1 [==============================] - 0s 38ms/step\n",
            "1/1 [==============================] - 0s 43ms/step\n",
            "1/1 [==============================] - 0s 39ms/step\n",
            "1/1 [==============================] - 0s 35ms/step\n",
            "1/1 [==============================] - 0s 39ms/step\n",
            "1/1 [==============================] - 0s 37ms/step\n",
            "1/1 [==============================] - 0s 38ms/step\n",
            "1/1 [==============================] - 0s 37ms/step\n",
            "1/1 [==============================] - 0s 38ms/step\n",
            "1/1 [==============================] - 0s 35ms/step\n",
            "1/1 [==============================] - 0s 41ms/step\n",
            "1/1 [==============================] - 0s 40ms/step\n",
            "1/1 [==============================] - 0s 47ms/step\n",
            "1/1 [==============================] - 0s 38ms/step\n",
            "1/1 [==============================] - 0s 36ms/step\n",
            "1/1 [==============================] - 0s 35ms/step\n",
            "1/1 [==============================] - 0s 38ms/step\n",
            "1/1 [==============================] - 0s 34ms/step\n",
            "1/1 [==============================] - 0s 37ms/step\n",
            "1/1 [==============================] - 0s 35ms/step\n",
            "1/1 [==============================] - 0s 39ms/step\n",
            "1/1 [==============================] - 0s 34ms/step\n",
            "1/1 [==============================] - 0s 36ms/step\n",
            "1/1 [==============================] - 0s 47ms/step\n",
            "1/1 [==============================] - 0s 36ms/step\n",
            "1/1 [==============================] - 0s 38ms/step\n",
            "1/1 [==============================] - 0s 36ms/step\n",
            "1/1 [==============================] - 0s 37ms/step\n",
            "1/1 [==============================] - 0s 39ms/step\n",
            "1/1 [==============================] - 0s 36ms/step\n",
            "1/1 [==============================] - 0s 37ms/step\n",
            "1/1 [==============================] - 0s 49ms/step\n",
            "1/1 [==============================] - 0s 39ms/step\n",
            "1/1 [==============================] - 0s 40ms/step\n",
            "1/1 [==============================] - 0s 42ms/step\n",
            "1/1 [==============================] - 0s 37ms/step\n",
            "1/1 [==============================] - 0s 39ms/step\n",
            "1/1 [==============================] - 0s 40ms/step\n",
            "1/1 [==============================] - 0s 42ms/step\n",
            "1/1 [==============================] - 0s 36ms/step\n",
            "1/1 [==============================] - 0s 42ms/step\n",
            "1/1 [==============================] - 0s 37ms/step\n",
            "1/1 [==============================] - 0s 37ms/step\n",
            "1/1 [==============================] - 0s 40ms/step\n",
            "1/1 [==============================] - 0s 39ms/step\n",
            "1/1 [==============================] - 0s 39ms/step\n",
            "1/1 [==============================] - 0s 38ms/step\n",
            "1/1 [==============================] - 0s 39ms/step\n",
            "1/1 [==============================] - 0s 35ms/step\n",
            "1/1 [==============================] - 0s 34ms/step\n",
            "1/1 [==============================] - 0s 31ms/step\n",
            "1/1 [==============================] - 0s 35ms/step\n",
            "1/1 [==============================] - 0s 39ms/step\n",
            "1/1 [==============================] - 0s 38ms/step\n",
            "1/1 [==============================] - 0s 38ms/step\n",
            "1/1 [==============================] - 0s 36ms/step\n",
            "1/1 [==============================] - 0s 32ms/step\n",
            "1/1 [==============================] - 0s 30ms/step\n",
            "1/1 [==============================] - 0s 34ms/step\n",
            "1/1 [==============================] - 0s 46ms/step\n",
            "1/1 [==============================] - 0s 32ms/step\n",
            "1/1 [==============================] - 0s 38ms/step\n",
            "1/1 [==============================] - 0s 33ms/step\n",
            "1/1 [==============================] - 0s 34ms/step\n",
            "1/1 [==============================] - 0s 30ms/step\n",
            "1/1 [==============================] - 0s 29ms/step\n",
            "1/1 [==============================] - 0s 30ms/step\n",
            "1/1 [==============================] - 0s 31ms/step\n",
            "1/1 [==============================] - 0s 31ms/step\n",
            "1/1 [==============================] - 0s 33ms/step\n",
            "1/1 [==============================] - 0s 56ms/step\n",
            "1/1 [==============================] - 0s 45ms/step\n",
            "1/1 [==============================] - 0s 49ms/step\n",
            "1/1 [==============================] - 0s 47ms/step\n",
            "1/1 [==============================] - 0s 48ms/step\n",
            "1/1 [==============================] - 0s 48ms/step\n",
            "1/1 [==============================] - 0s 63ms/step\n",
            "1/1 [==============================] - 0s 43ms/step\n",
            "1/1 [==============================] - 0s 42ms/step\n",
            "1/1 [==============================] - 0s 52ms/step\n",
            "1/1 [==============================] - 0s 47ms/step\n",
            "1/1 [==============================] - 0s 52ms/step\n",
            "1/1 [==============================] - 0s 44ms/step\n",
            "1/1 [==============================] - 0s 44ms/step\n",
            "1/1 [==============================] - 0s 48ms/step\n",
            "1/1 [==============================] - 0s 42ms/step\n",
            "1/1 [==============================] - 0s 42ms/step\n",
            "1/1 [==============================] - 0s 43ms/step\n",
            "1/1 [==============================] - 0s 53ms/step\n",
            "1/1 [==============================] - 0s 46ms/step\n",
            "1/1 [==============================] - 0s 47ms/step\n",
            "1/1 [==============================] - 0s 60ms/step\n",
            "1/1 [==============================] - 0s 43ms/step\n",
            "1/1 [==============================] - 0s 43ms/step\n",
            "1/1 [==============================] - 0s 51ms/step\n",
            "1/1 [==============================] - 0s 43ms/step\n",
            "1/1 [==============================] - 0s 48ms/step\n",
            "1/1 [==============================] - 0s 44ms/step\n",
            "1/1 [==============================] - 0s 47ms/step\n",
            "1/1 [==============================] - 0s 46ms/step\n",
            "1/1 [==============================] - 0s 45ms/step\n",
            "1/1 [==============================] - 0s 44ms/step\n",
            "1/1 [==============================] - 0s 45ms/step\n",
            "1/1 [==============================] - 0s 33ms/step\n",
            "1/1 [==============================] - 0s 30ms/step\n",
            "1/1 [==============================] - 0s 33ms/step\n",
            "Date: 2023-05-02 09:30:00-04:00, Predicted Price: 174.18, Actual Price: 171.3300018310547\n",
            "Date: 2023-05-02 10:30:00-04:00, Predicted Price: 174.14, Actual Price: 171.9001007080078\n",
            "Date: 2023-05-02 11:30:00-04:00, Predicted Price: 174.09, Actual Price: 172.55999755859375\n",
            "Date: 2023-05-02 12:30:00-04:00, Predicted Price: 174.02, Actual Price: 171.8428955078125\n",
            "Date: 2023-05-02 13:30:00-04:00, Predicted Price: 173.97, Actual Price: 172.27000427246094\n",
            "Date: 2023-05-02 14:30:00-04:00, Predicted Price: 173.91, Actual Price: 172.17869567871094\n",
            "Date: 2023-05-02 15:30:00-04:00, Predicted Price: 173.85, Actual Price: 171.8470001220703\n",
            "Date: 2023-05-03 09:30:00-04:00, Predicted Price: 173.79, Actual Price: 171.81500244140625\n",
            "Date: 2023-05-03 10:30:00-04:00, Predicted Price: 173.72, Actual Price: 171.81219482421875\n",
            "Date: 2023-05-03 11:30:00-04:00, Predicted Price: 173.65, Actual Price: 172.1300048828125\n",
            "Date: 2023-05-03 12:30:00-04:00, Predicted Price: 173.58, Actual Price: 172.41000366210938\n",
            "Date: 2023-05-03 13:30:00-04:00, Predicted Price: 173.53, Actual Price: 172.30999755859375\n",
            "Date: 2023-05-03 14:30:00-04:00, Predicted Price: 173.49, Actual Price: 172.25\n",
            "Date: 2023-05-03 15:30:00-04:00, Predicted Price: 173.45, Actual Price: 172.16110229492188\n",
            "Date: 2023-05-04 09:30:00-04:00, Predicted Price: 173.41, Actual Price: 171.89999389648438\n",
            "Date: 2023-05-04 10:30:00-04:00, Predicted Price: 173.38, Actual Price: 172.6649932861328\n",
            "Date: 2023-05-04 11:30:00-04:00, Predicted Price: 173.34, Actual Price: 172.0800018310547\n",
            "Date: 2023-05-04 12:30:00-04:00, Predicted Price: 173.32, Actual Price: 171.02169799804688\n",
            "Date: 2023-05-04 13:30:00-04:00, Predicted Price: 173.30, Actual Price: 170.84669494628906\n",
            "Date: 2023-05-04 14:30:00-04:00, Predicted Price: 173.26, Actual Price: 171.13499450683594\n",
            "Date: 2023-05-04 15:30:00-04:00, Predicted Price: 173.21, Actual Price: 172.0399932861328\n",
            "Date: 2023-05-05 09:30:00-04:00, Predicted Price: 173.16, Actual Price: 172.4084930419922\n",
            "Date: 2023-05-05 10:30:00-04:00, Predicted Price: 173.13, Actual Price: 172.35000610351562\n",
            "Date: 2023-05-05 11:30:00-04:00, Predicted Price: 173.10, Actual Price: 172.64999389648438\n",
            "Date: 2023-05-05 12:30:00-04:00, Predicted Price: 173.09, Actual Price: 173.6699981689453\n",
            "Date: 2023-05-05 13:30:00-04:00, Predicted Price: 173.11, Actual Price: 174.66000366210938\n",
            "Date: 2023-05-05 14:30:00-04:00, Predicted Price: 173.17, Actual Price: 174.36000061035156\n",
            "Date: 2023-05-05 15:30:00-04:00, Predicted Price: 173.26, Actual Price: 174.27999877929688\n",
            "Date: 2023-05-08 09:30:00-04:00, Predicted Price: 173.37, Actual Price: 174.11000061035156\n",
            "Date: 2023-05-08 10:30:00-04:00, Predicted Price: 173.48, Actual Price: 174.5\n",
            "Date: 2023-05-08 11:30:00-04:00, Predicted Price: 173.61, Actual Price: 175.06619262695312\n",
            "Date: 2023-05-08 12:30:00-04:00, Predicted Price: 173.75, Actual Price: 175.8800048828125\n",
            "Date: 2023-05-08 13:30:00-04:00, Predicted Price: 173.93, Actual Price: 175.4759063720703\n",
            "Date: 2023-05-08 14:30:00-04:00, Predicted Price: 174.12, Actual Price: 175.44000244140625\n",
            "Date: 2023-05-08 15:30:00-04:00, Predicted Price: 174.32, Actual Price: 175.73500061035156\n",
            "Date: 2023-05-09 09:30:00-04:00, Predicted Price: 174.51, Actual Price: 175.23219299316406\n",
            "Date: 2023-05-09 10:30:00-04:00, Predicted Price: 174.69, Actual Price: 175.1300048828125\n",
            "Date: 2023-05-09 11:30:00-04:00, Predicted Price: 174.86, Actual Price: 175.19000244140625\n",
            "Date: 2023-05-09 12:30:00-04:00, Predicted Price: 175.02, Actual Price: 174.19200134277344\n",
            "Date: 2023-05-09 13:30:00-04:00, Predicted Price: 175.15, Actual Price: 174.48880004882812\n",
            "Date: 2023-05-09 14:30:00-04:00, Predicted Price: 175.25, Actual Price: 174.16000366210938\n",
            "Date: 2023-05-09 15:30:00-04:00, Predicted Price: 175.32, Actual Price: 174.22000122070312\n",
            "Date: 2023-05-10 09:30:00-04:00, Predicted Price: 175.38, Actual Price: 174.32000732421875\n",
            "Date: 2023-05-10 10:30:00-04:00, Predicted Price: 175.42, Actual Price: 174.22000122070312\n",
            "Date: 2023-05-10 11:30:00-04:00, Predicted Price: 175.44, Actual Price: 174.24000549316406\n",
            "Date: 2023-05-10 12:30:00-04:00, Predicted Price: 175.45, Actual Price: 172.85000610351562\n",
            "Date: 2023-05-10 13:30:00-04:00, Predicted Price: 175.44, Actual Price: 173.01499938964844\n",
            "Date: 2023-05-10 14:30:00-04:00, Predicted Price: 175.40, Actual Price: 172.60000610351562\n",
            "Date: 2023-05-10 15:30:00-04:00, Predicted Price: 175.35, Actual Price: 172.0749969482422\n",
            "Date: 2023-05-11 09:30:00-04:00, Predicted Price: 175.26, Actual Price: 171.65499877929688\n",
            "Date: 2023-05-11 10:30:00-04:00, Predicted Price: 175.15, Actual Price: 171.6195068359375\n",
            "Date: 2023-05-11 11:30:00-04:00, Predicted Price: 175.02, Actual Price: 171.5500030517578\n",
            "Date: 2023-05-11 12:30:00-04:00, Predicted Price: 174.89, Actual Price: 171.16000366210938\n",
            "Date: 2023-05-11 13:30:00-04:00, Predicted Price: 174.74, Actual Price: 171.3699951171875\n",
            "Date: 2023-05-11 14:30:00-04:00, Predicted Price: 174.58, Actual Price: 170.63499450683594\n",
            "Date: 2023-05-11 15:30:00-04:00, Predicted Price: 174.41, Actual Price: 171.1750030517578\n",
            "Date: 2023-05-12 09:30:00-04:00, Predicted Price: 174.23, Actual Price: 171.19000244140625\n",
            "Date: 2023-05-12 10:30:00-04:00, Predicted Price: 174.05, Actual Price: 172.10499572753906\n",
            "Date: 2023-05-12 11:30:00-04:00, Predicted Price: 173.88, Actual Price: 171.8300018310547\n",
            "Date: 2023-05-12 12:30:00-04:00, Predicted Price: 173.73, Actual Price: 171.92999267578125\n",
            "Date: 2023-05-12 13:30:00-04:00, Predicted Price: 173.62, Actual Price: 172.27000427246094\n",
            "Date: 2023-05-12 14:30:00-04:00, Predicted Price: 173.53, Actual Price: 173.60009765625\n",
            "Date: 2023-05-12 15:30:00-04:00, Predicted Price: 173.45, Actual Price: 173.1999969482422\n",
            "Date: 2023-05-15 09:30:00-04:00, Predicted Price: 173.41, Actual Price: 173.35000610351562\n",
            "Date: 2023-05-15 10:30:00-04:00, Predicted Price: 173.40, Actual Price: 173.63499450683594\n",
            "Date: 2023-05-15 11:30:00-04:00, Predicted Price: 173.41, Actual Price: 173.01499938964844\n",
            "Date: 2023-05-15 12:30:00-04:00, Predicted Price: 173.43, Actual Price: 175.34500122070312\n",
            "Date: 2023-05-15 13:30:00-04:00, Predicted Price: 173.48, Actual Price: 175.02999877929688\n",
            "Date: 2023-05-15 14:30:00-04:00, Predicted Price: 173.58, Actual Price: 175.30870056152344\n",
            "Date: 2023-05-15 15:30:00-04:00, Predicted Price: 173.71, Actual Price: 175.38499450683594\n",
            "Date: 2023-05-16 09:30:00-04:00, Predicted Price: 173.85, Actual Price: 175.01499938964844\n",
            "Date: 2023-05-16 10:30:00-04:00, Predicted Price: 174.01, Actual Price: 175.3800048828125\n",
            "Date: 2023-05-16 11:30:00-04:00, Predicted Price: 174.17, Actual Price: 175.3800048828125\n",
            "Date: 2023-05-16 12:30:00-04:00, Predicted Price: 174.34, Actual Price: 177.61109924316406\n",
            "Date: 2023-05-16 13:30:00-04:00, Predicted Price: 174.55, Actual Price: 177.24000549316406\n",
            "Date: 2023-05-16 14:30:00-04:00, Predicted Price: 174.79, Actual Price: 177.22219848632812\n",
            "Date: 2023-05-16 15:30:00-04:00, Predicted Price: 175.03, Actual Price: 177.14999389648438\n",
            "Date: 2023-05-17 09:30:00-04:00, Predicted Price: 175.28, Actual Price: 177.59010314941406\n",
            "Date: 2023-05-17 10:30:00-04:00, Predicted Price: 175.52, Actual Price: 177.52000427246094\n",
            "Date: 2023-05-17 11:30:00-04:00, Predicted Price: 175.76, Actual Price: 177.3300018310547\n",
            "Date: 2023-05-17 12:30:00-04:00, Predicted Price: 175.99, Actual Price: 177.89500427246094\n",
            "Date: 2023-05-17 13:30:00-04:00, Predicted Price: 176.23, Actual Price: 178.32000732421875\n",
            "Date: 2023-05-17 14:30:00-04:00, Predicted Price: 176.46, Actual Price: 178.74270629882812\n",
            "Date: 2023-05-17 15:30:00-04:00, Predicted Price: 176.70, Actual Price: 178.88999938964844\n",
            "Date: 2023-05-18 09:30:00-04:00, Predicted Price: 176.93, Actual Price: 179.16990661621094\n",
            "Date: 2023-05-18 10:30:00-04:00, Predicted Price: 177.16, Actual Price: 178.7178955078125\n",
            "Date: 2023-05-18 11:30:00-04:00, Predicted Price: 177.38, Actual Price: 177.4199981689453\n",
            "Date: 2023-05-18 12:30:00-04:00, Predicted Price: 177.58, Actual Price: 178.10000610351562\n",
            "Date: 2023-05-18 13:30:00-04:00, Predicted Price: 177.76, Actual Price: 179.47999572753906\n",
            "Date: 2023-05-18 14:30:00-04:00, Predicted Price: 177.94, Actual Price: 179.8000030517578\n",
            "Date: 2023-05-18 15:30:00-04:00, Predicted Price: 178.11, Actual Price: 179.61000061035156\n",
            "Date: 2023-05-19 09:30:00-04:00, Predicted Price: 178.30, Actual Price: 179.875\n",
            "Date: 2023-05-19 10:30:00-04:00, Predicted Price: 178.47, Actual Price: 179.77999877929688\n",
            "Date: 2023-05-19 11:30:00-04:00, Predicted Price: 178.65, Actual Price: 180.11000061035156\n",
            "Date: 2023-05-19 12:30:00-04:00, Predicted Price: 178.81, Actual Price: 179.72999572753906\n",
            "Date: 2023-05-19 13:30:00-04:00, Predicted Price: 178.99, Actual Price: 180.5\n",
            "Date: 2023-05-19 14:30:00-04:00, Predicted Price: 179.15, Actual Price: 180.6699981689453\n",
            "Date: 2023-05-19 15:30:00-04:00, Predicted Price: 179.32, Actual Price: 180.58999633789062\n",
            "Date: 2023-05-22 09:30:00-04:00, Predicted Price: 179.49, Actual Price: 180.45989990234375\n",
            "Date: 2023-05-22 10:30:00-04:00, Predicted Price: 179.65, Actual Price: 180.7550048828125\n",
            "Date: 2023-05-22 11:30:00-04:00, Predicted Price: 179.80, Actual Price: 180.9600067138672\n",
            "Date: 2023-05-22 12:30:00-04:00, Predicted Price: 179.94, Actual Price: 183.7100067138672\n",
            "Date: 2023-05-22 13:30:00-04:00, Predicted Price: 180.12, Actual Price: 184.22999572753906\n",
            "Date: 2023-05-22 14:30:00-04:00, Predicted Price: 180.33, Actual Price: 184.55039978027344\n",
            "Date: 2023-05-22 15:30:00-04:00, Predicted Price: 180.57, Actual Price: 184.11399841308594\n",
            "Date: 2023-05-23 09:30:00-04:00, Predicted Price: 180.82, Actual Price: 183.06829833984375\n",
            "Date: 2023-05-23 10:30:00-04:00, Predicted Price: 181.07, Actual Price: 179.52499389648438\n",
            "Date: 2023-05-23 11:30:00-04:00, Predicted Price: 181.27, Actual Price: 179.60000610351562\n",
            "Date: 2023-05-23 12:30:00-04:00, Predicted Price: 181.41, Actual Price: 178.94000244140625\n",
            "Date: 2023-05-23 13:30:00-04:00, Predicted Price: 181.51, Actual Price: 177.7899932861328\n",
            "Date: 2023-05-23 14:30:00-04:00, Predicted Price: 181.56, Actual Price: 178.69000244140625\n",
            "Date: 2023-05-23 15:30:00-04:00, Predicted Price: 181.56, Actual Price: 178.71499633789062\n",
            "Date: 2023-05-24 09:30:00-04:00, Predicted Price: 181.52, Actual Price: 179.32000732421875\n",
            "Date: 2023-05-24 10:30:00-04:00, Predicted Price: 181.45, Actual Price: 179.41000366210938\n",
            "Date: 2023-05-24 11:30:00-04:00, Predicted Price: 181.37, Actual Price: 179.16000366210938\n",
            "Date: 2023-05-24 12:30:00-04:00, Predicted Price: 181.28, Actual Price: 179.27999877929688\n",
            "Date: 2023-05-24 13:30:00-04:00, Predicted Price: 181.18, Actual Price: 178.97500610351562\n",
            "Date: 2023-05-24 14:30:00-04:00, Predicted Price: 181.08, Actual Price: 178.3699951171875\n",
            "Date: 2023-05-24 15:30:00-04:00, Predicted Price: 180.98, Actual Price: 177.69000244140625\n",
            "Date: 2023-05-25 09:30:00-04:00, Predicted Price: 180.86, Actual Price: 178.02999877929688\n",
            "Date: 2023-05-25 10:30:00-04:00, Predicted Price: 180.73, Actual Price: 178.06500244140625\n",
            "Date: 2023-05-25 11:30:00-04:00, Predicted Price: 180.59, Actual Price: 177.82000732421875\n",
            "Date: 2023-05-25 12:30:00-04:00, Predicted Price: 180.45, Actual Price: 178.47000122070312\n",
            "Date: 2023-05-25 13:30:00-04:00, Predicted Price: 180.32, Actual Price: 179.23910522460938\n",
            "Date: 2023-05-25 14:30:00-04:00, Predicted Price: 180.20, Actual Price: 179.9698944091797\n",
            "Date: 2023-05-25 15:30:00-04:00, Predicted Price: 180.11, Actual Price: 179.47000122070312\n",
            "Date: 2023-05-26 09:30:00-04:00, Predicted Price: 180.03, Actual Price: 179.94500732421875\n",
            "Date: 2023-05-26 10:30:00-04:00, Predicted Price: 179.97, Actual Price: 180.2550048828125\n",
            "Date: 2023-05-26 11:30:00-04:00, Predicted Price: 179.94, Actual Price: 180.5399932861328\n",
            "Date: 2023-05-26 12:30:00-04:00, Predicted Price: 179.94, Actual Price: 181.9199981689453\n",
            "Date: 2023-05-26 13:30:00-04:00, Predicted Price: 179.98, Actual Price: 181.22999572753906\n",
            "Date: 2023-05-26 14:30:00-04:00, Predicted Price: 180.05, Actual Price: 181.16000366210938\n",
            "Date: 2023-05-26 15:30:00-04:00, Predicted Price: 180.13, Actual Price: 181.66000366210938\n",
            "Date: 2023-05-30 09:30:00-04:00, Predicted Price: 180.22, Actual Price: 182.00990295410156\n",
            "Date: 2023-05-30 10:30:00-04:00, Predicted Price: 180.34, Actual Price: 181.49000549316406\n",
            "Date: 2023-05-30 11:30:00-04:00, Predicted Price: 180.45, Actual Price: 181.0399932861328\n",
            "Date: 2023-05-30 12:30:00-04:00, Predicted Price: 180.57, Actual Price: 181.60000610351562\n",
            "Date: 2023-05-30 13:30:00-04:00, Predicted Price: 180.69, Actual Price: 182.01499938964844\n",
            "Date: 2023-05-30 14:30:00-04:00, Predicted Price: 180.81, Actual Price: 182.27499389648438\n",
            "Date: 2023-05-30 15:30:00-04:00, Predicted Price: 180.94, Actual Price: 182.5399932861328\n",
            "Date: 2023-05-31 09:30:00-04:00, Predicted Price: 181.07, Actual Price: 182.7100067138672\n",
            "Date: 2023-05-31 10:30:00-04:00, Predicted Price: 181.21, Actual Price: 183.3090057373047\n",
            "Date: 2023-05-31 11:30:00-04:00, Predicted Price: 181.35, Actual Price: 183.83999633789062\n",
            "Date: 2023-05-31 12:30:00-04:00, Predicted Price: 181.50, Actual Price: 182.75999450683594\n",
            "Date: 2023-05-31 13:30:00-04:00, Predicted Price: 181.66, Actual Price: 183.39999389648438\n",
            "Date: 2023-05-31 14:30:00-04:00, Predicted Price: 181.81, Actual Price: 183.1699981689453\n",
            "Date: 2023-05-31 15:30:00-04:00, Predicted Price: 181.96, Actual Price: 183.0207977294922\n",
            "Date: 2023-06-01 09:30:00-04:00, Predicted Price: 182.10, Actual Price: 182.83999633789062\n",
            "Date: 2023-06-01 10:30:00-04:00, Predicted Price: 182.23, Actual Price: 182.97999572753906\n",
            "Date: 2023-06-01 11:30:00-04:00, Predicted Price: 182.35, Actual Price: 183.30999755859375\n",
            "Date: 2023-06-01 12:30:00-04:00, Predicted Price: 182.45, Actual Price: 184.22500610351562\n",
            "Date: 2023-06-01 13:30:00-04:00, Predicted Price: 182.56, Actual Price: 184.2100067138672\n",
            "Date: 2023-06-01 14:30:00-04:00, Predicted Price: 182.67, Actual Price: 184.11500549316406\n",
            "Date: 2023-06-01 15:30:00-04:00, Predicted Price: 182.78, Actual Price: 183.72999572753906\n",
            "Date: 2023-06-02 09:30:00-04:00, Predicted Price: 182.88, Actual Price: 182.64999389648438\n",
            "Date: 2023-06-02 10:30:00-04:00, Predicted Price: 182.97, Actual Price: 183.50999450683594\n",
            "Date: 2023-06-02 11:30:00-04:00, Predicted Price: 183.05, Actual Price: 183.9600067138672\n",
            "Date: 2023-06-02 12:30:00-04:00, Predicted Price: 183.12, Actual Price: 185.83999633789062\n",
            "Date: 2023-06-02 13:30:00-04:00, Predicted Price: 183.21, Actual Price: 185.83999633789062\n",
            "Date: 2023-06-02 14:30:00-04:00, Predicted Price: 183.31, Actual Price: 185.1999969482422\n",
            "Date: 2023-06-02 15:30:00-04:00, Predicted Price: 183.43, Actual Price: 185.08999633789062\n",
            "Date: 2023-06-05 09:30:00-04:00, Predicted Price: 183.54, Actual Price: 185.80499267578125\n",
            "Date: 2023-06-05 10:30:00-04:00, Predicted Price: 183.66, Actual Price: 186.17999267578125\n",
            "Date: 2023-06-05 11:30:00-04:00, Predicted Price: 183.80, Actual Price: 186.02000427246094\n",
            "Date: 2023-06-05 12:30:00-04:00, Predicted Price: 183.94, Actual Price: 185.908203125\n",
            "Date: 2023-06-05 13:30:00-04:00, Predicted Price: 184.09, Actual Price: 185.47999572753906\n",
            "Date: 2023-06-05 14:30:00-04:00, Predicted Price: 184.22, Actual Price: 185.7301025390625\n",
            "Date: 2023-06-05 15:30:00-04:00, Predicted Price: 184.35, Actual Price: 185.8000030517578\n",
            "Date: 2023-06-06 09:30:00-04:00, Predicted Price: 184.47, Actual Price: 185.30999755859375\n",
            "Date: 2023-06-06 10:30:00-04:00, Predicted Price: 184.58, Actual Price: 184.9149932861328\n",
            "Date: 2023-06-06 11:30:00-04:00, Predicted Price: 184.67, Actual Price: 185.02000427246094\n",
            "Date: 2023-06-06 12:30:00-04:00, Predicted Price: 184.75, Actual Price: 184.80999755859375\n",
            "Date: 2023-06-06 13:30:00-04:00, Predicted Price: 184.81, Actual Price: 185.0601043701172\n",
            "Date: 2023-06-06 14:30:00-04:00, Predicted Price: 184.86, Actual Price: 185.55499267578125\n",
            "Date: 2023-06-06 15:30:00-04:00, Predicted Price: 184.90, Actual Price: 185.92999267578125\n",
            "Date: 2023-06-07 09:30:00-04:00, Predicted Price: 184.94, Actual Price: 185.77000427246094\n",
            "Date: 2023-06-07 10:30:00-04:00, Predicted Price: 184.98, Actual Price: 185.33999633789062\n",
            "Date: 2023-06-07 11:30:00-04:00, Predicted Price: 185.01, Actual Price: 185.02000427246094\n",
            "Date: 2023-06-07 12:30:00-04:00, Predicted Price: 185.04, Actual Price: 184.1199951171875\n",
            "Date: 2023-06-07 13:30:00-04:00, Predicted Price: 185.06, Actual Price: 183.13999938964844\n",
            "Date: 2023-06-07 14:30:00-04:00, Predicted Price: 185.04, Actual Price: 184.06500244140625\n",
            "Date: 2023-06-07 15:30:00-04:00, Predicted Price: 185.01, Actual Price: 184.1300048828125\n",
            "Date: 2023-06-08 09:30:00-04:00, Predicted Price: 184.97, Actual Price: 185.10000610351562\n",
            "Date: 2023-06-08 10:30:00-04:00, Predicted Price: 184.93, Actual Price: 184.5050048828125\n",
            "Date: 2023-06-08 11:30:00-04:00, Predicted Price: 184.89, Actual Price: 183.9600067138672\n",
            "Date: 2023-06-08 12:30:00-04:00, Predicted Price: 184.85, Actual Price: 185.77000427246094\n",
            "Date: 2023-06-08 13:30:00-04:00, Predicted Price: 184.82, Actual Price: 186.25\n",
            "Date: 2023-06-08 14:30:00-04:00, Predicted Price: 184.80, Actual Price: 186.07000732421875\n",
            "Date: 2023-06-08 15:30:00-04:00, Predicted Price: 184.81, Actual Price: 185.75\n",
            "Date: 2023-06-09 09:30:00-04:00, Predicted Price: 184.83, Actual Price: 186.4250030517578\n",
            "Date: 2023-06-09 10:30:00-04:00, Predicted Price: 184.86, Actual Price: 186.4149932861328\n",
            "Date: 2023-06-09 11:30:00-04:00, Predicted Price: 184.90, Actual Price: 186.97000122070312\n",
            "Date: 2023-06-09 12:30:00-04:00, Predicted Price: 184.96, Actual Price: 185.8300018310547\n",
            "Date: 2023-06-09 13:30:00-04:00, Predicted Price: 185.02, Actual Price: 186.0800018310547\n",
            "Date: 2023-06-09 14:30:00-04:00, Predicted Price: 185.07, Actual Price: 186.94000244140625\n",
            "Date: 2023-06-09 15:30:00-04:00, Predicted Price: 185.13, Actual Price: 187.33700561523438\n",
            "Date: 2023-06-12 09:30:00-04:00, Predicted Price: 185.21, Actual Price: 187.24000549316406\n",
            "Date: 2023-06-12 10:30:00-04:00, Predicted Price: 185.29, Actual Price: 186.81500244140625\n",
            "Date: 2023-06-12 11:30:00-04:00, Predicted Price: 185.37, Actual Price: 186.69000244140625\n",
            "Date: 2023-06-12 12:30:00-04:00, Predicted Price: 185.46, Actual Price: 187.7498016357422\n",
            "Date: 2023-06-12 13:30:00-04:00, Predicted Price: 185.55, Actual Price: 186.52999877929688\n",
            "Date: 2023-06-12 14:30:00-04:00, Predicted Price: 185.63, Actual Price: 186.25\n",
            "Date: 2023-06-12 15:30:00-04:00, Predicted Price: 185.70, Actual Price: 185.98500061035156\n",
            "Date: 2023-06-13 09:30:00-04:00, Predicted Price: 185.76, Actual Price: 185.99000549316406\n",
            "Date: 2023-06-13 10:30:00-04:00, Predicted Price: 185.81, Actual Price: 186.0749969482422\n",
            "Date: 2023-06-13 11:30:00-04:00, Predicted Price: 185.85, Actual Price: 185.3000030517578\n",
            "Date: 2023-06-13 12:30:00-04:00, Predicted Price: 185.87, Actual Price: 186.85000610351562\n",
            "Date: 2023-06-13 13:30:00-04:00, Predicted Price: 185.90, Actual Price: 186.9499969482422\n",
            "Date: 2023-06-13 14:30:00-04:00, Predicted Price: 185.91, Actual Price: 187.47999572753906\n",
            "Date: 2023-06-13 15:30:00-04:00, Predicted Price: 185.94, Actual Price: 187.78500366210938\n",
            "Date: 2023-06-14 09:30:00-04:00, Predicted Price: 185.97, Actual Price: 188.19500732421875\n",
            "Date: 2023-06-14 10:30:00-04:00, Predicted Price: 186.02, Actual Price: 188.30499267578125\n",
            "Date: 2023-06-14 11:30:00-04:00, Predicted Price: 186.09, Actual Price: 188.0399932861328\n",
            "Date: 2023-06-14 12:30:00-04:00, Predicted Price: 186.16, Actual Price: 188.4199981689453\n",
            "Date: 2023-06-14 13:30:00-04:00, Predicted Price: 186.24, Actual Price: 189.01499938964844\n",
            "Date: 2023-06-14 14:30:00-04:00, Predicted Price: 186.32, Actual Price: 189.30499267578125\n",
            "Date: 2023-06-14 15:30:00-04:00, Predicted Price: 186.42, Actual Price: 189.07000732421875\n",
            "Date: 2023-06-15 09:30:00-04:00, Predicted Price: 186.51, Actual Price: 189.36500549316406\n",
            "Date: 2023-06-15 10:30:00-04:00, Predicted Price: 186.62, Actual Price: 189.02000427246094\n",
            "Date: 2023-06-15 11:30:00-04:00, Predicted Price: 186.72, Actual Price: 189.27999877929688\n",
            "Date: 2023-06-15 12:30:00-04:00, Predicted Price: 186.82, Actual Price: 189.47000122070312\n",
            "Date: 2023-06-15 13:30:00-04:00, Predicted Price: 186.94, Actual Price: 189.88999938964844\n",
            "Date: 2023-06-15 14:30:00-04:00, Predicted Price: 187.04, Actual Price: 189.6750030517578\n",
            "Date: 2023-06-15 15:30:00-04:00, Predicted Price: 187.15, Actual Price: 189.49000549316406\n",
            "Date: 2023-06-16 09:30:00-04:00, Predicted Price: 187.25, Actual Price: 189.65060424804688\n",
            "Date: 2023-06-16 10:30:00-04:00, Predicted Price: 187.34, Actual Price: 189.47760009765625\n",
            "Date: 2023-06-16 11:30:00-04:00, Predicted Price: 187.44, Actual Price: 189.58999633789062\n",
            "Date: 2023-06-16 12:30:00-04:00, Predicted Price: 187.53, Actual Price: 192.69000244140625\n",
            "Date: 2023-06-16 13:30:00-04:00, Predicted Price: 187.66, Actual Price: 192.38499450683594\n",
            "Date: 2023-06-16 14:30:00-04:00, Predicted Price: 187.79, Actual Price: 192.58999633789062\n",
            "Date: 2023-06-16 15:30:00-04:00, Predicted Price: 187.93, Actual Price: 192.9250030517578\n",
            "Date: 2023-06-20 09:30:00-04:00, Predicted Price: 188.09, Actual Price: 193.02499389648438\n",
            "Date: 2023-06-20 10:30:00-04:00, Predicted Price: 188.25, Actual Price: 193.49000549316406\n",
            "Date: 2023-06-20 11:30:00-04:00, Predicted Price: 188.42, Actual Price: 193.8000030517578\n",
            "Date: 2023-06-20 12:30:00-04:00, Predicted Price: 188.61, Actual Price: 192.9149932861328\n",
            "Date: 2023-06-20 13:30:00-04:00, Predicted Price: 188.78, Actual Price: 192.35499572753906\n",
            "Date: 2023-06-20 14:30:00-04:00, Predicted Price: 188.93, Actual Price: 192.11500549316406\n",
            "Date: 2023-06-20 15:30:00-04:00, Predicted Price: 189.07, Actual Price: 192.35000610351562\n",
            "Date: 2023-06-21 09:30:00-04:00, Predicted Price: 189.20, Actual Price: 191.43499755859375\n",
            "Date: 2023-06-21 10:30:00-04:00, Predicted Price: 189.31, Actual Price: 191.1416015625\n",
            "Date: 2023-06-21 11:30:00-04:00, Predicted Price: 189.39, Actual Price: 190.99000549316406\n",
            "Date: 2023-06-21 12:30:00-04:00, Predicted Price: 189.46, Actual Price: 190.9499969482422\n",
            "Date: 2023-06-21 13:30:00-04:00, Predicted Price: 189.51, Actual Price: 191.35499572753906\n",
            "Date: 2023-06-21 14:30:00-04:00, Predicted Price: 189.55, Actual Price: 191.32000732421875\n",
            "Date: 2023-06-21 15:30:00-04:00, Predicted Price: 189.58, Actual Price: 189.94000244140625\n",
            "Date: 2023-06-22 09:30:00-04:00, Predicted Price: 189.59, Actual Price: 190.1699981689453\n",
            "Date: 2023-06-22 10:30:00-04:00, Predicted Price: 189.56, Actual Price: 190.93499755859375\n",
            "Date: 2023-06-22 11:30:00-04:00, Predicted Price: 189.54, Actual Price: 191.11000061035156\n",
            "Date: 2023-06-22 12:30:00-04:00, Predicted Price: 189.52, Actual Price: 191.02999877929688\n",
            "Date: 2023-06-22 13:30:00-04:00, Predicted Price: 189.49, Actual Price: 191.63999938964844\n",
            "Date: 2023-06-22 14:30:00-04:00, Predicted Price: 189.47, Actual Price: 191.77999877929688\n",
            "Date: 2023-06-22 15:30:00-04:00, Predicted Price: 189.47, Actual Price: 190.6199951171875\n",
            "Date: 2023-06-23 09:30:00-04:00, Predicted Price: 189.46, Actual Price: 191.20950317382812\n",
            "Date: 2023-06-23 10:30:00-04:00, Predicted Price: 189.44, Actual Price: 192.12989807128906\n",
            "Date: 2023-06-23 11:30:00-04:00, Predicted Price: 189.43, Actual Price: 192.55999755859375\n",
            "Date: 2023-06-23 12:30:00-04:00, Predicted Price: 189.44, Actual Price: 192.39999389648438\n",
            "Date: 2023-06-23 13:30:00-04:00, Predicted Price: 189.45, Actual Price: 191.75\n",
            "Date: 2023-06-23 14:30:00-04:00, Predicted Price: 189.48, Actual Price: 190.7100067138672\n",
            "Date: 2023-06-23 15:30:00-04:00, Predicted Price: 189.49, Actual Price: 188.95989990234375\n",
            "Date: 2023-06-26 09:30:00-04:00, Predicted Price: 189.48, Actual Price: 187.86000061035156\n",
            "Date: 2023-06-26 10:30:00-04:00, Predicted Price: 189.42, Actual Price: 187.56199645996094\n",
            "Date: 2023-06-26 11:30:00-04:00, Predicted Price: 189.34, Actual Price: 188.08999633789062\n",
            "Date: 2023-06-26 12:30:00-04:00, Predicted Price: 189.24, Actual Price: 188.61500549316406\n",
            "Date: 2023-06-26 13:30:00-04:00, Predicted Price: 189.14, Actual Price: 188.3000030517578\n",
            "Date: 2023-06-26 14:30:00-04:00, Predicted Price: 189.03, Actual Price: 188.6300048828125\n",
            "Date: 2023-06-26 15:30:00-04:00, Predicted Price: 188.92, Actual Price: 188.11000061035156\n",
            "Date: 2023-06-27 09:30:00-04:00, Predicted Price: 188.81, Actual Price: 187.71499633789062\n",
            "Date: 2023-06-27 10:30:00-04:00, Predicted Price: 188.69, Actual Price: 187.61500549316406\n",
            "Date: 2023-06-27 11:30:00-04:00, Predicted Price: 188.57, Actual Price: 187.41000366210938\n",
            "Date: 2023-06-27 12:30:00-04:00, Predicted Price: 188.44, Actual Price: 186.88099670410156\n",
            "Date: 2023-06-27 13:30:00-04:00, Predicted Price: 188.31, Actual Price: 187.13720703125\n",
            "Date: 2023-06-27 14:30:00-04:00, Predicted Price: 188.18, Actual Price: 188.05050659179688\n",
            "Date: 2023-06-27 15:30:00-04:00, Predicted Price: 188.05, Actual Price: 190.35000610351562\n",
            "Date: 2023-06-28 09:30:00-04:00, Predicted Price: 187.99, Actual Price: 189.52999877929688\n",
            "Date: 2023-06-28 10:30:00-04:00, Predicted Price: 187.93, Actual Price: 189.15499877929688\n",
            "Date: 2023-06-28 11:30:00-04:00, Predicted Price: 187.87, Actual Price: 189.86000061035156\n",
            "Date: 2023-06-28 12:30:00-04:00, Predicted Price: 187.84, Actual Price: 190.33999633789062\n",
            "Date: 2023-06-28 13:30:00-04:00, Predicted Price: 187.83, Actual Price: 189.86000061035156\n",
            "Date: 2023-06-28 14:30:00-04:00, Predicted Price: 187.84, Actual Price: 189.80999755859375\n",
            "Date: 2023-06-28 15:30:00-04:00, Predicted Price: 187.86, Actual Price: 189.97999572753906\n",
            "Date: 2023-06-29 09:30:00-04:00, Predicted Price: 187.91, Actual Price: 190.1699981689453\n",
            "Date: 2023-06-29 10:30:00-04:00, Predicted Price: 187.95, Actual Price: 190.6750030517578\n",
            "Date: 2023-06-29 11:30:00-04:00, Predicted Price: 188.00, Actual Price: 190.6649932861328\n",
            "Date: 2023-06-29 12:30:00-04:00, Predicted Price: 188.06, Actual Price: 190.5800018310547\n",
            "Date: 2023-06-29 13:30:00-04:00, Predicted Price: 188.13, Actual Price: 190.89500427246094\n",
            "Date: 2023-06-29 14:30:00-04:00, Predicted Price: 188.20, Actual Price: 190.5399932861328\n",
            "Date: 2023-06-29 15:30:00-04:00, Predicted Price: 188.28, Actual Price: 190.85000610351562\n",
            "Date: 2023-06-30 09:30:00-04:00, Predicted Price: 188.36, Actual Price: 190.36000061035156\n",
            "Date: 2023-06-30 10:30:00-04:00, Predicted Price: 188.43, Actual Price: 189.9499969482422\n",
            "Date: 2023-06-30 11:30:00-04:00, Predicted Price: 188.48, Actual Price: 190.01499938964844\n",
            "Date: 2023-06-30 12:30:00-04:00, Predicted Price: 188.53, Actual Price: 190.19000244140625\n",
            "Date: 2023-06-30 13:30:00-04:00, Predicted Price: 188.57, Actual Price: 190.27499389648438\n",
            "Date: 2023-06-30 14:30:00-04:00, Predicted Price: 188.61, Actual Price: 190.72999572753906\n",
            "Date: 2023-06-30 15:30:00-04:00, Predicted Price: 188.64, Actual Price: 192.76499938964844\n",
            "Date: 2023-07-03 09:30:00-04:00, Predicted Price: 188.72, Actual Price: 193.0050048828125\n",
            "Date: 2023-07-03 10:30:00-04:00, Predicted Price: 188.79, Actual Price: 192.75\n",
            "Date: 2023-07-03 11:30:00-04:00, Predicted Price: 188.87, Actual Price: 193.0800018310547\n",
            "Date: 2023-07-05 09:30:00-04:00, Predicted Price: 188.96, Actual Price: 193.6649932861328\n",
            "Date: 2023-07-05 10:30:00-04:00, Predicted Price: 189.06, Actual Price: 194.14999389648438\n",
            "Date: 2023-07-05 11:30:00-04:00, Predicted Price: 189.18, Actual Price: 193.97999572753906\n",
            "Date: 2023-07-05 12:30:00-04:00, Predicted Price: 189.31, Actual Price: 192.98500061035156\n",
            "Date: 2023-07-05 13:30:00-04:00, Predicted Price: 189.43, Actual Price: 193.14500427246094\n",
            "Date: 2023-07-05 14:30:00-04:00, Predicted Price: 189.55, Actual Price: 192.7050018310547\n",
            "Date: 2023-07-05 15:30:00-04:00, Predicted Price: 189.66, Actual Price: 192.93499755859375\n",
            "Date: 2023-07-06 09:30:00-04:00, Predicted Price: 189.75, Actual Price: 193.75999450683594\n",
            "Date: 2023-07-06 10:30:00-04:00, Predicted Price: 189.84, Actual Price: 193.94000244140625\n",
            "Date: 2023-07-06 11:30:00-04:00, Predicted Price: 189.94, Actual Price: 193.72999572753906\n",
            "Date: 2023-07-06 12:30:00-04:00, Predicted Price: 190.04, Actual Price: 192.77999877929688\n",
            "Date: 2023-07-06 13:30:00-04:00, Predicted Price: 190.12, Actual Price: 193.13099670410156\n",
            "Date: 2023-07-06 14:30:00-04:00, Predicted Price: 190.19, Actual Price: 195.11000061035156\n",
            "Date: 2023-07-06 15:30:00-04:00, Predicted Price: 190.29, Actual Price: 194.33999633789062\n",
            "Date: 2023-07-07 09:30:00-04:00, Predicted Price: 190.36, Actual Price: 194.64500427246094\n",
            "Date: 2023-07-07 10:30:00-04:00, Predicted Price: 190.42, Actual Price: 195.3800048828125\n",
            "Date: 2023-07-07 11:30:00-04:00, Predicted Price: 190.49, Actual Price: 195.0850067138672\n",
            "Date: 2023-07-07 12:30:00-04:00, Predicted Price: 190.57, Actual Price: 194.9080047607422\n",
            "Date: 2023-07-07 13:30:00-04:00, Predicted Price: 190.67, Actual Price: 194.60000610351562\n",
            "Date: 2023-07-07 14:30:00-04:00, Predicted Price: 190.73, Actual Price: 194.6199951171875\n",
            "Date: 2023-07-07 15:30:00-04:00, Predicted Price: 190.81, Actual Price: 194.25999450683594\n",
            "Date: 2023-07-10 09:30:00-04:00, Predicted Price: 190.87, Actual Price: 193.19009399414062\n",
            "Date: 2023-07-10 10:30:00-04:00, Predicted Price: 190.91, Actual Price: 192.5449981689453\n",
            "Date: 2023-07-10 11:30:00-04:00, Predicted Price: 190.95, Actual Price: 193.13999938964844\n",
            "Date: 2023-07-10 12:30:00-04:00, Predicted Price: 190.98, Actual Price: 192.8699951171875\n",
            "Date: 2023-07-10 13:30:00-04:00, Predicted Price: 191.01, Actual Price: 193.59500122070312\n",
            "Date: 2023-07-10 14:30:00-04:00, Predicted Price: 191.01, Actual Price: 192.6082000732422\n",
            "Date: 2023-07-10 15:30:00-04:00, Predicted Price: 191.01, Actual Price: 192.6999969482422\n",
            "Date: 2023-07-11 09:30:00-04:00, Predicted Price: 190.98, Actual Price: 192.72500610351562\n",
            "Date: 2023-07-11 10:30:00-04:00, Predicted Price: 190.96, Actual Price: 192.39999389648438\n",
            "Date: 2023-07-11 11:30:00-04:00, Predicted Price: 190.93, Actual Price: 191.92999267578125\n",
            "Date: 2023-07-11 12:30:00-04:00, Predicted Price: 190.89, Actual Price: 193.72999572753906\n",
            "Date: 2023-07-11 13:30:00-04:00, Predicted Price: 190.88, Actual Price: 193.27000427246094\n",
            "Date: 2023-07-11 14:30:00-04:00, Predicted Price: 190.84, Actual Price: 193.1649932861328\n",
            "Date: 2023-07-11 15:30:00-04:00, Predicted Price: 190.82, Actual Price: 192.97999572753906\n",
            "Date: 2023-07-12 09:30:00-04:00, Predicted Price: 190.79, Actual Price: 193.2449951171875\n",
            "Date: 2023-07-12 10:30:00-04:00, Predicted Price: 190.77, Actual Price: 192.3699951171875\n",
            "Date: 2023-07-12 11:30:00-04:00, Predicted Price: 190.74, Actual Price: 192.73500061035156\n",
            "Date: 2023-07-12 12:30:00-04:00, Predicted Price: 190.72, Actual Price: 193.39500427246094\n",
            "Date: 2023-07-12 13:30:00-04:00, Predicted Price: 190.71, Actual Price: 193.82000732421875\n",
            "Date: 2023-07-12 14:30:00-04:00, Predicted Price: 190.70, Actual Price: 193.7646942138672\n",
            "Date: 2023-07-12 15:30:00-04:00, Predicted Price: 190.70, Actual Price: 194.1999969482422\n",
            "Date: 2023-07-13 09:30:00-04:00, Predicted Price: 190.70, Actual Price: 194.12120056152344\n",
            "Date: 2023-07-13 10:30:00-04:00, Predicted Price: 190.72, Actual Price: 194.27499389648438\n",
            "Date: 2023-07-13 11:30:00-04:00, Predicted Price: 190.74, Actual Price: 193.6300048828125\n",
            "Date: 2023-07-13 12:30:00-04:00, Predicted Price: 190.77, Actual Price: 193.97999572753906\n",
            "Date: 2023-07-13 13:30:00-04:00, Predicted Price: 190.80, Actual Price: 194.24000549316406\n",
            "Date: 2023-07-13 14:30:00-04:00, Predicted Price: 190.83, Actual Price: 194.50999450683594\n",
            "Date: 2023-07-13 15:30:00-04:00, Predicted Price: 190.86, Actual Price: 194.36000061035156\n",
            "Date: 2023-07-14 09:30:00-04:00, Predicted Price: 190.90, Actual Price: 194.27000427246094\n",
            "Date: 2023-07-14 10:30:00-04:00, Predicted Price: 190.93, Actual Price: 194.21499633789062\n",
            "Date: 2023-07-14 11:30:00-04:00, Predicted Price: 190.98, Actual Price: 194.52000427246094\n",
            "Date: 2023-07-14 12:30:00-04:00, Predicted Price: 191.01, Actual Price: 195.97000122070312\n",
            "Date: 2023-07-14 13:30:00-04:00, Predicted Price: 191.07, Actual Price: 196.13999938964844\n",
            "Date: 2023-07-14 14:30:00-04:00, Predicted Price: 191.13, Actual Price: 196.30499267578125\n",
            "Date: 2023-07-14 15:30:00-04:00, Predicted Price: 191.19, Actual Price: 195.00999450683594\n",
            "Date: 2023-07-17 09:30:00-04:00, Predicted Price: 191.26, Actual Price: 193.72999572753906\n",
            "Date: 2023-07-17 10:30:00-04:00, Predicted Price: 191.30, Actual Price: 193.00999450683594\n",
            "Date: 2023-07-17 11:30:00-04:00, Predicted Price: 191.34, Actual Price: 193.22999572753906\n",
            "Date: 2023-07-17 12:30:00-04:00, Predicted Price: 191.35, Actual Price: 195.6199951171875\n",
            "Date: 2023-07-17 13:30:00-04:00, Predicted Price: 191.38, Actual Price: 196.1999969482422\n",
            "Date: 2023-07-17 14:30:00-04:00, Predicted Price: 191.41, Actual Price: 196.4210968017578\n",
            "Date: 2023-07-17 15:30:00-04:00, Predicted Price: 191.45, Actual Price: 195.58999633789062\n",
            "Date: 2023-07-18 09:30:00-04:00, Predicted Price: 191.49, Actual Price: 196.09019470214844\n",
            "Date: 2023-07-18 10:30:00-04:00, Predicted Price: 191.53, Actual Price: 195.76499938964844\n",
            "Date: 2023-07-18 11:30:00-04:00, Predicted Price: 191.57, Actual Price: 195.83999633789062\n",
            "Date: 2023-07-18 12:30:00-04:00, Predicted Price: 191.62, Actual Price: 196.24000549316406\n",
            "Date: 2023-07-18 13:30:00-04:00, Predicted Price: 191.67, Actual Price: 196.1750030517578\n",
            "Date: 2023-07-18 14:30:00-04:00, Predicted Price: 191.71, Actual Price: 196.1544952392578\n",
            "Date: 2023-07-18 15:30:00-04:00, Predicted Price: 191.76, Actual Price: 196.12989807128906\n",
            "Date: 2023-07-19 09:30:00-04:00, Predicted Price: 191.81, Actual Price: 196.16000366210938\n",
            "Date: 2023-07-19 10:30:00-04:00, Predicted Price: 191.86, Actual Price: 196.0876007080078\n",
            "Date: 2023-07-19 11:30:00-04:00, Predicted Price: 191.91, Actual Price: 196.49000549316406\n",
            "Date: 2023-07-19 12:30:00-04:00, Predicted Price: 191.96, Actual Price: 195.47500610351562\n",
            "Date: 2023-07-19 13:30:00-04:00, Predicted Price: 192.00, Actual Price: 196.11500549316406\n",
            "Date: 2023-07-19 14:30:00-04:00, Predicted Price: 192.03, Actual Price: 195.49729919433594\n",
            "Date: 2023-07-19 15:30:00-04:00, Predicted Price: 192.06, Actual Price: 195.72950744628906\n",
            "Date: 2023-07-20 09:30:00-04:00, Predicted Price: 192.08, Actual Price: 196.0532989501953\n",
            "Date: 2023-07-20 10:30:00-04:00, Predicted Price: 192.10, Actual Price: 195.80999755859375\n",
            "Date: 2023-07-20 11:30:00-04:00, Predicted Price: 192.12, Actual Price: 195.60000610351562\n",
            "Date: 2023-07-20 12:30:00-04:00, Predicted Price: 192.14, Actual Price: 193.2781982421875\n",
            "Date: 2023-07-20 13:30:00-04:00, Predicted Price: 192.13, Actual Price: 193.00999450683594\n",
            "Date: 2023-07-20 14:30:00-04:00, Predicted Price: 192.09, Actual Price: 191.92999267578125\n",
            "Date: 2023-07-20 15:30:00-04:00, Predicted Price: 192.03, Actual Price: 192.99000549316406\n",
            "Date: 2023-07-21 09:30:00-04:00, Predicted Price: 191.95, Actual Price: 192.97000122070312\n",
            "Date: 2023-07-21 10:30:00-04:00, Predicted Price: 191.87, Actual Price: 192.3000030517578\n",
            "Date: 2023-07-21 11:30:00-04:00, Predicted Price: 191.78, Actual Price: 192.58999633789062\n"
          ]
        }
      ],
      "source": [
        "plain_predictions = []\n",
        "for i in range(len(X_new)):\n",
        "    prediction = predict_stock_price(X_new[i])\n",
        "    plain_predictions.append(prediction)\n",
        "\n",
        "predictions = np.asarray(plain_predictions)\n",
        "predictions_reversed = inverse_min_max_scaling(predictions, x_min['Close'],x_max['Close'])\n",
        "\n",
        "y_new = np.asarray(y_new)\n",
        "y_new_rev = inverse_min_max_scaling(y_new, x_min['Close'],x_max['Close'])\n",
        "\n",
        "for i in range(len(predictions_reversed)):\n",
        "    date = data.index[i]\n",
        "    predicted_price = predictions_reversed[i]\n",
        "    print(f\"Date: {date}, Predicted Price: {predicted_price:.2f}, Actual Price: {y_new_rev[i]}\")\n",
        "\n",
        "full_mape = calculate_mape(y_new_rev, predictions_reversed)\n",
        "full_smape = calculate_smape(y_new_rev, predictions_reversed)\n",
        "full_rmse = calculate_rmse(y_new_rev, predictions_reversed)"
      ]
    },
    {
      "cell_type": "code",
      "execution_count": null,
      "metadata": {
        "colab": {
          "base_uri": "https://localhost:8080/"
        },
        "id": "cGYZJ1a07geF",
        "outputId": "48456904-34a4-4d65-9a6f-3f196a074d6f"
      },
      "outputs": [
        {
          "name": "stdout",
          "output_type": "stream",
          "text": [
            "0.27908367 0.27908364\n",
            "0.27537504 0.27537507\n",
            "0.26499063 0.2649906\n",
            "0.26248 0.26247996\n",
            "0.26134548 0.26134554\n",
            "0.26018667 0.26018664\n",
            "0.25831786 0.25831783\n",
            "0.2575601 0.25756013\n",
            "0.25216627 0.25216633\n",
            "0.2533709 0.25337094\n",
            "0.256265 0.25626504\n",
            "0.26758242 0.26758245\n",
            "0.27778575 0.27778578\n",
            "0.2839696 0.28396964\n",
            "0.29027066 0.29027063\n",
            "0.29635617 0.29635614\n",
            "0.3021827 0.30218273\n",
            "0.307656 0.30765596\n",
            "0.31264588 0.3126459\n",
            "0.31679404 0.316794\n",
            "0.3199814 0.31998137\n",
            "0.32249793 0.3224979\n",
            "0.32550985 0.3255098\n",
            "0.32626802 0.326268\n",
            "0.32660806 0.3266081\n",
            "0.3261965 0.32619646\n",
            "0.3249872 0.32498723\n",
            "0.3231443 0.32314432\n",
            "0.32044697 0.32044703\n",
            "0.31289235 0.31289238\n",
            "0.30848843 0.3084884\n",
            "0.2873901 0.28739014\n",
            "0.28177282 0.28177285\n",
            "0.27153262 0.27153268\n",
            "0.26128134 0.26128137\n",
            "0.26091337 0.26091334\n",
            "0.26105112 0.26105115\n",
            "0.2618433 0.26184326\n",
            "0.27068695 0.27068698\n",
            "0.28034905 0.28034902\n",
            "0.28550443 0.2855044\n",
            "0.29094517 0.29094514\n",
            "0.297832 0.29783204\n",
            "0.30527928 0.30527934\n",
            "0.31314278 0.31314275\n",
            "0.32887065 0.3288706\n",
            "0.3365069 0.33650687\n",
            "0.3437988 0.34379882\n",
            "0.3664004 0.36640036\n",
            "0.37381172 0.37381175\n",
            "0.38818178 0.38818184\n",
            "0.40047818 0.40047815\n",
            "0.4060632 0.40606326\n",
            "0.41178557 0.4117856\n",
            "0.42320833 0.4232083\n",
            "0.42878953 0.42878956\n",
            "0.43402645 0.43402648\n",
            "0.4396787 0.43967867\n",
            "0.44499192 0.4449919\n",
            "0.45048124 0.45048127\n",
            "0.45586187 0.45586184\n",
            "0.46082738 0.4608273\n",
            "0.46560588 0.46560585\n",
            "0.47027147 0.4702715\n",
            "0.47606224 0.47606218\n",
            "0.4827679 0.48276794\n",
            "0.5126755 0.5126756\n",
            "0.5206727 0.5206726\n",
            "0.518527 0.51852703\n",
            "0.51591635 0.5159164\n",
            "0.5033763 0.50337636\n",
            "0.49966428 0.49966434\n",
            "0.49542487 0.49542484\n",
            "0.49105486 0.4910548\n",
            "0.48665282 0.4866528\n",
            "0.48240477 0.4824048\n",
            "0.4785838 0.47858387\n",
            "0.4755633 0.47556323\n",
            "0.4713396 0.47133964\n",
            "0.47160137 0.47160134\n",
            "0.4737774 0.47377744\n",
            "0.47637072 0.47637066\n",
            "0.47933075 0.47933078\n",
            "0.48671395 0.486714\n",
            "0.49043664 0.4904366\n",
            "0.49432912 0.4943291\n",
            "0.49821022 0.49821028\n",
            "0.51082397 0.5108239\n",
            "0.52016664 0.5201667\n",
            "0.52540916 0.5254092\n",
            "0.5301157 0.5301158\n",
            "0.5393789 0.53937894\n",
            "0.5435194 0.54351944\n",
            "0.5541489 0.554149\n",
            "0.56106716 0.5610671\n",
            "0.564416 0.56441593\n",
            "0.56968486 0.5696848\n",
            "0.5719502 0.5719501\n",
            "0.57484466 0.57484454\n",
            "0.57812196 0.5781219\n",
            "0.5818546 0.58185464\n",
            "0.58933395 0.589334\n",
            "0.5936967 0.59369665\n",
            "0.5981431 0.59814304\n",
            "0.61138934 0.6113894\n",
            "0.6186903 0.61869013\n",
            "0.62620246 0.6262025\n",
            "0.62769955 0.6276995\n",
            "0.6303126 0.63031256\n",
            "0.63259315 0.6325932\n",
            "0.63404614 0.6340462\n",
            "0.633523 0.6335229\n",
            "0.6324273 0.6324274\n",
            "0.62996197 0.629962\n",
            "0.62756735 0.6275674\n",
            "0.63098675 0.6309868\n",
            "0.6328072 0.63280725\n",
            "0.6345557 0.63455576\n",
            "0.6364791 0.63647914\n",
            "0.6441842 0.64418423\n",
            "0.6523076 0.65230757\n",
            "0.6546376 0.65463763\n",
            "0.656492 0.65649194\n",
            "0.6579771 0.65797716\n",
            "0.6592773 0.65927726\n",
            "0.66012955 0.6601295\n",
            "0.6621656 0.66216564\n",
            "0.66337967 0.6633798\n",
            "0.6669583 0.66695815\n",
            "0.67756957 0.6775695\n",
            "0.6871797 0.6871796\n",
            "0.6905573 0.69055724\n",
            "0.69440407 0.6944041\n",
            "0.70093906 0.700939\n",
            "0.7040859 0.704086\n",
            "0.70716953 0.7071695\n",
            "0.7101873 0.71018726\n",
            "0.7216132 0.7216133\n",
            "0.7261273 0.72612727\n",
            "0.73096985 0.7309698\n",
            "0.741675 0.74167496\n",
            "0.7476188 0.74761885\n",
            "0.7580011 0.75800115\n",
            "0.76236033 0.76236045\n",
            "0.76665765 0.7666576\n",
            "0.77005047 0.7700504\n",
            "0.7748977 0.77489763\n",
            "0.77647156 0.7764715\n",
            "0.7787439 0.778744\n",
            "0.77899665 0.7789967\n",
            "0.7775123 0.7775124\n",
            "0.77677774 0.7767777\n",
            "0.775433 0.77543294\n",
            "0.7750433 0.7750434\n",
            "0.7743107 0.77431065\n",
            "0.774021 0.7740211\n",
            "0.7742336 0.77423364\n",
            "0.7747665 0.7747666\n",
            "0.7754872 0.7754871\n",
            "0.7754951 0.77549505\n",
            "0.7710643 0.77106416\n",
            "0.7679751 0.767975\n",
            "0.7646286 0.76462877\n",
            "0.7611473 0.76114744\n",
            "0.7541492 0.75414926\n",
            "0.75026345 0.7502635\n",
            "0.7339929 0.73399293\n",
            "0.7299827 0.7299826\n",
            "0.7259209 0.725921\n",
            "0.7231268 0.7231269\n",
            "0.72524637 0.7252464\n",
            "0.7266467 0.7266468\n",
            "0.72827595 0.7282759\n",
            "0.7347099 0.73471\n",
            "0.7397076 0.73970765\n",
            "0.741842 0.7418419\n",
            "0.7436936 0.74369365\n",
            "0.7451818 0.74518174\n",
            "0.7465665 0.74656653\n",
            "0.74772114 0.7477212\n",
            "0.7533934 0.7533935\n",
            "0.7561006 0.7561007\n",
            "0.7589161 0.7589162\n",
            "0.7622331 0.76223314\n",
            "0.7660084 0.7660083\n",
            "0.7701222 0.7701221\n",
            "0.77413094 0.7741309\n",
            "0.77775437 0.7777543\n",
            "0.7812459 0.78124595\n",
            "0.7871895 0.78718954\n",
            "0.79029864 0.7902987\n",
            "0.7961848 0.7961849\n",
            "0.79836726 0.7983673\n",
            "0.80371577 0.8037159\n",
            "0.80798066 0.8079806\n",
            "0.8104848 0.81048477\n",
            "0.8135957 0.8135956\n",
            "0.8157575 0.8157576\n",
            "0.81803524 0.81803536\n",
            "0.81997967 0.8199796\n",
            "0.82268524 0.8226854\n",
            "0.82452226 0.8245224\n",
            "0.82456 0.82456005\n",
            "0.82447755 0.8244775\n",
            "0.82378155 0.8237816\n",
            "0.82307434 0.8230744\n",
            "0.8221125 0.82211256\n",
            "0.8203452 0.82034516\n",
            "0.8192563 0.81925625\n",
            "0.81854105 0.8185411\n",
            "0.8168006 0.8168005\n",
            "0.81516784 0.8151678\n",
            "0.8149062 0.81490624\n",
            "0.8145322 0.8145323\n",
            "0.81472516 0.8147253\n",
            "0.81521124 0.8152112\n",
            "0.8168933 0.8168932\n",
            "0.81780064 0.8178006\n",
            "0.8197874 0.8197875\n",
            "0.82665974 0.8266597\n",
            "0.83400255 0.83400244\n",
            "0.8349902 0.8349903\n",
            "0.8354107 0.8354108\n",
            "0.83727336 0.8372733\n",
            "0.8411523 0.84115225\n",
            "0.8457216 0.8457215\n",
            "0.8471494 0.84714955\n",
            "0.8486075 0.8486074\n",
            "0.8532667 0.8532669\n",
            "0.854874 0.85487425\n",
            "0.8572864 0.85728633\n",
            "0.8580389 0.85803896\n",
            "0.8600046 0.86000454\n",
            "0.86062306 0.860623\n",
            "0.86056966 0.8605696\n",
            "0.859251 0.8592511\n",
            "0.85732543 0.8573255\n",
            "0.85480314 0.85480326\n",
            "0.8522159 0.85221595\n",
            "0.849386 0.84938574\n"
          ]
        }
      ],
      "source": [
        "for x, y in zip(plain_predictions, lite_predictions):\n",
        "  if x != y:\n",
        "    print(x, y)"
      ]
    },
    {
      "cell_type": "code",
      "execution_count": null,
      "metadata": {
        "colab": {
          "base_uri": "https://localhost:8080/"
        },
        "id": "u8jhVXBY3vFs",
        "outputId": "5fd738a8-4351-4a61-c563-15bd35ec8a15"
      },
      "outputs": [
        {
          "name": "stdout",
          "output_type": "stream",
          "text": [
            "Full Model --- MAPE: 1.14, SMAPE: 1.14, RMSE: 2.47\n",
            "Quantized Model --- MAPE: 1.14, SMAPE: 1.14, RMSE: 2.47\n"
          ]
        }
      ],
      "source": [
        "print(f'Full Model --- MAPE: {full_mape:.2f}, SMAPE: {full_smape:.2f}, RMSE: {full_rmse:.2f}')\n",
        "print(f'Quantized Model --- MAPE: {lite_mape:.2f}, SMAPE: {lite_smape:.2f}, RMSE: {lite_rmse:.2f}')"
      ]
    },
    {
      "cell_type": "markdown",
      "metadata": {
        "id": "OHn3v7Rih8Wy"
      },
      "source": [
        "## Alpaca Backtrader Integration"
      ]
    },
    {
      "cell_type": "markdown",
      "metadata": {
        "id": "Z41bX1BYdU7V"
      },
      "source": [
        "### Load TinyML model"
      ]
    },
    {
      "cell_type": "code",
      "execution_count": null,
      "metadata": {
        "id": "zE5xZ4Epda1n"
      },
      "outputs": [],
      "source": [
        "def predict_stock_price_quantized(X_new):\n",
        "    X_new = X_new.reshape(1, X_new.shape[0], X_new.shape[1])\n",
        "    X_new = X_new.astype(np.float32)\n",
        "    interpreter.set_tensor(input_details[0]['index'], X_new)\n",
        "    interpreter.invoke()\n",
        "    output_data = interpreter.get_tensor(output_details[0]['index'])\n",
        "\n",
        "    return output_data[0][0]"
      ]
    },
    {
      "cell_type": "code",
      "execution_count": null,
      "metadata": {
        "id": "IypOV7Nlda1n"
      },
      "outputs": [],
      "source": [
        "model_path = 'apple_quantized_model.tflite'\n",
        "interpreter = tf.lite.Interpreter(model_path=model_path)\n",
        "interpreter.allocate_tensors()"
      ]
    },
    {
      "cell_type": "code",
      "execution_count": null,
      "metadata": {
        "id": "Bxxu_Jp-da1n"
      },
      "outputs": [],
      "source": [
        "input_details = interpreter.get_input_details()\n",
        "output_details = interpreter.get_output_details()"
      ]
    },
    {
      "cell_type": "markdown",
      "metadata": {
        "id": "nHYK1LGmdadj"
      },
      "source": [
        "### Backtest"
      ]
    },
    {
      "cell_type": "code",
      "execution_count": null,
      "metadata": {
        "colab": {
          "base_uri": "https://localhost:8080/"
        },
        "id": "u6k8Pog3iN7D",
        "outputId": "2d9388df-530a-4799-8c5f-d7f7643fb4fc"
      },
      "outputs": [
        {
          "name": "stdout",
          "output_type": "stream",
          "text": [
            "Collecting backtrader\n",
            "  Downloading backtrader-1.9.78.123-py2.py3-none-any.whl (419 kB)\n",
            "\u001b[?25l     \u001b[90m━━━━━━━━━━━━━━━━━━━━━━━━━━━━━━━━━━━━━━━━\u001b[0m \u001b[32m0.0/419.5 kB\u001b[0m \u001b[31m?\u001b[0m eta \u001b[36m-:--:--\u001b[0m\r\u001b[2K     \u001b[91m━━━━━━━━\u001b[0m\u001b[91m╸\u001b[0m\u001b[90m━━━━━━━━━━━━━━━━━━━━━━━━━━━━━━━\u001b[0m \u001b[32m92.2/419.5 kB\u001b[0m \u001b[31m2.5 MB/s\u001b[0m eta \u001b[36m0:00:01\u001b[0m\r\u001b[2K     \u001b[90m━━━━━━━━━━━━━━━━━━━━━━━━━━━━━━━━━━━━━━━\u001b[0m \u001b[32m419.5/419.5 kB\u001b[0m \u001b[31m6.2 MB/s\u001b[0m eta \u001b[36m0:00:00\u001b[0m\n",
            "\u001b[?25hInstalling collected packages: backtrader\n",
            "Successfully installed backtrader-1.9.78.123\n"
          ]
        }
      ],
      "source": [
        "! pip install backtrader"
      ]
    },
    {
      "cell_type": "code",
      "execution_count": null,
      "metadata": {
        "colab": {
          "base_uri": "https://localhost:8080/"
        },
        "id": "_8O8hFeOupvo",
        "outputId": "e1182d56-fa88-4a6d-940d-61ce9e8ec8fc"
      },
      "outputs": [
        {
          "name": "stdout",
          "output_type": "stream",
          "text": [
            "Reading package lists... Done\n",
            "Building dependency tree... Done\n",
            "Reading state information... Done\n",
            "build-essential is already the newest version (12.9ubuntu3).\n",
            "libssl-dev is already the newest version (3.0.2-0ubuntu1.10).\n",
            "python3-dev is already the newest version (3.10.6-1~22.04).\n",
            "python3-dev set to manually installed.\n",
            "The following NEW packages will be installed:\n",
            "  libffi-dev\n",
            "0 upgraded, 1 newly installed, 0 to remove and 16 not upgraded.\n",
            "Need to get 63.7 kB of archives.\n",
            "After this operation, 336 kB of additional disk space will be used.\n",
            "Get:1 http://archive.ubuntu.com/ubuntu jammy/main amd64 libffi-dev amd64 3.4.2-4 [63.7 kB]\n",
            "Fetched 63.7 kB in 1s (68.6 kB/s)\n",
            "Selecting previously unselected package libffi-dev:amd64.\n",
            "(Reading database ... 120893 files and directories currently installed.)\n",
            "Preparing to unpack .../libffi-dev_3.4.2-4_amd64.deb ...\n",
            "Unpacking libffi-dev:amd64 (3.4.2-4) ...\n",
            "Setting up libffi-dev:amd64 (3.4.2-4) ...\n",
            "Processing triggers for man-db (2.10.2-1) ...\n"
          ]
        }
      ],
      "source": [
        "!apt-get install -y build-essential libssl-dev libffi-dev python3-dev"
      ]
    },
    {
      "cell_type": "code",
      "execution_count": null,
      "metadata": {
        "id": "nPwbhTUEiCfU"
      },
      "outputs": [],
      "source": [
        "import backtrader as bt\n",
        "import pandas as pd"
      ]
    },
    {
      "cell_type": "code",
      "execution_count": null,
      "metadata": {
        "id": "OqJx_-RlkmBs"
      },
      "outputs": [],
      "source": [
        "\n",
        "# import alpaca_trade_api as tradeapi\n",
        "import pandas as pd\n",
        "import numpy as np"
      ]
    },
    {
      "cell_type": "code",
      "execution_count": null,
      "metadata": {
        "id": "UqRGVdyVxoKQ"
      },
      "outputs": [],
      "source": [
        "\n",
        "import backtrader as bt\n",
        "import numpy as np"
      ]
    },
    {
      "cell_type": "code",
      "execution_count": null,
      "metadata": {
        "id": "P2GV9rmWx9JP"
      },
      "outputs": [],
      "source": [
        "# Replace with your own Alpaca API credentials\n",
        "API_KEY = 'PK440XDIDQ95UVSR5FFM'\n",
        "API_SECRET = '8o3JzfrA4J88QnhjbPOFnBAxPLb86RXNK3XCa8n2'\n",
        "PAPER_BASE_URL = 'https://paper-api.alpaca.markets'  # For paper trading"
      ]
    },
    {
      "cell_type": "code",
      "execution_count": null,
      "metadata": {
        "id": "ADSeDCbt8feX"
      },
      "outputs": [],
      "source": [
        "def predict_stock_price_quantized(X_new):\n",
        "    X_new = X_new.reshape(1, X_new.shape[0], X_new.shape[1])\n",
        "    X_new = X_new.astype(np.float32)\n",
        "    interpreter.set_tensor(input_details[0]['index'], X_new)\n",
        "    interpreter.invoke()\n",
        "    output_data = interpreter.get_tensor(output_details[0]['index'])\n",
        "\n",
        "    return output_data[0][0]"
      ]
    },
    {
      "cell_type": "code",
      "execution_count": null,
      "metadata": {
        "id": "y5o97yUkxqQ-"
      },
      "outputs": [],
      "source": [
        "def predict_price_lstm(historical_data):\n",
        "    return predict_stock_price_quantized(historical_data)"
      ]
    },
    {
      "cell_type": "code",
      "execution_count": null,
      "metadata": {
        "id": "TYIwzjZcS2i9"
      },
      "outputs": [],
      "source": [
        "def preprocess_data(data):\n",
        "    print(data['Close'].max(),data['High'].values[0])\n",
        "    data = data.apply(min_max_scaling)\n",
        "    print(data['Close'].max(),data['High'].values[0])\n",
        "\n",
        "    look_back = 60\n",
        "    X, y = [], []\n",
        "    for i in range(len(data) - look_back):\n",
        "        X.append(data[['Open', 'High', 'Low', 'Close', 'Volume']].values[i:i + look_back])\n",
        "        y.append(data['Close'].values[i + look_back])\n",
        "    X = np.array(X)\n",
        "    y = np.array(y)\n",
        "\n",
        "    return X, y"
      ]
    },
    {
      "cell_type": "code",
      "execution_count": null,
      "metadata": {
        "id": "qoFcVUM5UNDR"
      },
      "outputs": [],
      "source": [
        "def download_stock_data(ticker, start_date, end_date, interval_time = '1h'):\n",
        "    return yf.download(ticker, start=start_date, end=end_date, interval=interval_time)\n",
        "\n",
        "def min_max_scaling(x):\n",
        "    return (x - x.min()) / (x.max() - x.min())"
      ]
    },
    {
      "cell_type": "code",
      "execution_count": null,
      "metadata": {
        "colab": {
          "base_uri": "https://localhost:8080/"
        },
        "id": "gmX8fbZZURpO",
        "outputId": "310ad168-77c4-46fd-a882-e889076a6878"
      },
      "outputs": [
        {
          "name": "stdout",
          "output_type": "stream",
          "text": [
            "Requirement already satisfied: yfinance in /usr/local/lib/python3.10/dist-packages (0.2.28)\n",
            "Requirement already satisfied: pandas>=1.3.0 in /usr/local/lib/python3.10/dist-packages (from yfinance) (1.5.3)\n",
            "Requirement already satisfied: numpy>=1.16.5 in /usr/local/lib/python3.10/dist-packages (from yfinance) (1.23.5)\n",
            "Requirement already satisfied: requests>=2.31 in /usr/local/lib/python3.10/dist-packages (from yfinance) (2.31.0)\n",
            "Requirement already satisfied: multitasking>=0.0.7 in /usr/local/lib/python3.10/dist-packages (from yfinance) (0.0.11)\n",
            "Requirement already satisfied: lxml>=4.9.1 in /usr/local/lib/python3.10/dist-packages (from yfinance) (4.9.3)\n",
            "Requirement already satisfied: appdirs>=1.4.4 in /usr/local/lib/python3.10/dist-packages (from yfinance) (1.4.4)\n",
            "Requirement already satisfied: pytz>=2022.5 in /usr/local/lib/python3.10/dist-packages (from yfinance) (2023.3)\n",
            "Requirement already satisfied: frozendict>=2.3.4 in /usr/local/lib/python3.10/dist-packages (from yfinance) (2.3.8)\n",
            "Requirement already satisfied: beautifulsoup4>=4.11.1 in /usr/local/lib/python3.10/dist-packages (from yfinance) (4.11.2)\n",
            "Requirement already satisfied: html5lib>=1.1 in /usr/local/lib/python3.10/dist-packages (from yfinance) (1.1)\n",
            "Requirement already satisfied: soupsieve>1.2 in /usr/local/lib/python3.10/dist-packages (from beautifulsoup4>=4.11.1->yfinance) (2.4.1)\n",
            "Requirement already satisfied: six>=1.9 in /usr/local/lib/python3.10/dist-packages (from html5lib>=1.1->yfinance) (1.16.0)\n",
            "Requirement already satisfied: webencodings in /usr/local/lib/python3.10/dist-packages (from html5lib>=1.1->yfinance) (0.5.1)\n",
            "Requirement already satisfied: python-dateutil>=2.8.1 in /usr/local/lib/python3.10/dist-packages (from pandas>=1.3.0->yfinance) (2.8.2)\n",
            "Requirement already satisfied: charset-normalizer<4,>=2 in /usr/local/lib/python3.10/dist-packages (from requests>=2.31->yfinance) (3.2.0)\n",
            "Requirement already satisfied: idna<4,>=2.5 in /usr/local/lib/python3.10/dist-packages (from requests>=2.31->yfinance) (3.4)\n",
            "Requirement already satisfied: urllib3<3,>=1.21.1 in /usr/local/lib/python3.10/dist-packages (from requests>=2.31->yfinance) (2.0.4)\n",
            "Requirement already satisfied: certifi>=2017.4.17 in /usr/local/lib/python3.10/dist-packages (from requests>=2.31->yfinance) (2023.7.22)\n"
          ]
        }
      ],
      "source": [
        "! pip install yfinance"
      ]
    },
    {
      "cell_type": "code",
      "execution_count": null,
      "metadata": {
        "id": "ed3R3eMqUSO5"
      },
      "outputs": [],
      "source": [
        "import yfinance as yf\n",
        "import numpy as np"
      ]
    },
    {
      "cell_type": "code",
      "execution_count": null,
      "metadata": {
        "id": "vW5f45wgFcv7"
      },
      "outputs": [],
      "source": [
        "class Portfolio():\n",
        "  def __init__(self, cash):\n",
        "    self.cash = cash\n",
        "    self.volume = 0\n",
        "    self.sell = []\n",
        "    self.buy = []"
      ]
    },
    {
      "cell_type": "code",
      "execution_count": null,
      "metadata": {
        "id": "rEereGbnY9nD"
      },
      "outputs": [],
      "source": [
        "actual_values = []"
      ]
    },
    {
      "cell_type": "code",
      "execution_count": null,
      "metadata": {
        "id": "tGk09xIVSzYU"
      },
      "outputs": [],
      "source": [
        "def inverse_min_max_scaling(x, min_val, max_val):\n",
        "  return x * (max_val - min_val) + min_val"
      ]
    },
    {
      "cell_type": "code",
      "execution_count": null,
      "metadata": {
        "id": "Gn7vI1oX9tcp"
      },
      "outputs": [],
      "source": [
        "risk_reward = 1.001\n",
        "bought_flag = False\n",
        "bought_price = 0"
      ]
    },
    {
      "cell_type": "code",
      "execution_count": null,
      "metadata": {
        "id": "0ColLIKw7cjy"
      },
      "outputs": [],
      "source": [
        "class LSTMStrategy(bt.Strategy):\n",
        "    params = (\n",
        "        (\"look_back\", 60),\n",
        "    )\n",
        "    def __init__(self):\n",
        "        self.lstm_predictions = []\n",
        "        self.X = X\n",
        "        self.counter = 0\n",
        "        self.unit = 10\n",
        "    def next(self):\n",
        "      global pf,lstm_predictions,date,bought_flag, test_counter, risk_reward, bought_price, X\n",
        "      if self.counter == 0:\n",
        "          now_price = inverse_min_max_scaling(X[-1][3], x_min['Close'], x_max['Close'])\n",
        "          predicted_price = predict_price_lstm(X)\n",
        "          lstm_predictions.append(inverse_min_max_scaling(predicted_price, x_min['Close'], x_max['Close']))\n",
        "          if not bought_flag:\n",
        "            for i in range(10):\n",
        "              predicted_price = predict_price_lstm(X)\n",
        "              X = X[1:,:]\n",
        "              X = np.append(X, [[predicted_price, predicted_price, predicted_price, predicted_price, predicted_price]],axis = 0)\n",
        "          predicted_price = inverse_min_max_scaling(predicted_price, x_min['Close'], x_max['Close'])\n",
        "          if not bought_flag and pf.cash > self.unit * now_price and predicted_price * self.unit > risk_reward * self.unit * now_price:\n",
        "              self.buy(unit = self.unit)\n",
        "              pf.volume += self.unit\n",
        "              pf.cash -= self.unit * now_price\n",
        "              bought_flag = True\n",
        "              pf.buy.append(date)\n",
        "              bought_price = now_price\n",
        "          elif (test_counter == 20 and bought_flag) or bought_price < risk_reward * now_price:\n",
        "              self.sell(unit = self.unit)\n",
        "              pf.sell.append(date)\n",
        "              bought_flag = False\n",
        "              pf.cash += self.unit * now_price\n",
        "              pf.volume -= self.unit\n",
        "              test_counter = 0\n",
        "          else:\n",
        "            test_counter += 1\n",
        "          self.counter += 1"
      ]
    },
    {
      "cell_type": "code",
      "execution_count": null,
      "metadata": {
        "id": "aqNUKYaXyyfs"
      },
      "outputs": [],
      "source": [
        "import datetime"
      ]
    },
    {
      "cell_type": "code",
      "execution_count": null,
      "metadata": {
        "colab": {
          "base_uri": "https://localhost:8080/"
        },
        "id": "f8C4mrCM4q-V",
        "outputId": "79c0549a-22ff-4e6b-a199-0c9e8c2f7f10"
      },
      "outputs": [
        {
          "name": "stdout",
          "output_type": "stream",
          "text": [
            "189.1750030517578 189.1999969482422\n",
            "1.0 1.0\n"
          ]
        }
      ],
      "source": [
        "\n",
        "stock_symbol = \"AAPL\"\n",
        "ticker = yf.Ticker(stock_symbol)\n",
        "historical_data = ticker.history(period=\"1d\", interval=\"1m\").tail(61)\n",
        "\n",
        "X_test, y_test= preprocess_data(historical_data)\n",
        "x_min = historical_data.min()\n",
        "x_max = historical_data.max()\n",
        "X = X_test[0]\n",
        "test_counter = 0"
      ]
    },
    {
      "cell_type": "code",
      "execution_count": null,
      "metadata": {
        "colab": {
          "base_uri": "https://localhost:8080/"
        },
        "id": "Xnvoo3tKQQ93",
        "outputId": "282abc94-d79b-4458-b18b-ea5fbf206a55"
      },
      "outputs": [
        {
          "name": "stdout",
          "output_type": "stream",
          "text": [
            "1\n"
          ]
        }
      ],
      "source": [
        "print(len(X_test))"
      ]
    },
    {
      "cell_type": "code",
      "execution_count": null,
      "metadata": {
        "id": "t6D6d5RS7s_S"
      },
      "outputs": [],
      "source": [
        "feed = bt.feeds.PandasData(dataname=historical_data)"
      ]
    },
    {
      "cell_type": "code",
      "execution_count": null,
      "metadata": {
        "colab": {
          "base_uri": "https://localhost:8080/"
        },
        "id": "Z4JNEld6xv7Z",
        "outputId": "64ba0ed2-9b49-43e6-ce3c-9e1f8be1c317"
      },
      "outputs": [
        {
          "data": {
            "text/plain": [
              "0"
            ]
          },
          "execution_count": 105,
          "metadata": {},
          "output_type": "execute_result"
        }
      ],
      "source": [
        "cerebro = bt.Cerebro(stdstats=True)\n",
        "cerebro.broker.setcash(10000)\n",
        "cerebro.adddata(feed)\n",
        "cerebro.addstrategy(LSTMStrategy, look_back=60)"
      ]
    },
    {
      "cell_type": "code",
      "execution_count": null,
      "metadata": {
        "colab": {
          "base_uri": "https://localhost:8080/"
        },
        "id": "ZlXP0qholzis",
        "outputId": "aafdf253-7e7b-43b3-e31a-c8aa9dc626fa"
      },
      "outputs": [
        {
          "name": "stdout",
          "output_type": "stream",
          "text": [
            "DatetimeIndex(['2023-09-01 14:03:00-04:00', '2023-09-01 14:04:00-04:00',\n",
            "               '2023-09-01 14:05:00-04:00', '2023-09-01 14:06:00-04:00',\n",
            "               '2023-09-01 14:07:00-04:00', '2023-09-01 14:08:00-04:00',\n",
            "               '2023-09-01 14:09:00-04:00', '2023-09-01 14:10:00-04:00',\n",
            "               '2023-09-01 14:11:00-04:00', '2023-09-01 14:12:00-04:00',\n",
            "               '2023-09-01 14:13:00-04:00', '2023-09-01 14:14:00-04:00',\n",
            "               '2023-09-01 14:15:00-04:00', '2023-09-01 14:16:00-04:00',\n",
            "               '2023-09-01 14:17:00-04:00', '2023-09-01 14:18:00-04:00',\n",
            "               '2023-09-01 14:19:00-04:00', '2023-09-01 14:20:00-04:00',\n",
            "               '2023-09-01 14:21:00-04:00', '2023-09-01 14:22:00-04:00',\n",
            "               '2023-09-01 14:23:00-04:00', '2023-09-01 14:24:00-04:00',\n",
            "               '2023-09-01 14:25:00-04:00', '2023-09-01 14:26:00-04:00',\n",
            "               '2023-09-01 14:27:00-04:00', '2023-09-01 14:28:00-04:00',\n",
            "               '2023-09-01 14:29:00-04:00', '2023-09-01 14:30:00-04:00',\n",
            "               '2023-09-01 14:31:00-04:00', '2023-09-01 14:32:00-04:00',\n",
            "               '2023-09-01 14:33:00-04:00', '2023-09-01 14:34:00-04:00',\n",
            "               '2023-09-01 14:35:00-04:00', '2023-09-01 14:36:00-04:00',\n",
            "               '2023-09-01 14:37:00-04:00', '2023-09-01 14:38:00-04:00',\n",
            "               '2023-09-01 14:39:00-04:00', '2023-09-01 14:40:00-04:00',\n",
            "               '2023-09-01 14:41:00-04:00', '2023-09-01 14:42:00-04:00',\n",
            "               '2023-09-01 14:43:00-04:00', '2023-09-01 14:44:00-04:00',\n",
            "               '2023-09-01 14:45:00-04:00', '2023-09-01 14:46:00-04:00',\n",
            "               '2023-09-01 14:47:00-04:00', '2023-09-01 14:48:00-04:00',\n",
            "               '2023-09-01 14:49:00-04:00', '2023-09-01 14:50:00-04:00',\n",
            "               '2023-09-01 14:51:00-04:00', '2023-09-01 14:52:00-04:00',\n",
            "               '2023-09-01 14:53:00-04:00', '2023-09-01 14:54:00-04:00',\n",
            "               '2023-09-01 14:55:00-04:00', '2023-09-01 14:56:00-04:00',\n",
            "               '2023-09-01 14:57:00-04:00', '2023-09-01 14:58:00-04:00',\n",
            "               '2023-09-01 14:59:00-04:00', '2023-09-01 15:00:00-04:00',\n",
            "               '2023-09-01 15:01:00-04:00', '2023-09-01 15:02:00-04:00',\n",
            "               '2023-09-01 15:03:00-04:00'],\n",
            "              dtype='datetime64[ns, America/New_York]', name='Datetime', freq=None)\n"
          ]
        }
      ],
      "source": [
        "print(historical_data.index)"
      ]
    },
    {
      "cell_type": "code",
      "execution_count": null,
      "metadata": {
        "colab": {
          "base_uri": "https://localhost:8080/"
        },
        "id": "dBnLaPJs6gwW",
        "outputId": "c1d5d61d-7957-4d97-fd66-1439b6d5184a"
      },
      "outputs": [
        {
          "name": "stdout",
          "output_type": "stream",
          "text": [
            "189.14500427246094 189.14999389648438\n",
            "1.0 0.9827418378890321\n",
            "189.1300048828125 189.15499877929688\n",
            "1.0 0.991370918944516\n",
            "189.1300048828125 189.14999389648438\n",
            "1.0 0.9827418378890321\n",
            "189.1300048828125 189.13999938964844\n",
            "1.0 0.9655099839520139\n"
          ]
        }
      ],
      "source": [
        "pf = Portfolio(100000)\n",
        "import IPython.display as display\n",
        "import seaborn as sns\n",
        "from datetime import datetime, timedelta\n",
        "import time\n",
        "\n",
        "sns.set()  # Set the Seaborn style\n",
        "\n",
        "actual_values = []\n",
        "lstm_predictions = []\n",
        "historical_data.head()\n",
        "test_counter = 0\n",
        "for i in range(100):\n",
        "  date = historical_data.index[test_counter]\n",
        "\n",
        "  cerebro.run()\n",
        "  time.sleep(60)\n",
        "  historical_data = ticker.history(period=\"1d\", interval=\"1m\").tail(61)\n",
        "\n",
        "  X_test, y_test= preprocess_data(historical_data)\n",
        "  x_min = historical_data.min()\n",
        "  x_max = historical_data.max()\n",
        "  X = X_test[0]\n",
        "\n",
        "\n",
        "\n",
        "  actual_values.append(inverse_min_max_scaling(X_test[-1][3], x_min['Close'], x_max['Close']))"
      ]
    },
    {
      "cell_type": "code",
      "execution_count": null,
      "metadata": {
        "id": "wBlQbZLtiaTD"
      },
      "outputs": [],
      "source": [
        "!pip install mplfinance"
      ]
    },
    {
      "cell_type": "code",
      "execution_count": null,
      "metadata": {
        "id": "8NZemcoYmp3P"
      },
      "outputs": [],
      "source": [
        "!pip install plotly"
      ]
    },
    {
      "cell_type": "code",
      "execution_count": null,
      "metadata": {
        "id": "CVZ9N2fQme4g"
      },
      "outputs": [],
      "source": [
        "import plotly.graph_objs as go\n",
        "ticker_symbol = \"AAPL\"  # Replace with your desired stock symbol\n",
        "\n",
        "\n",
        "data = yf.download(ticker_symbol, start=start_date, end=end_date, interval=\"1h\")\n",
        "\n",
        "fig = go.Figure(data=[go.Candlestick(x=data.index,\n",
        "                open=data['Open'],\n",
        "                high=data['High'],\n",
        "                low=data['Low'],\n",
        "                close=data['Close'])])\n",
        "\n",
        "fig.update_layout(\n",
        "    title=f'Candlestick Chart for {ticker_symbol}',\n",
        "    xaxis_title='Date',\n",
        "    yaxis_title='Price',\n",
        "    xaxis_rangeslider_visible=False\n",
        ")\n",
        "\n",
        "fig.show()"
      ]
    },
    {
      "cell_type": "code",
      "execution_count": null,
      "metadata": {
        "id": "6U9tEZ8xie1L"
      },
      "outputs": [],
      "source": [
        "# Convert the datetime index to a column for mplfinance\n",
        "import mplfinance as mpf\n",
        "data = yf.download(ticker, start=start_date, end=end_date)\n",
        "data.reset_index(inplace=True)\n",
        "data = yf.download(ticker, start=start_date, end=end_date)\n",
        "mpf.plot(data, type='candle', style='charles', title=f'{ticker} Candlestick Chart', ylabel='Price')\n",
        "plt.show()"
      ]
    },
    {
      "cell_type": "code",
      "execution_count": null,
      "metadata": {
        "id": "kfOX_vmOASjQ"
      },
      "outputs": [],
      "source": [
        "import matplotlib.pyplot as plt\n",
        "import numpy as np\n",
        "\n",
        "\n",
        "x = range(len(X_test)-1)\n",
        "fig, axs = plt.subplots(1, 2, figsize=(10, 5))\n",
        "axs[0].plot(x, lstm_predictions, label='predicted')\n",
        "axs[0].set_title('Predicted closed values for each hour')\n",
        "axs[0].set_xlabel('x')\n",
        "axs[0].set_ylabel('y')\n",
        "axs[0].legend()\n",
        "\n",
        "axs[1].plot(x, actual_values, label='actual', color='orange')\n",
        "axs[1].set_title('Actual closed values for each hour')\n",
        "axs[1].set_xlabel('x')\n",
        "axs[1].set_ylabel('y')\n",
        "axs[1].legend()\n",
        "\n",
        "plt.tight_layout()\n",
        "\n",
        "plt.show()"
      ]
    },
    {
      "cell_type": "code",
      "execution_count": null,
      "metadata": {
        "id": "Mfpj7uRxiTNg"
      },
      "outputs": [],
      "source": [
        "import mplfinance as mpf"
      ]
    },
    {
      "cell_type": "code",
      "execution_count": null,
      "metadata": {
        "colab": {
          "base_uri": "https://localhost:8080/"
        },
        "id": "TxVuLJr_fz73",
        "outputId": "f7f03ecd-25c0-4eea-e52d-21a32370953b"
      },
      "outputs": [
        {
          "name": "stdout",
          "output_type": "stream",
          "text": [
            "Portfolio's cash:  1755.7154846191406\n"
          ]
        }
      ],
      "source": [
        "print(\"Portfolio's cash: \", pf.cash)"
      ]
    },
    {
      "cell_type": "code",
      "execution_count": null,
      "metadata": {
        "colab": {
          "base_uri": "https://localhost:8080/"
        },
        "id": "ygbgJIQTa6Kw",
        "outputId": "d7ddbe13-1f59-4a5d-92e3-20a926f741ab"
      },
      "outputs": [
        {
          "name": "stdout",
          "output_type": "stream",
          "text": [
            "Portfolio's stocks value:  3455295.4696408007\n"
          ]
        }
      ],
      "source": [
        "stock_value = pf.volume*inverse_min_max_scaling(actual_values[-1], x_min['Close'], x_max['Close'])\n",
        "print(\"Portfolio's stocks value: \", pf.volume*inverse_min_max_scaling(actual_values[-1], x_min['Close'], x_max['Close']))"
      ]
    },
    {
      "cell_type": "code",
      "execution_count": null,
      "metadata": {
        "colab": {
          "base_uri": "https://localhost:8080/"
        },
        "id": "vYcMzoL3gMWX",
        "outputId": "1c19e530-2336-483b-ca7b-2f4d2dd556f9"
      },
      "outputs": [
        {
          "name": "stdout",
          "output_type": "stream",
          "text": [
            "Portfolio's total value:  3457051.18512542\n"
          ]
        }
      ],
      "source": [
        "print(\"Portfolio's total value: \", pf.cash + stock_value)"
      ]
    },
    {
      "cell_type": "code",
      "execution_count": null,
      "metadata": {
        "colab": {
          "base_uri": "https://localhost:8080/"
        },
        "id": "iGHd_S-cghiO",
        "outputId": "11809398-4c1b-4735-a2bd-7a6c792c38dd"
      },
      "outputs": [
        {
          "name": "stdout",
          "output_type": "stream",
          "text": [
            "Stock is bought in these dates\n",
            "2023-05-04 11:30:00-04:00\n",
            "2023-05-05 10:30:00-04:00\n",
            "2023-05-05 11:30:00-04:00\n",
            "2023-05-05 12:30:00-04:00\n",
            "2023-05-05 13:30:00-04:00\n",
            "2023-05-05 14:30:00-04:00\n",
            "2023-05-05 15:30:00-04:00\n",
            "2023-05-08 09:30:00-04:00\n",
            "2023-05-08 10:30:00-04:00\n",
            "2023-05-08 11:30:00-04:00\n",
            "2023-05-08 12:30:00-04:00\n",
            "2023-05-08 13:30:00-04:00\n",
            "2023-05-08 14:30:00-04:00\n",
            "2023-05-08 15:30:00-04:00\n",
            "2023-05-09 09:30:00-04:00\n",
            "2023-05-09 10:30:00-04:00\n",
            "2023-05-09 11:30:00-04:00\n",
            "2023-05-09 12:30:00-04:00\n",
            "2023-05-09 13:30:00-04:00\n",
            "2023-05-09 14:30:00-04:00\n",
            "2023-05-09 15:30:00-04:00\n",
            "2023-05-10 09:30:00-04:00\n",
            "2023-05-10 10:30:00-04:00\n",
            "2023-05-10 11:30:00-04:00\n",
            "2023-05-10 12:30:00-04:00\n",
            "2023-05-12 15:30:00-04:00\n",
            "2023-05-15 09:30:00-04:00\n",
            "2023-05-15 10:30:00-04:00\n",
            "2023-05-15 11:30:00-04:00\n",
            "2023-05-15 12:30:00-04:00\n",
            "2023-05-15 13:30:00-04:00\n",
            "2023-05-15 14:30:00-04:00\n",
            "2023-05-15 15:30:00-04:00\n",
            "2023-05-16 09:30:00-04:00\n",
            "2023-05-16 10:30:00-04:00\n",
            "2023-05-16 11:30:00-04:00\n",
            "2023-05-16 12:30:00-04:00\n",
            "2023-05-16 13:30:00-04:00\n",
            "2023-05-16 14:30:00-04:00\n",
            "2023-05-16 15:30:00-04:00\n",
            "2023-05-17 09:30:00-04:00\n",
            "2023-05-17 10:30:00-04:00\n",
            "2023-05-17 11:30:00-04:00\n",
            "2023-05-17 12:30:00-04:00\n",
            "2023-05-17 13:30:00-04:00\n",
            "2023-05-17 14:30:00-04:00\n",
            "2023-05-17 15:30:00-04:00\n",
            "2023-05-18 09:30:00-04:00\n",
            "2023-05-18 10:30:00-04:00\n",
            "2023-05-18 11:30:00-04:00\n",
            "2023-05-18 12:30:00-04:00\n",
            "2023-05-18 13:30:00-04:00\n",
            "2023-05-18 14:30:00-04:00\n",
            "2023-05-18 15:30:00-04:00\n",
            "2023-05-19 09:30:00-04:00\n",
            "2023-05-19 10:30:00-04:00\n",
            "2023-05-19 11:30:00-04:00\n",
            "2023-05-19 12:30:00-04:00\n",
            "2023-05-19 13:30:00-04:00\n",
            "2023-05-19 14:30:00-04:00\n",
            "2023-05-19 15:30:00-04:00\n",
            "2023-05-22 09:30:00-04:00\n",
            "2023-05-22 10:30:00-04:00\n",
            "2023-05-22 11:30:00-04:00\n",
            "2023-05-22 12:30:00-04:00\n",
            "2023-05-22 13:30:00-04:00\n",
            "2023-05-22 14:30:00-04:00\n",
            "2023-05-22 15:30:00-04:00\n",
            "2023-05-23 09:30:00-04:00\n",
            "2023-05-23 10:30:00-04:00\n",
            "2023-05-23 11:30:00-04:00\n",
            "2023-05-23 12:30:00-04:00\n",
            "2023-05-24 10:30:00-04:00\n",
            "2023-05-24 11:30:00-04:00\n",
            "2023-05-24 12:30:00-04:00\n",
            "2023-05-24 13:30:00-04:00\n",
            "2023-05-25 13:30:00-04:00\n",
            "2023-05-25 14:30:00-04:00\n",
            "2023-05-25 15:30:00-04:00\n",
            "2023-05-26 09:30:00-04:00\n",
            "2023-06-07 15:30:00-04:00\n",
            "Stock is sold in these dates\n",
            "2023-05-10 13:30:00-04:00\n",
            "2023-05-10 14:30:00-04:00\n",
            "2023-05-10 15:30:00-04:00\n",
            "2023-05-11 09:30:00-04:00\n",
            "2023-05-11 10:30:00-04:00\n",
            "2023-05-11 11:30:00-04:00\n",
            "2023-05-11 12:30:00-04:00\n",
            "2023-05-11 13:30:00-04:00\n",
            "2023-05-11 14:30:00-04:00\n",
            "2023-05-11 15:30:00-04:00\n",
            "2023-05-12 09:30:00-04:00\n",
            "2023-05-12 10:30:00-04:00\n",
            "2023-05-12 11:30:00-04:00\n",
            "2023-05-12 12:30:00-04:00\n",
            "2023-05-12 13:30:00-04:00\n",
            "2023-05-12 14:30:00-04:00\n",
            "2023-05-23 13:30:00-04:00\n",
            "2023-05-23 14:30:00-04:00\n",
            "2023-05-23 15:30:00-04:00\n",
            "2023-05-24 09:30:00-04:00\n",
            "2023-05-24 15:30:00-04:00\n",
            "2023-05-25 09:30:00-04:00\n",
            "2023-05-25 10:30:00-04:00\n",
            "2023-05-25 11:30:00-04:00\n",
            "2023-05-25 12:30:00-04:00\n",
            "2023-06-07 14:30:00-04:00\n"
          ]
        }
      ],
      "source": [
        "print(\"Stock is bought in these dates\")\n",
        "for date in pf.buy:\n",
        "  print(date)\n",
        "print(\"Stock is sold in these dates\")\n",
        "for date in pf.sell:\n",
        "  print(date)"
      ]
    }
  ],
  "metadata": {
    "colab": {
      "collapsed_sections": [
        "pOpgiQm4CjBI",
        "Tua7r-gXHZZ0"
      ],
      "provenance": []
    },
    "kernelspec": {
      "display_name": "Python 3",
      "name": "python3"
    },
    "language_info": {
      "name": "python"
    }
  },
  "nbformat": 4,
  "nbformat_minor": 0
}
